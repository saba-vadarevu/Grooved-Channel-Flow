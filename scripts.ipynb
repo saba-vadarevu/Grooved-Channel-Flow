{
 "cells": [
  {
   "cell_type": "code",
   "execution_count": 1,
   "metadata": {
    "collapsed": true
   },
   "outputs": [],
   "source": [
    "# Refresh modules each time when importing\n",
    "%load_ext autoreload\n",
    "%autoreload 2\n"
   ]
  },
  {
   "cell_type": "code",
   "execution_count": 2,
   "metadata": {
    "collapsed": true
   },
   "outputs": [],
   "source": [
    "from flowFieldWavy import *\n",
    "import numpy as np\n",
    "import scipy as sp\n",
    "from pseudo import chebdif\n",
    "import matplotlib.pyplot as plt\n",
    "%matplotlib inline"
   ]
  },
  {
   "cell_type": "markdown",
   "metadata": {},
   "source": [
    "# Useful scripts for later use \n",
    "###(not part of current development)"
   ]
  },
  {
   "cell_type": "markdown",
   "metadata": {},
   "source": [
    "### Generate numpy arrays for flowfield solutions (velocity, pressure) from Gibson's ChannelFlow "
   ]
  },
  {
   "cell_type": "code",
   "execution_count": null,
   "metadata": {
    "collapsed": true
   },
   "outputs": [],
   "source": [
    "f = np.genfromtxt('eq1.asc',dtype=np.complex)\n",
    "f_p = np.genfromtxt('peq1.asc',dtype=np.complex)\n",
    "   \n",
    "x = f[:,3];x_p = f_p[:,3]\n",
    "\n",
    "# From the database at channelflow.org\n",
    "Re=4.0e2\n",
    "a=1.14\n",
    "b=2.5\n",
    "\n",
    "nx = 48\n",
    "nz = 25\n",
    "L = 24\n",
    "M = 24\n",
    "N = 35\n",
    "\n",
    "# In input file, ordering of modes is different from what I would like it to be.\n",
    "# It goes, 0,1,..,24,-23,-22,....,-1 in 'x'\n",
    "# I prefer, -23,-22,..,-1,0,1,...,22,23\n",
    "# In 'z', it's just 0,..,24 \n",
    "#     Negative wavenumbers are not included due to symmetry.\n",
    "\n",
    "# First, getting rid of mode 24 in both x and z \n",
    "modes = x.reshape((nx,nz,3,N))\n",
    "modes = sp.append(modes,x_p.reshape((nx,nz,1,N)),axis=2)\n",
    "modes = sp.delete(modes,L,0)\n",
    "modes = sp.delete(modes,M,1)\n",
    "nx = nx-1 \n",
    "nz = nz-1\n",
    "L = L-1\n",
    "M = M-1\n",
    "\n",
    "# Now, reordering streamwise wavenumbers\n",
    "modes = sp.append(modes[L+1:,:,:,:],modes[:L+1,:,:,:],0)\n",
    "del x,x_p,f,f_p\n",
    "\n",
    "# Projecting Cheb coefficients onto Cheb collocation nodes\n",
    "for kx in range(0,nx):\n",
    "    for kz in range(0,nz):\n",
    "        for nd in range(0,4):\n",
    "            modes[kx,kz,nd,:] = chebcoll_vec(modes[kx,kz,nd,:])\n",
    "\n",
    "# Adding modes for negative spanwise wavenumbers. \n",
    "modes = sp.append(modes[::-1,:0:-1].conjugate(),modes,axis=1)\n",
    "nz = nx\n",
    "\n",
    "# Deleting pressure from state-vector:\n",
    "p = modes[:,:,3]\n",
    "modes = sp.delete(modes,3,2)\n",
    "\n",
    "vecsize = nx*nz*N\n",
    "# Finally, reshaping to get a state-vector containing u and w\n",
    "x0 = modes.reshape(3*vecsize)\n",
    "p = p.reshape(vecsize)\n",
    "del modes\n",
    "#print(modes[L,M,0])\n"
   ]
  },
  {
   "cell_type": "markdown",
   "metadata": {},
   "source": [
    "### Checking symmetry of a MATLAB solution"
   ]
  },
  {
   "cell_type": "code",
   "execution_count": 1,
   "metadata": {
    "collapsed": false
   },
   "outputs": [
    {
     "name": "stdout",
     "output_type": "stream",
     "text": [
      "1.60125554082e-13\n",
      "1.60112644336e-13\n",
      "1.60084459486e-13\n",
      "1.60042401126e-13\n",
      "1.59982019586e-13\n",
      "1.59904635808e-13\n",
      "1.59901654358e-13\n",
      "1.59916770834e-13\n",
      "1.59962648591e-13\n",
      "1.59790109011e-13\n",
      "1.59831221832e-13\n",
      "1.59708190707e-13\n",
      "1.5977536299e-13\n",
      "1.59932902939e-13\n",
      "1.5973343672e-13\n",
      "1.59897972038e-13\n",
      "1.59886576258e-13\n",
      "1.60055238894e-13\n",
      "1.59960423239e-13\n",
      "1.60105232668e-13\n",
      "1.60111730526e-13\n"
     ]
    }
   ],
   "source": [
    "from flowFieldWavy import *\n",
    "import numpy as np\n",
    "vF,pF = mapData2ff(eps=0.02,g=1.0,Re=100., theta=0)[:2]\n",
    "a = vF.flowDict['alpha']\n",
    "for x in np.arange(0.,np.pi/a,np.pi/a/21.):\n",
    "    print(np.linalg.norm(vF.ifft(xLoc=x)[0] - vF.ifft(xLoc=x+np.pi/a)[0,::-1]) )\n",
    "#print(vF.ifft(xLoc=0))"
   ]
  },
  {
   "cell_type": "markdown",
   "metadata": {},
   "source": [
    "## Solving riblet flow without coordinate transformation\n",
    "\n",
    "The velocity, $u$, is expanded as\n",
    "\n",
    "$a_0 + b_0 y + \\sum_n [a_n e^{-ny} + b_n e^{ny}] e^{in\\beta z}$\n",
    "\n",
    "For each mode, there are two unknowns, a and b. The boundary conditions are that the velocity is zero at either wall. So, if I set the above expression to zero for some 'm' locations, and use 'm' modes (including zero), I can simply invert the coefficient matrix to obtain all the 'a's and 'b's. "
   ]
  },
  {
   "cell_type": "code",
   "execution_count": null,
   "metadata": {
    "collapsed": true
   },
   "outputs": [],
   "source": [
    "import numpy as np\n",
    "\n",
    "b = 10. # beta\n",
    "eps = 0.02\n",
    "n = 21 # Number of positive modes\n",
    "m = 2*n+1 # Total number of modes including zero\n",
    "\n",
    "\n",
    "\n",
    "zArr = np.arange(0., 2.*np.pi/b-1.0e-9, 2.*np.pi/b/m)\n",
    "yShape = 2.*eps*np.cos(b*zArr)\n",
    "L = np.zeros((2*m, 2*m), dtype=np.complex)\n",
    "\n",
    "yTop = (1.+yShape).reshape((yShape.size,1))\n",
    "yBottom = -1.+yShape.reshape((yShape.size,1))\n",
    "zArr = zArr.reshape((zArr.size,1))\n",
    "\n",
    "expTopA = -yTop + 1.j*b*zArr\n",
    "expTopB = yTop + 1.j*b*zArr\n",
    "expBottomA = -yBottom + 1.j*b*zArr\n",
    "expBottomB = yBottom + 1.j*b*zArr\n",
    "\n",
    "nArr = np.arange(-n,n+1).reshape((1,m))\n",
    "\n",
    "L[:m, :-1:2] = np.exp(nArr*expTopA)       # Factors multiplying a_n, for yTop locations\n",
    "L[:m, 1::2] = np.exp(nArr*expTopB)       # Factors multiplying b_n, for yTop locations\n",
    "L[m:, :-1:2] = np.exp(nArr*expBottomA)    # yBottom locations\n",
    "L[m:, 1::2] = np.exp(nArr*expBottomB)\n",
    "\n",
    "# For a_0, the factor is 1 = exp(0.) = exp(0.*y + 0.*1.j*b*z), so above assignment works\n",
    "# For b_0, the factor is y, but the above assignment only assigns a factor of 1\n",
    "# Correcting factors for b_0\n",
    "L[:m, 2*n+1:2*n+2] += yTop - 1.\n",
    "L[m:, 2*n+1:2*n+2] += yBottom - 1.\n",
    "\n",
    "# To find the factors, a_n, b_n, the null-space of L needs to be found \n",
    "#           (since the boundary condition at yTop, yBottom is that velocity is zero)\n",
    "# Before that, let's see what the rank is\n",
    "print('Size of L[0]:', L.shape[0])\n",
    "print('Rank of L is', np.linalg.matrix_rank(L))\n",
    "np.linalg.null?"
   ]
  },
  {
   "cell_type": "markdown",
   "metadata": {},
   "source": [
    "## Verifying norm of MATLAB solutions with flowFieldWavy class\n",
    "\n",
    "The norm isn't going to be quite ~ 10^-15, the reason being that I treat the last Fourier modes are treated differently in my MATLAB solution with regards to truncation in Fourier modes. In flowFieldWavy, I first compute u.ddx(), which already has some truncation in the last modes. In MATLAB, I don't compute u.ddx() separately; I figure out all the triadic interactions in the Fourier space explicitly. "
   ]
  },
  {
   "cell_type": "markdown",
   "metadata": {},
   "source": [
    "### The easy way:"
   ]
  },
  {
   "cell_type": "code",
   "execution_count": 4,
   "metadata": {
    "collapsed": false
   },
   "outputs": [
    {
     "data": {
      "text/plain": [
       "5.9895021725704869e-05"
      ]
     },
     "execution_count": 4,
     "metadata": {},
     "output_type": "execute_result"
    }
   ],
   "source": [
    "eps = 0.01; g=0.3; theta=0; Re=100.\n",
    "vf,pf,fnorm,flg = runMATLAB(g=g,eps=eps,theta=theta,Re=Re,N=25,n=3)\n",
    "vf.residuals(pField=pf)[0].norm()"
   ]
  },
  {
   "cell_type": "markdown",
   "metadata": {},
   "source": [
    "### The hard way:\n",
    "As long as the easy way \"works\", everything's fine. If it stops working, this is what I do. I don't just look at the final residual norm, but also at linear and non-linear terms separately, as well as the difference in the residual vectors.\n",
    "\n",
    "However, for this to work, I have to fiddle around with my MATLAB code a bit, because the regular code doesn't return the residual vector or the linear and non-linear terms in the residual vector. The default case is to return just the norm of the residual vector along with the state vector. Statements that allow returning the extra vectors must be placed in comments in the MATLAB code. \n",
    "\n",
    "And after I run the MATLAB code to obtain all the vectors, I should save the vectors into a .mat file, and copy it into the current path (for Python). I should also set the dictionary parameters properly, because for now, I'm not importing those parameters from MATLAB solutions. \n",
    "\n",
    "The script to be run in MATLAB is called 'pyTest' "
   ]
  },
  {
   "cell_type": "code",
   "execution_count": 8,
   "metadata": {
    "collapsed": true
   },
   "outputs": [],
   "source": [
    "def vecnorm2(vec,N):\n",
    "    m = vec.size//N\n",
    "    w = clencurt(N).reshape((1,N))\n",
    "    W = np.tile(w,(1,m))\n",
    "    tempVec = vec.reshape(vec.size,1)\n",
    "    tempVecConj = tempVec.conj().T\n",
    "    \n",
    "    vecNorm = np.sqrt(np.abs( np.dot( tempVecConj*W, tempVec ) ))\n",
    "    return vecNorm[0,0]"
   ]
  },
  {
   "cell_type": "code",
   "execution_count": 5,
   "metadata": {
    "collapsed": true
   },
   "outputs": [],
   "source": [
    "import scipy.io\n",
    "\n",
    "N = 25; n=5; eps=0.01; Re=100.; \n",
    "g = 0.5\n",
    "a = g/eps; b = 0.\n",
    "# Read .mat file into numpy\n",
    "matFile = scipy.io.loadmat('pyTest.mat')\n",
    "\n",
    "x = np.array(matFile['x'],dtype=np.complex)\n",
    "resids = np.array(matFile['F'],dtype=np.complex)\n",
    "L = np.array(matFile['Lterm'],dtype=np.complex)\n",
    "NL = np.array(matFile['NLterm'],dtype=np.complex)\n",
    "\n",
    "tempDict = getDefaultDict()\n",
    "tempDict.update({'K':0,'L':n,'M':0,'N':N,'alpha':a,'beta':b,'Re':Re,'eps':eps,'isPois':1,'nd':4})\n",
    "\n",
    "residFF = flowFieldWavy(flowDict=tempDict,arr=resids)\n",
    "xFF = flowFieldWavy(flowDict=tempDict,arr=x)\n",
    "vFF = xFF.slice(nd=[0,1,2]); pFF = xFF.getScalar(nd=3)\n",
    "LFF = flowFieldWavy(flowDict=tempDict,arr=L).slice(nd=[0,1,2])\n",
    "NLFF = flowFieldWavy(flowDict=tempDict,arr=NL).slice(nd=[0,1,2])"
   ]
  },
  {
   "cell_type": "code",
   "execution_count": 6,
   "metadata": {
    "collapsed": true
   },
   "outputs": [],
   "source": [
    "linTerm = pFF.grad() - vFF.laplacian()/Re\n",
    "linTerm[:,:,:,:,[0,-1]] = vFF[:,:,:,:,[0,-1]]\n",
    "NLTerm = vFF.convNL()"
   ]
  },
  {
   "cell_type": "code",
   "execution_count": 14,
   "metadata": {
    "collapsed": false
   },
   "outputs": [
    {
     "name": "stdout",
     "output_type": "stream",
     "text": [
      "Error in norm of linear terms (streamwise), starting with mode -n:\n",
      "2.04054189576e-18\n",
      "6.03967137877e-18\n",
      "2.19057578593e-17\n",
      "1.26898146731e-16\n",
      "2.1989242716e-16\n",
      "8.28521478902e-16\n",
      "*************************************\n",
      "Error in norm of non-linear terms (streamwise), starting with mode -n:\n",
      "1.69480286826e-06\n",
      "9.52437291921e-08\n",
      "1.42146415094e-08\n",
      "2.42125055489e-09\n",
      "4.43869409113e-10\n",
      "6.14130605866e-18\n",
      "Error in all modes and variables, linear and non-linear respectively: 8.93997702129e-16 5.34267029694e-06\n"
     ]
    }
   ],
   "source": [
    "print('Error in norm of linear terms (streamwise), starting with mode -n:')\n",
    "for l in range(n+1):\n",
    "    print(vecnorm2(LFF[0,l,0,0]-linTerm[0,l,0,0], vFF.N))\n",
    "print('*************************************')\n",
    "print('Error in norm of non-linear terms (streamwise), starting with mode -n:')\n",
    "for l in range(n+1):\n",
    "    print(vecnorm2(NLFF[0,l,0,0]-NLTerm[0,l,0,0], vFF.N))\n",
    "    \n",
    "print('Error in all modes and variables, linear and non-linear respectively:',(LFF-linTerm).norm(), (NLFF-NLTerm).norm())"
   ]
  },
  {
   "cell_type": "markdown",
   "metadata": {},
   "source": [
    "## Script for flow-vis: theta = 90 (old version)\n",
    "### Latest implementation is to use flowFieldArray (see next section)"
   ]
  },
  {
   "cell_type": "code",
   "execution_count": null,
   "metadata": {
    "collapsed": true
   },
   "outputs": [],
   "source": [
    "import numpy as np\n",
    "from flowField import *\n",
    "from flowFieldWavy import *\n",
    "\n",
    "# eps = 10^(-3.+0.025*fileind)   => fileind = 40*(log10(eps) +3)\n",
    "# g0 = [0.2:0.025:0.6]    => gind = 40*(g-0.2)\n",
    "# g1 = [0.65:0.05:1.2, 1.3,1.4,1.5]   => gind = 20*(g-0.65)\n",
    "eps = 0.03/4.;  g = 3.0/2.; Re = 1000\n",
    "gFileInd = 0\n",
    "gInd = int(40*(g-0.2))\n",
    "if g> 0.6:\n",
    "    gFileInd = 1\n",
    "    gInd = int(20*(g-0.65))\n",
    "    if gInd > 11: gInd = int((gInd-11)/2+11)\n",
    "ReInd = np.int(np.log10(Re)-1)\n",
    "        \n",
    "eFileInd = 2*int(40*(np.log10(eps)+3)/2)\n",
    "\n",
    "folderPath = '/home/sabarish/matData/seprn/'\n",
    "fileName = 'dataSeprn'+str(gFileInd)+'b90_'+str(eFileInd)+'.mat'\n",
    "\n",
    "#vfList, pfList,paramDict = data2ff(fName=folderPath+fileName,ind=gInd)\n",
    "vf, pf,paramDict = data2ff(fName=folderPath+fileName,ind=3*gInd+ReInd)\n",
    "eps = paramDict['eps']; g = paramDict['g']; Re = paramDict['Re']\n",
    "printName = 'tecFiles/wavyB90E'+str(-np.log10(eps))+'G'+str(g)+'Re'+str(int(Re))+'.dat'\n",
    "vf.printPhysicalPlanar(pField=pf, fName=printName)\n",
    "#gArr = paramDict['g']\n",
    "#ReArr = paramDict['Re']\n",
    "#paramDict['g'][3:6]"
   ]
  },
  {
   "cell_type": "markdown",
   "metadata": {},
   "source": [
    "## Reading data from .mat files into flowFieldArray class instance\n",
    "Makes it easier to calculate variables, and to plot\n",
    "\n",
    "1. Reading .mat files from a folder, according to a template, into a Python list\n",
    "2. Converting that Python list into flowFieldArray instance (class defined in module flowFieldArray.py)"
   ]
  },
  {
   "cell_type": "code",
   "execution_count": null,
   "metadata": {
    "collapsed": true
   },
   "outputs": [],
   "source": [
    "# Reading all the .mat files takes a while, so this chunk of code needs to be separate from the other stuff\n",
    "import glob\n",
    "import os\n",
    "from flowFieldWavy import *\n",
    "from flowFieldArray import *\n",
    "from flowField import *\n",
    "\n",
    "# These two lines allow iPython to reload modules before executing\n",
    "%load_ext autoreload\n",
    "%autoreload 2\n",
    "\n",
    "theta='0'\n",
    "homeFolder = '/home/sabarish/Dropbox/gitwork/python3/flowField/'\n",
    "folderPath = '/home/sabarish/matData/drag/'\n",
    "fileTemplate = \"data_dragT\"+theta+\"E*.mat\" \n",
    "\n",
    "os.chdir(folderPath)\n",
    "fileList = glob.glob(fileTemplate)\n",
    "for file in fileList[:]:\n",
    "    if (file[-6:] =='13.mat') or (file[-6:] =='14.mat') or (file[-6:] =='15.mat'):\n",
    "        #print(file)\n",
    "        fileList.remove(file)\n",
    "\n",
    "vListLong =[]; pListLong = []\n",
    "for file in fileList:\n",
    "    vList,pList = data2ff(file)[:2]\n",
    "    vListLong.extend(vList)\n",
    "    pListLong.extend(pList)\n",
    "os.chdir(homeFolder)"
   ]
  },
  {
   "cell_type": "code",
   "execution_count": null,
   "metadata": {
    "collapsed": true
   },
   "outputs": [],
   "source": [
    "# Create flowFieldArray instance out of the list of flowField instances\n",
    "vArr = flowFieldArray(vListLong,26,24,21)\n",
    "pArr =  flowFieldArray(pListLong,26,24,21)\n",
    "\n",
    "print(isinstance(vArr[0,0,0].field, flowField))\n",
    "# To obtain a 3-d array of, say, volume fluxes of the data in the flowFieldArray:\n",
    "fluxArr = vArr.getProperty('flux',withBase=True)\n",
    "#ReTauArr = vArr.getProperty('ReTau')\n"
   ]
  },
  {
   "cell_type": "markdown",
   "metadata": {},
   "source": [
    "## Script for printing .dat files for flow-vis (in Tecplot) using flowFieldArray"
   ]
  },
  {
   "cell_type": "code",
   "execution_count": null,
   "metadata": {
    "collapsed": true
   },
   "outputs": [],
   "source": [
    "eps = 0.2/2.;  g = 0.6/2.; Re = 100\n",
    "# printing for 2*eps = 0.0045, 0.02, 0.06, 2*g = 0.625, 1.2, 2.0\n",
    "epsInd = np.argwhere(vArr[:,0,0].getProperty('eps')>=eps)[0,0]\n",
    "gInd = np.argwhere(vArr[0,:,0].getProperty('g')>=g)[0,0]\n",
    "ReInd = np.argwhere(vArr[0,0,:].getProperty('Re')>=Re)[0,0]\n",
    "print(epsInd,gInd,ReInd)\n",
    "vArrObj = vArr[epsInd, gInd, ReInd]; vf = vArrObj.field; pf = pArr[epsInd,gInd,ReInd].field\n",
    "eps = vArrObj.eps; g = vArrObj.g; Re = vArrObj.Re\n",
    "\n",
    "#eps = paramDict['eps']; g = paramDict['g']; Re = paramDict['Re']\n",
    "printName = 'finalPlots/wavyE'+str(round(-np.log10(eps),2))+'G'+str(round(g,2))+'Re'+str(int(Re))+'.dat'\n",
    "                                 \n",
    "vf.printPhysicalPlanar(pField=pf, fName=printName)\n",
    "print(2*eps,2*g,Re)"
   ]
  },
  {
   "cell_type": "markdown",
   "metadata": {},
   "source": [
    "## Validation with OpenFOAM, and checking for symmetry"
   ]
  },
  {
   "cell_type": "code",
   "execution_count": null,
   "metadata": {
    "collapsed": true
   },
   "outputs": [],
   "source": [
    "import numpy as np\n",
    "from flowFieldWavy import *\n",
    "from myUtils import *\n",
    "\n",
    "filePath =  '/home/sabarish/OpenFOAM/sabarish-2.4.x/run/wavyLam/ep02/a15/finest/'\n",
    "endTime = '400/'\n",
    "pointsName=filePath+'constant/polyMesh/points'\n",
    "eps = 0.02\n",
    "a = 15.\n",
    "g= a*eps\n",
    "\n",
    "x,y,z = readPoints(fName=pointsName, nx = 61,ny=501)\n",
    "yMax =np.max(y)\n",
    "yMin = np.min(y)\n",
    "#h = (yMax-yMin)/2.08\n",
    "h = 0.1\n",
    "x = x/h; y =(y-h)/h; z=z/h\n",
    "\n",
    "import matplotlib.pyplot as plt\n",
    "%matplotlib inline\n",
    "#vF,pF,paramDict = mapData2ff(g=g, eps=eps, Re=100, theta=0)\n",
    "vF,pF,fnorm = runMATLAB(g=g,eps=eps,Re=100.,theta=0,N=50,n=5)\n",
    "#print(paramDict)\n",
    "print(vF.N, vF.nx)\n",
    "u = vF.getScalar(nd=0)\n",
    "v = vF.getScalar(nd=1)\n",
    "uData = np.zeros(x.shape); vData = np.zeros(x.shape); uUnInt = np.zeros((x.shape[0],x.shape[1],u.N))\n",
    "for kx in range(x.shape[0]):\n",
    "    for kz in range(x.shape[1]):\n",
    "        yBottom = -1.+2.*eps*np.cos(a*x[kx,0,0])\n",
    "        yT = y[kx,kz]-yBottom-1.\n",
    "        uData[kx,kz] = u.getPhysical(xLoc=x[kx,0,0], zLoc=z[0,kz,0], yLoc = yT,withBase=True)\n",
    "        uUnInt[kx,kz] = u.getPhysical(xLoc=x[kx,0,0], zLoc=z[0,kz,0], withBase=True)\n",
    "        vData[kx,kz] = v.getPhysical(xLoc=x[kx,0,0], zLoc=z[0,kz,0], yLoc = yT)\n",
    "        \n",
    "yUnInt = np.zeros((x.shape[0],u.N))\n",
    "yCheb = chebdif(u.N,1)[0]\n",
    "for kx in range(x.shape[0]):\n",
    "    xLoc = x[kx,0,0]\n",
    "    yUnInt[kx] = yCheb + 2.*u.flowDict['eps']*np.cos(u.flowDict['alpha']*xLoc)\n",
    "        \n",
    "#writeFOAMData(vF,pF)\n",
    "#'''\n",
    "uFoam,vFoam,wFoam = readFOAMData(fName=filePath+endTime+'U',nx=60,ny=500)\n",
    "print('max u in uFoam:',np.max(uFoam))\n",
    "uFoam = uFoam/0.015\n",
    "vFoam = vFoam/0.015\n",
    "\"\"\"\n",
    "plt.figure()\n",
    "plt.title('Error in U')\n",
    "cLimits = np.arange(0.,0.008,0.0005)\n",
    "plt.contourf(x[:,0], y[:,0], np.abs(uData[:,0]-uFoam[:,0]),levels=cLimits)\n",
    "plt.colorbar()\n",
    "#plt.clim([-0.008,0.008])\n",
    "plt.savefig('./figures/uDiffG10.pdf', format='pdf')\n",
    "\n",
    "\n",
    "plt.figure()\n",
    "plt.title('Relative difference in U (truncated at 2%)')\n",
    "uRel = np.abs((uData[:,0]-uFoam[:,0])/uFoam[:,0])\n",
    "uRel[uRel>0.02] = 0.02; uRel[uRel<-0.02] = -0.02\n",
    "plt.contourf(x[:,0], y[:,0],uRel , 50)\n",
    "plt.colorbar()\n",
    "plt.clim([0.,0.02])\n",
    "plt.savefig('./figures/uRelDiffG10.pdf', format='pdf')\n",
    "\n",
    "plt.figure()\n",
    "plt.title('U from OpenFOAM')\n",
    "plt.contourf(x[:,0], y[:,0], uFoam[:,0], 50)\n",
    "plt.colorbar()\n",
    "plt.clim([0.,0.95])\n",
    "print('max U velocity from foamData:',np.max(uFoam))\n",
    "plt.savefig('./figures/uFoamG10.pdf', format='pdf')\n",
    "\n",
    "plt.figure()\n",
    "plt.title('U from current spectral solver')\n",
    "plt.contourf(x[:,0], y[:,0], uData[:,0], 50)\n",
    "plt.colorbar()\n",
    "plt.clim([0.,1.0])\n",
    "plt.savefig('./figures/uMatG10.pdf', format='pdf')\n",
    "\n",
    "plt.figure()\n",
    "plt.title('OpenFOAM symmetry')\n",
    "nx = x.shape[0]\n",
    "u1 = uFoam[:nx//2,0]; u2 = uFoam[nx//2:,0,::-1]\n",
    "udif = (u2-u1)/u1\n",
    "udif[udif>0.05]=0.05; udif[udif<-0.05] = -0.05\n",
    "plt.contourf(x[:nx//2,0], y[:nx//2,0],udif , 50)\n",
    "plt.colorbar()\n",
    "\n",
    "plt.figure()\n",
    "plt.title('MATLAB solution symmetry- Interpolated')\n",
    "nx = x.shape[0]\n",
    "u1 = uData[:nx//2,0]; u2 = uData[nx//2:,0,::-1]\n",
    "udif = (u2-u1)/u1\n",
    "udif[udif>0.05]=0.05; udif[udif<-0.05] = -0.05\n",
    "plt.contourf(x[:nx//2,0], y[:nx//2,0],udif , 50)\n",
    "plt.colorbar()\n",
    "\"\"\"\n",
    "plt.figure()\n",
    "plt.title('Flow symmetry:Relative difference in U (truncated at 1%)')\n",
    "nx = x.shape[0]\n",
    "u1 = uUnInt[:nx//2,0]; u2 = uUnInt[nx//2:,0,::-1]\n",
    "#print('a*xLoc/pi for symmetry: ', a*x[:nx//2,0,0]/np.pi)\n",
    "udif = np.abs((u2-u1)/u1)\n",
    "udif[udif>0.01]=0.01\n",
    "plt.contourf(x[:nx//2,0,:u.N], yUnInt[:nx//2],udif , 50)\n",
    "plt.colorbar()\n",
    "plt.savefig('./figures/uSymG06.pdf',format='pdf')\n",
    "\n",
    "\"\"\"\n",
    "plt.figure()\n",
    "plt.title('Error in V')\n",
    "plt.contourf(x[:,0], y[:,0], vData[:,0]-vFoam[:,0], 50)\n",
    "plt.colorbar()\n",
    "plt.savefig('vDiffG10.pdf',format='pdf')\n",
    "\n",
    "plt.figure()\n",
    "plt.title('V from OpenFOAM')\n",
    "plt.contourf(x[:,0], y[:,0], vFoam[:,0], 50)\n",
    "plt.colorbar()\n",
    "plt.savefig('vFoamG10.pdf',format='pdf')\n",
    "\n",
    "plt.figure()\n",
    "plt.title('V from current solver')\n",
    "plt.contourf(x[:,0], y[:,0], vData[:,0], 50)\n",
    "plt.colorbar()\n",
    "plt.savefig('vMatG10.pdf',format='pdf')\n",
    "\n",
    "plt.figure()\n",
    "plt.title('Relative difference in V (truncated at 2%)')\n",
    "vRel = np.abs((vData[:,0]-vFoam[:,0])/vFoam[:,0])\n",
    "vRel[vRel>0.02] = 0.02\n",
    "plt.contourf(x[:,0], y[:,0],vRel , 50)\n",
    "plt.colorbar()\n",
    "plt.savefig('./figures/vRelDiffG10.pdf', format='pdf')\n",
    "\n",
    "plt.show()\n",
    "\n",
    "#'''\n",
    "\"\"\""
   ]
  },
  {
   "cell_type": "markdown",
   "metadata": {
    "collapsed": true
   },
   "source": [
    "##Equivalent wall shift"
   ]
  },
  {
   "cell_type": "code",
   "execution_count": null,
   "metadata": {
    "collapsed": true
   },
   "outputs": [],
   "source": [
    "hEq = np.sqrt(3./2.*uBulk)\n",
    "epsEq = 1.-hEq\n",
    "\n",
    "plt.figure()\n",
    "plt.title('$\\\\epsilon_{eq}$ at $Re_{\\\\tau}$='+str(round(np.sqrt(20),1)))\n",
    "plt.contourf(2.*gArr[:,:,0], 2.*epsArr[:,:,0], epsEq[:,:,0])\n",
    "plt.colorbar()\n",
    "plt.xlabel('Slope');plt.ylabel('Amplitude')\n",
    "plt.savefig('epsEqRe10.pdf',format='pdf')\n",
    "plt.show()\n",
    "\n",
    "plt.figure()\n",
    "plt.title('$\\\\epsilon_{eq}$ at $Re_{\\\\tau}$='+str(round(np.sqrt(200),1)))\n",
    "plt.contourf(2.*gArr[:,:,0], 2.*epsArr[:,:,0], epsEq[:,:,10])\n",
    "plt.colorbar()\n",
    "plt.xlabel('Slope');plt.ylabel('Amplitude')\n",
    "plt.savefig('epsEqRe100.pdf',format='pdf')\n",
    "plt.show()\n",
    "\n",
    "plt.figure()\n",
    "plt.title('$\\\\epsilon_{eq}$ at $Re_{\\\\tau}$='+str(round(np.sqrt(2000),1)))\n",
    "plt.contourf(2.*gArr[:,:,0], 2.*epsArr[:,:,0], epsEq[:,:,20])\n",
    "plt.colorbar()\n",
    "plt.xlabel('Slope');plt.ylabel('Amplitude')\n",
    "plt.savefig('epsEqRe1000.pdf',format='pdf')\n",
    "plt.show()\n"
   ]
  },
  {
   "cell_type": "markdown",
   "metadata": {},
   "source": [
    "## Run a flow case in Matlab and print to tecPlot format for visualization"
   ]
  },
  {
   "cell_type": "code",
   "execution_count": 7,
   "metadata": {
    "collapsed": false
   },
   "outputs": [
    {
     "name": "stdout",
     "output_type": "stream",
     "text": [
      "fNorm is  {'fnorm': 1.6717521055988297e-11, 'a': 52.49999999999999, 'Re': 100.0, 'eps': 0.01, 'g': 0.5249999999999999, 'b': 0.0}\n",
      "Printed physical field to file finalPlots/wavyE2.0G0.1Re100.dat\n",
      "0.02 0.2 100.0\n",
      "printed to finalPlots/wavyE2.0G0.1Re100.dat\n"
     ]
    }
   ],
   "source": [
    "g = 0.1; eps=0.01; Re=100.\n",
    "printName = 'finalPlots/wavyE'+str(round(-np.log10(eps),2))+'G'+str(round(g,2))+'Re'+str(int(Re))+'.dat'\n",
    "#vF, pF, fNorm,flg = runMATLAB(g=g, eps=eps, theta=0, Re=Re, N=80,n=13, multi=True)\n",
    "vF, pF, fNorm = mapData2ff(g=g, eps=eps, theta=0, Re=Re)\n",
    "print('fNorm is ',fNorm)\n",
    "vF.printPhysicalPlanar(pField=pF, fName=printName,withBase=True)\n",
    "print(2*eps,2*g,Re)\n",
    "print('printed to',printName)"
   ]
  },
  {
   "cell_type": "code",
   "execution_count": 4,
   "metadata": {
    "collapsed": false
   },
   "outputs": [
    {
     "name": "stdout",
     "output_type": "stream",
     "text": [
      "0.0\n"
     ]
    }
   ],
   "source": [
    "print(flg)"
   ]
  },
  {
   "cell_type": "code",
   "execution_count": 9,
   "metadata": {
    "collapsed": false
   },
   "outputs": [
    {
     "name": "stdout",
     "output_type": "stream",
     "text": [
      "0.252535122588\n"
     ]
    }
   ],
   "source": [
    "uBulk = vF.flux(withBase=True)\n",
    "hEq = np.sqrt(3./2.*uBulk)\n",
    "epsEq = 1.-hEq\n",
    "print(epsEq)"
   ]
  },
  {
   "cell_type": "code",
   "execution_count": 10,
   "metadata": {
    "collapsed": false
   },
   "outputs": [
    {
     "name": "stdout",
     "output_type": "stream",
     "text": [
      "alpha is: 15.0\n",
      "fNorm is  1.6601395661797869e-10\n"
     ]
    }
   ],
   "source": [
    "vF1, pF1, fNorm1,flg1 = runMATLAB(g=g, eps=eps, theta=0, Re=Re, N=65,n=7, multi=True)\n",
    "print('fNorm is ',fNorm)"
   ]
  },
  {
   "cell_type": "code",
   "execution_count": 17,
   "metadata": {
    "collapsed": false
   },
   "outputs": [
    {
     "data": {
      "text/plain": [
       "array([[-0.28378557, -0.24833967, -0.15213021, -0.02345296,  0.0979752 ,\n",
       "         0.17322425,  0.18147584,  0.13578505,  0.08189714,  0.07056098,\n",
       "         0.12174628,  0.21367017,  0.30421497,  0.36281644,  0.3878731 ,\n",
       "         0.40015944,  0.42296626,  0.46667408,  0.52523189,  0.58349392,\n",
       "         0.6313817 ,  0.67131204,  0.70980325,  0.748913  ,  0.78746835,\n",
       "         0.82397921,  0.85757867,  0.88794887,  0.91499071,  0.93859586,\n",
       "         0.95859788,  0.97481657,  0.98710105,  0.99534546,  0.99948274,\n",
       "         0.99948094,  0.99534048,  0.98709803,  0.97482313,  0.95861342,\n",
       "         0.93858674,  0.91489458,  0.88776242,  0.85753083,  0.82460288,\n",
       "         0.78921197,  0.751087  ,  0.70937327,  0.66356757,  0.61642609,\n",
       "         0.57518863,  0.54301053,  0.51056273,  0.46345355,  0.39638455,\n",
       "         0.32048096,  0.25976436,  0.23572   ,  0.2474312 ,  0.26498697,\n",
       "         0.24688588,  0.17191917,  0.06058383, -0.03589525, -0.07135196,\n",
       "        -0.03236904,  0.06053568,  0.16866851,  0.25248283,  0.28378557]])"
      ]
     },
     "execution_count": 17,
     "metadata": {},
     "output_type": "execute_result"
    }
   ],
   "source": [
    "vF.div().ifft(withBase=True)"
   ]
  },
  {
   "cell_type": "code",
   "execution_count": null,
   "metadata": {
    "collapsed": true
   },
   "outputs": [],
   "source": [
    "vF.div().ifft"
   ]
  },
  {
   "cell_type": "code",
   "execution_count": 4,
   "metadata": {
    "collapsed": false
   },
   "outputs": [
    {
     "name": "stdout",
     "output_type": "stream",
     "text": [
      "alpha is: 50.0\n",
      "fNorm is  1.3022078513635171e-14\n",
      "Printed physical field to file finalPlots/wavyE1.0G5.0Re1000.dat\n",
      "0.2 10.0 1000.0\n",
      "printed to finalPlots/wavyE1.0G5.0Re1000.dat\n"
     ]
    }
   ],
   "source": [
    "from flowFieldWavy import *\n",
    "\n",
    "g = 5.0; eps=0.1; Re=1000.\n",
    "printName = 'finalPlots/wavyE'+str(round(-np.log10(eps),2))+'G'+str(round(g,2))+'Re'+str(int(Re))+'.dat'\n",
    "vF, pF, fNorm,flg = runMATLAB(g=g, eps=eps, theta=0, Re=Re, N=80,n=13, multi=True)\n",
    "print('fNorm is ',fNorm)\n",
    "vF.printPhysicalPlanar(pField=pF, fName=printName,withBase=True)\n",
    "print(2*eps,2*g,Re)\n",
    "print('printed to',printName)"
   ]
  },
  {
   "cell_type": "code",
   "execution_count": 8,
   "metadata": {
    "collapsed": false
   },
   "outputs": [
    {
     "name": "stdout",
     "output_type": "stream",
     "text": [
      "0.277656707494\n",
      "1.0\n"
     ]
    }
   ],
   "source": [
    "uBulk1 = vF.flux(withBase=True)\n",
    "hEq1 = np.sqrt(1.5*uBulk1)\n",
    "epsEq1 = 1.-hEq1\n",
    "print(epsEq1)\n",
    "print(flg)"
   ]
  },
  {
   "cell_type": "code",
   "execution_count": 19,
   "metadata": {
    "collapsed": false
   },
   "outputs": [
    {
     "name": "stdout",
     "output_type": "stream",
     "text": [
      "alpha is: 40.0\n",
      "fNorm is  8.2972407367168e-15\n",
      "0.131587380232\n",
      "1.0\n"
     ]
    }
   ],
   "source": [
    "g = 2.0; eps=0.05; Re=1000.\n",
    "vF1, pF1, fNorm1,flg1 = runMATLAB(g=g, eps=eps, theta=0, Re=Re, N=80,n=13, multi=True)\n",
    "print('fNorm is ',fNorm1)\n",
    "uBulk1 = vF1.flux(withBase=True)\n",
    "hEq1 = np.sqrt(1.5*uBulk1)\n",
    "epsEq1 = 1.-hEq1\n",
    "print(epsEq1)\n",
    "print(flg)"
   ]
  },
  {
   "cell_type": "code",
   "execution_count": 20,
   "metadata": {
    "collapsed": false
   },
   "outputs": [
    {
     "data": {
      "image/png": "[encoded data removed]",
      "text/plain": [
       "<matplotlib.figure.Figure at 0x7fee0255f2e8>"
      ]
     },
     "metadata": {},
     "output_type": "display_data"
    }
   ],
   "source": [
    "uProfile1 = vF1.getScalar().ifft(withBase=True)[0,:]\n",
    "y1,DM1 = chebdif(vF1.N,1)\n",
    "D1 = DM1[:,:,0]\n",
    "plt.plot(uProfile1,y1)\n",
    "plt.plot(np.dot(D1,uProfile1),y1)\n",
    "plt.show()"
   ]
  },
  {
   "cell_type": "code",
   "execution_count": 18,
   "metadata": {
    "collapsed": false
   },
   "outputs": [
    {
     "name": "stdout",
     "output_type": "stream",
     "text": [
      "47\n",
      "(47,)\n"
     ]
    },
    {
     "data": {
      "image/png": "[encoded data removed]",
      "text/plain": [
       "<matplotlib.figure.Figure at 0x7fee0311d8d0>"
      ]
     },
     "metadata": {},
     "output_type": "display_data"
    }
   ],
   "source": [
    "uProfile = vF.getScalar().ifft(withBase=True)[0,:]\n",
    "print(vF.N)\n",
    "print(uProfile.shape)\n",
    "from pseudo import chebdif\n",
    "import matplotlib.pyplot as plt\n",
    "%matplotlib inline\n",
    "y,DM = chebdif(vF.N,1)\n",
    "D = DM[:,:,0]\n",
    "plt.plot(uProfile,y)\n",
    "plt.plot(np.dot(D,uProfile),y)\n",
    "plt.show()"
   ]
  },
  {
   "cell_type": "code",
   "execution_count": 3,
   "metadata": {
    "collapsed": false
   },
   "outputs": [
    {
     "name": "stdout",
     "output_type": "stream",
     "text": [
      "fNorm is  {'a': 150.0, 'fnorm': 7.484212645501245e-15, 'b': 0.0, 'Re': 1000.0, 'eps': 0.01, 'g': 1.5}\n",
      "Printed physical field to file finalPlots/wavyE2.0G1.0Re1000.dat\n",
      "printed to finalPlots/wavyE2.0G1.0Re1000.dat\n"
     ]
    },
    {
     "data": {
      "image/png": "[encoded data removed]",
      "text/plain": [
       "<matplotlib.figure.Figure at 0x7fc234b8a668>"
      ]
     },
     "metadata": {},
     "output_type": "display_data"
    },
    {
     "data": {
      "image/png": "[encoded data removed]",
      "text/plain": [
       "<matplotlib.figure.Figure at 0x7fc23500b3c8>"
      ]
     },
     "metadata": {},
     "output_type": "display_data"
    }
   ],
   "source": [
    "from flowFieldWavy import *\n",
    "from pseudo import chebdif\n",
    "import matplotlib.pyplot as plt\n",
    "%matplotlib inline\n",
    "\n",
    "xArr = np.arange(0.,0.032,0.0032)\n",
    "vF,pF,fNorm = mapData2ff(eps = 0.01,g = 1.5,Re=1000.,theta=0)\n",
    "divField = vF.div().getPhysical(xLoc=xArr)[0,:,0].reshape((10,vF.N))\n",
    "\n",
    "\n",
    "printName = 'finalPlots/wavyE'+str(round(-np.log10(0.01),2))+'G'+str(round(1.0,2))+'Re'+str(int(1000.))+'.dat'\n",
    "print('fNorm is ',fNorm)\n",
    "vF.printPhysicalPlanar(pField=pF, fName=printName,withBase=True)\n",
    "print('printed to',printName)\n",
    "\n",
    "y = chebdif(vF.N,1)[0]\n",
    "plt.contourf(y,np.arange(0.,0.032,0.0032),divField)\n",
    "plt.colorbar()\n",
    "plt.show()\n",
    "\n",
    "plt.contourf(y,xArr, vF.getScalar(nd=0).getPhysical(xLoc=xArr,withBase=True)[0,:,0].reshape(10,vF.N))\n",
    "plt.colorbar();plt.show()"
   ]
  },
  {
   "cell_type": "code",
   "execution_count": 2,
   "metadata": {
    "collapsed": false
   },
   "outputs": [
    {
     "data": {
      "text/plain": [
       "{'K': 0,\n",
       " 'L': 8,\n",
       " 'M': 0,\n",
       " 'N': 65,\n",
       " 'Re': 1000.0,\n",
       " 'alpha': 100.0,\n",
       " 'beta': 0.0,\n",
       " 'eps': 0.01,\n",
       " 'isPois': 1,\n",
       " 'lOffset': 0.0,\n",
       " 'mOffset': 0.0,\n",
       " 'nd': 3,\n",
       " 'noise': 0.0,\n",
       " 'omega': 0.0}"
      ]
     },
     "execution_count": 2,
     "metadata": {},
     "output_type": "execute_result"
    }
   ],
   "source": [
    "vF.view4d().flowDict"
   ]
  },
  {
   "cell_type": "code",
   "execution_count": 3,
   "metadata": {
    "collapsed": false
   },
   "outputs": [
    {
     "name": "stdout",
     "output_type": "stream",
     "text": [
      "[[  1.13729875e-16  -2.10202156e-02   2.62632690e-03   2.34896755e-02\n",
      "    4.94840650e-01   1.99234573e+00   3.23968796e+00   3.31712880e+00\n",
      "    3.19166083e+00   3.08672679e+00   3.00521635e+00   2.92467301e+00\n",
      "    2.83339589e+00   2.74164378e+00   2.63644168e+00   2.53208014e+00\n",
      "    2.41472681e+00   2.29837128e+00   2.17012641e+00   2.04290502e+00\n",
      "    1.90492908e+00   1.76816976e+00   1.62168096e+00   1.47680943e+00\n",
      "    1.32311594e+00   1.17162266e+00   1.01211655e+00   8.55542143e-01\n",
      "    6.91683342e-01   5.31607440e-01   3.64905813e-01   2.02935481e-01\n",
      "    3.49330677e-02  -1.27309961e-01  -2.95055961e-01  -4.55949303e-01\n",
      "   -6.21882528e-01  -7.79818447e-01  -9.42397878e-01  -1.09580027e+00\n",
      "   -1.25351225e+00  -1.40085641e+00  -1.55222227e+00  -1.69205969e+00\n",
      "   -1.83563556e+00  -1.96662814e+00  -2.10099101e+00  -2.22196120e+00\n",
      "   -2.34567467e+00  -2.45567436e+00  -2.56724307e+00  -2.66560040e+00\n",
      "   -2.76352570e+00  -2.84959965e+00  -2.93302327e+00  -3.00383446e+00\n",
      "   -3.07192431e+00  -3.11306789e+00  -3.21193212e+00  -3.31680005e+00\n",
      "   -3.75584216e+00  -2.95602975e+00  -9.15542636e-01  -6.83586735e-02\n",
      "    4.57962478e-17]]\n",
      "[[  1.14144805e-15  -5.28223298e-16  -1.02305317e-15  -2.84494650e-16\n",
      "   -3.51281504e-17  -4.96750265e-15  -3.62269893e-15  -7.97043096e-15\n",
      "   -2.25310764e-15  -9.45576083e-15  -8.50571512e-15  -7.75748348e-15\n",
      "   -6.78487960e-15  -4.56775731e-15  -1.13317042e-15  -1.54685555e-14\n",
      "   -9.47848122e-15  -7.35751876e-15   1.16648151e-14   2.55408894e-14\n",
      "    3.78685518e-15  -9.00161395e-15  -2.76535742e-14   1.69332087e-14\n",
      "   -1.23966228e-14  -3.38695018e-16  -4.09928746e-14  -4.39508498e-15\n",
      "   -1.41367870e-14   6.67135516e-15   1.23276756e-14   5.12310821e-14\n",
      "    1.28998777e-14   5.99723065e-15   2.54992437e-14  -5.09648289e-14\n",
      "    1.38280691e-15  -1.52930820e-14   2.55122709e-14   9.53808015e-15\n",
      "    3.43825937e-14   2.25799756e-14   1.38799302e-14   2.91013441e-14\n",
      "    7.95568538e-15  -3.36376261e-14  -7.38169478e-15  -7.32099851e-15\n",
      "   -7.13157357e-15   1.17536515e-15  -7.64982941e-15  -4.20120549e-15\n",
      "   -5.18213741e-15  -6.08423766e-15  -1.26540691e-14  -5.98540586e-15\n",
      "   -1.00807221e-14  -7.80435829e-15  -8.91718340e-15  -8.50730754e-15\n",
      "   -1.05011486e-14  -1.03372172e-14  -5.65780062e-15  -1.40729442e-16\n",
      "   -3.50414142e-16]]\n"
     ]
    }
   ],
   "source": [
    "div2 = vF.getScalar(nd=0).ddx() + vF.getScalar(nd=1).ddy()\n",
    "print(vF.getScalar(nd=0).ddX().ifft(xLoc=0.01) )\n",
    "print(vF.getScalar(nd=0).ddxzYcomp().ifft(xLoc=0.01))\n",
    "u = vF.getScalar(nd=0)"
   ]
  },
  {
   "cell_type": "code",
   "execution_count": 8,
   "metadata": {
    "collapsed": false
   },
   "outputs": [],
   "source": [
    "dudx = vF.getScalar(nd=0).ddx()\n",
    "dudx1 = vF.getScalar(nd=0).ddX()\n",
    "duTrun = dudx.slice(L=2,N=30)\n",
    "duTrun1 = dudx1.slice(L=2,N=30)"
   ]
  },
  {
   "cell_type": "code",
   "execution_count": 6,
   "metadata": {
    "collapsed": false
   },
   "outputs": [
    {
     "data": {
      "text/plain": [
       "flowFieldWavy.flowFieldWavy"
      ]
     },
     "execution_count": 6,
     "metadata": {},
     "output_type": "execute_result"
    }
   ],
   "source": [
    "type(vF)"
   ]
  },
  {
   "cell_type": "code",
   "execution_count": 11,
   "metadata": {
    "collapsed": false
   },
   "outputs": [
    {
     "data": {
      "text/plain": [
       "array([[ 3.58089447,  3.70996197,  1.83697004, -0.05317315, -0.04319571,\n",
       "        -0.03434435, -0.03451189, -0.03489031, -0.03540757, -0.03600115,\n",
       "        -0.03657905, -0.03704377, -0.03731684, -0.03735745, -0.03717121,\n",
       "        -0.03680751, -0.03634669, -0.03588087, -0.03549341, -0.03524195,\n",
       "        -0.03514861, -0.03519795, -0.03534032, -0.03549604, -0.03558548,\n",
       "        -0.03883147, -0.0508344 ,  0.14872388, -1.4960472 , -2.94157993]])"
      ]
     },
     "execution_count": 11,
     "metadata": {},
     "output_type": "execute_result"
    }
   ],
   "source": [
    "duTrun.ifft(xLoc=0.01)-duTrun1.ifft(xLoc=0.01)"
   ]
  },
  {
   "cell_type": "markdown",
   "metadata": {
    "collapsed": false
   },
   "source": [
    "## Streamwise averaging of streamwise velocity and its wall-normal derivative"
   ]
  },
  {
   "cell_type": "code",
   "execution_count": 56,
   "metadata": {
    "collapsed": false
   },
   "outputs": [
    {
     "name": "stdout",
     "output_type": "stream",
     "text": [
      "alpha is: 15.0\n"
     ]
    }
   ],
   "source": [
    "# Run the first block of code to import modules\n",
    "\n",
    "# Define a geometry and flow condition\n",
    "eps = 0.1; g=1.5; Re=1000.; theta=0\n",
    "\n",
    "# Read flowfield from database\n",
    "#vF, pF, fNorm = mapData2ff(eps=eps,g=g,Re=Re,theta=theta)\n",
    "# Or run a case as needed\n",
    "vF, pF, fNorm , flg = runMATLAB(g=g, eps=eps, theta=0, Re=Re, N=80,n=13, multi=True)\n"
   ]
  },
  {
   "cell_type": "code",
   "execution_count": 75,
   "metadata": {
    "collapsed": false
   },
   "outputs": [
    {
     "data": {
      "text/plain": [
       "0.25253512258844169"
      ]
     },
     "execution_count": 75,
     "metadata": {},
     "output_type": "execute_result"
    }
   ],
   "source": [
    "1-np.sqrt(1.5*vF.flux(withBase=True))"
   ]
  },
  {
   "cell_type": "code",
   "execution_count": 57,
   "metadata": {
    "collapsed": false
   },
   "outputs": [
    {
     "name": "stdout",
     "output_type": "stream",
     "text": [
      "0.0 0.2\n",
      "0.0199466200228 0.191114561157\n",
      "0.0398932400456 0.165247754863\n",
      "0.0598398600684 0.124697960372\n",
      "0.0797864800912 0.0730682048733\n",
      "0.099733100114 0.0149460187173\n",
      "0.119679720137 -0.0445041867913\n",
      "0.13962634016 -0.1\n",
      "0.159572960182 -0.146610374366\n",
      "0.179519580205 -0.18019377358\n",
      "0.199466200228 -0.197766165245\n",
      "0.219412820251 -0.197766165245\n",
      "0.239359440274 -0.18019377358\n",
      "0.259306060296 -0.146610374366\n",
      "0.279252680319 -0.1\n",
      "0.299199300342 -0.0445041867913\n",
      "0.319145920365 0.0149460187173\n",
      "0.339092540387 0.0730682048733\n",
      "0.35903916041 0.124697960372\n",
      "0.378985780433 0.165247754863\n",
      "0.398932400456 0.191114561157\n"
     ]
    },
    {
     "data": {
      "image/png": "[encoded data removed]",
      "text/plain": [
       "<matplotlib.figure.Figure at 0x7fb047aea5f8>"
      ]
     },
     "metadata": {},
     "output_type": "display_data"
    },
    {
     "data": {
      "image/png": "[encoded data removed]",
      "text/plain": [
       "<matplotlib.figure.Figure at 0x7fb0479b0710>"
      ]
     },
     "metadata": {},
     "output_type": "display_data"
    },
    {
     "data": {
      "image/png": "[encoded data removed]",
      "text/plain": [
       "<matplotlib.figure.Figure at 0x7fb044972588>"
      ]
     },
     "metadata": {},
     "output_type": "display_data"
    },
    {
     "data": {
      "image/png": "[encoded data removed]",
      "text/plain": [
       "<matplotlib.figure.Figure at 0x7fb047ca00b8>"
      ]
     },
     "metadata": {},
     "output_type": "display_data"
    }
   ],
   "source": [
    "U = vF.getScalar(nd=0).addBase()\n",
    "V = vF.getScalar(nd=1)\n",
    "U_y = U.ddy()\n",
    "U_yy = U.ddy2()\n",
    "yCheb = chebdif(vF.N,1)[0]\n",
    "\n",
    "# We'll do the plotting at these streamwise locations:\n",
    "lda = 2.*np.pi*eps/g     # Wavelength\n",
    "xArr = np.arange(0., lda, lda/21.)\n",
    "\n",
    "# Now, I need to decide on a set of nodes to interpolate U, U_y, and U_yy on.\n",
    "# First, defining bottom and top surfaces.\n",
    "yBottom = -1.+ 2.*eps*np.cos(g/eps*xArr)\n",
    "yTop = 2.+yBottom\n",
    "ySurf = 2.*eps*np.cos(g/eps*xArr)\n",
    "\n",
    "# Nodes for interpolation are these: cheb nodes spread between -1+2*eps and 1-2*eps, which is the region between the crests\n",
    "yInter = (1.+yCheb)*(1.-2.*eps)\n",
    "\n",
    "# Defining x and y grids\n",
    "xGrid = np.tile(xArr.reshape(xArr.size,1),(1,vF.N))\n",
    "yGrid = np.tile((yInter-1.+2.*eps).reshape(1,vF.N),(xArr.size,1))\n",
    "UGrid = np.zeros(xGrid.shape)\n",
    "VGrid = UGrid.copy()\n",
    "U_yGrid = UGrid.copy()\n",
    "U_yyGrid = UGrid.copy()\n",
    "\n",
    "# Calculating U, U_y, and U_yy on the above grids. flowField methods ifft() and getPhysical reference 'y' from the bottom wall\n",
    "#     I need to account for this\n",
    "for k in range(xArr.size):\n",
    "    print(xArr[k],ySurf[k])\n",
    "    UGrid[k] = U.getPhysical(xLoc=xArr[k], yLoc = yInter-ySurf[k]+2.*eps-1.)[0,0,0]\n",
    "    VGrid[k] = V.getPhysical(xLoc=xArr[k], yLoc = yInter-ySurf[k]+2.*eps-1.)[0,0,0]\n",
    "    U_yGrid[k] = U_y.getPhysical(xLoc=xArr[k], yLoc = yInter-ySurf[k]+2.*eps-1.)[0,0,0]\n",
    "    U_yyGrid[k] = U_yy.getPhysical(xLoc=xArr[k], yLoc = yInter-ySurf[k]+2.*eps-1.)[0,0,0]\n",
    "\n",
    "plt.contourf(xGrid,yGrid,UGrid,20)\n",
    "plt.title('U');plt.colorbar();plt.show()\n",
    "\n",
    "plt.figure()\n",
    "plt.contourf(xGrid,yGrid,VGrid,20)\n",
    "plt.title('V');plt.colorbar();plt.show()\n",
    "\n",
    "plt.figure()\n",
    "plt.contourf(xGrid,yGrid,U_yGrid,levels=np.arange(-2.,2.1,0.1))\n",
    "plt.title('U_y');plt.colorbar();plt.clim([-2.,2.]);plt.show()\n",
    "\n",
    "plt.figure()\n",
    "plt.contourf(xGrid,yGrid,U_yyGrid,levels = np.arange(-2.5,-1.4,0.1))\n",
    "plt.title('U_yy');plt.colorbar();plt.show()\n",
    "\n",
    "## Continued in next block of code"
   ]
  },
  {
   "cell_type": "code",
   "execution_count": 79,
   "metadata": {
    "collapsed": false
   },
   "outputs": [
    {
     "data": {
      "image/png": "[encoded data removed]",
      "text/plain": [
       "<matplotlib.figure.Figure at 0x7fb06c9dd668>"
      ]
     },
     "metadata": {},
     "output_type": "display_data"
    },
    {
     "data": {
      "image/png": "[encoded data removed]",
      "text/plain": [
       "<matplotlib.figure.Figure at 0x7fb047d8fa58>"
      ]
     },
     "metadata": {},
     "output_type": "display_data"
    },
    {
     "data": {
      "image/png": "[encoded data removed]",
      "text/plain": [
       "<matplotlib.figure.Figure at 0x7fb0447a7518>"
      ]
     },
     "metadata": {},
     "output_type": "display_data"
    },
    {
     "data": {
      "image/png": "[encoded data removed]",
      "text/plain": [
       "<matplotlib.figure.Figure at 0x7fb047b62828>"
      ]
     },
     "metadata": {},
     "output_type": "display_data"
    },
    {
     "data": {
      "image/png": "[encoded data removed]",
      "text/plain": [
       "<matplotlib.figure.Figure at 0x7fb0446b8b00>"
      ]
     },
     "metadata": {},
     "output_type": "display_data"
    }
   ],
   "source": [
    "# Plot U_y at a few streamwise locations\n",
    "plt.figure()\n",
    "for k in np.arange(0,xArr.size):\n",
    "    plt.plot(yGrid[k],U_yGrid[k])\n",
    "plt.title('U_y');plt.xlabel('y');plt.ylim([-3.,3.]);plt.ylabel('U_y');plt.show()\n",
    "\n",
    "plt.figure()\n",
    "# The linear U_y profile would be U_y = -2y\n",
    "for k in np.arange(0,xArr.size):\n",
    "    plt.plot(yGrid[k],U_yGrid[k]+2.*yGrid[k])\n",
    "plt.title('U_y+2*y');plt.xlabel('y');plt.ylim([-3.,3.]);plt.ylabel('U_y');plt.show()\n",
    "\n",
    "U_yMean = np.mean(U_yGrid,axis=0)\n",
    "\n",
    "plt.figure()\n",
    "plt.plot(yInter-0.8, U_yMean)\n",
    "plt.title('Streamwise averaged U_y'); plt.xlabel('y'); plt.ylabel('U_y'); plt.xlim(-0.8,0.8); plt.show()\n",
    "\n",
    "plt.figure()\n",
    "plt.plot(yInter-0.8, U_yMean+2.*(yInter-0.8))\n",
    "plt.title('Streamwise averaged U_y + 2*y'); plt.xlabel('y'); plt.ylabel('U_y'); plt.xlim(-0.8,0.8); plt.show()\n",
    "\n",
    "UMean = np.mean(UGrid,axis=0)\n",
    "plt.figure()\n",
    "plt.plot(yInter-0.8, (UMean-1.+(yInter-0.8)**2))\n",
    "plt.title('Streamwise averaged U - (1-y**2)'); plt.xlabel('y'); plt.ylabel('U'); plt.xlim(-0.8,0.8);  plt.show()"
   ]
  },
  {
   "cell_type": "code",
   "execution_count": 92,
   "metadata": {
    "collapsed": false
   },
   "outputs": [
    {
     "data": {
      "text/plain": [
       "0.17637941293763559"
      ]
     },
     "execution_count": 92,
     "metadata": {},
     "output_type": "execute_result"
    }
   ],
   "source": [
    "1.-(1.5*vF.flux(withBase=True))**(1./3.)"
   ]
  },
  {
   "cell_type": "code",
   "execution_count": 91,
   "metadata": {
    "collapsed": false
   },
   "outputs": [
    {
     "name": "stdout",
     "output_type": "stream",
     "text": [
      "0.164308861657\n"
     ]
    }
   ],
   "source": [
    "Ub = vF.getScalar(nd=0).addBase().intY().ifft()[0,0]/1.6\n",
    "print(1.-np.sqrt(1.5*Ub))"
   ]
  },
  {
   "cell_type": "code",
   "execution_count": null,
   "metadata": {
    "collapsed": true
   },
   "outputs": [],
   "source": []
  }
 ],
 "metadata": {
  "kernelspec": {
   "display_name": "Python 3",
   "language": "python",
   "name": "python3"
  },
  "language_info": {
   "codemirror_mode": {
    "name": "ipython",
    "version": 3
   },
   "file_extension": ".py",
   "mimetype": "text/x-python",
   "name": "python",
   "nbconvert_exporter": "python",
   "pygments_lexer": "ipython3",
   "version": "3.4.4"
  }
 },
 "nbformat": 4,
 "nbformat_minor": 0
}
