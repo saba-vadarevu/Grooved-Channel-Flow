{
 "cells": [
  {
   "cell_type": "markdown",
   "metadata": {},
   "source": [
    "# Grid convergence tests for laminar solutions"
   ]
  },
  {
   "cell_type": "code",
   "execution_count": 1,
   "metadata": {
    "collapsed": true
   },
   "outputs": [],
   "source": [
    "%load_ext autoreload\n",
    "%autoreload 2"
   ]
  },
  {
   "cell_type": "code",
   "execution_count": 2,
   "metadata": {
    "collapsed": true
   },
   "outputs": [],
   "source": [
    "from flowField import *\n",
    "from flowFieldWavy import *\n",
    "import h5py\n",
    "import numpy as np\n",
    "import pdb\n",
    "import cProfile\n",
    "import time\n",
    "from pseudo import *\n",
    "from scipy.linalg import norm, svd\n",
    "from scipy.sparse.linalg import gmres, LinearOperator\n",
    "from lgmresCustom import lgmres\n",
    "\n",
    "import matplotlib.pyplot as plt\n",
    "%matplotlib inline"
   ]
  },
  {
   "cell_type": "markdown",
   "metadata": {},
   "source": [
    "## Test 1: Single geometry, non-adaptive grid, 9 grids (3 diff N, 3 diff n)\n",
    "Using theta=0,\n",
    "2g = 1.0, 2eps = 0.05, Re= 100\n",
    "N = 30, 50, 70\n",
    "n = 4, 6, 8"
   ]
  },
  {
   "cell_type": "code",
   "execution_count": null,
   "metadata": {
    "collapsed": true
   },
   "outputs": [],
   "source": [
    "#vfList1=[];pfList1=[];fnormList1=[];flgList1=[]\n",
    "g=0.2; eps=0.001\n",
    "\n",
    "for N in NArr:\n",
    "    for n in nArr:\n",
    "        start = time.time()\n",
    "        vf, pf, fnorm, flg = runMATLAB(g=g,eps=eps,N=int(N),n=int(n),tol=1.0e-14)\n",
    "        if fnorm[-1] > 1.0e-13: print('Run failed, residual norm is',fnorm)\n",
    "        print('N,n:',vf.N,vf.nx//2)\n",
    "        print('Run time:',(time.time()-start))\n",
    "        print('****************************************')\n",
    "        vfList1.append(vf); pfList1.append(pf); fnormList1.append(fnorm); flgList1.append(flg)"
   ]
  },
  {
   "cell_type": "code",
   "execution_count": 22,
   "metadata": {
    "collapsed": false
   },
   "outputs": [
    {
     "name": "stdout",
     "output_type": "stream",
     "text": [
      "N,n: 25 9\n",
      "Run time: 100.51072692871094\n",
      "****************************************\n",
      "N,n: 25 11\n",
      "Run time: 151.30838465690613\n",
      "****************************************\n",
      "N,n: 40 9\n",
      "Run time: 217.01670742034912\n",
      "****************************************\n",
      "N,n: 40 11\n",
      "Run time: 376.2056522369385\n",
      "****************************************\n",
      "N,n: 55 9\n",
      "Run time: 509.92428493499756\n",
      "****************************************\n",
      "N,n: 55 11\n",
      "Run time: 1054.9265468120575\n",
      "****************************************\n",
      "N,n: 65 9\n",
      "Run time: 1133.0002546310425\n",
      "****************************************\n",
      "N,n: 65 11\n",
      "Run time: 1849.4886507987976\n",
      "****************************************\n"
     ]
    }
   ],
   "source": [
    "NArr = np.array([25,40,55,65])\n",
    "#nArr = np.array([3,4,5,6,7])\n",
    "nArr = np.array([9,11])\n",
    "\n",
    "\n",
    "\n",
    "#vfList2=[];pfList2=[];fnormList2=[];flgList2=[]\n",
    "g=0.2; eps=0.025\n",
    "\n",
    "for N in NArr:\n",
    "    for n in nArr:\n",
    "        start = time.time()\n",
    "        vf, pf, fnorm, flg = runMATLAB(g=g,eps=eps,N=int(N),n=int(n),tol=1.0e-14)\n",
    "        if fnorm[-1] > 1.0e-13: print('Run failed, residual norm is',fnorm)\n",
    "        print('N,n:',vf.N,vf.nx//2)\n",
    "        print('Run time:',(time.time()-start))\n",
    "        print('****************************************')\n",
    "        vfList2.append(vf); pfList2.append(pf); fnormList2.append(fnorm); flgList2.append(flg)"
   ]
  },
  {
   "cell_type": "code",
   "execution_count": null,
   "metadata": {
    "collapsed": false
   },
   "outputs": [],
   "source": [
    "NArr = np.array([25,40,55,65])\n",
    "#nArr = np.array([3,4,5,6,7])\n",
    "nArr = np.array([9,11])\n",
    "\n",
    "#vfList3=[];pfList3=[];fnormList3=[];flgList3=[]\n",
    "g=1.0; eps=0.001\n",
    "\n",
    "for N in NArr:\n",
    "    for n in nArr:\n",
    "        start = time.time()\n",
    "        vf, pf, fnorm, flg = runMATLAB(g=g,eps=eps,N=int(N),n=int(n),tol=1.0e-14)\n",
    "        if fnorm[-1] > 1.0e-13: print('Run failed, residual norm is',fnorm)\n",
    "        print('N,n:',vf.N,vf.nx//2)\n",
    "        print('Run time:',(time.time()-start))\n",
    "        print('****************************************')\n",
    "        vfList3.append(vf); pfList3.append(pf); fnormList3.append(fnorm); flgList3.append(flg)\n",
    "\n",
    "#vfList4=[];pfList4=[];fnormList4=[];flgList4=[]\n",
    "g=0.5; eps=0.025\n",
    "\n",
    "for N in NArr:\n",
    "    for n in nArr:\n",
    "        start = time.time()\n",
    "        vf, pf, fnorm, flg = runMATLAB(g=g,eps=eps,N=int(N),n=int(n),tol=1.0e-14)\n",
    "        if fnorm[-1] > 1.0e-13: print('Run failed, residual norm is',fnorm)\n",
    "        print('N,n:',vf.N,vf.nx//2)\n",
    "        print('time elapsed:',(time.time()-start))\n",
    "        print('****************************************')\n",
    "        vfList4.append(vf); pfList4.append(pf); fnormList4.append(fnorm); flgList4.append(flg)\n",
    "        \n",
    "        \n",
    "NArr = np.array([25,40,55,65])\n",
    "nArr = np.array([3,4,5,6,7,9,11])\n",
    "\n",
    "vfList5=[];pfList5=[];fnormList5=[];flgList5=[]\n",
    "g=0.5; eps=0.001\n",
    "\n",
    "for N in NArr:\n",
    "    for n in nArr:\n",
    "        start = time.time()\n",
    "        vf, pf, fnorm, flg = runMATLAB(g=g,eps=eps,N=int(N),n=int(n),tol=1.0e-14)\n",
    "        if fnorm[-1] > 1.0e-13: print('Run failed, residual norm is',fnorm)\n",
    "        print('N,n:',vf.N,vf.nx//2)\n",
    "        print('time elapsed:',(time.time()-start))\n",
    "        print('****************************************')\n",
    "        vfList5.append(vf); pfList5.append(pf); fnormList5.append(fnorm); flgList5.append(flg)\n",
    "        \n",
    "vfList6=[];pfList6=[];fnormList6=[];flgList6=[]\n",
    "g=1.0; eps=0.025\n",
    "\n",
    "for N in NArr:\n",
    "    for n in nArr:\n",
    "        start = time.time()\n",
    "        vf, pf, fnorm, flg = runMATLAB(g=g,eps=eps,N=int(N),n=int(n),tol=1.0e-14)\n",
    "        if fnorm[-1] > 1.0e-13: print('Run failed, residual norm is',fnorm)\n",
    "        print('N,n:',vf.N,vf.nx//2)\n",
    "        print('time elapsed:',(time.time()-start))\n",
    "        print('****************************************')\n",
    "        vfList6.append(vf); pfList6.append(pf); fnormList6.append(fnorm); flgList6.append(flg)\n",
    "        \n",
    "vfList7=[];pfList7=[];fnormList7=[];flgList7=[]\n",
    "g=0.5; eps=0.1\n",
    "\n",
    "for N in NArr:\n",
    "    for n in nArr:\n",
    "        start = time.time()\n",
    "        vf, pf, fnorm, flg = runMATLAB(g=g,eps=eps,N=int(N),n=int(n),tol=1.0e-14)\n",
    "        if fnorm[-1] > 1.0e-13: print('Run failed, residual norm is',fnorm)\n",
    "        print('N,n:',vf.N,vf.nx//2)\n",
    "        print('time elapsed:',(time.time()-start))\n",
    "        print('****************************************')\n",
    "        vfList7.append(vf); pfList7.append(pf); fnormList7.append(fnorm); flgList7.append(flg)\n",
    "\n",
    "        \n",
    "        "
   ]
  },
  {
   "cell_type": "code",
   "execution_count": 21,
   "metadata": {
    "collapsed": false
   },
   "outputs": [
    {
     "data": {
      "text/plain": [
       "65"
      ]
     },
     "execution_count": 21,
     "metadata": {},
     "output_type": "execute_result"
    }
   ],
   "source": []
  },
  {
   "cell_type": "code",
   "execution_count": null,
   "metadata": {
    "collapsed": false
   },
   "outputs": [],
   "source": [
    "#Reordering all the lists so that n runs from 3 to 11 for each N\n",
    "#   The first 20 objects are fine. I need to move objects 21 through 28\n",
    "vfList1.insert(5,vfList1.pop(20)); vfList1.insert(6,vfList1.pop(21)) #N=25, n=9,11\n",
    "vfList1.insert(12,vfList1.pop(22)); vfList1.insert(13,vfList1.pop(23)) #N=45, n=9,11\n",
    "vfList1.insert(19,vfList1.pop(24)); vfList1.insert(20,vfList1.pop(25)) #N=55, n=9,11\n",
    "# For N=65, the last two objects are properly ordered already\n",
    "\n",
    "pfList1.insert(5,pfList1.pop(20)); pfList1.insert(6,pfList1.pop(21)) #N=25, n=9,11\n",
    "pfList1.insert(12,pfList1.pop(22)); pfList1.insert(13,pfList1.pop(23)) #N=45, n=9,11\n",
    "pfList1.insert(19,pfList1.pop(24)); pfList1.insert(20,pfList1.pop(25)) #N=55, n=9,11\n",
    "# For N=65, the last two objects are properly ordered already\n",
    "\n",
    "# Checking that the ordering is fine:\n",
    "for k in range(len(vfList1)):\n",
    "    vf = vfList1[k]; pf = pfList1[k]\n",
    "    print('N,n,eps,g:',vf.N,vf.nx//2,vf.flowDict['eps'], vf.flowDict['eps']*vf.flowDict['alpha'])\n",
    "    print('N,n,eps,g:',pf.N,pf.nx//2,pf.flowDict['eps'], pf.flowDict['eps']*pf.flowDict['alpha'])"
   ]
  },
  {
   "cell_type": "code",
   "execution_count": null,
   "metadata": {
    "collapsed": false
   },
   "outputs": [],
   "source": [
    "##################################\n",
    "\n",
    "vfList2.insert(5,vfList2.pop(20)); vfList2.insert(6,vfList2.pop(21)) #N=25, n=9,11\n",
    "vfList2.insert(12,vfList2.pop(22)); vfList2.insert(13,vfList2.pop(23)) #N=45, n=9,11\n",
    "vfList2.insert(19,vfList2.pop(24)); vfList2.insert(20,vfList2.pop(25)) #N=55, n=9,11\n",
    "# For N=65, the last two objects are properly ordered already\n",
    "\n",
    "pfList2.insert(5,pfList2.pop(20)); pfList2.insert(6,pfList2.pop(21)) #N=25, n=9,11\n",
    "pfList2.insert(12,pfList2.pop(22)); pfList2.insert(13,pfList2.pop(23)) #N=45, n=9,11\n",
    "pfList2.insert(19,pfList2.pop(24)); pfList2.insert(20,pfList2.pop(25)) #N=55, n=9,11\n",
    "# For N=65, the last two objects are properly ordered already\n",
    "# Checking that the ordering is fine:\n",
    "for k in range(len(vfList2)):\n",
    "    vf = vfList2[k]; pf = pfList2[k]\n",
    "    print('N,n,eps,g:',vf.N,vf.nx//2,vf.flowDict['eps'], vf.flowDict['eps']*vf.flowDict['alpha'])\n",
    "    print('N,n,eps,g:',pf.N,pf.nx//2,pf.flowDict['eps'], pf.flowDict['eps']*pf.flowDict['alpha'])"
   ]
  },
  {
   "cell_type": "code",
   "execution_count": null,
   "metadata": {
    "collapsed": false
   },
   "outputs": [],
   "source": [
    "\n",
    "\n",
    "\n",
    "\n",
    "\n",
    "\n",
    "##########################################\n",
    "\n",
    "vfList3.insert(5,vfList3.pop(20)); vfList3.insert(6,vfList3.pop(21)) #N=25, n=9,11\n",
    "vfList3.insert(12,vfList3.pop(22)); vfList3.insert(13,vfList3.pop(23)) #N=45, n=9,11\n",
    "vfList3.insert(19,vfList3.pop(24)); vfList3.insert(20,vfList3.pop(25)) #N=55, n=9,11\n",
    "# For N=65, the last two objects are properly ordered already\n",
    "\n",
    "pfList3.insert(5,pfList3.pop(20)); pfList3.insert(6,pfList3.pop(21)) #N=25, n=9,11\n",
    "pfList3.insert(12,pfList3.pop(22)); pfList3.insert(13,pfList3.pop(23)) #N=45, n=9,11\n",
    "pfList3.insert(19,pfList3.pop(24)); pfList3.insert(20,pfList3.pop(25)) #N=55, n=9,11\n",
    "# For N=65, the last two objects are properly ordered already\n",
    "\n",
    "# Checking that the ordering is fine:\n",
    "for k in range(len(vfList1)):\n",
    "    vf = vfList3[k]; pf = pfList3[k]\n",
    "    print('N,n,eps,g:',vf.N,vf.nx//2,vf.flowDict['eps'], vf.flowDict['eps']*vf.flowDict['alpha'])\n",
    "    print('N,n,eps,g:',pf.N,pf.nx//2,pf.flowDict['eps'], pf.flowDict['eps']*pf.flowDict['alpha'])\n",
    "\n",
    "\n",
    "##########################################\n",
    "\n",
    "vfList4.insert(5,vfList4.pop(20)); vfList4.insert(6,vfList4.pop(21)) #N=25, n=9,11\n",
    "vfList4.insert(12,vfList4.pop(22)); vfList4.insert(13,vfList4.pop(23)) #N=45, n=9,11\n",
    "vfList4.insert(19,vfList4.pop(24)); vfList4.insert(20,vfList4.pop(25)) #N=55, n=9,11\n",
    "# For N=65, the last two objects are properly ordered already\n",
    "\n",
    "pfList4.insert(5,pfList4.pop(20)); pfList4.insert(6,pfList4.pop(21)) #N=25, n=9,11\n",
    "pfList4.insert(12,pfList4.pop(22)); pfList4.insert(13,pfList4.pop(23)) #N=45, n=9,11\n",
    "pfList4.insert(19,pfList4.pop(24)); pfList4.insert(20,pfList4.pop(25)) #N=55, n=9,11\n",
    "# For N=65, the last two objects are properly ordered already\n",
    "\n",
    "# Checking that the ordering is fine:\n",
    "for k in range(len(vfList1)):\n",
    "    vf = vfList4[k]; pf = pfList4[k]\n",
    "    print('N,n,eps,g:',vf.N,vf.nx//2,vf.flowDict['eps'], vf.flowDict['eps']*vf.flowDict['alpha'])\n",
    "    print('N,n,eps,g:',pf.N,pf.nx//2,pf.flowDict['eps'], pf.flowDict['eps']*pf.flowDict['alpha'])\n",
    "\n",
    "\n",
    "\n",
    "# Function that returns index of \n",
    "\n"
   ]
  },
  {
   "cell_type": "code",
   "execution_count": null,
   "metadata": {
    "collapsed": false
   },
   "outputs": [],
   "source": [
    "vfList=vfList1; pfList=pfList1\n",
    "for k in range(len(vfList)):\n",
    "    vf = vfList[k]; pf=pfList[k]\n",
    "    vf = vf.slice(L=vf.nx//2+2); pf = pf.slice(L=pf.nx//2+2)\n",
    "    #vf.view4d()[0,vf.nx//2,0,0]+= 1.-vf.y**2\n",
    "    print( (vf.residuals(pField=pf)).slice(L=vf.nx//2-2).norm() )"
   ]
  },
  {
   "cell_type": "code",
   "execution_count": null,
   "metadata": {
    "collapsed": false,
    "scrolled": false
   },
   "outputs": [],
   "source": [
    "# Distance of solutions, from the best resolved solution. \n",
    "#    High res solutions are sliced down to match low res (i.e., energy in higher modes is ignored)\n",
    "vEnd = vfList[-1]; pEnd = pfList[-1]\n",
    "Lmax = vEnd.nx//2; Nmax = vEnd.N \n",
    "for k in range(len(vfList)-1):\n",
    "    vf = vfList[k]; pf=pfList[k]\n",
    "    #vf = vf.slice(L=Lmax,N=Nmax); pf = pf.slice(L=Lmax, N=Nmax)\n",
    "    vEslice = vEnd.slice(L=vf.nx//2,N=vf.N); pEslice=pEnd.slice(L=vf.nx//2,N=vf.N)\n",
    "    print(vf.nx//2,vf.N, (vf.getScalar(nd=1)-vEslice.getScalar(nd=1)).norm(), (pf-pEslice).norm() )"
   ]
  },
  {
   "cell_type": "code",
   "execution_count": null,
   "metadata": {
    "collapsed": false
   },
   "outputs": [],
   "source": [
    "# Distance of solutions, from the best resolved solution. \n",
    "#    Low res solutions are sliced up to match high res (i.e., padded with zeros for higher energy modes)\n",
    "vEnd = vfList[-1]; pEnd = pfList[-1]\n",
    "Lmax = vEnd.nx//2; Nmax = vEnd.N \n",
    "for k in range(len(vfList)-1):\n",
    "    vf = vfList[k]; pf=pfList[k]\n",
    "    L = vf.nx//2; N=vf.N\n",
    "    vf = vf.slice(L=Lmax,N=Nmax); pf = pf.slice(L=Lmax, N=Nmax)\n",
    "    print(L,N, (vf-vEnd).norm(), (pf-pEnd).norm() )"
   ]
  },
  {
   "cell_type": "code",
   "execution_count": 16,
   "metadata": {
    "collapsed": false
   },
   "outputs": [
    {
     "name": "stdout",
     "output_type": "stream",
     "text": [
      "0.6652345303385676\n",
      "3 25 0.000348083233397\n",
      "4 25 0.000348082941642\n",
      "5 25 0.000348082941056\n",
      "6 25 0.000348082941052\n",
      "7 25 0.000348082941055\n",
      "9 25 0.000348082941054\n",
      "11 25 0.000348082941054\n",
      "3 40 -9.43429658773e-06\n",
      "4 40 -9.44552249316e-06\n",
      "5 40 -9.44555186944e-06\n",
      "6 40 -9.44555192761e-06\n",
      "7 40 -9.44555192528e-06\n",
      "9 40 -9.44555192817e-06\n",
      "11 40 -9.44555192939e-06\n",
      "3 55 -1.35645176269e-06\n",
      "4 55 -1.37847330195e-06\n",
      "5 55 -1.37902732866e-06\n",
      "6 55 -1.37902962627e-06\n",
      "7 55 -1.3790296286e-06\n",
      "9 55 -1.37902963604e-06\n",
      "11 55 -1.37902963071e-06\n",
      "3 65 3.66653121198e-08\n",
      "4 65 1.16486420509e-09\n",
      "5 65 1.29498634038e-11\n",
      "6 65 1.19237952845e-13\n",
      "7 65 1.23234755733e-14\n",
      "9 65 -1.99840144433e-15\n"
     ]
    }
   ],
   "source": [
    "fluxEnd = vEnd.flux()\n",
    "print(fluxEnd)\n",
    "for k in range(len(vfList)-1):\n",
    "    vf = vfList[k]\n",
    "    print(vf.nx//2, vf.N, fluxEnd-vf.flux())\n",
    "    "
   ]
  },
  {
   "cell_type": "code",
   "execution_count": 48,
   "metadata": {
    "collapsed": false
   },
   "outputs": [
    {
     "name": "stdout",
     "output_type": "stream",
     "text": [
      "0.2 1.0\n",
      "5.00278439219e-16\n",
      "5.32688375262e-16\n",
      "5.54086549319e-16\n",
      "4.91172117566e-16\n",
      "4.93339383147e-16\n",
      "5.13812914783e-16\n",
      "5.78130401139e-16\n",
      "1.31082483639e-15\n",
      "1.45021127995e-15\n",
      "1.40267280735e-15\n",
      "1.35932650027e-15\n",
      "1.41932130326e-15\n",
      "1.48001100425e-15\n",
      "1.63012633252e-15\n",
      "2.95530143552e-15\n",
      "2.96025714459e-15\n",
      "2.7536099858e-15\n",
      "2.90649313389e-15\n",
      "2.93309007906e-15\n",
      "2.63915183012e-15\n",
      "2.75288962851e-15\n",
      "3.93608954115e-15\n",
      "4.11632747933e-15\n",
      "4.00154525638e-15\n",
      "4.11393838547e-15\n",
      "4.00861150021e-15\n",
      "3.74414132525e-15\n",
      "4.21501135798e-15\n"
     ]
    }
   ],
   "source": [
    "vfList=vfList7; pfList=pfList7\n",
    "print(2.*vfList[0].flowDict['eps'], 2.*vfList[0].flowDict['eps']*vfList[0].flowDict['alpha'])\n",
    "for k in range(len(vfList)):\n",
    "    vf = vfList[k]; pf=pfList[k]\n",
    "    vf = vf.slice(L=vf.nx//2+2); pf = pf.slice(L=pf.nx//2+2)\n",
    "    #vf.view4d()[0,vf.nx//2,0,0]+= 1.-vf.y**2\n",
    "    print( (vf.residuals(pField=pf)).slice(L=vf.nx//2-2).norm() )"
   ]
  },
  {
   "cell_type": "code",
   "execution_count": 49,
   "metadata": {
    "collapsed": false
   },
   "outputs": [
    {
     "name": "stdout",
     "output_type": "stream",
     "text": [
      "3 25 0.000504441231631 0.000236410386028\n",
      "4 25 0.000161120869363 0.000102876693554\n",
      "5 25 5.38529005501e-05 4.52368198696e-05\n",
      "6 25 1.84184653182e-05 2.49898494908e-05\n",
      "7 25 6.17543264125e-06 1.99667267347e-05\n",
      "9 25 1.99113644126e-06 1.89435252606e-05\n",
      "11 25 1.73321009781e-06 1.89527665836e-05\n",
      "3 40 0.000504446352329 0.000235605044869\n",
      "4 40 0.000161236148471 0.000101488755031\n",
      "5 40 5.39751777656e-05 4.15841655869e-05\n",
      "6 40 1.85597961493e-05 1.73876791082e-05\n",
      "7 40 6.42286913109e-06 8.77998260689e-06\n",
      "9 40 7.72670384101e-07 5.97168903568e-06\n",
      "11 40 3.12510844141e-10 5.88037254847e-06\n",
      "3 55 0.00050444635189 0.000235690309899\n",
      "4 55 0.000161236147431 0.000101687911436\n",
      "5 55 5.39751884176e-05 4.20334363855e-05\n",
      "6 55 1.85600252871e-05 1.84449807177e-05\n",
      "7 55 6.42361361108e-06 1.07189420615e-05\n",
      "9 55 7.73306594848e-07 8.57089076847e-06\n",
      "11 55 5.49924923158e-14 8.50747677327e-06\n",
      "3 65 0.00050444635189 0.000235517720646\n",
      "4 65 0.00016123614743 0.000101351280169\n",
      "5 65 5.3975188414e-05 4.1165268632e-05\n",
      "6 65 1.85600253166e-05 1.63709745707e-05\n",
      "7 65 6.4236134634e-06 6.52166903971e-06\n",
      "9 65 7.73306244475e-07 1.04096137287e-06\n"
     ]
    }
   ],
   "source": [
    "# Distance of solutions, from the best resolved solution. \n",
    "#    High res solutions are sliced down to match low res (i.e., energy in higher modes is ignored)\n",
    "vEnd = vfList[-1]; pEnd = pfList[-1]\n",
    "Lmax = vEnd.nx//2; Nmax = vEnd.N \n",
    "for k in range(len(vfList)-1):\n",
    "    vf = vfList[k]; pf=pfList[k]\n",
    "    #vf = vf.slice(L=Lmax,N=Nmax); pf = pf.slice(L=Lmax, N=Nmax)\n",
    "    vEslice = vEnd.slice(L=vf.nx//2,N=vf.N); pEslice=pEnd.slice(L=vf.nx//2,N=vf.N)\n",
    "    print(vf.nx//2,vf.N, (vf.getScalar(nd=1)-vEslice.getScalar(nd=1)).norm(), (pf-pEslice).norm() )"
   ]
  },
  {
   "cell_type": "code",
   "execution_count": 50,
   "metadata": {
    "collapsed": false
   },
   "outputs": [
    {
     "name": "stdout",
     "output_type": "stream",
     "text": [
      "3 25 0.00240153161401 0.00037648123997\n",
      "4 25 0.000755337486701 0.000139736720017\n",
      "5 25 0.00025998154321 5.45143985699e-05\n",
      "6 25 9.24525052644e-05 2.53778844343e-05\n",
      "7 25 3.34465354596e-05 1.75624368474e-05\n",
      "9 25 6.7324256286e-06 1.58787846048e-05\n",
      "11 25 5.46743093473e-06 1.58614710361e-05\n",
      "3 40 0.00240155778556 0.000376161909908\n",
      "4 40 0.000755356997417 0.000139130217872\n",
      "5 40 0.000259984336117 5.27065053441e-05\n",
      "6 40 9.23789125497e-05 2.11498295291e-05\n",
      "7 40 3.30790420547e-05 1.0590268705e-05\n",
      "9 40 4.23690779996e-06 7.38279234048e-06\n",
      "11 40 1.30525372635e-09 7.27916781982e-06\n",
      "3 55 0.00240155779439 0.000376170542527\n",
      "4 55 0.000755356999416 0.000139189886078\n",
      "5 55 0.00025998433532 5.28259402476e-05\n",
      "6 55 9.23789118805e-05 2.14389595771e-05\n",
      "7 55 3.30790411287e-05 1.11491742525e-05\n",
      "9 55 4.23690769701e-06 8.16283317196e-06\n",
      "11 55 1.96242055722e-13 8.0691737062e-06\n",
      "3 65 0.00240155779438 0.000376076157827\n",
      "4 65 0.00075535699941 0.000138966628177\n",
      "5 65 0.000259984335317 5.22075711599e-05\n",
      "6 65 9.23789118791e-05 1.98656343644e-05\n",
      "7 65 3.30790411283e-05 7.69443422665e-06\n",
      "9 65 4.2369076969e-06 1.23319512313e-06\n"
     ]
    }
   ],
   "source": [
    "# Distance of solutions, from the best resolved solution. \n",
    "#    Low res solutions are sliced up to match high res (i.e., padded with zeros for higher energy modes)\n",
    "vEnd = vfList[-1]; pEnd = pfList[-1]\n",
    "Lmax = vEnd.nx//2; Nmax = vEnd.N \n",
    "for k in range(len(vfList)-1):\n",
    "    vf = vfList[k]; pf=pfList[k]\n",
    "    L = vf.nx//2; N=vf.N\n",
    "    vf = vf.slice(L=Lmax,N=Nmax); pf = pf.slice(L=Lmax, N=Nmax)\n",
    "    print(L,N, (vf-vEnd).norm(), (pf-pEnd).norm() )"
   ]
  },
  {
   "cell_type": "code",
   "execution_count": 43,
   "metadata": {
    "collapsed": false
   },
   "outputs": [
    {
     "name": "stdout",
     "output_type": "stream",
     "text": [
      "0.6622942099845445\n",
      "3 25 0.0146808775429\n",
      "4 25 0.0146807496822\n",
      "5 25 0.0146807495097\n",
      "6 25 0.0146807495097\n",
      "7 25 0.0146807495097\n",
      "9 25 0.0146807495097\n",
      "11 25 0.0146807495097\n",
      "3 40 0.00372541071389\n",
      "4 40 0.00372249856505\n",
      "5 40 0.00372248724253\n",
      "6 40 0.00372248722288\n",
      "7 40 0.00372248722287\n",
      "9 40 0.00372248722286\n",
      "11 40 0.00372248722286\n",
      "3 55 0.000728358757718\n",
      "4 55 0.000715603278046\n",
      "5 55 0.000715301743835\n",
      "6 55 0.00071530062019\n",
      "7 55 0.000715300617576\n",
      "9 55 0.000715300617553\n",
      "11 55 0.000715300617572\n",
      "3 65 1.76368976375e-05\n",
      "4 65 1.14983768229e-06\n",
      "5 65 1.07534414706e-08\n",
      "6 65 5.29800647797e-11\n",
      "7 65 1.47326595368e-13\n",
      "9 65 2.17603712827e-14\n"
     ]
    }
   ],
   "source": [
    "fluxEnd = vEnd.flux()\n",
    "print(fluxEnd)\n",
    "for k in range(len(vfList)-1):\n",
    "    vf = vfList[k]\n",
    "    print(vf.nx//2, vf.N, fluxEnd-vf.flux())"
   ]
  },
  {
   "cell_type": "code",
   "execution_count": null,
   "metadata": {
    "collapsed": true
   },
   "outputs": [],
   "source": []
  },
  {
   "cell_type": "code",
   "execution_count": null,
   "metadata": {
    "collapsed": true
   },
   "outputs": [],
   "source": []
  },
  {
   "cell_type": "code",
   "execution_count": null,
   "metadata": {
    "collapsed": true
   },
   "outputs": [],
   "source": []
  },
  {
   "cell_type": "code",
   "execution_count": null,
   "metadata": {
    "collapsed": true
   },
   "outputs": [],
   "source": []
  },
  {
   "cell_type": "code",
   "execution_count": null,
   "metadata": {
    "collapsed": true
   },
   "outputs": [],
   "source": []
  },
  {
   "cell_type": "code",
   "execution_count": null,
   "metadata": {
    "collapsed": true
   },
   "outputs": [],
   "source": []
  },
  {
   "cell_type": "code",
   "execution_count": null,
   "metadata": {
    "collapsed": true
   },
   "outputs": [],
   "source": []
  },
  {
   "cell_type": "code",
   "execution_count": null,
   "metadata": {
    "collapsed": true
   },
   "outputs": [],
   "source": []
  },
  {
   "cell_type": "code",
   "execution_count": 51,
   "metadata": {
    "collapsed": true
   },
   "outputs": [],
   "source": [
    "runMATLAB?"
   ]
  },
  {
   "cell_type": "code",
   "execution_count": 78,
   "metadata": {
    "collapsed": true
   },
   "outputs": [],
   "source": [
    "vAsymp,pAsymp,fnrm,flg = runMATLAB(eps=0.01,g=0.0001,Re=5.,theta=0,N=11,n=3,tol=1.0e-14)"
   ]
  },
  {
   "cell_type": "code",
   "execution_count": 82,
   "metadata": {
    "collapsed": true
   },
   "outputs": [],
   "source": [
    "vf = vAsymp.slice(L=1)\n",
    "u = vf.getScalar(); v=vf.getScalar(nd=1)\n"
   ]
  },
  {
   "cell_type": "code",
   "execution_count": 86,
   "metadata": {
    "collapsed": false
   },
   "outputs": [
    {
     "name": "stderr",
     "output_type": "stream",
     "text": [
      "/usr/local/lib/python3.4/dist-packages/IPython/kernel/__main__.py:1: RuntimeWarning: divide by zero encountered in true_divide\n",
      "  if __name__ == '__main__':\n"
     ]
    },
    {
     "data": {
      "text/plain": [
       "flowFieldWavy([             inf            +infj,\n",
       "        -1.21613876e-12 +9.99998368e-05j,\n",
       "        -4.47112692e-12 +9.99994202e-05j,\n",
       "        -8.59432761e-12 +9.99989051e-05j,\n",
       "        -1.19883824e-11 +9.99984885e-05j,\n",
       "        -1.32942774e-11 +9.99983293e-05j,\n",
       "        -1.19883824e-11 +9.99984885e-05j,\n",
       "        -8.59432761e-12 +9.99989051e-05j,\n",
       "        -4.47112692e-12 +9.99994202e-05j,\n",
       "        -1.21613876e-12 +9.99998368e-05j,             -inf            -infj])"
      ]
     },
     "execution_count": 86,
     "metadata": {},
     "output_type": "execute_result"
    }
   ],
   "source": [
    "v[0,0,0,0] /(v.y**2-1.)"
   ]
  },
  {
   "cell_type": "code",
   "execution_count": 87,
   "metadata": {
    "collapsed": false
   },
   "outputs": [
    {
     "data": {
      "text/plain": [
       "0.01"
      ]
     },
     "execution_count": 87,
     "metadata": {},
     "output_type": "execute_result"
    }
   ],
   "source": [
    "v.flowDict['eps']"
   ]
  },
  {
   "cell_type": "code",
   "execution_count": 81,
   "metadata": {
    "collapsed": false
   },
   "outputs": [
    {
     "data": {
      "text/plain": [
       "flowFieldWavy([ -6.65192850e-24 +5.91736066e-24j,\n",
       "        -9.30558580e-14 -7.12960711e-24j,\n",
       "        -2.92072043e-13 -3.77809462e-23j,\n",
       "        -4.09548550e-13 +6.41415914e-23j,\n",
       "        -3.00749554e-13 -1.07207957e-22j,\n",
       "        -6.26241904e-25 +1.07987810e-22j,\n",
       "         3.00749554e-13 -1.06881368e-22j,\n",
       "         4.09548550e-13 +6.19125207e-23j,\n",
       "         2.92072043e-13 -3.62175612e-23j,\n",
       "         9.30558580e-14 -8.45905442e-24j,  -7.79905247e-24 +3.21697662e-24j])"
      ]
     },
     "execution_count": 81,
     "metadata": {},
     "output_type": "execute_result"
    }
   ],
   "source": [
    "v[0,1,0,0]"
   ]
  },
  {
   "cell_type": "code",
   "execution_count": 80,
   "metadata": {
    "collapsed": false
   },
   "outputs": [],
   "source": [
    "Q1 = 2.*vf.flux()*3./4.\n",
    "M = 1.+3.*Q1/4.; Re= vf.flowDict['Re'] ; H= 2.*M/Re; a = vf.flowDict['alpha']; A = 2.*vf.flowDict['eps']"
   ]
  },
  {
   "cell_type": "code",
   "execution_count": 61,
   "metadata": {
    "collapsed": false
   },
   "outputs": [],
   "source": [
    "X = 2.*np.pi/a*np.arange(0.,2.*np.pi, np.pi/10.)\n",
    "X = X.reshape((X.size,1))\n",
    "XI = a*X\n",
    "Y = vf.y.reshape((1,vf.N))"
   ]
  },
  {
   "cell_type": "code",
   "execution_count": 64,
   "metadata": {
    "collapsed": false
   },
   "outputs": [],
   "source": [
    "U = np.zeros((X.size,Y.size),dtype=np.complex)\n",
    "for lp in range(u.nx):\n",
    "    l=lp-u.nx//2\n",
    "    U += u[0,lp:lp+1,0,0]*np.exp(1.j*l*a*X)\n",
    "\n",
    "    "
   ]
  },
  {
   "cell_type": "code",
   "execution_count": 67,
   "metadata": {
    "collapsed": true
   },
   "outputs": [],
   "source": [
    "Y = np.tile(Y,(X.size,1))\n",
    "X = np.tile(X,(1,vf.N))"
   ]
  },
  {
   "cell_type": "code",
   "execution_count": 71,
   "metadata": {
    "collapsed": false
   },
   "outputs": [
    {
     "data": {
      "text/plain": [
       "<matplotlib.colorbar.Colorbar at 0x7fd93441c898>"
      ]
     },
     "execution_count": 71,
     "metadata": {},
     "output_type": "execute_result"
    },
    {
     "name": "stderr",
     "output_type": "stream",
     "text": [
      "/usr/lib/python3/dist-packages/matplotlib/collections.py:571: FutureWarning: elementwise comparison failed; returning scalar instead, but in the future will perform elementwise comparison\n",
      "  if self._edgecolors == str('face'):\n"
     ]
    },
    {
     "data": {
      "image/png": "[encoded data removed]",
      "text/plain": [
       "<matplotlib.figure.Figure at 0x7fd9344ee3c8>"
      ]
     },
     "metadata": {},
     "output_type": "display_data"
    }
   ],
   "source": [
    "plt.contourf(Y,X,np.real(U),cmap=plt.cm.bone)\n",
    "plt.colorbar()"
   ]
  },
  {
   "cell_type": "code",
   "execution_count": 72,
   "metadata": {
    "collapsed": false
   },
   "outputs": [
    {
     "data": {
      "text/plain": [
       "flowFieldWavy([ -9.78909153e-22 -1.33378516e-21j,\n",
       "        -3.82558060e-07 -1.31039687e-21j,\n",
       "        -1.38367598e-06 -1.23360183e-21j,\n",
       "        -2.62026210e-06 -1.14518224e-21j,\n",
       "        -3.61998315e-06 -1.29046726e-21j,\n",
       "        -4.00167795e-06 -1.60503329e-21j,\n",
       "        -3.61998315e-06 -1.27730285e-21j,\n",
       "        -2.62026210e-06 -9.10931239e-22j,\n",
       "        -1.38367598e-06 -1.05689410e-23j,\n",
       "        -3.82558060e-07 +5.76796514e-22j,   7.93544946e-22 +7.50060454e-22j])"
      ]
     },
     "execution_count": 72,
     "metadata": {},
     "output_type": "execute_result"
    }
   ],
   "source": [
    "u[0,1,0,0] - (1.-u.y**2)"
   ]
  },
  {
   "cell_type": "code",
   "execution_count": 74,
   "metadata": {
    "collapsed": true
   },
   "outputs": [],
   "source": [
    "XI = a*X\n",
    "uAn = 0.5*Re*M*M*A*np.sin(XI)*( 1.-A*np.cos(XI)/2.)**-1 "
   ]
  },
  {
   "cell_type": "code",
   "execution_count": 75,
   "metadata": {
    "collapsed": true
   },
   "outputs": [],
   "source": [
    "uAn = uAn* (-Y**6/30. + Y**4/6. - Y**2*11./70. + 5./210.)\n",
    "uAn += M*(1.-A*np.cos(XI)/2)**-1 * (1.-Y**2)"
   ]
  },
  {
   "cell_type": "code",
   "execution_count": 76,
   "metadata": {
    "collapsed": false
   },
   "outputs": [
    {
     "data": {
      "text/plain": [
       "((20, 11), (20, 11))"
      ]
     },
     "execution_count": 76,
     "metadata": {},
     "output_type": "execute_result"
    }
   ],
   "source": [
    "U.shape, uAn.shape"
   ]
  },
  {
   "cell_type": "code",
   "execution_count": 77,
   "metadata": {
    "collapsed": false
   },
   "outputs": [
    {
     "data": {
      "text/plain": [
       "array([[ -1.21889129e-21 -2.85759949e-21j,\n",
       "         -7.33188275e-02 -1.15408239e-20j,\n",
       "         -2.65263457e-01 -2.98579114e-20j,\n",
       "         -5.02502976e-01 -7.15742840e-20j,\n",
       "         -6.94408367e-01 -5.56924163e-20j,\n",
       "         -7.67677737e-01 +1.24343537e-20j,\n",
       "         -6.94333706e-01 +4.61632956e-20j,\n",
       "         -5.02400230e-01 +2.54109884e-20j,\n",
       "         -2.65188815e-01 +1.48230766e-20j,\n",
       "         -7.32945749e-02 +3.91752738e-21j,\n",
       "         -9.49865072e-22 +1.04033397e-21j],\n",
       "       [ -1.96689125e-21 -1.24079372e-21j,\n",
       "         -7.00287179e-02 +2.79520873e-19j,\n",
       "         -2.54355262e-01 +9.24959978e-19j,\n",
       "         -4.84704044e-01 -1.40268656e-18j,\n",
       "         -6.73623876e-01 +2.38185665e-18j,\n",
       "         -7.46503153e-01 -2.54963673e-18j,\n",
       "         -6.73658673e-01 +2.29037709e-18j,\n",
       "         -4.84751854e-01 -1.50771865e-18j,\n",
       "         -2.54389897e-01 +8.60585474e-19j,\n",
       "         -7.00399382e-02 +2.66815378e-19j,\n",
       "          2.19545161e-21 +2.08249583e-21j],\n",
       "       [  3.62325621e-23 +1.17069134e-22j,\n",
       "         -7.11907837e-02 -2.11758237e-19j,\n",
       "         -2.56803588e-01 -7.01343280e-19j,\n",
       "         -4.84288311e-01 +1.16890547e-18j,\n",
       "         -6.66347200e-01 -1.81265051e-18j,\n",
       "         -7.35357530e-01 +1.98351241e-18j,\n",
       "         -6.66394560e-01 -1.84653183e-18j,\n",
       "         -4.84353546e-01 +1.15535294e-18j,\n",
       "         -2.56851056e-01 -6.92872951e-19j,\n",
       "         -7.12062329e-02 -2.11758237e-19j,\n",
       "          1.43703486e-21 -5.85626778e-22j],\n",
       "       [ -7.87395754e-22 -2.56510046e-21j,\n",
       "         -7.35711357e-02 -1.17525821e-19j,\n",
       "         -2.65792464e-01 -3.79470760e-19j,\n",
       "         -5.02400424e-01 +4.82808780e-19j,\n",
       "         -6.92801639e-01 -9.57994263e-19j,\n",
       "         -7.65223589e-01 +9.88925983e-19j,\n",
       "         -6.92729684e-01 -8.45338881e-19j,\n",
       "         -5.02301431e-01 +6.00546360e-19j,\n",
       "         -2.65720586e-01 -3.20178454e-19j,\n",
       "         -7.35477942e-02 -9.88910966e-20j,\n",
       "         -1.11323662e-21 +4.65590165e-22j],\n",
       "       [ -2.14431011e-21 -1.81856340e-21j,\n",
       "         -7.05324255e-02 +3.01543729e-19j,\n",
       "         -2.56264179e-01 +9.96110746e-19j,\n",
       "         -4.88569092e-01 -1.54837623e-18j,\n",
       "         -6.79292410e-01 +2.55803950e-18j,\n",
       "         -7.52912867e-01 -2.76388190e-18j,\n",
       "         -6.79301505e-01 +2.50721752e-18j,\n",
       "         -4.88581525e-01 -1.63307952e-18j,\n",
       "         -2.56273106e-01 +9.41900637e-19j,\n",
       "         -7.05352899e-02 +2.90532301e-19j,\n",
       "          1.64609427e-21 +2.30893985e-21j],\n",
       "       [ -2.56062148e-22 +2.77881666e-22j,\n",
       "         -7.05466972e-02 -1.22396261e-19j,\n",
       "         -2.54787152e-01 -4.03187683e-19j,\n",
       "         -4.81371815e-01 +7.28448335e-19j,\n",
       "         -6.63516973e-01 -1.05370899e-18j,\n",
       "         -7.32790588e-01 +1.17511512e-18j,\n",
       "         -6.63581792e-01 -1.12485975e-18j,\n",
       "         -4.81461053e-01 +6.75932292e-19j,\n",
       "         -2.54852027e-01 -4.20128342e-19j,\n",
       "         -7.05677915e-02 -1.27901975e-19j,\n",
       "          2.03142597e-21 -1.88548392e-22j],\n",
       "       [ -3.80645771e-22 -2.11350247e-21j,\n",
       "         -7.35686400e-02 -2.08793621e-19j,\n",
       "         -2.65451368e-01 -6.81014490e-19j,\n",
       "         -5.00798629e-01 +9.72393823e-19j,\n",
       "         -6.89321779e-01 -1.73641754e-18j,\n",
       "         -7.60793842e-01 +1.83743052e-18j,\n",
       "         -6.89261828e-01 -1.62799732e-18j,\n",
       "         -5.00716180e-01 +1.09775470e-18j,\n",
       "         -2.65391542e-01 -6.13251854e-19j,\n",
       "         -7.35492253e-02 -1.89311864e-19j,\n",
       "         -1.03023181e-21 -7.23970698e-23j],\n",
       "       [ -2.17114683e-21 -2.33369461e-21j,\n",
       "         -7.11804770e-02 +2.82061971e-19j,\n",
       "         -2.58556566e-01 +9.38512506e-19j,\n",
       "         -4.92761206e-01 -1.49416612e-18j,\n",
       "         -6.84883061e-01 +2.41234983e-18j,\n",
       "         -7.58990583e-01 -2.62121166e-18j,\n",
       "         -6.84865279e-01 +2.39540917e-18j,\n",
       "         -4.92736657e-01 -1.53821183e-18j,\n",
       "         -2.58538631e-01 +9.01243056e-19j,\n",
       "         -7.11746153e-02 +2.77826807e-19j,\n",
       "          9.86578529e-22 +2.33396016e-21j],\n",
       "       [ -6.41756342e-22 +2.30449786e-22j,\n",
       "         -7.00417068e-02 -1.63053842e-20j,\n",
       "         -2.53331003e-01 -5.54806580e-20j,\n",
       "         -4.79680824e-01 +1.99052743e-19j,\n",
       "         -6.62597092e-01 -1.60512744e-19j,\n",
       "         -7.32433205e-01 +2.14673125e-19j,\n",
       "         -6.62670995e-01 -2.57921532e-19j,\n",
       "         -4.79782534e-01 +1.08420217e-19j,\n",
       "         -2.53404901e-01 -9.35971407e-20j,\n",
       "         -7.00657205e-02 -2.71050543e-20j,\n",
       "          2.46586974e-21 +3.29808191e-22j],\n",
       "       [ -5.11977497e-23 -1.56115674e-21j,\n",
       "         -7.33130191e-02 -2.74438675e-19j,\n",
       "         -2.64289810e-01 -8.94466792e-19j,\n",
       "         -4.97917000e-01 +1.33831206e-18j,\n",
       "         -6.84438126e-01 -2.29037709e-18j,\n",
       "         -7.54983816e-01 +2.44831220e-18j,\n",
       "         -6.84397925e-01 -2.19550940e-18j,\n",
       "         -4.97861750e-01 +1.45350854e-18j,\n",
       "         -2.64249765e-01 -8.26704157e-19j,\n",
       "         -7.33000400e-02 -2.54109884e-19j,\n",
       "         -7.11575744e-22 -5.04114088e-22j],\n",
       "       [ -2.04393383e-21 -2.71962694e-21j,\n",
       "         -7.18898647e-02 +2.26157797e-19j,\n",
       "         -2.60937488e-01 +7.55553389e-19j,\n",
       "         -4.96737180e-01 -1.25022063e-18j,\n",
       "         -6.89666108e-01 +1.95495204e-18j,\n",
       "         -7.63940453e-01 -2.14006053e-18j,\n",
       "         -6.89623747e-01 +1.98205710e-18j,\n",
       "         -4.96678820e-01 -1.25022063e-18j,\n",
       "         -2.60895008e-01 +7.45388994e-19j,\n",
       "         -7.18760343e-02 +2.29545929e-19j,\n",
       "          3.02120809e-22 +2.15432387e-21j],\n",
       "       [ -1.07101425e-21 -1.90978051e-23j,\n",
       "         -6.97388513e-02 +9.14795583e-20j,\n",
       "         -2.52616489e-01 +2.98579114e-19j,\n",
       "         -4.79424407e-01 -3.59141970e-19j,\n",
       "         -6.63697978e-01 +7.54282840e-19j,\n",
       "         -7.34324357e-01 -7.73714291e-19j,\n",
       "         -6.63771415e-01 +6.42050974e-19j,\n",
       "         -4.79525447e-01 -4.73491418e-19j,\n",
       "         -2.52689863e-01 +2.44792522e-19j,\n",
       "         -6.97626816e-02 +7.72917564e-20j,\n",
       "          2.68423145e-21 +9.02465815e-22j],\n",
       "       [  1.58380140e-22 -9.79432205e-22j,\n",
       "         -7.28397847e-02 -3.03237795e-19j,\n",
       "         -2.62466501e-01 -9.89334482e-19j,\n",
       "         -4.94143199e-01 +1.53482370e-18j,\n",
       "         -6.78801525e-01 -2.54787511e-18j,\n",
       "         -7.48565520e-01 +2.74263864e-18j,\n",
       "         -6.78786268e-01 -2.49027686e-18j,\n",
       "         -4.94122285e-01 +1.61952700e-18j,\n",
       "         -2.62451413e-01 -9.35124374e-19j,\n",
       "         -7.28349181e-02 -2.87144169e-19j,\n",
       "         -1.98442151e-22 -7.73778481e-22j],\n",
       "       [ -1.77910836e-21 -2.92649384e-21j,\n",
       "         -7.25678298e-02 +1.42301535e-19j,\n",
       "         -2.63094542e-01 +4.74338450e-19j,\n",
       "         -4.99971989e-01 -8.45338881e-19j,\n",
       "         -6.93004925e-01 +1.24175030e-18j,\n",
       "         -7.67100937e-01 -1.38259831e-18j,\n",
       "         -6.92943458e-01 +1.30612480e-18j,\n",
       "         -4.99887358e-01 -8.01293168e-19j,\n",
       "         -2.63033006e-01 +4.89585044e-19j,\n",
       "         -7.25478178e-02 +1.49924832e-19j,\n",
       "         -3.18839711e-22 +1.79324187e-21j],\n",
       "       [ -1.48837120e-21 -4.38516917e-22j,\n",
       "         -6.96763905e-02 +1.87194281e-19j,\n",
       "         -2.52734139e-01 +6.14945920e-19j,\n",
       "         -4.80636210e-01 -8.74138002e-19j,\n",
       "         -6.66683283e-01 +1.57039908e-18j,\n",
       "         -7.38228613e-01 -1.66233702e-18j,\n",
       "         -6.66746766e-01 +1.45859074e-18j,\n",
       "         -4.80723524e-01 -9.94416680e-19j,\n",
       "         -2.52797507e-01 +5.52265482e-19j,\n",
       "         -6.96969584e-02 +1.71524172e-19j,\n",
       "          2.65829645e-21 +1.45543105e-21j],\n",
       "       [  2.21008216e-22 -4.43493818e-22j,\n",
       "         -7.22124284e-02 -2.93920433e-19j,\n",
       "         -2.60224342e-01 -9.62229428e-19j,\n",
       "         -4.89975300e-01 +1.52804744e-18j,\n",
       "         -6.73150249e-01 -2.47672434e-18j,\n",
       "         -7.42377201e-01 +2.68237976e-18j,\n",
       "         -6.73161908e-01 -2.44961928e-18j,\n",
       "         -4.89991425e-01 +1.57886941e-18j,\n",
       "         -2.60236159e-01 -9.21571847e-19j,\n",
       "         -7.22163032e-02 -2.82061971e-19j,\n",
       "          4.42866674e-22 -8.46546755e-22j],\n",
       "       [ -1.41088869e-21 -2.92756592e-21j,\n",
       "         -7.31243813e-02 +3.87517573e-20j,\n",
       "         -2.64740564e-01 +1.36372305e-19j,\n",
       "         -5.02032233e-01 -3.27801751e-19j,\n",
       "         -6.94447549e-01 +3.70153398e-19j,\n",
       "         -7.68041301e-01 -4.46697138e-19j,\n",
       "         -6.94374918e-01 +4.61632956e-19j,\n",
       "         -5.01932267e-01 -2.44792522e-19j,\n",
       "         -2.64667924e-01 +1.71100655e-19j,\n",
       "         -7.31007733e-02 +5.20925263e-20j,\n",
       "         -7.96068360e-22 +1.29736980e-21j],\n",
       "       [ -1.83990026e-21 -9.73614162e-22j,\n",
       "         -6.98632909e-02 +2.58345049e-19j,\n",
       "         -2.53672844e-01 +8.50421079e-19j,\n",
       "         -4.83169863e-01 -1.27054942e-18j,\n",
       "         -6.71184642e-01 +2.18703907e-18j,\n",
       "         -7.43662212e-01 -2.33637560e-18j,\n",
       "         -6.71229968e-01 +2.08708918e-18j,\n",
       "         -4.83232170e-01 -1.38574590e-18j,\n",
       "         -2.53718019e-01 +7.87740641e-19j,\n",
       "         -6.98779386e-02 +2.43098456e-19j,\n",
       "          2.39141583e-21 +1.91725494e-21j],\n",
       "       [  1.28594267e-22 -2.25904949e-23j,\n",
       "         -7.15130492e-02 -2.45639555e-19j,\n",
       "         -2.57855398e-01 -8.09763498e-19j,\n",
       "         -4.85952279e-01 +1.32137140e-18j,\n",
       "         -6.68209773e-01 -2.08708918e-18j,\n",
       "         -7.37210754e-01 +2.27532163e-18j,\n",
       "         -6.68246841e-01 -2.10064171e-18j,\n",
       "         -4.86003360e-01 +1.33492392e-18j,\n",
       "         -2.57892594e-01 -7.89434707e-19j,\n",
       "         -7.15251647e-02 -2.40557357e-19j,\n",
       "          1.12948684e-21 -7.13016479e-22j],\n",
       "       [ -9.86852690e-22 -2.72270465e-21j,\n",
       "         -7.34851310e-02 -6.97743390e-20j,\n",
       "         -2.65655013e-01 -2.21922632e-19j,\n",
       "         -5.02639976e-01 +2.29969445e-19j,\n",
       "         -6.93795551e-01 -5.49724383e-19j,\n",
       "         -7.66628685e-01 +5.46714641e-19j,\n",
       "         -6.93721142e-01 -4.40033616e-19j,\n",
       "         -5.02537591e-01 +3.40083728e-19j,\n",
       "         -2.65580654e-01 -1.68136040e-19j,\n",
       "         -7.34609776e-02 -5.21984054e-20j,\n",
       "         -1.06790215e-21 +7.30779566e-22j]])"
      ]
     },
     "execution_count": 77,
     "metadata": {},
     "output_type": "execute_result"
    }
   ],
   "source": [
    "U-uAn"
   ]
  },
  {
   "cell_type": "code",
   "execution_count": null,
   "metadata": {
    "collapsed": true
   },
   "outputs": [],
   "source": []
  }
 ],
 "metadata": {
  "kernelspec": {
   "display_name": "Python 3",
   "language": "python",
   "name": "python3"
  },
  "language_info": {
   "codemirror_mode": {
    "name": "ipython",
    "version": 3
   },
   "file_extension": ".py",
   "mimetype": "text/x-python",
   "name": "python",
   "nbconvert_exporter": "python",
   "pygments_lexer": "ipython3",
   "version": "3.4.2"
  }
 },
 "nbformat": 4,
 "nbformat_minor": 0
}
