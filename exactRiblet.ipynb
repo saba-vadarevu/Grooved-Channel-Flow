{
 "cells": [
  {
   "cell_type": "code",
   "execution_count": 1,
   "metadata": {
    "collapsed": false
   },
   "outputs": [],
   "source": [
    "%load_ext autoreload\n",
    "%autoreload 2\n"
   ]
  },
  {
   "cell_type": "code",
   "execution_count": 2,
   "metadata": {
    "collapsed": false
   },
   "outputs": [],
   "source": [
    "#from flowField import *\n",
    "from flowFieldWavy import *\n",
    "import h5py\n",
    "import numpy as np\n",
    "import pdb\n",
    "import cProfile\n",
    "import time\n",
    "import scipy as sp\n",
    "#from pseudo import *\n",
    "from scipy.optimize import least_squares\n",
    "#from scipy.linalg import norm, svd\n",
    "import scipy.sparse.linalg as spla\n",
    "from scipy.sparse.linalg import gmres, LinearOperator\n",
    "#from scipy.optimize import newton_krylov,root,anderson\n",
    "import exactRiblet as rib\n",
    "import os\n",
    "import resource\n",
    "import sys\n",
    "\n",
    "import matplotlib.pyplot as plt\n",
    "%matplotlib inline\n",
    "\n",
    "#figureFolder = \"/home/sabarish/Dropbox/reports/2016/equilibria/figures/\"\n",
    "symDir = '/home/sabarish/Dropbox/gitwork/python3/symmetries/'\n",
    "#figureFolder = './figures/'\n",
    "#docFolder = \"./doc/figures/\"\n",
    "#%run test_flowFieldWavy.py\n",
    "resnormFun = lambda x: x.residuals().appendField(x.slice(nd=[0,1,2]).div()).norm()"
   ]
  },
  {
   "cell_type": "code",
   "execution_count": 3,
   "metadata": {
    "collapsed": false
   },
   "outputs": [
    {
     "name": "stderr",
     "output_type": "stream",
     "text": [
      ".........."
     ]
    },
    {
     "name": "stdout",
     "output_type": "stream",
     "text": [
      "Note: when testing for derivatives, if looking at the last modes in x or z,remember that the general formulae I use do not apply, because one/some of their neighbouring modes are missing\n"
     ]
    },
    {
     "name": "stderr",
     "output_type": "stream",
     "text": [
      "\n",
      "----------------------------------------------------------------------\n",
      "Ran 10 tests in 0.145s\n",
      "\n",
      "OK\n"
     ]
    }
   ],
   "source": [
    "%run test_flowFieldWavy.py"
   ]
  },
  {
   "cell_type": "code",
   "execution_count": 4,
   "metadata": {
    "collapsed": false
   },
   "outputs": [
    {
     "name": "stderr",
     "output_type": "stream",
     "text": [
      "."
     ]
    },
    {
     "name": "stdout",
     "output_type": "stream",
     "text": [
      "Note: when testing for derivatives, if looking at the last modes in x or z,remember that the general formulae I use do not apply, because one/some of their neighbouring modes are missing\n"
     ]
    },
    {
     "name": "stderr",
     "output_type": "stream",
     "text": [
      "....ss\n",
      "----------------------------------------------------------------------\n",
      "Ran 7 tests in 1.296s\n",
      "\n",
      "OK (skipped=2)\n"
     ]
    }
   ],
   "source": [
    "%run test_flowFieldRiblet.py"
   ]
  },
  {
   "cell_type": "code",
   "execution_count": 5,
   "metadata": {
    "collapsed": false,
    "scrolled": false
   },
   "outputs": [
    {
     "name": "stdout",
     "output_type": "stream",
     "text": [
      "<class 'flowFieldWavy.flowFieldRiblet'> True 4\n",
      "Testing for symmetries sigma1=False and sigma3=False to tolerance 1e-13\n",
      "epsArr is  [ 0.  0.]\n",
      "Success for both tests!\n",
      "*******************************\n",
      "Testing for symmetries sigma1=False and sigma3=False to tolerance 1e-13\n",
      "epsArr is  [ 0.    0.05]\n",
      "Success for both tests!\n",
      "*******************************\n",
      "Testing for symmetries sigma1=True and sigma3=False to tolerance 1e-13\n",
      "epsArr is  [ 0.    0.05]\n",
      "sigma1 invariance norm of x is 3.88190828968e-18\n",
      "Success for both tests!\n",
      "*******************************\n",
      "Testing for symmetries sigma1=True and sigma3=True to tolerance 1e-13\n",
      "epsArr is  [ 0.    0.05]\n",
      "sigma1 invariance norm of x is 3.88190828968e-18\n",
      "sigma3 invariance norm of x is 2.50681935558e-17\n",
      "Success for both tests!\n",
      "*******************************\n"
     ]
    },
    {
     "data": {
      "text/plain": [
       "(True, True)"
      ]
     },
     "execution_count": 5,
     "metadata": {},
     "output_type": "execute_result"
    }
   ],
   "source": [
    "x0 = loadh5('ribEq1_25_L7M16N35E1_001E2_000E3_030.hdf5').slice(L=2,M=4,N=15)\n",
    "x0.setWallVel(); x0.imposeSymms(sigma1=True,sigma3=True)\n",
    "x0.flowDict.update({'eps':0.,'epsArr':np.array([0.,0.])})\n",
    "print(type(x0), isinstance(x0,flowFieldRiblet), x0.nd)\n",
    "\n",
    "ffProb = rib.exactRiblet(x=x0, sigma1=False, sigma3=False)\n",
    "rib.testExactRibletModule(ffProb)\n",
    "\n",
    "ffProb.x.flowDict.update({'eps':0.05,'epsArr':np.array([0., 0.05])})\n",
    "rib.testExactRibletModule(ffProb)\n",
    "\n",
    "ffProb.attributes.update({'sigma1':True})\n",
    "rib.testExactRibletModule(ffProb)\n",
    "\n",
    "ffProb.attributes.update({'sigma3':True})\n",
    "rib.testExactRibletModule(ffProb)"
   ]
  },
  {
   "cell_type": "markdown",
   "metadata": {},
   "source": [
    "# Implementing trust region methods"
   ]
  },
  {
   "cell_type": "markdown",
   "metadata": {},
   "source": [
    "## Small state-vector: L,M,N = 3,5,15"
   ]
  },
  {
   "cell_type": "code",
   "execution_count": 5,
   "metadata": {
    "collapsed": false
   },
   "outputs": [],
   "source": [
    "x = loadh5('solutions/e1/A05/ribEq1L14M16N35E1_025.hdf5')\n",
    "x.flowDict['eps'] = 0.03\n",
    "x.flowDict['epsArr'] = np.array([0., 0.03])\n",
    "x = x.slice(L=2,M=3,N=10) \n",
    "x[0,x.nx//2,x.nz//2,0,0] = 1.\n",
    "x[0,x.nx//2,x.nz//2,0,-1] = -1.\n",
    "\n",
    "flowDict = x.flowDict.copy()"
   ]
  },
  {
   "cell_type": "code",
   "execution_count": 10,
   "metadata": {
    "collapsed": false
   },
   "outputs": [
    {
     "name": "stdout",
     "output_type": "stream",
     "text": [
      "Iterating for method: standard Newton\n",
      "Not using a log file, printing to terminal\n",
      "Initial residual norm is 0.0156\n",
      "Starting iterations...............\n",
      "iter: 1\n",
      "Jacobian inversion returned with residual norm: 2.18446332552e-07\n",
      "Beginning line search.... Initial residual norm is  0.0156479289112\n",
      "Line search.... normArr is [ 0.01984846  0.01900687  0.01816595  0.01732575  0.01648637  0.01564793\n",
      "  0.01481058  0.01397453  0.01314003  0.0123074   0.01147709  0.01064966\n",
      "  0.00982591  0.00900691  0.00819417  0.00738986  0.00659719  0.0058211\n",
      "  0.00506943  0.00435511  0.00370018  0.00314245  0.00274242  0.0025753\n",
      "  0.00268557  0.0030438 ]\n",
      "Minimal norm is obtained for q in q*dx of 1.8, producing norm of 0.00258\n",
      "Finer line search.... normArr is [ 0.00274242  0.00271404  0.00268808  0.00266463  0.00264374  0.00262548\n",
      "  0.0026099   0.00259706  0.00258699  0.00257973  0.0025753   0.00257372\n",
      "  0.00257499  0.00257912  0.00258607  0.00259585  0.0026084   0.00262371\n",
      "  0.0026417   0.00266235]\n",
      "Minimal norm is obtained for q in q*dx of 1.8, producing norm of 0.00257\n",
      "Residual norm after 1 th iteration is 0.00257\n",
      "*********************************************************\n",
      "iter: 2\n",
      "Jacobian inversion returned with residual norm: 7.86239280997e-08\n",
      "Beginning line search.... Initial residual norm is  0.00257372198087\n",
      "Line search.... normArr is [ 0.00297473  0.00289338  0.00281258  0.00273235  0.00265271  0.00257372\n",
      "  0.00249545  0.00241801  0.00234152  0.00226616  0.00219215  0.00211974\n",
      "  0.00204925  0.00198106  0.00191562  0.00185345  0.00179516  0.00174143\n",
      "  0.00169304  0.00165082  0.00161566  0.00158847  0.00157015  0.00156149\n",
      "  0.00156319  0.00157579]\n",
      "Minimal norm is obtained for q in q*dx of 1.8, producing norm of 0.00156\n",
      "Finer line search.... normArr is [ 0.00157015  0.00156883  0.00156762  0.0015665   0.00156548  0.00156456\n",
      "  0.00156374  0.00156303  0.00156241  0.0015619   0.00156149  0.00156118\n",
      "  0.00156098  0.00156088  0.00156089  0.00156101  0.00156123  0.00156156\n",
      "  0.001562    0.00156254]\n",
      "Minimal norm is obtained for q in q*dx of 1.8, producing norm of 0.00156\n",
      "Residual norm after 2 th iteration is 0.00156\n",
      "*********************************************************\n",
      "iter: 3\n",
      "Jacobian inversion returned with residual norm: 5.85582652387e-09\n",
      "Beginning line search.... Initial residual norm is  0.00156088421258\n",
      "Line search.... normArr is [ 0.00173328  0.00169798  0.00166307  0.00162857  0.0015945   0.00156088\n",
      "  0.00152776  0.00149515  0.0014631   0.00143162  0.00140077  0.00137058\n",
      "  0.00134109  0.00131235  0.0012844   0.0012573   0.0012311   0.00120586\n",
      "  0.00118163  0.00115848  0.00113646  0.00111565  0.0010961   0.0010779\n",
      "  0.00106109  0.00104575]\n",
      "Minimal norm is obtained for q in q*dx of 2, producing norm of 0.00105\n",
      "Residual norm after 3 th iteration is 0.00105\n",
      "*********************************************************\n",
      "iter: 4\n",
      "Jacobian inversion returned with residual norm: 4.54285165409e-09\n",
      "Beginning line search.... Initial residual norm is  0.00104575172901\n",
      "Line search.... normArr is [ 0.00110863  0.00109601  0.00108341  0.00107083  0.00105828  0.00104575\n",
      "  0.00103325  0.00102078  0.00100834  0.00099593  0.00098355  0.0009712\n",
      "  0.00095889  0.00094661  0.00093437  0.00092216  0.00091     0.00089787\n",
      "  0.00088579  0.00087376  0.00086177  0.00084983  0.00083794  0.0008261\n",
      "  0.00081432  0.0008026 ]\n",
      "Minimal norm is obtained for q in q*dx of 2, producing norm of 0.000803\n",
      "Residual norm after 4 th iteration is 0.000803\n",
      "*********************************************************\n",
      "Iterations have not converged for iterMax= 4\n",
      "fnormArr is  [0.002573721980874306, 0.0015608842125764944, 0.0010457517290128166, 0.00080259760840962894]\n",
      "Memory use (MB): 279.2890625\n",
      "runTime (min): 0\n"
     ]
    }
   ],
   "source": [
    "print('Iterating for method: standard Newton')\n",
    "startTime = time.time()\n",
    "#ribRes2 = rib.iterate(vf = x.slice(nd=[0,1,2]), pf = x.getScalar(nd=3),trustRegion=False,sigma1=True,sigma2=False,iterMax=5)\n",
    "ffProb1 = rib.exactRiblet(x=x,sigma1=True,sigma3=True,iterMax=4,method='simple',log=None,saveDir=None)\n",
    "ribRes1 = ffProb1.iterate()\n",
    "print('Memory use (MB):', resource.getrusage(resource.RUSAGE_SELF).ru_maxrss/1024)\n",
    "print('runTime (min): %d' %((time.time()-startTime)/60.))\n",
    "#x = ribRes1[0]"
   ]
  },
  {
   "cell_type": "code",
   "execution_count": 7,
   "metadata": {
    "collapsed": false,
    "scrolled": false
   },
   "outputs": [
    {
     "name": "stdout",
     "output_type": "stream",
     "text": [
      "Iterating for method: dogbox, no jac, exact\n",
      "Not using a log file, printing to terminal\n",
      "Initial residual norm is 0.0156\n",
      "Starting iterations...............\n",
      "   Iteration     Total nfev        Cost      Cost reduction    Step norm     Optimality   \n",
      "       0              1         3.0980e-05                                    5.40e-02    \n",
      "       1              2         1.2879e-06      2.97e-05       3.05e-02       3.45e-02    \n",
      "       2              3         7.1224e-07      5.76e-07       1.72e-02       3.00e-02    \n",
      "       3              5         2.2190e-07      4.90e-07       3.32e-03       3.13e-03    \n",
      "The maximum number of function evaluations is exceeded.\n",
      "Function evaluations 5, initial cost 3.0980e-05, final cost 2.2190e-07, first-order optimality 3.13e-03.\n",
      "Memory use (MB): 170.60546875\n",
      "runTime (min): 1\n"
     ]
    }
   ],
   "source": [
    "print('Iterating for method: dogbox, no jac, exact')\n",
    "startTime = time.time()\n",
    "ffProb1 = rib.exactRiblet(x=x,sigma1=True,sigma3=True,iterMax=1,method='dogbox',supplyJac=False,\\\n",
    "                          tr_solver='exact',log=None,saveDir=None)\n",
    "ribRes1 = ffProb1.iterate()\n",
    "print('Memory use (MB):', resource.getrusage(resource.RUSAGE_SELF).ru_maxrss/1024)\n",
    "print('runTime (min): %d' %((time.time()-startTime)/60.))\n",
    "#x = ribRes1[0]"
   ]
  },
  {
   "cell_type": "code",
   "execution_count": null,
   "metadata": {
    "collapsed": true
   },
   "outputs": [],
   "source": []
  },
  {
   "cell_type": "code",
   "execution_count": 6,
   "metadata": {
    "collapsed": false,
    "scrolled": false
   },
   "outputs": [
    {
     "name": "stdout",
     "output_type": "stream",
     "text": [
      "Iterating for method: dogbox, no jac, lsmr\n",
      "Not using a log file, printing to terminal\n",
      "Initial residual norm is 0.0156\n",
      "Starting iterations...............\n",
      "   Iteration     Total nfev        Cost      Cost reduction    Step norm     Optimality   \n",
      "       0              1         3.0980e-05                                    5.40e-02    \n",
      "       1              2         1.3181e-06      2.97e-05       3.06e-02       3.51e-02    \n",
      "       2              3         7.0383e-08      1.25e-06       2.36e-02       1.42e-03    \n",
      "       3              5         5.3768e-08      1.66e-08       1.22e-02       2.73e-04    \n",
      "The maximum number of function evaluations is exceeded.\n",
      "Function evaluations 5, initial cost 3.0980e-05, final cost 5.3768e-08, first-order optimality 2.73e-04.\n",
      "Memory use (MB): 173.03125\n",
      "runTime (min): 1\n"
     ]
    }
   ],
   "source": [
    "print('Iterating for method: dogbox, no jac, lsmr')\n",
    "startTime = time.time()\n",
    "ffProb1 = rib.exactRiblet(x=x,sigma1=True,sigma3=True,iterMax=1,method='dogbox',supplyJac=False,\\\n",
    "                          tr_solver='lsmr',log=None,saveDir=None)\n",
    "ribRes1 = ffProb1.iterate()\n",
    "print('Memory use (MB):', resource.getrusage(resource.RUSAGE_SELF).ru_maxrss/1024)\n",
    "print('runTime (min): %d' %((time.time()-startTime)/60.))\n",
    "#x = ribRes1[0]"
   ]
  },
  {
   "cell_type": "code",
   "execution_count": 8,
   "metadata": {
    "collapsed": false
   },
   "outputs": [
    {
     "name": "stdout",
     "output_type": "stream",
     "text": [
      "Iterating for method: lm\n",
      "Initial residual norm is 0.00317\n",
      "Starting iterations...............\n",
      "The maximum number of function evaluations is exceeded.\n",
      "Function evaluations 2402, initial cost 2.6894e-06, final cost 7.9778e-08, first-order optimality 1.63e-03.\n",
      "Memory use (MB): 191.86328125\n",
      "runTime (min): 5\n"
     ]
    }
   ],
   "source": [
    "print('Iterating for method: lm')\n",
    "startTime = time.time()\n",
    "ribRes2 = rib.iterate(vf = x.slice(nd=[0,1,2]), pf = x.getScalar(nd=3),method='lm',max_nfev=5000)\n",
    "print('Memory use (MB):', resource.getrusage(resource.RUSAGE_SELF).ru_maxrss/1024)\n",
    "print('runTime (min): %d' %((time.time()-startTime)/60.))"
   ]
  },
  {
   "cell_type": "code",
   "execution_count": null,
   "metadata": {
    "collapsed": false,
    "scrolled": false
   },
   "outputs": [],
   "source": [
    "print('Iterating for method: dogbox with more nfev=500')\n",
    "startTime = time.time()\n",
    "ribRes2 = rib.iterate(vf = x.slice(nd=[0,1,2]), pf = x.getScalar(nd=3),method='dogbox',max_nfev=6, jac='2-point')\n",
    "print('Memory use (MB):', resource.getrusage(resource.RUSAGE_SELF).ru_maxrss/1024)\n",
    "print('runTime (min): %d' %((time.time()-startTime)/60.))\n",
    "print('Memory use (MB):', resource.getrusage(resource.RUSAGE_SELF).ru_maxrss/1024)\n",
    "print('runTime (min): %d' %((time.time()-startTime)/60.))"
   ]
  },
  {
   "cell_type": "code",
   "execution_count": 6,
   "metadata": {
    "collapsed": false
   },
   "outputs": [
    {
     "name": "stdout",
     "output_type": "stream",
     "text": [
      "Memory use (MB): 282.8984375\n",
      "runTime (min): 22\n"
     ]
    }
   ],
   "source": [
    "print('Memory use (MB):', resource.getrusage(resource.RUSAGE_SELF).ru_maxrss/1024)\n",
    "print('runTime (min): %d' %((time.time()-startTime)/60.))"
   ]
  },
  {
   "cell_type": "code",
   "execution_count": 6,
   "metadata": {
    "collapsed": false
   },
   "outputs": [
    {
     "name": "stdout",
     "output_type": "stream",
     "text": [
      "Iterating for method: lm with nfev=10000\n",
      "Initial residual norm is 0.00317\n",
      "Starting iterations...............\n",
      "The maximum number of function evaluations is exceeded.\n",
      "Function evaluations 12013, initial cost 2.6894e-06, final cost 6.8827e-12, first-order optimality 1.34e-06.\n",
      "Memory use (MB): 191.1484375\n",
      "runTime (min): 13\n"
     ]
    }
   ],
   "source": [
    "print('Iterating for method: lm with nfev=10000')\n",
    "startTime = time.time()\n",
    "ribRes2 = rib.iterate(vf = x.slice(nd=[0,1,2]), pf = x.getScalar(nd=3),method='lm',max_nfev=10000, jac='2-point')\n",
    "print('Memory use (MB):', resource.getrusage(resource.RUSAGE_SELF).ru_maxrss/1024)\n",
    "print('runTime (min): %d' %((time.time()-startTime)/60.))"
   ]
  },
  {
   "cell_type": "code",
   "execution_count": 7,
   "metadata": {
    "collapsed": false,
    "scrolled": true
   },
   "outputs": [
    {
     "name": "stdout",
     "output_type": "stream",
     "text": [
      "Iterating for method: trf with nfev=8\n",
      "Initial residual norm is 0.00317\n",
      "Starting iterations...............\n",
      "   Iteration     Total nfev        Cost      Cost reduction    Step norm     Optimality   \n",
      "       0              1         2.6894e-06                                    1.41e-02    \n",
      "       1              2         6.9369e-11      2.69e-06       3.28e-03       1.06e-05    \n",
      "       2              3         1.2616e-12      6.81e-11       1.72e-03       1.08e-06    \n",
      "       3              4         9.4520e-13      3.16e-13       2.23e-03       5.37e-07    \n",
      "       4              5         1.9429e-13      7.51e-13       8.43e-04       9.30e-08    \n",
      "       5              7         1.9129e-13      3.00e-15       8.87e-04       1.03e-07    \n",
      "       6              8         1.6839e-13      2.29e-14       2.22e-04       6.50e-09    \n",
      "`gtol` termination condition is satisfied.\n",
      "Function evaluations 8, initial cost 2.6894e-06, final cost 1.6839e-13, first-order optimality 6.50e-09.\n",
      "Memory use (MB): 795.94921875\n",
      "runTime (min): 12\n"
     ]
    }
   ],
   "source": [
    "# Comparing methods 'trf','dogbox', 'lm'\n",
    "print('Iterating for method: trf with nfev=8')\n",
    "startTime = time.time()\n",
    "ribRes2 = rib.iterate(vf = x.slice(nd=[0,1,2]), pf = x.getScalar(nd=3),method='trf',max_nfev=8, jac='2-point')\n",
    "print('Memory use (MB):', resource.getrusage(resource.RUSAGE_SELF).ru_maxrss/1024)\n",
    "print('runTime (min): %d' %((time.time()-startTime)/60.))"
   ]
  },
  {
   "cell_type": "code",
   "execution_count": null,
   "metadata": {
    "collapsed": true
   },
   "outputs": [],
   "source": []
  },
  {
   "cell_type": "markdown",
   "metadata": {},
   "source": [
    "## Increased state-vector size: L,M,N = 5,6,25"
   ]
  },
  {
   "cell_type": "code",
   "execution_count": null,
   "metadata": {
    "collapsed": true
   },
   "outputs": [],
   "source": [
    "x = loadh5('solutions/e1/A05/ribEq1L14M16N35E1_025.hdf5')\n",
    "x.flowDict['eps'] = 0.03\n",
    "x.flowDict['epsArr'] = np.array([0., 0.03])\n",
    "x = x.slice(L=5,M=6,N=25) \n",
    "x[0,x.nx//2,x.nz//2,0,0] = 1.\n",
    "x[0,x.nx//2,x.nz//2,0,-1] = -1.\n",
    "\n",
    "flowDict = x.flowDict.copy()"
   ]
  },
  {
   "cell_type": "code",
   "execution_count": null,
   "metadata": {
    "collapsed": false
   },
   "outputs": [
    {
     "name": "stdout",
     "output_type": "stream",
     "text": [
      "Iterating for method: lm with nfev=100000\n",
      "Initial residual norm is 0.00121\n",
      "Starting iterations...............\n"
     ]
    }
   ],
   "source": [
    "print('Iterating for method: lm with nfev=100000')\n",
    "startTime = time.time()\n",
    "ribRes2 = rib.iterate(vf = x.slice(nd=[0,1,2]), pf = x.getScalar(nd=3),method='lm',max_nfev=100000, jac='2-point')\n",
    "print('Memory use (MB):', resource.getrusage(resource.RUSAGE_SELF).ru_maxrss/1024)\n",
    "print('runTime (min): %d' %((time.time()-startTime)/60.))"
   ]
  },
  {
   "cell_type": "code",
   "execution_count": null,
   "metadata": {
    "collapsed": true
   },
   "outputs": [],
   "source": [
    "# Comparing methods 'trf','dogbox', 'lm'\n",
    "print('Iterating for method: trf with nfev=8')\n",
    "startTime = time.time()\n",
    "ribRes2 = rib.iterate(vf = x.slice(nd=[0,1,2]), pf = x.getScalar(nd=3),method='trf',max_nfev=8, jac='2-point')\n",
    "print('Memory use (MB):', resource.getrusage(resource.RUSAGE_SELF).ru_maxrss/1024)\n",
    "print('runTime (min): %d' %((time.time()-startTime)/60.))"
   ]
  },
  {
   "cell_type": "code",
   "execution_count": null,
   "metadata": {
    "collapsed": true
   },
   "outputs": [],
   "source": [
    "# Comparing methods 'trf','dogbox', 'lm'\n",
    "print('Iterating for method: dogbox with nfev=8')\n",
    "startTime = time.time()\n",
    "ribRes2 = rib.iterate(vf = x.slice(nd=[0,1,2]), pf = x.getScalar(nd=3),method='dogbox',max_nfev=8, jac='2-point')\n",
    "print('Memory use (MB):', resource.getrusage(resource.RUSAGE_SELF).ru_maxrss/1024)\n",
    "print('runTime (min): %d' %((time.time()-startTime)/60.))"
   ]
  },
  {
   "cell_type": "code",
   "execution_count": 4,
   "metadata": {
    "collapsed": false
   },
   "outputs": [
    {
     "name": "stdout",
     "output_type": "stream",
     "text": [
      "Iterating for method: standard Newton\n",
      "Initial residual norm is 0.00121\n",
      "Starting iterations...............\n",
      "iter: 1\n",
      "Jacobian inversion returned with residual norm: 4.31075735127e-08\n",
      "Beginning line search.... Initial residual norm is  0.00120552259161\n",
      "Line search.... normArr is [ 0.00153139  0.00146575  0.0014003   0.00133509  0.00127015  0.00120552\n",
      "  0.00114126  0.00107742  0.00101409  0.00095137  0.0008894   0.00082833\n",
      "  0.00076838  0.00070985  0.0006531   0.00059865  0.00054718  0.00049961\n",
      "  0.00045717  0.0004214   0.00039413  0.00037721  0.00037204  0.00037912\n",
      "  0.00039778  0.00042652]\n",
      "Minimal norm is obtained for q in q*dx of 1.7, producing norm of 0.000372\n",
      "Finer line search.... normArr is [ 0.00037721  0.00037615  0.0003752   0.00037438  0.00037368  0.0003731\n",
      "  0.00037264  0.00037231  0.0003721   0.00037201  0.00037204  0.0003722\n",
      "  0.00037249  0.00037289  0.00037342  0.00037407  0.00037484  0.00037573\n",
      "  0.00037674  0.00037787]\n",
      "Minimal norm is obtained for q in q*dx of 1.7, producing norm of 0.000372\n",
      "Residual norm after 1 th iteration is 0.000372\n",
      "*********************************************************\n",
      "iter: 2\n",
      "Jacobian inversion returned with residual norm: 4.61806121775e-08\n",
      "Beginning line search.... Initial residual norm is  0.000372008636601\n",
      "Line search.... normArr is [  5.30394537e-04   4.98559855e-04   4.66787950e-04   4.35092489e-04\n",
      "   4.03491400e-04   3.72008637e-04   3.40676898e-04   3.09541932e-04\n",
      "   2.78669571e-04   2.48157699e-04   2.18157458e-04   1.88912566e-04\n",
      "   1.60835364e-04   1.34657993e-04   1.11723624e-04   9.44252172e-05\n",
      "   8.62239172e-05   8.96516774e-05   1.03559780e-04   1.24483360e-04\n",
      "   1.49505143e-04   1.76894318e-04   2.05707246e-04   2.35421600e-04\n",
      "   2.65735029e-04   2.96463701e-04]\n",
      "Minimal norm is obtained for q in q*dx of 1.1, producing norm of 8.62e-05\n",
      "Finer line search.... normArr is [  9.44252172e-05   9.31351977e-05   9.19404877e-05   9.08448472e-05\n",
      "   8.98518998e-05   8.89650839e-05   8.81876008e-05   8.75223638e-05\n",
      "   8.69719483e-05   8.65385447e-05   8.62239172e-05   8.60293685e-05\n",
      "   8.59557136e-05   8.60032625e-05   8.61718144e-05   8.64606611e-05\n",
      "   8.68686022e-05   8.73939696e-05   8.80346605e-05   8.87881782e-05]\n",
      "Minimal norm is obtained for q in q*dx of 1.1, producing norm of 8.6e-05\n",
      "Residual norm after 2 th iteration is 8.6e-05\n",
      "*********************************************************\n",
      "iter: 3\n",
      "Jacobian inversion returned with residual norm: 3.50854144435e-08\n",
      "Beginning line search.... Initial residual norm is  8.59557135563e-05\n",
      "Line search.... normArr is [  1.09494664e-04   1.04715603e-04   9.99671286e-05   9.52538110e-05\n",
      "   9.05811322e-05   8.59557136e-05   8.13856067e-05   7.68806692e-05\n",
      "   7.24530508e-05   6.81178222e-05   6.38937839e-05   5.98044920e-05\n",
      "   5.58795270e-05   5.21559908e-05   4.86801162e-05   4.55086747e-05\n",
      "   4.27095256e-05   4.03601905e-05   3.85429967e-05   3.73357116e-05\n",
      "   3.67983996e-05   3.69602773e-05   3.78123518e-05   3.93097533e-05\n",
      "   4.13824758e-05   4.39491830e-05]\n",
      "Minimal norm is obtained for q in q*dx of 1.5, producing norm of 3.68e-05\n",
      "Finer line search.... normArr is [  3.73357116e-05   3.72510702e-05   3.71732005e-05   3.71021453e-05\n",
      "   3.70379437e-05   3.69806313e-05   3.69302403e-05   3.68867990e-05\n",
      "   3.68503320e-05   3.68208599e-05   3.67983996e-05   3.67829639e-05\n",
      "   3.67745617e-05   3.67731976e-05   3.67788725e-05   3.67915832e-05\n",
      "   3.68113223e-05   3.68380785e-05   3.68718366e-05   3.69125772e-05]\n",
      "Minimal norm is obtained for q in q*dx of 1.5, producing norm of 3.68e-05\n",
      "Residual norm after 3 th iteration is 3.68e-05\n",
      "*********************************************************\n",
      "Iterations have not converged for iterMax= 3\n",
      "fnormArr is  [0.00037200863660132928, 8.595571355634834e-05, 3.6773197597931875e-05]\n",
      "Memory use (MB): 671.30078125\n",
      "runTime (min): 5\n"
     ]
    }
   ],
   "source": [
    "print('Iterating for method: standard Newton')\n",
    "startTime = time.time()\n",
    "ribRes2 = rib.iterate(vf = x.slice(nd=[0,1,2]), pf = x.getScalar(nd=3),trustRegion=False,sigma1=True,sigma2=True,iterMax=3)\n",
    "print('Memory use (MB):', resource.getrusage(resource.RUSAGE_SELF).ru_maxrss/1024)\n",
    "print('runTime (min): %d' %((time.time()-startTime)/60.))"
   ]
  },
  {
   "cell_type": "code",
   "execution_count": null,
   "metadata": {
    "collapsed": true
   },
   "outputs": [],
   "source": []
  },
  {
   "cell_type": "code",
   "execution_count": null,
   "metadata": {
    "collapsed": true
   },
   "outputs": [],
   "source": []
  },
  {
   "cell_type": "code",
   "execution_count": null,
   "metadata": {
    "collapsed": true
   },
   "outputs": [],
   "source": []
  },
  {
   "cell_type": "code",
   "execution_count": null,
   "metadata": {
    "collapsed": true
   },
   "outputs": [],
   "source": []
  },
  {
   "cell_type": "code",
   "execution_count": 15,
   "metadata": {
    "collapsed": false
   },
   "outputs": [
    {
     "data": {
      "text/plain": [
       "((717, 3080), (717,))"
      ]
     },
     "execution_count": 15,
     "metadata": {},
     "output_type": "execute_result"
    }
   ],
   "source": [
    "L = 10; M = 0; N=35\n",
    "n1 = (L+1)*(M+1)*8; n2 = n1*N\n",
    "arr1 = np.ones(((2*n1-1+(16*N-18)),n2),dtype=np.int8)\n",
    "offsets1 = np.arange(-(n1-1)*N,  -7*N, N)\n",
    "offsets2 = np.arange(8*N, (n1-1)*N, N)\n",
    "offsets3 = np.arange(-8*N+1, 8*N-1)\n",
    "offsets = np.concatenate((offsets1, offsets2, offsets3))\n",
    "arr1.shape, offsets.shape"
   ]
  },
  {
   "cell_type": "code",
   "execution_count": null,
   "metadata": {
    "collapsed": true
   },
   "outputs": [],
   "source": []
  },
  {
   "cell_type": "code",
   "execution_count": null,
   "metadata": {
    "collapsed": true
   },
   "outputs": [],
   "source": []
  },
  {
   "cell_type": "code",
   "execution_count": null,
   "metadata": {
    "collapsed": false
   },
   "outputs": [],
   "source": [
    "# Using gmres to solve newton step\n",
    "res0Arr = resFun(x.weighted())\n",
    "jacFun = lambda dxArr: matVecFun(x.weighted(), res0Arr, dxArr)\n",
    "jacMat = LinearOperator((x.size,x.size), matvec=jacFun,dtype=np.complex)\n",
    "\n",
    "linResult = gmres(jacMat, -res0Arr)"
   ]
  },
  {
   "cell_type": "code",
   "execution_count": null,
   "metadata": {
    "collapsed": false
   },
   "outputs": [],
   "source": [
    "dx = weighted2ff(arr=linResult[0], flowDict=flowDict,weights=weights,cls='riblet').residuals().norm()\n",
    "xNew = x.copy()\n",
    "xNew[:] += dx\n",
    "\n",
    "x.residuals().norm(), xNew.residuals().norm(), np.linalg.norm(jacMat.matvec(linResult[0])+ res0Arr)\n"
   ]
  },
  {
   "cell_type": "code",
   "execution_count": null,
   "metadata": {
    "collapsed": true
   },
   "outputs": [],
   "source": [
    "# Using lgmres to solve newton step\n",
    "res0Arr = resFun(x.weighted())\n",
    "jacFun = lambda dxArr: matVecFun(x.weighted(), res0Arr, dxArr)\n",
    "jacMat = LinearOperator((x.size,x.size), matvec=jacFun,dtype=np.complex)\n",
    "\n",
    "linResult = spla.lgmres(jacMat, -res0Arr)"
   ]
  },
  {
   "cell_type": "code",
   "execution_count": null,
   "metadata": {
    "collapsed": true
   },
   "outputs": [],
   "source": [
    "# Using spsolve to solve newton step\n",
    "import laminar as lam\n"
   ]
  },
  {
   "cell_type": "code",
   "execution_count": null,
   "metadata": {
    "collapsed": true
   },
   "outputs": [],
   "source": []
  },
  {
   "cell_type": "code",
   "execution_count": null,
   "metadata": {
    "collapsed": true
   },
   "outputs": [],
   "source": []
  },
  {
   "cell_type": "code",
   "execution_count": null,
   "metadata": {
    "collapsed": true
   },
   "outputs": [],
   "source": []
  },
  {
   "cell_type": "code",
   "execution_count": null,
   "metadata": {
    "collapsed": true
   },
   "outputs": [],
   "source": []
  },
  {
   "cell_type": "code",
   "execution_count": null,
   "metadata": {
    "collapsed": true
   },
   "outputs": [],
   "source": []
  },
  {
   "cell_type": "code",
   "execution_count": null,
   "metadata": {
    "collapsed": true
   },
   "outputs": [],
   "source": []
  },
  {
   "cell_type": "code",
   "execution_count": null,
   "metadata": {
    "collapsed": true
   },
   "outputs": [],
   "source": []
  },
  {
   "cell_type": "code",
   "execution_count": null,
   "metadata": {
    "collapsed": true
   },
   "outputs": [],
   "source": []
  },
  {
   "cell_type": "code",
   "execution_count": null,
   "metadata": {
    "collapsed": false
   },
   "outputs": [],
   "source": [
    "x = x.slice(L=5,M=12)\n",
    "vf = x.slice(nd=[0,1,2]); pf = x.getScalar(nd=3)\n",
    "\n",
    "J, F = rib.makeSystem(vf=vf, pf=pf, sigma1=True, sigma2=True,realValued=False)\n",
    "resource.getrusage(resource.RUSAGE_SELF).ru_maxrss/1000.\n"
   ]
  },
  {
   "cell_type": "code",
   "execution_count": null,
   "metadata": {
    "collapsed": false
   },
   "outputs": [],
   "source": [
    "sys.getsizeof(J)/1000./1000."
   ]
  },
  {
   "cell_type": "code",
   "execution_count": null,
   "metadata": {
    "collapsed": false
   },
   "outputs": [],
   "source": [
    "#x = x.slice(L=3, M=5,N=20)\n",
    "#vf = x.slice(nd=[0,1,2]); pf = x.getScalar(nd=3)\n",
    "vf.flowDict['epsArr'] = np.array([0.,0.001,0.001])\n",
    "pf.flowDict['epsArr'] = np.array([0.,0.001,0.001])\n",
    "vf, pf, fnorm, flg = rib.iterate(vf=vf, pf=pf, iterMax=7, sigma1=True,sigma2=False,realValued=True)\n",
    "resource.getrusage(resource.RUSAGE_SELF).ru_maxrss/1000."
   ]
  },
  {
   "cell_type": "code",
   "execution_count": null,
   "metadata": {
    "collapsed": false
   },
   "outputs": [],
   "source": [
    "#x = x.slice(L=3, M=5,N=20)\n",
    "#vf = x.slice(nd=[0,1,2]); pf = x.getScalar(nd=3)\n",
    "vf.flowDict['epsArr'] = np.array([0.,0.001,0.003])\n",
    "pf.flowDict['epsArr'] = np.array([0.,0.001,0.003])\n",
    "vf, pf, fnorm, flg = rib.iterate(vf=vf, pf=pf, iterMax=10, sigma1=True,sigma2=False,realValued=True)\n",
    "resource.getrusage(resource.RUSAGE_SELF).ru_maxrss/1000."
   ]
  },
  {
   "cell_type": "code",
   "execution_count": null,
   "metadata": {
    "collapsed": false
   },
   "outputs": [],
   "source": [
    "#x = x.slice(L=3, M=5,N=20)\n",
    "#vf = x.slice(nd=[0,1,2]); pf = x.getScalar(nd=3)\n",
    "vf.flowDict['epsArr'] = np.array([0.,0.001,0.005])\n",
    "pf.flowDict['epsArr'] = np.array([0.,0.001,0.005])\n",
    "vf, pf, fnorm, flg = rib.iterate(vf=vf, pf=pf, iterMax=10, sigma1=True,sigma2=False,realValued=True)\n",
    "resource.getrusage(resource.RUSAGE_SELF).ru_maxrss/1000."
   ]
  },
  {
   "cell_type": "code",
   "execution_count": null,
   "metadata": {
    "collapsed": false
   },
   "outputs": [],
   "source": [
    "#x = x.slice(L=3, M=5,N=20)\n",
    "#vf = x.slice(nd=[0,1,2]); pf = x.getScalar(nd=3)\n",
    "vf.flowDict['epsArr'] = np.array([0.,0.001,0.007])\n",
    "pf.flowDict['epsArr'] = np.array([0.,0.001,0.007])\n",
    "vf, pf, fnorm, flg = rib.iterate(vf=vf, pf=pf, iterMax=10, sigma1=True,sigma2=False,realValued=True)\n",
    "resource.getrusage(resource.RUSAGE_SELF).ru_maxrss/1000."
   ]
  },
  {
   "cell_type": "code",
   "execution_count": null,
   "metadata": {
    "collapsed": false
   },
   "outputs": [],
   "source": [
    "#x = x.slice(L=3, M=5,N=20)\n",
    "#vf = x.slice(nd=[0,1,2]); pf = x.getScalar(nd=3)\n",
    "vf.flowDict['epsArr'] = np.array([0.,0.001,0.01])\n",
    "pf.flowDict['epsArr'] = np.array([0.,0.001,0.01])\n",
    "vf, pf, fnorm, flg = rib.iterate(vf=vf, pf=pf, iterMax=10, sigma1=True,sigma2=False,realValued=True)\n",
    "resource.getrusage(resource.RUSAGE_SELF).ru_maxrss/1000."
   ]
  },
  {
   "cell_type": "code",
   "execution_count": null,
   "metadata": {
    "collapsed": false
   },
   "outputs": [],
   "source": [
    "#x = x.slice(L=3, M=5,N=20)\n",
    "#vf = x.slice(nd=[0,1,2]); pf = x.getScalar(nd=3)\n",
    "vf.flowDict['epsArr'] = np.array([0.,0.001,0.015])\n",
    "pf.flowDict['epsArr'] = np.array([0.,0.001,0.015])\n",
    "vf, pf, fnorm, flg = rib.iterate(vf=vf, pf=pf, iterMax=10, sigma1=True,sigma2=False,realValued=True)\n",
    "resource.getrusage(resource.RUSAGE_SELF).ru_maxrss/1000."
   ]
  },
  {
   "cell_type": "code",
   "execution_count": null,
   "metadata": {
    "collapsed": true
   },
   "outputs": [],
   "source": []
  },
  {
   "cell_type": "code",
   "execution_count": null,
   "metadata": {
    "collapsed": true
   },
   "outputs": [],
   "source": []
  },
  {
   "cell_type": "code",
   "execution_count": null,
   "metadata": {
    "collapsed": true
   },
   "outputs": [],
   "source": []
  },
  {
   "cell_type": "code",
   "execution_count": null,
   "metadata": {
    "collapsed": true
   },
   "outputs": [],
   "source": []
  },
  {
   "cell_type": "code",
   "execution_count": null,
   "metadata": {
    "collapsed": true
   },
   "outputs": [],
   "source": []
  },
  {
   "cell_type": "code",
   "execution_count": null,
   "metadata": {
    "collapsed": true
   },
   "outputs": [],
   "source": []
  },
  {
   "cell_type": "code",
   "execution_count": null,
   "metadata": {
    "collapsed": false
   },
   "outputs": [],
   "source": [
    "# Test solver for eps1 with sigma1=sigma2=True, realValued=False\n",
    "vf = x.slice(nd=[0,1,2]); pf = x.getScalar(nd=3)\n",
    "vf, pf, fnorm, flg = rib.iterate(vf=vf, pf=pf, iterMax=7, sigma1=True,sigma2=True,realValued=False)\n"
   ]
  },
  {
   "cell_type": "code",
   "execution_count": null,
   "metadata": {
    "collapsed": true
   },
   "outputs": [],
   "source": [
    "[0.0043027822607007845, 0.0011592846998231703, 0.00021116635545736966, 2.60516643408694e-05, 3.9210300290258834e-06, 5.7135847893508423e-07, 1.0446310161841565e-07]"
   ]
  },
  {
   "cell_type": "code",
   "execution_count": null,
   "metadata": {
    "collapsed": true
   },
   "outputs": [],
   "source": [
    "x = x.slice(L=2,M=4,N=16)\n",
    "vf = x.slice(nd=[0,1,2]); pf = x.getScalar(nd=3)\n",
    "J0,F0 = rib.makeSystem(vf = vf, pf=pf, sigma1=True, sigma2=False)\n",
    "J1,F1 = rib.makeSystem(vf = vf, pf=pf, sigma1=True, sigma2=True)\n",
    "dx0, linNorm0, jRank0,sVals0 = np.linalg.lstsq(J0,-F0,rcond=1.0e-06)\n",
    "dx1, linNorm1, jRank1,sVals1 = np.linalg.lstsq(J1,-F1,rcond=1.0e-06)"
   ]
  },
  {
   "cell_type": "code",
   "execution_count": null,
   "metadata": {
    "collapsed": true
   },
   "outputs": [],
   "source": [
    "dx00 = dx0.reshape((5,5,4,16))\n",
    "dx10 = dx1.reshape((3,5,4,16))"
   ]
  },
  {
   "cell_type": "code",
   "execution_count": null,
   "metadata": {
    "collapsed": false,
    "scrolled": true
   },
   "outputs": [],
   "source": [
    "chebnorm((dx10 - dx00[:3]), x.N), chebnorm(dx0,x.N), chebnorm(dx1,x.N)"
   ]
  },
  {
   "cell_type": "code",
   "execution_count": null,
   "metadata": {
    "collapsed": false
   },
   "outputs": [],
   "source": [
    "compArr = np.array([-1.,-1.,1.,1.]).reshape((1,1,4,1))\n",
    "lArr = np.arange(-2,0).reshape((2,1,1,1))\n",
    "mArr = np.arange(-4,1).reshape((1,5,1,1))\n",
    "diff = dx10[:2] - (-1.)**(lArr + mArr) * compArr * dx00[:2:-1,:,:,::-1]\n"
   ]
  },
  {
   "cell_type": "code",
   "execution_count": null,
   "metadata": {
    "collapsed": false
   },
   "outputs": [],
   "source": [
    "dxff = x.zero()\n",
    "dxff[0,:,:5] = dx00\n",
    "lArr = np.arange(-2.,3.).reshape((5,1,1,1)); mArr = np.arange(-4.,0.).reshape((1,4,1,1))\n",
    "compArr = np.array([1.,1.,-1.,1.]).reshape((1,1,4,1))\n",
    "dxff[0,:,:4:-1] = (-1.)**lArr * compArr * dxff[0,:,:4]\n",
    "chebnorm(diff, x.N), dxff.checkSymms()"
   ]
  },
  {
   "cell_type": "code",
   "execution_count": null,
   "metadata": {
    "collapsed": false
   },
   "outputs": [],
   "source": [
    "chebnorm(np.dot(J0,dx0)+F0, x.N), chebnorm(np.dot(J1,dx1)+F1, x.N)"
   ]
  },
  {
   "cell_type": "code",
   "execution_count": null,
   "metadata": {
    "collapsed": false
   },
   "outputs": [],
   "source": [
    "x = x.slice(L=2,M=4,N=16)\n",
    "vf = x.slice(nd=[0,1,2]); pf = x.getScalar(nd=3)\n",
    "J0,F0 = rib.makeSystem(vf = vf, pf=pf, sigma1=False, sigma2=False)\n",
    "Jsize = J0.shape[0]\n",
    "J1 = J0[: np.int(0.6*Jsize)]\n",
    "F1 = F0[: np.int(0.6*Jsize)]\n",
    "dx0, linNorm0, jRank0,sVals0 = np.linalg.lstsq(J0,-F0,rcond=1.0e-06)\n",
    "dx1, linNorm1, jRank1,sVals1 = np.linalg.lstsq(J1,-F1,rcond=1.0e-06)"
   ]
  },
  {
   "cell_type": "code",
   "execution_count": null,
   "metadata": {
    "collapsed": false
   },
   "outputs": [],
   "source": [
    "dx11 = dx1.reshape((5,9,4,16))\n",
    "dx00 = dx0.reshape((5,9,4,16))\n",
    "chebnorm(dx11 - np.conjugate(dx11[::-1, ::-1]), x.N), chebnorm(dx00 - np.conjugate(dx00[::-1, ::-1]), x.N), chebnorm(dx1-dx0, x.N)"
   ]
  },
  {
   "cell_type": "markdown",
   "metadata": {
    "collapsed": true
   },
   "source": [
    "# Validating solver with laminar flows"
   ]
  },
  {
   "cell_type": "code",
   "execution_count": null,
   "metadata": {
    "collapsed": false
   },
   "outputs": [],
   "source": [
    "flowDict = getDefaultDict()\n",
    "flowDict.update({'L':1, 'M':6,'N':30,'alpha':5.,'beta':10.,'eps':0.05,'epsArr':np.array([0.,0.05]),'Re':100.,'isPois':0})\n",
    "\n",
    "start = time.time()\n",
    "vf = flowFieldRiblet(flowDict=flowDict).view4d()\n",
    "vf[0,vf.nx//2,vf.nz//2,0] = vf.y\n",
    "pf = vf.getScalar().zero()\n",
    "\n",
    "vf, pf, fnorm, flg = rib.iterate(vf=vf, pf=pf,doLineSearch=False,rcond=1.0e-07)\n",
    "print('runTime(s):',time.time()-start)\n",
    "vf0 = vf.copy(); pf0 = pf.copy()"
   ]
  },
  {
   "cell_type": "code",
   "execution_count": null,
   "metadata": {
    "collapsed": false
   },
   "outputs": [],
   "source": []
  },
  {
   "cell_type": "markdown",
   "metadata": {},
   "source": [
    "# Plots for JFMrapids"
   ]
  },
  {
   "cell_type": "markdown",
   "metadata": {},
   "source": [
    "## Residual norms, accuracy, energy density, bulk dissipation rate"
   ]
  },
  {
   "cell_type": "code",
   "execution_count": null,
   "metadata": {
    "collapsed": false
   },
   "outputs": [],
   "source": [
    "#%%%%%%%%%%%%%%%%%%%%\n",
    "# eps_1\n",
    "\n",
    "#%%%%%%%%%%%%%%%%%%%%%%%%\n",
    "loadPath='solutions/e1/'\n",
    "nSol = 21 # Number of solutions\n",
    "x0 = loadh5('ribEq1L7M10N30E0000.hdf5').slice(L=7,M=16,N=35) # Initial iterate: Sol for flat-walled Couette\n",
    "\n",
    "# Scalars to be plotted:\n",
    "resnormArr = np.zeros(nSol)   # Residual norm of converged solutions\n",
    "accArr = np.zeros(nSol)       # Accuracy of solutions w.r.t grid size\n",
    "distArr = np.zeros(nSol)      # Distance from x0\n",
    "energyArr = np.zeros(nSol)    # Energy density\n",
    "dissipationArr = np.zeros(nSol) # Bulk dissipation rate\n",
    "pInputArr = np.zeros(nSol)      # \n",
    "initialnormArr = np.zeros(nSol)\n",
    "epsArr = np.zeros(nSol)\n",
    "\n",
    "resnormArr[0] = resnormFun(x0.slice(M=16,N=30))\n",
    "accArr[0]  = resnormFun(x0.slice(L=14,M=20,N=60))\n",
    "distArr[0] = 0.\n",
    "energyArr[0] = x0.energy(); dissipationArr[0] = x0.dissipation(); pInputArr[0] = x0.powerInput()\n",
    "initialnormArr[0] = resnormArr[0]\n",
    "for k in range(1,nSol):\n",
    "    solPath = loadPath+'A%02d/'%(k)\n",
    "    solName = 'ribEq1L7M16N35E1_%03d.hdf5'%(5*k)\n",
    "    x = loadh5(solPath+solName)\n",
    "    epsArr[k] = x.flowDict['epsArr'][1]\n",
    "    resnormArr[k] = resnormFun(x)\n",
    "    accArr[k] = resnormFun(x.slice(L=14,M=32,N=70))\n",
    "    distArr[k] = (x-x0).norm()\n",
    "    \n",
    "    energyArr[k] = x.energy()\n",
    "    dissipationArr[k] = x.dissipation()\n",
    "    pInputArr[k] = x.powerInput()\n",
    "    \n",
    "    x[:] = x0[:]\n",
    "    initialnormArr[k] = resnormFun(x)\n",
    "    "
   ]
  },
  {
   "cell_type": "code",
   "execution_count": null,
   "metadata": {
    "collapsed": false
   },
   "outputs": [],
   "source": [
    "figureFolder = './figures/'\n",
    "# Residual norm, accuracy, and distance\n",
    "fig,ax1 = plt.subplots()\n",
    "ln1 = ax1.plot(2.*epsArr, resnormArr,'bx',label='Residual norm')\n",
    "ln2 = ax1.plot(2.*epsArr, accArr,'b+',label='Accuracy')\n",
    "ax1.set_ylabel('$||F(\\\\chi^*)||$',color='b',fontsize=15)\n",
    "ax1.set_xlim([-0.01,0.21])\n",
    "ax1.set_yscale('log')\n",
    "ax1.set_ylim([1.0e-10,0.1])\n",
    "\n",
    "ax2 = ax1.twinx()\n",
    "ln3 = ax2.plot(2.*epsArr, distArr,'r*:',label='Distance')\n",
    "ln4 = ax2.plot(2.*epsArr, initialnormArr, 'rd:',label='Initial residual norm')\n",
    "ax2.set_xlim([-0.01,0.21])\n",
    "ax2.set_ylim([0.,0.12])\n",
    "ax2.set_ylabel('$||\\chi^*-\\chi^0||$',color='r',fontsize=15)\n",
    "\n",
    "for tl in ax1.get_yticklabels():\n",
    "    tl.set_color('b')\n",
    "for tl in ax2.get_yticklabels():\n",
    "    tl.set_color('r')\n",
    "\n",
    "line1,label1 = ax1.get_legend_handles_labels()\n",
    "line2,label2 = ax2.get_legend_handles_labels()\n",
    "ax2.legend(line1+line2, label1+label2,loc='upper center',ncol=2)\n",
    "\n",
    "ax1.set_xlabel('Amplitude($A$)',fontsize=15)\n",
    "plt.tight_layout()\n",
    "plt.savefig(figureFolder+'normDistE1.eps',format='eps',dpi=1200)\n",
    "plt.show()\n",
    "\n",
    "\n",
    "\n",
    "\n",
    "\n",
    "# Energy density and bulk dissipation rate\n",
    "fig,ax1 = plt.subplots()\n",
    "ln1 = ax1.plot(2.*epsArr, energyArr,'bx:',label='Energy Density')\n",
    "ax1.set_ylabel('E',color='b',fontsize=15)\n",
    "ax1.set_xlim([-0.01,0.21])\n",
    "ax1.set_ylim([0.1,0.15])\n",
    "ax2 = ax1.twinx()\n",
    "ln2 = ax2.plot(2.*epsArr, dissipationArr,'r+:',label='Dissipation rate ')\n",
    "ax2.set_xlim([-0.01,0.21])\n",
    "ax2.set_ylabel('D',color='r',fontsize=15)\n",
    "\n",
    "for tl in ax1.get_yticklabels():\n",
    "    tl.set_color('b')\n",
    "for tl in ax2.get_yticklabels():\n",
    "    tl.set_color('r')\n",
    "\n",
    "\n",
    "line1,label1 = ax1.get_legend_handles_labels()\n",
    "line2,label2 = ax2.get_legend_handles_labels()\n",
    "ax2.legend(line1+line2, label1+label2,loc=4)\n",
    "\n",
    "ax1.set_xlabel('Amplitude($A$)',fontsize=15)\n",
    "plt.tight_layout()\n",
    "plt.savefig(figureFolder+'energyDissipationE1.eps',format='eps',dpi=1200)\n",
    "plt.show()\n"
   ]
  },
  {
   "cell_type": "code",
   "execution_count": null,
   "metadata": {
    "collapsed": true
   },
   "outputs": [],
   "source": [
    "#%%%%%%%%%%%%%%%%%%%%\n",
    "# eps_2\n",
    "\n",
    "#%%%%%%%%%%%%%%%%%%%%%%%%\n",
    "loadPath='solutions/e2/'\n",
    "nSol = 11 # Number of solutions\n",
    "x0 = loadh5('ribEq1L7M10N30E0000.hdf5').slice(L=7,M=16,N=35) # Initial iterate: Sol for flat-walled Couette\n",
    "\n",
    "# Scalars to be plotted:\n",
    "resnormArr = np.zeros(nSol)   # Residual norm of converged solutions\n",
    "accArr = np.zeros(nSol)       # Accuracy of solutions w.r.t grid size\n",
    "distArr = np.zeros(nSol)      # Distance from x0\n",
    "energyArr = np.zeros(nSol)    # Energy density\n",
    "dissipationArr = np.zeros(nSol) # Bulk dissipation rate\n",
    "pInputArr = np.zeros(nSol)      # \n",
    "initialnormArr = np.zeros(nSol)\n",
    "epsArr = np.zeros(nSol)\n",
    "\n",
    "resnormArr[0] = resnormFun(x0.slice(M=16,N=30))\n",
    "accArr[0]  = resnormFun(x0.slice(L=14,M=20,N=60))\n",
    "distArr[0] = 0.\n",
    "energyArr[0] = x0.energy(); dissipationArr[0] = x0.dissipation(); pInputArr[0] = x0.powerInput()\n",
    "initialnormArr[0] = resnormArr[0]\n",
    "for k in range(1,nSol):\n",
    "    solPath = loadPath+'A%02d/'%(k)\n",
    "    solName = 'ribEq1L7M16N35E1_001E2_%03d.hdf5'%(5*k)\n",
    "    x = loadh5(solPath+solName)\n",
    "    epsArr[k] = x.flowDict['epsArr'][2]\n",
    "    resnormArr[k] = resnormFun(x)\n",
    "    accArr[k] = resnormFun(x.slice(L=14,M=32,N=70))\n",
    "    distArr[k] = (x-x0).norm()\n",
    "    \n",
    "    energyArr[k] = x.energy()\n",
    "    dissipationArr[k] = x.dissipation()\n",
    "    pInputArr[k] = x.powerInput()\n",
    "    \n",
    "    x[:] = x0[:]\n",
    "    initialnormArr[k] = resnormFun(x)\n",
    "    "
   ]
  },
  {
   "cell_type": "code",
   "execution_count": null,
   "metadata": {
    "collapsed": false
   },
   "outputs": [],
   "source": [
    "figureFolder = './figures/'\n",
    "# Residual norm, accuracy, and distance\n",
    "fig,ax1 = plt.subplots()\n",
    "ln1 = ax1.plot(2.*epsArr, resnormArr,'bx',label='Residual norm')\n",
    "ln2 = ax1.plot(2.*epsArr, accArr,'b+',label='Accuracy')\n",
    "ax1.set_ylabel('$||F(\\\\chi^*)||$',color='b',fontsize=15)\n",
    "ax1.set_xlim([-0.01,0.11])\n",
    "ax1.set_yscale('log')\n",
    "ax1.set_ylim([1.0e-10,0.1])\n",
    "\n",
    "ax2 = ax1.twinx()\n",
    "ln3 = ax2.plot(2.*epsArr, distArr,'r*:',label='Distance')\n",
    "ln4 = ax2.plot(2.*epsArr, initialnormArr, 'rd:',label='Initial residual norm')\n",
    "ax2.set_xlim([-0.01,0.11])\n",
    "ax2.set_ylim([0.,0.12])\n",
    "ax2.set_ylabel('$||\\chi^*-\\chi^0||$',color='r',fontsize=15)\n",
    "\n",
    "for tl in ax1.get_yticklabels():\n",
    "    tl.set_color('b')\n",
    "for tl in ax2.get_yticklabels():\n",
    "    tl.set_color('r')\n",
    "\n",
    "line1,label1 = ax1.get_legend_handles_labels()\n",
    "line2,label2 = ax2.get_legend_handles_labels()\n",
    "ax2.legend(line1+line2, label1+label2,loc='upper center',ncol=2)\n",
    "\n",
    "ax1.set_xlabel('Amplitude($A$)',fontsize=15)\n",
    "plt.tight_layout()\n",
    "plt.savefig(figureFolder+'normDistE2.eps',format='eps',dpi=1200)\n",
    "plt.show()\n",
    "\n",
    "\n",
    "\n",
    "\n",
    "\n",
    "# Energy density and bulk dissipation rate\n",
    "fig,ax1 = plt.subplots()\n",
    "ln1 = ax1.plot(2.*epsArr, energyArr,'bx:',label='Energy Density')\n",
    "ax1.set_ylabel('E',color='b',fontsize=15)\n",
    "ax1.set_xlim([-0.01,0.11])\n",
    "ax1.set_ylim([0.1,0.15])\n",
    "ax2 = ax1.twinx()\n",
    "ln2 = ax2.plot(2.*epsArr, dissipationArr,'r+:',label='Dissipation rate ')\n",
    "ax2.set_xlim([-0.01,0.11])\n",
    "ax2.set_ylim([1.42,1.55])\n",
    "ax2.set_ylabel('D',color='r',fontsize=15)\n",
    "\n",
    "for tl in ax1.get_yticklabels():\n",
    "    tl.set_color('b')\n",
    "for tl in ax2.get_yticklabels():\n",
    "    tl.set_color('r')\n",
    "\n",
    "\n",
    "line1,label1 = ax1.get_legend_handles_labels()\n",
    "line2,label2 = ax2.get_legend_handles_labels()\n",
    "ax2.legend(line1+line2, label1+label2,loc=4)\n",
    "\n",
    "ax1.set_xlabel('Amplitude($A$)',fontsize=15)\n",
    "plt.tight_layout()\n",
    "plt.savefig(figureFolder+'energyDissipationE2.eps',format='eps',dpi=1200)\n",
    "plt.show()\n"
   ]
  },
  {
   "cell_type": "code",
   "execution_count": null,
   "metadata": {
    "collapsed": true
   },
   "outputs": [],
   "source": [
    "#%%%%%%%%%%%%%%%%%%%%\n",
    "# eps_3\n",
    "\n",
    "#%%%%%%%%%%%%%%%%%%%%%%%%\n",
    "loadPath='solutions/e3/'\n",
    "nSol = 11 # Number of solutions\n",
    "x0 = loadh5('ribEq1L7M10N30E0000.hdf5').slice(L=7,M=16,N=35) # Initial iterate: Sol for flat-walled Couette\n",
    "\n",
    "# Scalars to be plotted:\n",
    "resnormArr = np.zeros(nSol)   # Residual norm of converged solutions\n",
    "accArr = np.zeros(nSol)       # Accuracy of solutions w.r.t grid size\n",
    "distArr = np.zeros(nSol)      # Distance from x0\n",
    "energyArr = np.zeros(nSol)    # Energy density\n",
    "dissipationArr = np.zeros(nSol) # Bulk dissipation rate\n",
    "pInputArr = np.zeros(nSol)      # \n",
    "initialnormArr = np.zeros(nSol)\n",
    "epsArr = np.zeros(nSol)\n",
    "\n",
    "resnormArr[0] = resnormFun(x0.slice(M=16,N=30))\n",
    "accArr[0]  = resnormFun(x0.slice(L=14,M=20,N=60))\n",
    "distArr[0] = 0.\n",
    "energyArr[0] = x0.energy(); dissipationArr[0] = x0.dissipation(); pInputArr[0] = x0.powerInput()\n",
    "initialnormArr[0] = resnormArr[0]\n",
    "for k in range(1,nSol):\n",
    "    solPath = loadPath+'A%02d/'%(k)\n",
    "    solName = 'ribEq1L7M16N35E1_001E2_000E3_%03d.hdf5'%(5*k)\n",
    "    x = loadh5(solPath+solName)\n",
    "    epsArr[k] = x.flowDict['epsArr'][3]\n",
    "    resnormArr[k] = resnormFun(x)\n",
    "    accArr[k] = resnormFun(x.slice(L=14,M=32,N=70))\n",
    "    distArr[k] = (x-x0).norm()\n",
    "    \n",
    "    energyArr[k] = x.energy()\n",
    "    dissipationArr[k] = x.dissipation()\n",
    "    pInputArr[k] = x.powerInput()\n",
    "    \n",
    "    x[:] = x0[:]\n",
    "    initialnormArr[k] = resnormFun(x)\n",
    "    "
   ]
  },
  {
   "cell_type": "code",
   "execution_count": null,
   "metadata": {
    "collapsed": false
   },
   "outputs": [],
   "source": [
    "figureFolder = './figures/'\n",
    "# Residual norm, accuracy, and distance\n",
    "fig,ax1 = plt.subplots()\n",
    "ln1 = ax1.plot(2.*epsArr, resnormArr,'bx',label='Residual norm')\n",
    "ln2 = ax1.plot(2.*epsArr, accArr,'b+',label='Accuracy')\n",
    "ax1.set_ylabel('$||F(\\\\chi^*)||$',color='b',fontsize=15)\n",
    "ax1.set_xlim([-0.01,0.11])\n",
    "ax1.set_yscale('log')\n",
    "ax1.set_ylim([1.0e-10,0.1])\n",
    "\n",
    "ax2 = ax1.twinx()\n",
    "ln3 = ax2.plot(2.*epsArr, distArr,'r*:',label='Distance')\n",
    "ln4 = ax2.plot(2.*epsArr, initialnormArr, 'rd:',label='Initial residual norm')\n",
    "ax2.set_xlim([-0.01,0.11])\n",
    "ax2.set_ylim([0.,0.12])\n",
    "ax2.set_ylabel('$||\\chi^*-\\chi^0||$',color='r',fontsize=15)\n",
    "\n",
    "for tl in ax1.get_yticklabels():\n",
    "    tl.set_color('b')\n",
    "for tl in ax2.get_yticklabels():\n",
    "    tl.set_color('r')\n",
    "\n",
    "line1,label1 = ax1.get_legend_handles_labels()\n",
    "line2,label2 = ax2.get_legend_handles_labels()\n",
    "ax2.legend(line1+line2, label1+label2,loc='upper center',ncol=2)\n",
    "\n",
    "ax1.set_xlabel('Amplitude($A$)',fontsize=15)\n",
    "plt.tight_layout()\n",
    "plt.savefig(figureFolder+'normDistE3.eps',format='eps',dpi=1200)\n",
    "plt.show()\n",
    "\n",
    "\n",
    "\n",
    "\n",
    "\n",
    "# Energy density and bulk dissipation rate\n",
    "fig,ax1 = plt.subplots()\n",
    "ln1 = ax1.plot(2.*epsArr, energyArr,'bx:',label='Energy Density')\n",
    "ax1.set_ylabel('E',color='b',fontsize=15)\n",
    "ax1.set_xlim([-0.01,0.11])\n",
    "ax1.set_ylim([0.1,0.15])\n",
    "ax2 = ax1.twinx()\n",
    "ln2 = ax2.plot(2.*epsArr, dissipationArr,'r+:',label='Dissipation rate ')\n",
    "ax2.set_xlim([-0.01,0.11])\n",
    "ax2.set_ylim([1.42,1.55])\n",
    "ax2.set_ylabel('D',color='r',fontsize=15)\n",
    "\n",
    "for tl in ax1.get_yticklabels():\n",
    "    tl.set_color('b')\n",
    "for tl in ax2.get_yticklabels():\n",
    "    tl.set_color('r')\n",
    "\n",
    "\n",
    "line1,label1 = ax1.get_legend_handles_labels()\n",
    "line2,label2 = ax2.get_legend_handles_labels()\n",
    "ax2.legend(line1+line2, label1+label2,loc=4)\n",
    "\n",
    "ax1.set_xlabel('Amplitude($A$)',fontsize=15)\n",
    "plt.tight_layout()\n",
    "plt.savefig(figureFolder+'energyDissipationE3.eps',format='eps',dpi=1200)\n",
    "plt.show()\n"
   ]
  },
  {
   "cell_type": "code",
   "execution_count": null,
   "metadata": {
    "collapsed": false
   },
   "outputs": [],
   "source": [
    "figureFolder = './figures/'\n",
    "#%%%%%%%%%%%%%%%%%%%%\n",
    "# eps_3\n",
    "\n",
    "#%%%%%%%%%%%%%%%%%%%%%%%%\n",
    "loadPath='solutions/'\n",
    "nSol = 11 # Number of solutions\n",
    "x0 = loadh5('ribEq1L7M10N30E0000.hdf5').slice(L=7,M=16,N=35) # Initial iterate: Sol for flat-walled Couette\n",
    "\n",
    "# Scalars to be plotted:\n",
    "resnormArr = np.zeros((3,nSol))   # Residual norm of converged solutions\n",
    "accArr = np.zeros((3,nSol))       # Accuracy of solutions w.r.t grid size\n",
    "distArr = np.zeros((3,nSol))      # Distance from x0\n",
    "energyArr = np.zeros((3,nSol))    # Energy density\n",
    "dissipationArr = np.zeros((3,nSol)) # Bulk dissipation rate\n",
    "pInputArr = np.zeros((3,nSol))      # \n",
    "initialnormArr = np.zeros((3,nSol))\n",
    "epsArr = np.zeros((3,nSol))\n",
    "\n",
    "resnormArr[:,0] = resnormFun(x0.slice(M=16,N=30))\n",
    "accArr[:,0]  = resnormFun(x0.slice(L=14,M=20,N=60))\n",
    "distArr[:,0] = 0.\n",
    "energyArr[:,0] = x0.energy(); dissipationArr[:,0] = x0.dissipation(); pInputArr[:,0] = x0.powerInput()\n",
    "#initialnormArr[:,0] = resnormArr[0]\n",
    "for k in range(1,nSol):\n",
    "    # eps_1\n",
    "    solPath = loadPath+'e1/'+ 'A%02d/'%(k)\n",
    "    solName = 'ribEq1L7M16N35E1_%03d.hdf5'%(5*k)\n",
    "    x = loadh5(solPath+solName)\n",
    "    epsArr[0,k] = x.flowDict['epsArr'][1]\n",
    "    resnormArr[0,k] = resnormFun(x)\n",
    "    accArr[0,k] = resnormFun(x.slice(L=14,M=32,N=70))\n",
    "    distArr[0,k] = (x-x0).norm()\n",
    "    \n",
    "    energyArr[0,k] = x.energy()\n",
    "    dissipationArr[0,k] = x.dissipation()\n",
    "    pInputArr[0,k] = x.powerInput()\n",
    "    \n",
    "    x[:] = x0[:]\n",
    "    initialnormArr[0,k] = resnormFun(x)\n",
    "    \n",
    "    # eps_2\n",
    "    solPath = loadPath+'e2/'+ 'A%02d/'%(k)\n",
    "    solName = 'ribEq1L7M16N35E1_001E2_%03d.hdf5'%(5*k)\n",
    "    x = loadh5(solPath+solName)\n",
    "    epsArr[1,k] = x.flowDict['epsArr'][2]\n",
    "    resnormArr[1,k] = resnormFun(x)\n",
    "    accArr[1,k] = resnormFun(x.slice(L=14,M=32,N=70))\n",
    "    distArr[1,k] = (x-x0).norm()\n",
    "    \n",
    "    energyArr[1,k] = x.energy()\n",
    "    dissipationArr[1,k] = x.dissipation()\n",
    "    pInputArr[1,k] = x.powerInput()\n",
    "    \n",
    "    x[:] = x0[:]\n",
    "    initialnormArr[1,k] = resnormFun(x)\n",
    "\n",
    "    # eps_3\n",
    "    solPath = loadPath+'e3/'+ 'A%02d/'%(k)\n",
    "    solName = 'ribEq1L7M16N35E1_001E2_000E3_%03d.hdf5'%(5*k)\n",
    "    x = loadh5(solPath+solName)\n",
    "    epsArr[2,k] = x.flowDict['epsArr'][3]\n",
    "    resnormArr[2,k] = resnormFun(x)\n",
    "    accArr[2,k] = resnormFun(x.slice(L=14,M=32,N=70))\n",
    "    distArr[2,k] = (x-x0).norm()\n",
    "    \n",
    "    energyArr[2,k] = x.energy()\n",
    "    dissipationArr[2,k] = x.dissipation()\n",
    "    pInputArr[2,k] = x.powerInput()\n",
    "    \n",
    "    x[:] = x0[:]\n",
    "    initialnormArr[2,k] = resnormFun(x)\n",
    "    \n"
   ]
  },
  {
   "cell_type": "code",
   "execution_count": null,
   "metadata": {
    "collapsed": false
   },
   "outputs": [],
   "source": [
    "# Residual norm, accuracy, and distance\n",
    "plt.figure()\n",
    "plt.plot(2.*epsArr[0], distArr[0],'rx-')\n",
    "plt.plot(2.*epsArr[1], distArr[1],'b+:')\n",
    "plt.plot(2.*epsArr[2], distArr[2],'kd--')\n",
    "plt.legend(['$A_1$', '$A_2$', '$A_3$'], loc=2)\n",
    "plt.xlabel('Amplitude ($A$)',fontsize=15); plt.ylabel('$||x-x_{flat}||$', fontsize=15)\n",
    "plt.ylim([-0.01,0.075]); plt.xlim([-0.01,0.11])\n",
    "plt.savefig(figureFolder+'normDistE123.eps',format='eps',dpi=1200)\n",
    "plt.show()\n",
    "\n",
    "# Energy density and bulk dissipation rate\n",
    "plt.figure()\n",
    "plt.plot(2.*epsArr[0], energyArr[0],'rx:',label='$A_1$')\n",
    "plt.plot(2.*epsArr[1], energyArr[1],'b+:',label='$A_2$')\n",
    "plt.plot(2.*epsArr[2], energyArr[2],'kd:',label='$A_3$')\n",
    "plt.xlim([-0.01,0.11])\n",
    "plt.ylim([0.13,0.15])\n",
    "plt.legend(loc=2)\n",
    "plt.xlabel('Amplitude($A$)',fontsize=15); plt.ylabel('Energy density ($E$)',fontsize=15)\n",
    "plt.tight_layout()\n",
    "plt.savefig(figureFolder+'energyE123.eps',format='eps',dpi=1200)\n",
    "plt.show()\n",
    "\n",
    "plt.figure()\n",
    "plt.plot(2.*epsArr[0], dissipationArr[0],'rx:',label='$A_1$')\n",
    "plt.plot(2.*epsArr[1], dissipationArr[1],'b+:',label='$A_2$')\n",
    "plt.plot(2.*epsArr[2], dissipationArr[2],'kd:',label='$A_3$')\n",
    "plt.xlim([-0.01,0.11])\n",
    "plt.legend(loc=2)\n",
    "plt.xlabel('Amplitude($A$)',fontsize=15); plt.ylabel('Dissipation rate ($D$)',fontsize=15)\n",
    "plt.tight_layout()\n",
    "plt.savefig(figureFolder+'dissipationE123.eps',format='eps',dpi=1200)\n",
    "plt.show()\n"
   ]
  },
  {
   "cell_type": "markdown",
   "metadata": {},
   "source": [
    "## Phase-difference"
   ]
  },
  {
   "cell_type": "code",
   "execution_count": null,
   "metadata": {
    "collapsed": false
   },
   "outputs": [],
   "source": [
    "# eps_1 = 0\n",
    "x0 = loadh5('ribEq1L7M10N30E0000.hdf5')\n",
    "x = x0\n",
    "phaseArrZ = 2.*np.pi*np.arange(0.,1.001,0.05)\n",
    "\n",
    "normArr = np.zeros(phaseArrZ.size)\n",
    "for m in range(phaseArrZ.size):\n",
    "    phiZ = phaseArrZ[m]\n",
    "    normArr[m] = resnormFun(x.shiftPhase(phiZ=phiZ))\n",
    "        \n",
    "normArrA01 = np.zeros(phaseArrZ.size)\n",
    "x = loadh5('solutions/e1/A01/ribEq1L7M16N35E1_005.hdf5')\n",
    "for m in range(phaseArrZ.size):\n",
    "    phiZ = phaseArrZ[m]\n",
    "    normArrA01[m] = resnormFun(x.shiftPhase(phiZ=phiZ))\n",
    "        \n",
    "        \n",
    "normArrA05 = np.zeros(phaseArrZ.size)\n",
    "x = loadh5('solutions/e1/A05/ribEq1L7M16N35E1_025.hdf5')\n",
    "for m in range(phaseArrZ.size):\n",
    "    phiZ = phaseArrZ[m]\n",
    "    normArrA05[m] = resnormFun(x.shiftPhase(phiZ=phiZ))\n",
    "        \n",
    "\n"
   ]
  },
  {
   "cell_type": "code",
   "execution_count": null,
   "metadata": {
    "collapsed": false,
    "scrolled": true
   },
   "outputs": [],
   "source": [
    "plt.plot(phaseArrZ/np.pi/2., normArr)\n",
    "plt.plot(phaseArrZ/np.pi/2., normArrA01,'r')\n",
    "plt.plot(phaseArrZ/np.pi/2., normArrA05,'k')\n",
    "plt.ylim([-0.002,0.015])\n",
    "plt.legend(['A=0','A=0.01','A=0.05'])\n",
    "plt.xlabel(\"$\\delta z/L_z$\",fontsize=15)\n",
    "plt.ylabel(\"$F(\\chi)$\",fontsize=15)\n",
    "#plt.yscale(\"log\")\n",
    "plt.savefig(figureFolder+'phaseShiftE1.eps',format='eps',dpi=1200)\n",
    "plt.show()"
   ]
  },
  {
   "cell_type": "code",
   "execution_count": null,
   "metadata": {
    "collapsed": true
   },
   "outputs": [],
   "source": [
    "#%%%%%%%%%%%%%%%\n",
    "# eps_2\n",
    "#%%%%%%%%%%%%%%%%\n",
    "# eps_q = 0\n",
    "x0 = loadh5('ribEq1L7M10N30E0000.hdf5')\n",
    "x = x0\n",
    "phaseArrZ = 2.*np.pi*np.arange(0.,1.001,0.05)\n",
    "\n",
    "normArr = np.zeros(phaseArrZ.size)\n",
    "for m in range(phaseArrZ.size):\n",
    "    phiZ = phaseArrZ[m]\n",
    "    normArr[m] = resnormFun(x.shiftPhase(phiZ=phiZ))\n",
    "        \n",
    "normArrA01 = np.zeros(phaseArrZ.size)\n",
    "x = loadh5('solutions/e2/A01/ribEq1L7M16N35E1_001E2_005.hdf5')\n",
    "for m in range(phaseArrZ.size):\n",
    "    phiZ = phaseArrZ[m]\n",
    "    normArrA01[m] = resnormFun(x.shiftPhase(phiZ=phiZ))\n",
    "        \n",
    "        \n",
    "normArrA05 = np.zeros(phaseArrZ.size)\n",
    "x = loadh5('solutions/e2/A05/ribEq1L7M16N35E1_001E2_025.hdf5')\n",
    "for m in range(phaseArrZ.size):\n",
    "    phiZ = phaseArrZ[m]\n",
    "    normArrA05[m] = resnormFun(x.shiftPhase(phiZ=phiZ))    \n"
   ]
  },
  {
   "cell_type": "code",
   "execution_count": null,
   "metadata": {
    "collapsed": false
   },
   "outputs": [],
   "source": [
    "plt.plot(phaseArrZ/np.pi/2., normArr)\n",
    "plt.plot(phaseArrZ/np.pi/2., normArrA01,'r')\n",
    "plt.plot(phaseArrZ/np.pi/2., normArrA05,'k')\n",
    "#plt.ylim([-0.002,0.015])\n",
    "plt.legend(['A=0','A=0.01','A=0.05'])\n",
    "plt.xlabel(\"$\\delta z/L_z$\",fontsize=15)\n",
    "plt.ylabel(\"$F(\\chi)$\",fontsize=15)\n",
    "#plt.yscale(\"log\")\n",
    "plt.savefig(figureFolder+'phaseShiftE2.eps',format='eps',dpi=1200)\n",
    "plt.show()"
   ]
  },
  {
   "cell_type": "code",
   "execution_count": null,
   "metadata": {
    "collapsed": true
   },
   "outputs": [],
   "source": [
    "#%%%%%%%%%%%%%%%\n",
    "# eps_3\n",
    "#%%%%%%%%%%%%%%%%\n",
    "# eps_q = 0\n",
    "x0 = loadh5('ribEq1L7M10N30E0000.hdf5')\n",
    "x = x0\n",
    "phaseArrZ = 2.*np.pi*np.arange(0.,1.001,0.05)\n",
    "\n",
    "normArr = np.zeros(phaseArrZ.size)\n",
    "for m in range(phaseArrZ.size):\n",
    "    phiZ = phaseArrZ[m]\n",
    "    normArr[m] = resnormFun(x.shiftPhase(phiZ=phiZ))\n",
    "        \n",
    "normArrA01 = np.zeros(phaseArrZ.size)\n",
    "x = loadh5('solutions/e3/A01/ribEq1L7M16N35E1_001E2_000E3_005.hdf5')\n",
    "for m in range(phaseArrZ.size):\n",
    "    phiZ = phaseArrZ[m]\n",
    "    normArrA01[m] = resnormFun(x.shiftPhase(phiZ=phiZ))\n",
    "        \n",
    "        \n",
    "normArrA05 = np.zeros(phaseArrZ.size)\n",
    "x = loadh5('solutions/e3/A05/ribEq1L7M16N35E1_001E2_000E3_025.hdf5')\n",
    "for m in range(phaseArrZ.size):\n",
    "    phiZ = phaseArrZ[m]\n",
    "    normArrA05[m] = resnormFun(x.shiftPhase(phiZ=phiZ))\n",
    "        \n",
    "\n"
   ]
  },
  {
   "cell_type": "code",
   "execution_count": null,
   "metadata": {
    "collapsed": false
   },
   "outputs": [],
   "source": [
    "plt.plot(phaseArrZ/np.pi/2., normArr)\n",
    "plt.plot(phaseArrZ/np.pi/2., normArrA01,'r')\n",
    "plt.plot(phaseArrZ/np.pi/2., normArrA05,'k')\n",
    "#plt.ylim([-0.002,0.015])\n",
    "plt.legend(['A=0','A=0.01','A=0.05'])\n",
    "plt.xlabel(\"$\\delta z/L_z$\",fontsize=15)\n",
    "plt.ylabel(\"$F(\\chi)$\",fontsize=15)\n",
    "#plt.yscale(\"log\")\n",
    "plt.savefig(figureFolder+'phaseShiftE3.eps',format='eps',dpi=1200)\n",
    "plt.show()"
   ]
  },
  {
   "cell_type": "code",
   "execution_count": null,
   "metadata": {
    "collapsed": true
   },
   "outputs": [],
   "source": [
    "#%%%%%%%%%%%%%%%\n",
    "# eps_1, eps_2, eps_3\n",
    "#%%%%%%%%%%%%%%%%\n",
    "# eps_q = 0\n",
    "x0 = loadh5('ribEq1L7M10N30E0000.hdf5')\n",
    "x = x0\n",
    "phaseArrZ = 2.*np.pi*np.arange(0.,1.001,0.025)\n",
    "\n",
    "normArr = np.zeros(phaseArrZ.size)\n",
    "for m in range(phaseArrZ.size):\n",
    "    phiZ = phaseArrZ[m]\n",
    "    normArr[m] = resnormFun(x.shiftPhase(phiZ=phiZ))\n",
    "\n",
    "normArrE1 = np.zeros(phaseArrZ.size)\n",
    "x = loadh5('solutions/e1/A01/ribEq1L7M16N35E1_005.hdf5')\n",
    "for m in range(phaseArrZ.size):\n",
    "    phiZ = phaseArrZ[m]\n",
    "    normArrE1[m] = resnormFun(x.shiftPhase(phiZ=phiZ))\n",
    "\n",
    "normArrE2 = np.zeros(phaseArrZ.size)\n",
    "x = loadh5('solutions/e2/A01/ribEq1L7M16N35E1_001E2_005.hdf5')\n",
    "for m in range(phaseArrZ.size):\n",
    "    phiZ = phaseArrZ[m]\n",
    "    normArrE2[m] = resnormFun(x.shiftPhase(phiZ=phiZ))\n",
    "\n",
    "    \n",
    "    \n",
    "normArrE3 = np.zeros(phaseArrZ.size)\n",
    "x = loadh5('solutions/e3/A01/ribEq1L7M16N35E1_001E2_000E3_005.hdf5')\n",
    "for m in range(phaseArrZ.size):\n",
    "    phiZ = phaseArrZ[m]\n",
    "    normArrE3[m] = resnormFun(x.shiftPhase(phiZ=phiZ))\n",
    "        \n"
   ]
  },
  {
   "cell_type": "code",
   "execution_count": null,
   "metadata": {
    "collapsed": false
   },
   "outputs": [],
   "source": [
    "plt.plot(phaseArrZ/np.pi/2., normArr)\n",
    "plt.plot(phaseArrZ/np.pi/2., normArrE1,'r')\n",
    "plt.plot(phaseArrZ/np.pi/2., normArrE2,'c')\n",
    "plt.plot(phaseArrZ/np.pi/2., normArrE3,'k')\n",
    "#plt.ylim([-0.002,0.015])\n",
    "plt.legend(['flat','$A_1=0.01$','$A_2=0.01$', '$A_3=0.01$'],ncol=2,loc='upper center')\n",
    "plt.xlabel(\"$\\delta z/L_z$\",fontsize=15)\n",
    "plt.ylabel(\"$||F(\\\\chi)||$\",fontsize=15)\n",
    "plt.ylim([-0.002,0.012])\n",
    "plt.savefig(figureFolder+'phaseShiftE123.eps',format='eps',dpi=1200)\n",
    "plt.show()"
   ]
  },
  {
   "cell_type": "markdown",
   "metadata": {},
   "source": [
    "## Velocity plots"
   ]
  },
  {
   "cell_type": "code",
   "execution_count": null,
   "metadata": {
    "collapsed": false
   },
   "outputs": [],
   "source": [
    "loadPath = 'solutions/e1/'\n",
    "xList = [x0]\n",
    "xList.append(loadh5(loadPath+'A05/ribEq1L7M16N35E1_025.hdf5'))\n",
    "xList.append(loadh5(loadPath+'A10/ribEq1L7M16N35E1_050.hdf5'))\n",
    "xList.append(loadh5(loadPath+'A15/ribEq1L7M16N35E1_075.hdf5'))\n",
    "fNameList = ['A00','A05','A10','A15']\n",
    "for k in range(len(xList)):    \n",
    "    x = xList[k]\n",
    "    fName = fNameList[k]\n",
    "    vf = x.slice(nd=[0,1,2])\n",
    "    pf = x.getScalar(nd=3)\n",
    "    fnorm = x.residuals().appendField(x.div()).norm()\n",
    "\n",
    "    b = vf.flowDict['beta']; Lz = 2.*np.pi/b; eps = vf.flowDict['eps']; A = 2.*eps\n",
    "    a = vf.flowDict['alpha']; Lx = 2.*np.pi/a\n",
    "    zArr = np.arange(0., Lz*1.001,Lz/20.)\n",
    "    yArr = vf.y\n",
    "    xArr = np.array([0., Lx/4.,Lx/2.])\n",
    "\n",
    "    u = vf.getScalar().getPhysical(xLoc=xArr,zLoc = zArr).reshape((xArr.size, zArr.size,vf.N))\n",
    "    v = vf.getScalar(nd=1).getPhysical(xLoc=xArr,zLoc = zArr).reshape((xArr.size, zArr.size,vf.N))\n",
    "    w = vf.getScalar(nd=2).getPhysical(xLoc=xArr,zLoc = zArr).reshape((xArr.size, zArr.size,vf.N))\n",
    "\n",
    "    Y = vf.y.reshape((1,1,vf.N)) + np.zeros((xArr.size,1,1)) + A*np.cos(b*zArr.reshape((1,zArr.size,1)))\n",
    "    Z = zArr.reshape((1,zArr.size,1)) + np.zeros(Y.shape)\n",
    "    X = xArr.reshape((xArr.size,1,1)) + np.zeros(Y.shape)\n",
    "    \n",
    "    fName = 'velocityE1_'+fName\n",
    "\n",
    "    uLevels = 2.*np.arange(-0.5,0.501,0.025)\n",
    "    plt.figure()\n",
    "    plt.plot(Z[0,:,0], Y[0,:,0],'k')\n",
    "    plt.plot(Z[0,:,-1], Y[0,:,-1],'k')\n",
    "    plt.contourf(Z[0], Y[0], u[0], cmap=plt.get_cmap('RdBu_r'),levels = uLevels)\n",
    "    plt.colorbar()\n",
    "    plt.quiver(Z[0],Y[0], w[0],v[0],units='y',width=0.015,scale=0.15,scale_units='y',pivot='middle')\n",
    "    print('Phase-shifted Eq1 at x0, with A=%.2g, fnorm=%.3g'%(0.01*k,fnorm))\n",
    "    plt.tight_layout()\n",
    "\n",
    "    #plt.savefig(figureFolder+'noLabels/'+fName+'x00.eps',format='eps')\n",
    "    #plt.xlabel('z',fontsize=15); plt.ylabel('y',fontsize=15)\n",
    "    plt.savefig(figureFolder+fName+'x00.eps',format='eps')\n",
    "    plt.show()\n",
    "\n",
    "    plt.figure()\n",
    "    plt.plot(Z[1,:,0], Y[1,:,0],'k')\n",
    "    plt.plot(Z[1,:,-1], Y[1,:,-1],'k')\n",
    "    plt.contourf(Z[1], Y[1], u[1], cmap=plt.get_cmap('RdBu_r'),levels = uLevels)\n",
    "    plt.colorbar()\n",
    "    plt.quiver(Z[1],Y[1], w[1],v[1],units='y',width=0.015,scale=0.15,scale_units='y',pivot='middle')\n",
    "    print('Phase-shifted Eq1 at x1, with A=%.2g, fnorm=%.3g'%(0.01*k,fnorm))\n",
    "    plt.tight_layout()\n",
    "\n",
    "    #plt.savefig(figureFolder+'noLabels/'+fName+'x25.eps',format='eps')\n",
    "    #plt.xlabel('z',fontsize=15); plt.ylabel('y',fontsize=15)\n",
    "    plt.savefig(figureFolder+fName+'x25.eps',format='eps')\n",
    "    plt.show()\n",
    "\n",
    "\n",
    "    plt.figure()\n",
    "    plt.plot(Z[2,:,0], Y[2,:,0],'k')\n",
    "    plt.plot(Z[2,:,-1], Y[2,:,-1],'k')\n",
    "    plt.contourf(Z[2], Y[2], u[2], cmap=plt.get_cmap('RdBu_r'),levels = uLevels)\n",
    "    plt.colorbar()\n",
    "    plt.quiver(Z[2],Y[2], w[2],v[2],units='y',width=0.015,scale=0.15,scale_units='y',pivot='middle')\n",
    "    print('Phase-shifted Eq1 at x1, with A=%.2g, fnorm=%.3g'%(0.01*k,fnorm))\n",
    "    plt.tight_layout()\n",
    "\n",
    "    #plt.savefig(figureFolder+'noLabels/'+fName+'x50.eps',format='eps')\n",
    "    #plt.xlabel('z',fontsize=15); plt.ylabel('y',fontsize=15)\n",
    "    plt.savefig(figureFolder+fName+'x50.eps',format='eps')\n",
    "    plt.show()\n"
   ]
  },
  {
   "cell_type": "code",
   "execution_count": null,
   "metadata": {
    "collapsed": false
   },
   "outputs": [],
   "source": [
    "plt.figure()\n",
    "for k in range(len(xList)):\n",
    "    x = xList[k]\n",
    "    plt.plot(x.y, x[0,x.nx//2,x.nz//2,0])\n",
    "plt.legend(['A=0','A=0.05','A=0.1','A=0.15'],loc=2)\n",
    "plt.xlabel('$y$',fontsize=15); plt.ylabel('$U$',fontsize=15)\n",
    "plt.savefig(figureFolder+'UE1.eps',format='eps',dpi=1200)\n",
    "plt.show()\n",
    "\n",
    "plt.figure()\n",
    "for k in range(len(xList)):\n",
    "    x = xList[k]\n",
    "    plt.plot(x.y, x[0,x.nx//2,x.nz//2,0]-x.y)\n",
    "plt.legend(['A=0','A=0.05','A=0.1','A=0.15'])\n",
    "plt.show()\n",
    "\n",
    "xList[0] = xList[0].slice(L=7,M=16,N=35)\n",
    "x0 = xList[0]\n",
    "plt.figure()\n",
    "for k in range(len(xList)):\n",
    "    x = xList[k]\n",
    "    plt.plot(x.y, x[0,x.nx//2,x.nz//2,0]-x0[0,x.nx//2,x.nz//2,0])\n",
    "plt.legend(['A=0','A=0.05','A=0.1','A=0.15'],loc=2)\n",
    "plt.xlabel('$y$',fontsize=15); plt.ylabel('$U-U_{flat}$',fontsize=15)\n",
    "plt.savefig(figureFolder+'U_UflatE1.eps',format='eps',dpi=1200)\n",
    "plt.show()"
   ]
  },
  {
   "cell_type": "code",
   "execution_count": null,
   "metadata": {
    "collapsed": false
   },
   "outputs": [],
   "source": [
    "#%%%%%%%%%%%%%%%%%%%%%\n",
    "# eps_2\n",
    "#%%%%%%%%%%%%%%%%%%%%%%%\n",
    "loadPath = 'solutions/e2/'\n",
    "xList = [x0]\n",
    "xList.append(loadh5(loadPath+'A05/ribEq1L7M16N35E1_001E2_025.hdf5'))\n",
    "xList.append(loadh5(loadPath+'A10/ribEq1L7M16N35E1_001E2_050.hdf5'))\n",
    "fNameList = ['A00','A05','A10']\n",
    "for k in range(len(xList)):    \n",
    "    x = xList[k]\n",
    "    fName = fNameList[k]\n",
    "    vf = x.slice(nd=[0,1,2])\n",
    "    pf = x.getScalar(nd=3)\n",
    "    fnorm = x.residuals().appendField(x.div()).norm()\n",
    "\n",
    "    b = vf.flowDict['beta']; Lz = 2.*np.pi/b; \n",
    "    if k > 0:\n",
    "        eps = vf.flowDict['epsArr'][2]\n",
    "    else: \n",
    "        eps = 0.\n",
    "    A = 2.*eps\n",
    "    a = vf.flowDict['alpha']; Lx = 2.*np.pi/a\n",
    "    zArr = np.arange(0., Lz*1.001,Lz/20.)\n",
    "    yArr = vf.y\n",
    "    xArr = np.array([0., Lx/4.,Lx/2.])\n",
    "\n",
    "    u = vf.getScalar().getPhysical(xLoc=xArr,zLoc = zArr).reshape((xArr.size, zArr.size,vf.N))\n",
    "    v = vf.getScalar(nd=1).getPhysical(xLoc=xArr,zLoc = zArr).reshape((xArr.size, zArr.size,vf.N))\n",
    "    w = vf.getScalar(nd=2).getPhysical(xLoc=xArr,zLoc = zArr).reshape((xArr.size, zArr.size,vf.N))\n",
    "\n",
    "    Y = vf.y.reshape((1,1,vf.N)) + np.zeros((xArr.size,1,1)) + A*np.cos(2.*b*zArr.reshape((1,zArr.size,1)))\n",
    "    Z = zArr.reshape((1,zArr.size,1)) + np.zeros(Y.shape)\n",
    "    X = xArr.reshape((xArr.size,1,1)) + np.zeros(Y.shape)\n",
    "    \n",
    "    fName = 'velocityE2_'+fName\n",
    "\n",
    "    uLevels = 2.*np.arange(-0.5,0.501,0.025)\n",
    "    plt.figure()\n",
    "    plt.plot(Z[0,:,0], Y[0,:,0],'k')\n",
    "    plt.plot(Z[0,:,-1], Y[0,:,-1],'k')\n",
    "    plt.contourf(Z[0], Y[0], u[0], cmap=plt.get_cmap('RdBu_r'),levels = uLevels)\n",
    "    plt.colorbar()\n",
    "    plt.quiver(Z[0],Y[0], w[0],v[0],units='y',width=0.015,scale=0.15,scale_units='y',pivot='middle')\n",
    "    print('Phase-shifted Eq1 at x0, with A=%.2g, fnorm=%.3g'%(0.01*k,fnorm))\n",
    "    plt.tight_layout()\n",
    "\n",
    "    #plt.savefig(figureFolder+'noLabels/'+fName+'x00.eps',format='eps')\n",
    "    #plt.xlabel('z',fontsize=15); plt.ylabel('y',fontsize=15)\n",
    "    plt.savefig(figureFolder+fName+'x00.eps',format='eps')\n",
    "    plt.show()\n",
    "\n",
    "    plt.figure()\n",
    "    plt.plot(Z[1,:,0], Y[1,:,0],'k')\n",
    "    plt.plot(Z[1,:,-1], Y[1,:,-1],'k')\n",
    "    plt.contourf(Z[1], Y[1], u[1], cmap=plt.get_cmap('RdBu_r'),levels = uLevels)\n",
    "    plt.colorbar()\n",
    "    plt.quiver(Z[1],Y[1], w[1],v[1],units='y',width=0.015,scale=0.15,scale_units='y',pivot='middle')\n",
    "    print('Phase-shifted Eq1 at x1, with A=%.2g, fnorm=%.3g'%(0.01*k,fnorm))\n",
    "    plt.tight_layout()\n",
    "\n",
    "    #plt.savefig(figureFolder+'noLabels/'+fName+'x25.eps',format='eps')\n",
    "    #plt.xlabel('z',fontsize=15); plt.ylabel('y',fontsize=15)\n",
    "    plt.savefig(figureFolder+fName+'x25.eps',format='eps')\n",
    "    plt.show()\n",
    "\n",
    "\n",
    "    plt.figure()\n",
    "    plt.plot(Z[2,:,0], Y[2,:,0],'k')\n",
    "    plt.plot(Z[2,:,-1], Y[2,:,-1],'k')\n",
    "    plt.contourf(Z[2], Y[2], u[2], cmap=plt.get_cmap('RdBu_r'),levels = uLevels)\n",
    "    plt.colorbar()\n",
    "    plt.quiver(Z[2],Y[2], w[2],v[2],units='y',width=0.015,scale=0.15,scale_units='y',pivot='middle')\n",
    "    print('Phase-shifted Eq1 at x1, with A=%.2g, fnorm=%.3g'%(0.01*k,fnorm))\n",
    "    plt.tight_layout()\n",
    "\n",
    "    #plt.savefig(figureFolder+'noLabels/'+fName+'x50.eps',format='eps')\n",
    "    #plt.xlabel('z',fontsize=15); plt.ylabel('y',fontsize=15)\n",
    "    plt.savefig(figureFolder+fName+'x50.eps',format='eps')\n",
    "    plt.show()\n"
   ]
  },
  {
   "cell_type": "code",
   "execution_count": null,
   "metadata": {
    "collapsed": false
   },
   "outputs": [],
   "source": [
    "plt.figure()\n",
    "for k in range(len(xList)):\n",
    "    x = xList[k]\n",
    "    plt.plot(x.y, x[0,x.nx//2,x.nz//2,0])\n",
    "plt.legend(['A=0','A=0.05','A=0.1'],loc=2)\n",
    "plt.xlabel('$y$',fontsize=15); plt.ylabel('$U$',fontsize=15)\n",
    "plt.savefig(figureFolder+'UE2.eps',format='eps',dpi=1200)\n",
    "plt.show()\n",
    "\n",
    "plt.figure()\n",
    "for k in range(len(xList)):\n",
    "    x = xList[k]\n",
    "    plt.plot(x.y, x[0,x.nx//2,x.nz//2,0]-x.y)\n",
    "plt.legend(['A=0','A=0.05','A=0.1'])\n",
    "plt.show()\n",
    "\n",
    "xList[0] = xList[0].slice(L=7,M=16,N=35)\n",
    "x0 = xList[0]\n",
    "plt.figure()\n",
    "for k in range(len(xList)):\n",
    "    x = xList[k]\n",
    "    plt.plot(x.y, x[0,x.nx//2,x.nz//2,0]-x0[0,x.nx//2,x.nz//2,0])\n",
    "plt.legend(['A=0','A=0.05','A=0.1'],loc=2)\n",
    "plt.xlabel('$y$',fontsize=15); plt.ylabel('$U-U_{flat}$',fontsize=15)\n",
    "plt.savefig(figureFolder+'U_UflatE2.eps',format='eps',dpi=1200)\n",
    "plt.show()"
   ]
  },
  {
   "cell_type": "code",
   "execution_count": null,
   "metadata": {
    "collapsed": false
   },
   "outputs": [],
   "source": [
    "#%%%%%%%%%%%%%\n",
    "# eps_3\n",
    "#%%%%%%%%%%%%%%%%\n",
    "loadPath = 'solutions/e3/'\n",
    "xList = [x0]\n",
    "xList.append(loadh5(loadPath+'A05/ribEq1L7M16N35E1_001E2_000E3_025.hdf5'))\n",
    "xList.append(loadh5(loadPath+'A10/ribEq1L7M16N35E1_001E2_000E3_050.hdf5'))\n",
    "fNameList = ['A00','A05','A10']\n",
    "for k in range(len(xList)):    \n",
    "    x = xList[k]\n",
    "    fName = fNameList[k]\n",
    "    vf = x.slice(nd=[0,1,2])\n",
    "    pf = x.getScalar(nd=3)\n",
    "    fnorm = x.residuals().appendField(x.div()).norm()\n",
    "\n",
    "    b = vf.flowDict['beta']; Lz = 2.*np.pi/b\n",
    "    if k > 0:\n",
    "        eps = vf.flowDict['epsArr'][3]\n",
    "    else: \n",
    "        eps = 0.\n",
    "    A = 2.*eps\n",
    "    a = vf.flowDict['alpha']; Lx = 2.*np.pi/a\n",
    "    zArr = np.arange(0., Lz*1.001,Lz/20.)\n",
    "    yArr = vf.y\n",
    "    xArr = np.array([0., Lx/4.,Lx/2.])\n",
    "\n",
    "    u = vf.getScalar().getPhysical(xLoc=xArr,zLoc = zArr).reshape((xArr.size, zArr.size,vf.N))\n",
    "    v = vf.getScalar(nd=1).getPhysical(xLoc=xArr,zLoc = zArr).reshape((xArr.size, zArr.size,vf.N))\n",
    "    w = vf.getScalar(nd=2).getPhysical(xLoc=xArr,zLoc = zArr).reshape((xArr.size, zArr.size,vf.N))\n",
    "\n",
    "    Y = vf.y.reshape((1,1,vf.N)) + np.zeros((xArr.size,1,1)) + A*np.cos(3.*b*zArr.reshape((1,zArr.size,1)))\n",
    "    Z = zArr.reshape((1,zArr.size,1)) + np.zeros(Y.shape)\n",
    "    X = xArr.reshape((xArr.size,1,1)) + np.zeros(Y.shape)\n",
    "    \n",
    "    fName = 'velocityE3_'+fName\n",
    "\n",
    "    uLevels = 2.*np.arange(-0.5,0.501,0.025)\n",
    "    plt.figure()\n",
    "    plt.plot(Z[0,:,0], Y[0,:,0],'k')\n",
    "    plt.plot(Z[0,:,-1], Y[0,:,-1],'k')\n",
    "    plt.contourf(Z[0], Y[0], u[0], cmap=plt.get_cmap('RdBu_r'),levels = uLevels)\n",
    "    plt.colorbar()\n",
    "    plt.quiver(Z[0],Y[0], w[0],v[0],units='y',width=0.015,scale=0.15,scale_units='y',pivot='middle')\n",
    "    print('Phase-shifted Eq1 at x0, with A=%.2g, fnorm=%.3g'%(0.01*k,fnorm))\n",
    "    plt.tight_layout()\n",
    "\n",
    "    #plt.savefig(figureFolder+'noLabels/'+fName+'x00.eps',format='eps')\n",
    "    #plt.xlabel('z',fontsize=15); plt.ylabel('y',fontsize=15)\n",
    "    plt.savefig(figureFolder+fName+'x00.eps',format='eps')\n",
    "    plt.show()\n",
    "\n",
    "    plt.figure()\n",
    "    plt.plot(Z[1,:,0], Y[1,:,0],'k')\n",
    "    plt.plot(Z[1,:,-1], Y[1,:,-1],'k')\n",
    "    plt.contourf(Z[1], Y[1], u[1], cmap=plt.get_cmap('RdBu_r'),levels = uLevels)\n",
    "    plt.colorbar()\n",
    "    plt.quiver(Z[1],Y[1], w[1],v[1],units='y',width=0.015,scale=0.15,scale_units='y',pivot='middle')\n",
    "    print('Phase-shifted Eq1 at x1, with A=%.2g, fnorm=%.3g'%(0.01*k,fnorm))\n",
    "    plt.tight_layout()\n",
    "\n",
    "    #plt.savefig(figureFolder+'noLabels/'+fName+'x25.eps',format='eps')\n",
    "    #plt.xlabel('z',fontsize=15); plt.ylabel('y',fontsize=15)\n",
    "    plt.savefig(figureFolder+fName+'x25.eps',format='eps')\n",
    "    plt.show()\n",
    "\n",
    "\n",
    "    plt.figure()\n",
    "    plt.plot(Z[2,:,0], Y[2,:,0],'k')\n",
    "    plt.plot(Z[2,:,-1], Y[2,:,-1],'k')\n",
    "    plt.contourf(Z[2], Y[2], u[2], cmap=plt.get_cmap('RdBu_r'),levels = uLevels)\n",
    "    plt.colorbar()\n",
    "    plt.quiver(Z[2],Y[2], w[2],v[2],units='y',width=0.015,scale=0.15,scale_units='y',pivot='middle')\n",
    "    print('Phase-shifted Eq1 at x1, with A=%.2g, fnorm=%.3g'%(0.01*k,fnorm))\n",
    "    plt.tight_layout()\n",
    "\n",
    "    #plt.savefig(figureFolder+'noLabels/'+fName+'x50.eps',format='eps')\n",
    "    #plt.xlabel('z',fontsize=15); plt.ylabel('y',fontsize=15)\n",
    "    plt.savefig(figureFolder+fName+'x50.eps',format='eps')\n",
    "    plt.show()\n"
   ]
  },
  {
   "cell_type": "code",
   "execution_count": null,
   "metadata": {
    "collapsed": false,
    "scrolled": false
   },
   "outputs": [],
   "source": [
    "plt.figure()\n",
    "for k in range(len(xList)):\n",
    "    x = xList[k]\n",
    "    plt.plot(x.y, x[0,x.nx//2,x.nz//2,0])\n",
    "plt.legend(['A=0','A=0.05','A=0.1'],loc=2)\n",
    "plt.xlabel('$y$',fontsize=15); plt.ylabel('$U$',fontsize=15)\n",
    "plt.savefig(figureFolder+'UE3.eps',format='eps',dpi=1200)\n",
    "plt.show()\n",
    "\n",
    "plt.figure()\n",
    "for k in range(len(xList)):\n",
    "    x = xList[k]\n",
    "    plt.plot(x.y, x[0,x.nx//2,x.nz//2,0]-x.y)\n",
    "plt.legend(['A=0','A=0.05','A=0.1'])\n",
    "plt.show()\n",
    "\n",
    "xList[0] = xList[0].slice(L=7,M=16,N=35)\n",
    "x0 = xList[0]\n",
    "plt.figure()\n",
    "for k in range(len(xList)):\n",
    "    x = xList[k]\n",
    "    plt.plot(x.y, x[0,x.nx//2,x.nz//2,0]-x0[0,x.nx//2,x.nz//2,0])\n",
    "plt.legend(['A=0','A=0.05','A=0.1'],loc=2)\n",
    "plt.xlabel('$y$',fontsize=15); plt.ylabel('$U-U_{flat}$',fontsize=15)\n",
    "plt.savefig(figureFolder+'U_UflatE3.eps',format='eps',dpi=1200)\n",
    "plt.show()"
   ]
  },
  {
   "cell_type": "markdown",
   "metadata": {},
   "source": [
    "## Projections on chi^*_0"
   ]
  },
  {
   "cell_type": "code",
   "execution_count": null,
   "metadata": {
    "collapsed": true
   },
   "outputs": [],
   "source": []
  },
  {
   "cell_type": "markdown",
   "metadata": {},
   "source": [
    "## Direction of perturbation from flat-walled solution"
   ]
  },
  {
   "cell_type": "code",
   "execution_count": null,
   "metadata": {
    "collapsed": false
   },
   "outputs": [],
   "source": [
    "def makeReal(x):\n",
    "    x[0,:] = 0.5*(x + np.conj(x[0,::-1,::-1]))\n",
    "    return\n",
    "\n",
    "x0 = loadh5('ribEq1L7M10N30E0000.hdf5').slice(L=7,M=16,N=35)\n",
    "makeReal(x0)\n",
    "nSol = 11\n",
    "corrArr = np.zeros((3,nSol))\n",
    "energyArr = np.zeros((3,nSol))\n",
    "\n",
    "x1 = loadh5('solutions/e1/A01/ribEq1L7M16N35E1_005.hdf5')\n",
    "makeReal(x1)\n",
    "dx1 = x1 - x0\n",
    "for k in range(1,nSol):\n",
    "    loadPath = 'solutions/e1/'\n",
    "    fName = 'A%02d/ribEq1L7M16N35E1_%03d.hdf5'%(k,5*k)\n",
    "    x = loadh5(loadPath+fName)\n",
    "    makeReal(x)\n",
    "    dx = x-x0\n",
    "    corrArr[0,k] = dx.dot(dx1)/dx.norm()/dx1.norm()\n",
    "    \n",
    "    # Setting l=0 modes to zero in dx\n",
    "    norm0 = dx.norm()\n",
    "    energyArr[0,k] = dx.slice(L=0).norm()**2/norm0**2\n",
    "    \n",
    "x1 = loadh5('solutions/e2/A01/ribEq1L7M16N35E1_001E2_005.hdf5')\n",
    "makeReal(x1)\n",
    "dx1 = x1 - x0\n",
    "for k in range(1,nSol):\n",
    "    loadPath = 'solutions/e2/'\n",
    "    fName = 'A%02d/ribEq1L7M16N35E1_001E2_%03d.hdf5'%(k,5*k)\n",
    "    x = loadh5(loadPath+fName)\n",
    "    makeReal(x)\n",
    "    dx = x-x0\n",
    "    corrArr[1,k] = dx.dot(dx1)/dx.norm()/dx1.norm()\n",
    "    \n",
    "    # Energy in l=0\n",
    "    norm0 = dx.norm()\n",
    "    energyArr[1,k] = dx.slice(L=0).norm()**2/norm0**2\n",
    "    \n",
    "x1 = loadh5('solutions/e3/A01/ribEq1L7M16N35E1_001E2_000E3_005.hdf5')\n",
    "makeReal(x1)\n",
    "dx1 = x1 - x0\n",
    "for k in range(1,nSol):\n",
    "    loadPath = 'solutions/e3/'\n",
    "    fName = 'A%02d/ribEq1L7M16N35E1_001E2_000E3_%03d.hdf5'%(k,5*k)\n",
    "    x = loadh5(loadPath+fName)\n",
    "    makeReal(x)\n",
    "    dx = x-x0\n",
    "    corrArr[2,k] = dx.dot(dx1)/dx.norm()/dx1.norm()\n",
    "    \n",
    "    # Setting l=0 modes to zero in dx\n",
    "    norm0 = dx.norm()\n",
    "    energyArr[2,k] = dx.slice(L=0).norm()**2/norm0**2\n",
    "    \n",
    "plt.figure()\n",
    "plt.scatter(np.arange(1,nSol),np.real(corrArr[0,1:]),c='r',marker='x')\n",
    "plt.scatter(np.arange(1,nSol),np.real(corrArr[1,1:]),c='b',marker='+')\n",
    "plt.scatter(np.arange(1,nSol),np.real(corrArr[2,1:]),c='k',marker='d')\n",
    "plt.ylim([0.95, 1.01])\n",
    "plt.legend(['$A_1$','$A_2$','$A_3$'],loc=3)\n",
    "plt.xlabel('Amplitude ($A$)',fontsize=15)\n",
    "plt.ylabel('$\\\\mathrm{corr}(dx_A, dx_1)$',fontsize=15)\n",
    "plt.savefig(figureFolder+'pertCorr.eps',format='eps',dpi=1200)\n",
    "plt.show()\n",
    "\n",
    "\n",
    "plt.figure()\n",
    "plt.plot(np.arange(1,nSol),np.real(energyArr[0,1:]),'rx:')\n",
    "plt.plot(np.arange(1,nSol),np.real(energyArr[1,1:]),'b+:')\n",
    "plt.plot(np.arange(1,nSol),np.real(energyArr[2,1:]),'kd:')\n",
    "plt.ylim([0.9, 1.0])\n",
    "plt.legend(['$A_1$','$A_2$','$A_3$'],loc=3)\n",
    "plt.xlabel('Amplitude ($A$)',fontsize=15)\n",
    "plt.ylabel('$||dx||_{l=0}/||dx||$',fontsize=15)\n",
    "plt.savefig(figureFolder+'pertEnergyL0.eps',format='eps',dpi=1200)\n",
    "plt.show()\n"
   ]
  },
  {
   "cell_type": "code",
   "execution_count": null,
   "metadata": {
    "collapsed": false
   },
   "outputs": [],
   "source": [
    "def makeReal(x):\n",
    "    x[0,:] = 0.5*(x + np.conj(x[0,::-1,::-1]))\n",
    "    return\n",
    "\n",
    "x0 = loadh5('ribEq1L7M10N30E0000.hdf5').slice(L=7,M=16,N=35)\n",
    "makeReal(x0)\n",
    "nSol = 11\n",
    "corrArr = np.zeros((3,nSol))\n",
    "energyArr = np.zeros((3,nSol))\n",
    "\n",
    "for k in range(1,nSol):\n",
    "    loadPath = 'solutions/e1/'\n",
    "    fName = 'A%02d/ribEq1L7M16N35E1_%03d.hdf5'%(k,5*k)\n",
    "    x = loadh5(loadPath+fName)\n",
    "    makeReal(x)\n",
    "    dx = x-x0\n",
    "    \n",
    "    xLam = loadh5('solutions/laminar/lamL0M7N35E1_%03d.hdf5'%(5*k))\n",
    "    makeReal(xLam)\n",
    "    dxLam = xLam.copy()\n",
    "    dxLam[0,xLam.nx//2, xLam.nz//2] -= xLam.y\n",
    "    #dxLam.flowDict.update({'alpha':dx.flowDict['alpha']})\n",
    "    dxLam = dxLam.slice(L=7,M=16,N=35)\n",
    "    \n",
    "    corrArr[0,k] = dx.dot(dxLam)/dx.norm()/dxLam.norm()\n",
    "\n",
    "for k in range(1,nSol):\n",
    "    loadPath = 'solutions/e3/'\n",
    "    fName = 'A%02d/ribEq1L7M16N35E1_001E2_000E3_%03d.hdf5'%(k,5*k)\n",
    "    x = loadh5(loadPath+fName)\n",
    "    makeReal(x)\n",
    "    dx = x-x0\n",
    "    \n",
    "    xLam = loadh5('solutions/laminar/lamL0M15N35E1_001E2_000E3_%03d.hdf5'%(5*k))\n",
    "    makeReal(xLam)\n",
    "    dxLam = xLam.copy()\n",
    "    dxLam[0,xLam.nx//2, xLam.nz//2] -= xLam.y\n",
    "    #dxLam.flowDict.update({'alpha':dx.flowDict['alpha']})\n",
    "    dxLam = dxLam.slice(L=7,M=16,N=35)\n",
    "    \n",
    "    corrArr[2,k] = dx.dot(dxLam)/dx.norm()/dxLam.norm()\n",
    "\n",
    "    \n",
    "plt.figure()\n",
    "plt.scatter(np.arange(1,nSol),np.real(corrArr[0,1:]),c='r',marker='x')\n",
    "plt.scatter(np.arange(1,nSol),np.real(corrArr[2,1:]),c='k',marker='d')\n",
    "#plt.ylim([0.75, 1.01])\n",
    "plt.show()\n"
   ]
  },
  {
   "cell_type": "code",
   "execution_count": null,
   "metadata": {
    "collapsed": false
   },
   "outputs": [],
   "source": [
    "#%%%%%%%%%%%%%\n",
    "# eps_3\n",
    "#%%%%%%%%%%%%%%%%\n",
    "loadPath = 'solutions/'\n",
    "x0 = loadh5('ribEq1L7M10N30E0000.hdf5').slice(L=7,M=16,N=35); makeReal(x0)\n",
    "dxList = []\n",
    "x=loadh5(loadPath+'e1/A01/ribEq1L7M16N35E1_005.hdf5');makeReal(x)\n",
    "dxList.append(x-x0)\n",
    "x=loadh5(loadPath+'e2/A01/ribEq1L7M16N35E1_001E2_005.hdf5');makeReal(x)\n",
    "dxList.append(x-x0)\n",
    "x=loadh5(loadPath+'e3/A01/ribEq1L7M16N35E1_001E2_000E3_005.hdf5');makeReal(x)\n",
    "dxList.append(x-x0)\n",
    "fNameList = ['E1','E2','E3']\n",
    "for k in range(len(dxList)):    \n",
    "    x = dxList[k]\n",
    "    x = x/x.slice(nd=[0,1,2]).norm()\n",
    "    fName = fNameList[k]\n",
    "    vf = x.slice(nd=[0,1,2])\n",
    "    pf = x.getScalar(nd=3)\n",
    "    fnorm = x.residuals().appendField(x.div()).norm()\n",
    "\n",
    "    b = vf.flowDict['beta']; Lz = 2.*np.pi/b\n",
    "    if k > 0:\n",
    "        eps = vf.flowDict['epsArr'][k]\n",
    "    else: \n",
    "        eps = 0.\n",
    "    #A = 2.*eps\n",
    "    A = 0.\n",
    "    a = vf.flowDict['alpha']; Lx = 2.*np.pi/a\n",
    "    zArr = np.arange(0., Lz*1.001,Lz/20.)\n",
    "    yArr = vf.y\n",
    "    xArr = np.array([0., Lx/4.,Lx/2.])\n",
    "\n",
    "    u = vf.getScalar().getPhysical(xLoc=xArr,zLoc = zArr).reshape((xArr.size, zArr.size,vf.N))\n",
    "    v = vf.getScalar(nd=1).getPhysical(xLoc=xArr,zLoc = zArr).reshape((xArr.size, zArr.size,vf.N))\n",
    "    w = vf.getScalar(nd=2).getPhysical(xLoc=xArr,zLoc = zArr).reshape((xArr.size, zArr.size,vf.N))\n",
    "\n",
    "    Y = vf.y.reshape((1,1,vf.N)) + np.zeros((xArr.size,1,1)) + A*np.cos(3.*b*zArr.reshape((1,zArr.size,1)))\n",
    "    Z = zArr.reshape((1,zArr.size,1)) + np.zeros(Y.shape)\n",
    "    X = xArr.reshape((xArr.size,1,1)) + np.zeros(Y.shape)\n",
    "    \n",
    "    fName = 'pertA01_'+fName\n",
    "\n",
    "    #uLevels = 2.*np.arange(-0.5,0.501,0.025)\n",
    "    plt.figure()\n",
    "    plt.plot(Z[0,:,0], Y[0,:,0],'k')\n",
    "    plt.plot(Z[0,:,-1], Y[0,:,-1],'k')\n",
    "    #plt.contourf(Z[0], Y[0], u[0], cmap=plt.get_cmap('RdBu_r'),levels = uLevels)\n",
    "    plt.contourf(Z[0], Y[0], u[0], 50,cmap=plt.get_cmap('RdBu_r'))\n",
    "    plt.colorbar()\n",
    "    plt.quiver(Z[0],Y[0], w[0],v[0],units='y',width=0.015,scale=0.75,scale_units='y',pivot='middle')\n",
    "    #print('Phase-shifted Eq1 at x0, with A=%.2g, fnorm=%.3g'%(0.01*k,fnorm))\n",
    "    plt.tight_layout()\n",
    "\n",
    "    #plt.savefig(figureFolder+'noLabels/'+fName+'x00.eps',format='eps')\n",
    "    plt.xlabel('$z$',fontsize=15); plt.ylabel('$y$',fontsize=15)\n",
    "    plt.savefig(figureFolder+fName+'x00.eps',format='eps')\n",
    "    plt.show()\n",
    "\n"
   ]
  },
  {
   "cell_type": "code",
   "execution_count": null,
   "metadata": {
    "collapsed": false
   },
   "outputs": [],
   "source": [
    "x = loadh5('solutions/laminar/lamL0M15N35E1_001E2_000E3_005.hdf5').slice(L=7,M=16,N=35)\n",
    "#dx = x.copy()\n",
    "#dx[0,dx.nx//2,dx.nz//2,0] -= dx.y\n",
    "#dx.norm()"
   ]
  },
  {
   "cell_type": "code",
   "execution_count": null,
   "metadata": {
    "collapsed": false
   },
   "outputs": [],
   "source": [
    "x.residuals().norm()"
   ]
  },
  {
   "cell_type": "markdown",
   "metadata": {},
   "source": [
    "## Running for laminar solutions"
   ]
  },
  {
   "cell_type": "code",
   "execution_count": null,
   "metadata": {
    "collapsed": false
   },
   "outputs": [],
   "source": [
    "epsArr = np.arange(0.005,0.0501,0.005)\n",
    "\n",
    "flowDict = getDefaultDict()\n",
    "flowDict.update({'L':0, 'M':7,'N':35,'nd':3})\n",
    "vf0 = flowFieldRiblet(flowDict=flowDict.copy())\n",
    "vf0[0, vf0.nx//2, vf0.nz//2, 0] = vf0.y\n",
    "\n",
    "if False:\n",
    "    # eps_1\n",
    "    for eps in epsArr:\n",
    "        print('Iterating for eps_1 =',eps)\n",
    "        vf = vf0.copy()\n",
    "        vf.flowDict.update({'eps':eps,'epsArr':np.array([0., eps])})\n",
    "        pf = vf.getScalar().zero()\n",
    "        vf, pf, fnorm, flg = rib.iterate(vf=vf, pf=pf)\n",
    "        x = vf.appendField(pf)\n",
    "        x.saveh5(prefix='solutions/laminar/',fNamePrefix='lam')\n",
    "        print('residual norm:',x.residuals().norm());print('');print('')\n",
    "    \n",
    "# eps_2\n",
    "vf0 = vf0.slice(M=10)\n",
    "for eps in epsArr:\n",
    "    print('Iterating for eps_2 =',eps)\n",
    "    vf = vf0.copy()\n",
    "    vf.flowDict.update({'eps':0.001,'epsArr':np.array([0.,0.001, eps])})\n",
    "    pf = vf.getScalar().zero()\n",
    "    \n",
    "    vf, pf, fnorm, flg = rib.iterate(vf=vf, pf=pf)\n",
    "    x = vf.appendField(pf)\n",
    "    x.saveh5(prefix='solutions/laminar/',fNamePrefix='lam')\n",
    "    print('residual norm:',x.residuals().norm());print('');print('')\n",
    "\n",
    "    \n",
    "# eps_3\n",
    "vf0 = vf0.slice(M=15)\n",
    "for eps in epsArr:\n",
    "    print('Iterating for eps_3 =',eps)\n",
    "    vf = vf0.copy()\n",
    "    vf.flowDict.update({'eps':0.001,'epsArr':np.array([0.,0.001,0., eps])})\n",
    "    pf = vf.getScalar().zero()\n",
    "    vf, pf, fnorm, flg = rib.iterate(vf=vf, pf=pf)\n",
    "    x = vf.appendField(pf)\n",
    "    x.saveh5(prefix='solutions/laminar/',fNamePrefix='lam')\n",
    "    print('residual norm:',x.residuals().norm());print('');print('')\n",
    "\n",
    "    "
   ]
  },
  {
   "cell_type": "code",
   "execution_count": null,
   "metadata": {
    "collapsed": false
   },
   "outputs": [],
   "source": [
    "if False:\n",
    "    # What happens if I restrict equilibrium to streamwise-homogeneous?\n",
    "    x = loadh5('solutions/e3/A10/ribEq1L7M16N35E1_001E2_000E3_050.hdf5')\n",
    "    x = x.slice(L=0)\n",
    "    x.flowDict['alpha'] = 0.\n",
    "x = loadh5('solutions/laminar/lamRibEq1L0M16N35E1_001E2_000E3_050.hdf5')\n",
    "vf = x.slice(nd=[0,1,2]); pf = x.getScalar(nd=3)\n",
    "vf,pf,fnorm,flg = rib.iterate(vf=vf,pf=pf,iterMax=100)\n",
    "x = vf.appendField(pf)\n",
    "x.saveh5(prefix='solutions/laminar/',fNamePrefix='lamRibEq1')\n",
    "print('resnorm:',x.residuals().norm())"
   ]
  },
  {
   "cell_type": "code",
   "execution_count": null,
   "metadata": {
    "collapsed": true
   },
   "outputs": [],
   "source": []
  },
  {
   "cell_type": "markdown",
   "metadata": {},
   "source": [
    "# Extrapolation from A=0.01"
   ]
  },
  {
   "cell_type": "code",
   "execution_count": null,
   "metadata": {
    "collapsed": false
   },
   "outputs": [],
   "source": [
    "x0 = loadh5('ribEq1L7M10N30E0000.hdf5').slice(L=7,M=16,N=35)\n",
    "x1 = loadh5('solutions/e1/A01/ribEq1L7M16N35E1_005.hdf5')\n",
    "dx = (x1 - x0)/0.01\n",
    "\n",
    "epsArr = np.arange(0.,0.1001,0.005)\n",
    "normArr = np.zeros((2,epsArr.size))\n",
    "divArr = np.zeros((2,epsArr.size))\n",
    "corrArr = np.zeros((2,epsArr.size))\n",
    "energyArr = np.zeros((3,epsArr.size))\n",
    "dissipationArr = np.zeros((3,epsArr.size))\n",
    "\n",
    "for k in range(1,epsArr.size):\n",
    "    eps = epsArr[k]\n",
    "    x = x0 + 2.*eps*dx\n",
    "    x.flowDict['eps'] = eps\n",
    "    x.flowDict['epsArr'] = np.array([0.,eps])\n",
    "    fileStr = 'solutions/e1/A%02d/ribEq1L7M16N35E1_%03d.hdf5'%(k,5*k)\n",
    "    xSol = loadh5(fileStr)\n",
    "    \n",
    "    divArr[0,k] = x.div().norm()\n",
    "    normArr[0,k] = x.residuals().norm()\n",
    "    \n",
    "    corrArr[0,k] = x.dot(xSol)/x.norm()/xSol.norm()\n",
    "    corrArr[1,k] = x0.dot(xSol)/x0.norm()/xSol.norm()\n",
    "    \n",
    "    energyArr[0,k] = x.energy()\n",
    "    energyArr[1,k] = xSol.energy()\n",
    "    \n",
    "    dissipationArr[0,k] = x.dissipation()\n",
    "    dissipationArr[1,k] = xSol.dissipation()\n",
    "    \n",
    "    x[:] = x0[:]\n",
    "    divArr[1,k] = x.div().norm()\n",
    "    normArr[1,k] = x.residuals().norm()\n",
    "    energyArr[2,k] = x.energy()\n",
    "    dissipationArr[2,k] = x.dissipation()\n",
    "    \n",
    "\n"
   ]
  },
  {
   "cell_type": "code",
   "execution_count": null,
   "metadata": {
    "collapsed": false
   },
   "outputs": [],
   "source": [
    "fName='E1'\n",
    "plt.figure()\n",
    "plt.plot(2.*epsArr[2:],normArr[0,2:],'r^-.')\n",
    "plt.plot(2.*epsArr[2:],divArr[0,2:],'b^-.')\n",
    "plt.plot(2.*epsArr[2:],normArr[1,2:],'ro:')\n",
    "plt.plot(2.*epsArr[2:],divArr[1,2:],'bo:')\n",
    "plt.yscale('log')\n",
    "plt.xlabel('Amplitude ($A$)',fontsize=15)\n",
    "plt.ylabel('Norm',fontsize=15)\n",
    "plt.legend(['Residual ($\\\\chi^+$)','Divergence($\\\\chi^+$)','Residual ($\\\\chi^*_0$)','Divergence($\\\\chi^*_0$)'],loc=4)\n",
    "plt.savefig(figureFolder+'linExNorm'+fName+'.eps',format='eps',dpi=1200)\n",
    "plt.show()\n",
    "\n",
    "plt.figure()\n",
    "plt.plot(2.*epsArr[1:],corrArr[0,1:],'r^-.')\n",
    "plt.plot(2.*epsArr[1:],corrArr[1,1:],'ro:')\n",
    "plt.xlabel('Amplitude ($A$)',fontsize=15)\n",
    "plt.ylabel('proj($ \\chi, \\chi^*$)',fontsize=15)\n",
    "plt.legend(['$\\\\chi^+$','$\\\\chi^*_0$'])\n",
    "plt.ylim([0.98,1.01])\n",
    "plt.savefig(figureFolder+'linExCorr'+fName+'.eps',format='eps',dpi=1200)\n",
    "plt.show()\n",
    "\n",
    "plt.figure()\n",
    "plt.plot(2.*epsArr[1:],(energyArr[0,1:] - energyArr[1,1:])/energyArr[1,1:],'r^-.')\n",
    "plt.plot(2.*epsArr[1:],(dissipationArr[0,1:] - dissipationArr[1,1:])/dissipationArr[1,1:],'b^-.')\n",
    "plt.plot(2.*epsArr[1:],(energyArr[2,1:] - energyArr[1,1:])/energyArr[1,1:],'ro:')\n",
    "plt.plot(2.*epsArr[1:],(dissipationArr[2,1:] - dissipationArr[1,1:])/dissipationArr[1,1:],'bo:')\n",
    "plt.xlabel('Amplitude ($A$)',fontsize=15)\n",
    "plt.ylabel('Relative Error',fontsize=15)\n",
    "plt.legend(['$E(\\\\chi^+)$','$D(\\\\chi^+)$','$E(\\\\chi^*_0)$','$D(\\\\chi^*_0)$'],loc=2)\n",
    "plt.savefig(figureFolder+'linExErr'+fName+'.eps',format='eps',dpi=1200)\n",
    "plt.show()\n",
    "\n",
    "\n"
   ]
  },
  {
   "cell_type": "code",
   "execution_count": null,
   "metadata": {
    "collapsed": false
   },
   "outputs": [],
   "source": [
    "x0 = loadh5('ribEq1L7M10N30E0000.hdf5').slice(L=7,M=16,N=35)\n",
    "x1 = loadh5('solutions/e3/A01/ribEq1L7M16N35E1_001E2_000E3_005.hdf5')\n",
    "dx = (x1 - x0)/0.01\n",
    "\n",
    "epsArr = np.arange(0.,0.0501,0.005)\n",
    "normArr = np.zeros((2,epsArr.size))\n",
    "divArr = np.zeros((2,epsArr.size))\n",
    "corrArr = np.zeros((2,epsArr.size))\n",
    "energyArr = np.zeros((3,epsArr.size))\n",
    "dissipationArr = np.zeros((3,epsArr.size))\n",
    "\n",
    "for k in range(1,epsArr.size):\n",
    "    eps = epsArr[k]\n",
    "    x = x0 + 2.*eps*dx\n",
    "    x.flowDict['eps'] = 0.001\n",
    "    x.flowDict['epsArr'] = np.array([0.,0.001,0.,eps])\n",
    "    fileStr = 'solutions/e3/A%02d/ribEq1L7M16N35E1_001E2_000E3_%03d.hdf5'%(k,5*k)\n",
    "    xSol = loadh5(fileStr)\n",
    "    \n",
    "    divArr[0,k] = x.div().norm()\n",
    "    normArr[0,k] = x.residuals().norm()\n",
    "    \n",
    "    corrArr[0,k] = x.dot(xSol)/x.norm()/xSol.norm()\n",
    "    corrArr[1,k] = x0.dot(xSol)/x0.norm()/xSol.norm()\n",
    "    \n",
    "    energyArr[0,k] = x.energy()\n",
    "    energyArr[1,k] = xSol.energy()\n",
    "    \n",
    "    dissipationArr[0,k] = x.dissipation()\n",
    "    dissipationArr[1,k] = xSol.dissipation()\n",
    "    \n",
    "    x[:] = x0[:]\n",
    "    divArr[1,k] = x.div().norm()\n",
    "    normArr[1,k] = x.residuals().norm()\n",
    "    energyArr[2,k] = x.energy()\n",
    "    dissipationArr[2,k] = x.dissipation()\n",
    "    \n",
    "\n"
   ]
  },
  {
   "cell_type": "code",
   "execution_count": null,
   "metadata": {
    "collapsed": false
   },
   "outputs": [],
   "source": [
    "fName='E3'\n",
    "plt.figure()\n",
    "plt.plot(2.*epsArr[2:],normArr[0,2:],'r^-.')\n",
    "plt.plot(2.*epsArr[2:],divArr[0,2:],'b^-.')\n",
    "plt.plot(2.*epsArr[2:],normArr[1,2:],'ro:')\n",
    "plt.plot(2.*epsArr[2:],divArr[1,2:],'bo:')\n",
    "plt.yscale('log')\n",
    "plt.xlabel('Amplitude ($A$)',fontsize=15)\n",
    "plt.ylabel('Norm',fontsize=15)\n",
    "plt.legend(['Residual ($\\\\chi^+$)','Divergence($\\\\chi^+$)','Residual ($\\\\chi^*_0$)','Divergence($\\\\chi^*_0$)'],loc=4)\n",
    "plt.savefig(figureFolder+'linExNorm'+fName+'.eps',format='eps',dpi=1200)\n",
    "plt.show()\n",
    "\n",
    "plt.figure()\n",
    "plt.plot(2.*epsArr[1:],corrArr[0,1:],'r^-.')\n",
    "plt.plot(2.*epsArr[1:],corrArr[1,1:],'ro:')\n",
    "plt.xlabel('Amplitude ($A$)',fontsize=15)\n",
    "plt.ylabel('proj($ \\chi, \\chi^*$)',fontsize=15)\n",
    "plt.legend(['$\\\\chi^+$','$\\\\chi^*_0$'])\n",
    "plt.ylim([0.98,1.01])\n",
    "plt.savefig(figureFolder+'linExCorr'+fName+'.eps',format='eps',dpi=1200)\n",
    "plt.show()\n",
    "\n",
    "plt.figure()\n",
    "plt.plot(2.*epsArr[1:],(energyArr[0,1:] - energyArr[1,1:])/energyArr[1,1:],'r^-.')\n",
    "plt.plot(2.*epsArr[1:],(dissipationArr[0,1:] - dissipationArr[1,1:])/dissipationArr[1,1:],'b^-.')\n",
    "plt.plot(2.*epsArr[1:],(energyArr[2,1:] - energyArr[1,1:])/energyArr[1,1:],'ro:')\n",
    "plt.plot(2.*epsArr[1:],(dissipationArr[2,1:] - dissipationArr[1,1:])/dissipationArr[1,1:],'bo:')\n",
    "plt.xlabel('Amplitude ($A$)',fontsize=15)\n",
    "plt.ylabel('Relative Error',fontsize=15)\n",
    "plt.legend(['$E(\\\\chi^+)$','$D(\\\\chi^+)$','$E(\\\\chi^*_0)$','$D(\\\\chi^*_0)$'],loc=2)\n",
    "plt.savefig(figureFolder+'linExErr'+fName+'.eps',format='eps',dpi=1200)\n",
    "plt.show()\n",
    "\n",
    "\n",
    "\n",
    "\n"
   ]
  },
  {
   "cell_type": "code",
   "execution_count": null,
   "metadata": {
    "collapsed": true
   },
   "outputs": [],
   "source": [
    "x0 = loadh5('ribEq1L7M10N30E0000.hdf5').slice(L=7,M=16,N=35)\n",
    "x1 = loadh5('solutions/e2/A01/ribEq1L7M16N35E1_001E2_005.hdf5')\n",
    "dx = (x1 - x0)/0.01\n",
    "\n",
    "epsArr = np.arange(0.,0.0501,0.005)\n",
    "normArr = np.zeros((2,epsArr.size))\n",
    "divArr = np.zeros((2,epsArr.size))\n",
    "corrArr = np.zeros((2,epsArr.size))\n",
    "energyArr = np.zeros((3,epsArr.size))\n",
    "dissipationArr = np.zeros((3,epsArr.size))\n",
    "\n",
    "for k in range(1,epsArr.size):\n",
    "    eps = epsArr[k]\n",
    "    x = x0 + 2.*eps*dx\n",
    "    x.flowDict['eps'] = 0.001\n",
    "    x.flowDict['epsArr'] = np.array([0.,0.001,eps])\n",
    "    fileStr = 'solutions/e2/A%02d/ribEq1L7M16N35E1_001E2_%03d.hdf5'%(k,5*k)\n",
    "    xSol = loadh5(fileStr)\n",
    "    \n",
    "    divArr[0,k] = x.div().norm()\n",
    "    normArr[0,k] = x.residuals().norm()\n",
    "    \n",
    "    corrArr[0,k] = x.dot(xSol)/x.norm()/xSol.norm()\n",
    "    corrArr[1,k] = x0.dot(xSol)/x0.norm()/xSol.norm()\n",
    "    \n",
    "    energyArr[0,k] = x.energy()\n",
    "    energyArr[1,k] = xSol.energy()\n",
    "    \n",
    "    dissipationArr[0,k] = x.dissipation()\n",
    "    dissipationArr[1,k] = xSol.dissipation()\n",
    "    \n",
    "    x[:] = x0[:]\n",
    "    divArr[1,k] = x.div().norm()\n",
    "    normArr[1,k] = x.residuals().norm()\n",
    "    energyArr[2,k] = x.energy()\n",
    "    dissipationArr[2,k] = x.dissipation()\n",
    "    \n",
    "\n"
   ]
  },
  {
   "cell_type": "code",
   "execution_count": null,
   "metadata": {
    "collapsed": false
   },
   "outputs": [],
   "source": [
    "fName='E2'\n",
    "plt.figure()\n",
    "plt.plot(2.*epsArr[2:],normArr[0,2:],'r^-.')\n",
    "plt.plot(2.*epsArr[2:],divArr[0,2:],'b^-.')\n",
    "plt.plot(2.*epsArr[2:],normArr[1,2:],'ro:')\n",
    "plt.plot(2.*epsArr[2:],divArr[1,2:],'bo:')\n",
    "plt.yscale('log')\n",
    "plt.xlabel('Amplitude ($A$)',fontsize=15)\n",
    "plt.ylabel('Norm',fontsize=15)\n",
    "plt.legend(['Residual ($\\\\chi^+$)','Divergence($\\\\chi^+$)','Residual ($\\\\chi^*_0$)','Divergence($\\\\chi^*_0$)'],loc=4)\n",
    "plt.savefig(figureFolder+'linExNorm'+fName+'.eps',format='eps',dpi=1200)\n",
    "plt.show()\n",
    "\n",
    "plt.figure()\n",
    "plt.plot(2.*epsArr[1:],corrArr[0,1:],'r^-.')\n",
    "plt.plot(2.*epsArr[1:],corrArr[1,1:],'ro:')\n",
    "plt.xlabel('Amplitude ($A$)',fontsize=15)\n",
    "plt.ylabel('proj($ \\chi, \\chi^*$)',fontsize=15)\n",
    "plt.legend(['$\\\\chi^+$','$\\\\chi^*_0$'])\n",
    "plt.ylim([0.98,1.01])\n",
    "plt.savefig(figureFolder+'linExCorr'+fName+'.eps',format='eps',dpi=1200)\n",
    "plt.show()\n",
    "\n",
    "plt.figure()\n",
    "plt.plot(2.*epsArr[1:],(energyArr[0,1:] - energyArr[1,1:])/energyArr[1,1:],'r^-.')\n",
    "plt.plot(2.*epsArr[1:],(dissipationArr[0,1:] - dissipationArr[1,1:])/dissipationArr[1,1:],'b^-.')\n",
    "plt.plot(2.*epsArr[1:],(energyArr[2,1:] - energyArr[1,1:])/energyArr[1,1:],'ro:')\n",
    "plt.plot(2.*epsArr[1:],(dissipationArr[2,1:] - dissipationArr[1,1:])/dissipationArr[1,1:],'bo:')\n",
    "plt.xlabel('Amplitude ($A$)',fontsize=15)\n",
    "plt.ylabel('Relative Error',fontsize=15)\n",
    "plt.legend(['$E(\\\\chi^+)$','$D(\\\\chi^+)$','$E(\\\\chi^*_0)$','$D(\\\\chi^*_0)$'],loc=2)\n",
    "plt.savefig(figureFolder+'linExErr'+fName+'.eps',format='eps',dpi=1200)\n",
    "plt.show()\n",
    "\n",
    "\n",
    "\n"
   ]
  },
  {
   "cell_type": "markdown",
   "metadata": {
    "collapsed": true
   },
   "source": [
    "## Solver with reflectional symmetry"
   ]
  },
  {
   "cell_type": "code",
   "execution_count": null,
   "metadata": {
    "collapsed": true
   },
   "outputs": [],
   "source": [
    "sigma1 = True\n",
    "L = 3; M=5; N=20; eps = 0.05\n",
    "x = loadh5('ribEq1L7M10N30E0000.hdf5').slice(L=L,M=M,N=N)\n",
    "x.flowDict.update({'eps':eps, 'epsArr':np.array([0.,eps])})\n",
    "flowDict = x.flowDict\n",
    "Lmat = rib.linr(flowDict,sigma1=sigma1)\n",
    "#x[0,:,:,0] = 0.\n",
    "vf = x.slice(nd=[0,1,2])"
   ]
  },
  {
   "cell_type": "code",
   "execution_count": null,
   "metadata": {
    "collapsed": false
   },
   "outputs": [],
   "source": [
    "\n",
    "Lmat[:] = 0.\n",
    "\n",
    "if sigma1:\n",
    "    nz1 = vf.nz//2 + 1\n",
    "else:\n",
    "    nz1 = vf.nz\n",
    "\n",
    "a = vf.flowDict['alpha']; b = vf.flowDict['beta']\n",
    "epsArr = vf.flowDict['epsArr']\n",
    "q0 = epsArr.size-1\n",
    "Tz = Tderivatives(vf.flowDict)[0]\n",
    "N = vf.N; L = vf.nx//2; M = vf.nz//2; N4 = 4*N\n",
    "\n",
    "# No reason to keep accessing flowFieldRiblet with all its extra machinery\n",
    "#   Copy elements to a regular numpy array instead\n",
    "vfArr = vf.view4d().copyArray()\n",
    "u = vfArr[0,:,:,0]; v = vfArr[0,:,:,1]; w = vfArr[0,:,:,2]\n",
    "vfyArr = vf.ddy().view4d().copyArray()\n",
    "uy = vfyArr[0,:,:,0]; vy = vfyArr[0,:,:,1]; wy = vfyArr[0,:,:,2]\n",
    "# The state-vectors aren't that big, so memory isn't an issue\n",
    "\n",
    "D = vf.D; I = np.identity(vf.N, dtype=Lmat.dtype); Z = np.zeros((vf.N,vf.N),dtype=Lmat.dtype)\n",
    "D.astype(Lmat.dtype)\n",
    "\n",
    "# Index of the first row/column of the block for any wavenumber vector (l,m)\n",
    "iFun = lambda l,m: (l+L)*(nz1*4*N) + (m+M)*4*N\n",
    "\n",
    "Gmat = Lmat\n",
    "assert (Gmat.shape[0] == vf.nx*nz1*4*N) and (Gmat.shape[1] == vf.nx*nz1*4*N)\n",
    "\n",
    "# I will be using the functions np.diag() and np.dot() quite often, so,\n",
    "diag = np.diag; dot = np.dot\n",
    "\n",
    "# Final piece of notation: \n",
    "ia = 1.j*a; ib = 1.j*b\n",
    "\n",
    "if sigma1:\n",
    "    M1 = 1\n",
    "else:\n",
    "    M1 = M+1\n",
    "\n",
    "    \n",
    "# The convection term has this form:\n",
    "# phi^{lm}_{1,2,3} = \\sum_lp \\sum_mp  u_{l-lp,m-mp} u_{lp,mp}  , \n",
    "#    disregarding the surface influence terms. \n",
    "# Gmat is the actual non-linear jacobian\n",
    "# G is a temporary matrix created for each 'lp' in equations for each (l,m) in the Jacobian,\n",
    "# If sigma1 is to be imposed,\n",
    "#    G is folded and multiplied with (-1)**lp before being assigned to the\n",
    "#        corresponding rows and columns in Gmat\n",
    "# Otherwise, G is added as is\n",
    "G = np.zeros((4*N, vf.nz*4*N), dtype=np.complex)\n",
    "\n",
    "\n",
    "for l in range(-L,L+1):\n",
    "    for m in range(-M,M1):\n",
    "        # Index of first row in the block for equations for wavenumbers (l,m)\n",
    "        rInd = iFun(l,m)\n",
    "        # l1,m2 are the wavenumbers in phi^j_{lm}\n",
    "\n",
    "        for lp in range(-L,L+1):\n",
    "            G[:] = 0.    # Getting rid of G from previous \n",
    "            rInd = 0     # We're only writing equations for one l,m, lp\n",
    "            # G contains the part of the Jacobian that multiplies the mode (lp,:)\n",
    "            #    in the equations for (l,m)\n",
    "            # I will define this without assuming symmetries\n",
    "            # When adding to Gmat, I will fold G on itself\n",
    "            \n",
    "            for mp in range(-M,M+1):\n",
    "                #cInd = iFun(lp,mp)\n",
    "                cInd = iFun(-L,mp)  # Because I'm writing G for only one 'l'\n",
    "                if (-L <= (l-lp) <= L):\n",
    "                    li = l-lp+L # Array index for streamwise wavenumber l-lp\n",
    "\n",
    "                    # First, all the terms not relating to wall-effects\n",
    "                    if (-M <= (m-mp) <= M):\n",
    "                        mi = m-mp+M # Array index for spanwise wavenumber m-mp\n",
    "                        # phi^1_{l,m}: factors of terms with  u_{lp,mp}:\n",
    "                        G[ rInd+0*N : rInd+1*N , cInd+0*N : cInd+1*N ] += \\\n",
    "                                ( l*ia* diag(u[li, mi])  + v[li,mi].reshape((N,1)) *D + diag(w[li,mi])*mp*ib )\n",
    "                        # phi^1_{l,m}: factors of terms with  v_{lp,mp}:\n",
    "                        G[ rInd+0*N : rInd+1*N , cInd+1*N : cInd+2*N ] += (diag(uy[li, mi]))\n",
    "                        # phi^1_{l,m}: factors of terms with  w_{lp,mp}\n",
    "                        G[ rInd+0*N : rInd+1*N , cInd+2*N : cInd+3*N ] += ((m-mp)*ib*diag(u[li, mi]))\n",
    "\n",
    "                        # phi^2_{l,m}: factors of terms with  v_{lp,mp}:\n",
    "                        G[ rInd+1*N : rInd+2*N , cInd+1*N : cInd+2*N ] += \\\n",
    "                                (    lp*ia* diag(u[li, mi])  + v[li,mi].reshape((N,1)) *D + diag(w[li,mi])*mp*ib \\\n",
    "                                + diag(vy[li,mi])   )\n",
    "                        # phi^2_{l,m}: factors of terms with  u_{lp,mp}:\n",
    "                        G[ rInd+1*N : rInd+2*N , cInd+0*N : cInd+1*N ] += ((l-lp)*ia*diag(v[li, mi])  )\n",
    "                        # phi^2_{l,m}: factors of terms with  w_{lp,mp}:\n",
    "                        G[ rInd+1*N : rInd+2*N , cInd+2*N : cInd+3*N ] += ((m-mp)*ib*diag(v[li, mi])  )\n",
    "\n",
    "                        # phi^3_{l,m}: factors of terms with  w_{lp,mp}:\n",
    "                        G[ rInd+2*N : rInd+3*N , cInd+2*N : cInd+3*N ] += \\\n",
    "                                (  lp*ia* diag(u[li, mi])  + v[li,mi].reshape((N,1)) *D + m*ib*diag(w[li,mi])  )\n",
    "                        # phi^3_{l,m}: factors of terms with  v_{lp,mp}:\n",
    "                        G[ rInd+2*N : rInd+3*N , cInd+1*N : cInd+2*N ] += (   diag(wy[li, mi]) )\n",
    "                        # phi^3_{l,m}: factors of terms with  u_{lp,mp}:\n",
    "                        G[ rInd+2*N : rInd+3*N , cInd+0*N : cInd+1*N ] += (   (l-lp)*ia*diag(w[li, mi])  )\n",
    "\n",
    "                    # Now, the terms arising due to wall effects\n",
    "                    # The interactions in l are unaffected since Tz only have e^iqb\n",
    "\n",
    "                    for q in range(-q0,q0+1):\n",
    "\n",
    "                        if (-M <= (m-mp+q) <= M):\n",
    "                            mi = m-mp+q+M # Array index for spanwise wavenumber m-mp\n",
    "                            # phi^1_{l,m}: factors of terms with u_{lp,mp}\n",
    "                            G[ rInd+0*N : rInd+1*N , cInd+0*N : cInd+1*N ] += Tz[q0-q]* w[li,mi].reshape((N,1)) * D \n",
    "                            # phi^1_{l,m}: factors of terms with w_{lp,mp}\n",
    "                            G[ rInd+0*N : rInd+1*N , cInd+2*N : cInd+3*N ] += Tz[q0-q]* diag(uy[li,mi]) \n",
    "\n",
    "                            # phi^2_{l,m}: factors of terms with v_{lp,mp}\n",
    "                            G[ rInd+1*N : rInd+2*N , cInd+1*N : cInd+2*N ] += Tz[q0-q]* w[li,mi].reshape((N,1)) * D \n",
    "                            # phi^2_{l,m}: factors of terms with w_{lp,mp}\n",
    "                            G[ rInd+1*N : rInd+2*N , cInd+2*N : cInd+3*N ] += Tz[q0-q]* diag(vy[li,mi]) \n",
    "\n",
    "                            # phi^3_{l,m}: factors of terms with w_{lp,mp}\n",
    "                            G[ rInd+2*N : rInd+3*N , cInd+2*N : cInd+3*N ] += Tz[q0-q]* w[li,mi].reshape((N,1)) * D \\\n",
    "                                    +Tz[q0-q]* diag(wy[li,mi]) \n",
    "            # Now, G is ready to be folded if sigma1 holds\n",
    "            if sigma1:\n",
    "                if False:\n",
    "                    Gtemp = np.zeros((4*N, M+1, 4*N), dtype=Gmat.dtype)\n",
    "                    Gnew = G.reshape((4*N, vf.nz, 4,N))\n",
    "                    Gnew[:, M:,2] = -1.* Gnew[:, M:, 2]   # w-factors need to be multiplied with an extra -1\n",
    "                    # Because sigma1 goes u_{l,m} = (-1)^l  u_{l,-m} (same for v and p)\n",
    "                    #               but   w_{l,m} = (-1)^{l+1} w_{l,-m}\n",
    "                    Gnew = Gnew.reshape((4*N, vf.nz, 4*N))\n",
    "\n",
    "                    Gtemp[:] = Gnew[:, :M+1]   # Factors of non-positive modes are assigned as are\n",
    "                    Gtemp[:,:M] += (-1.)**lp  * Gnew[:, :M:-1]   # Need to assign M to -M, (M-1) to -(M-1) and so on..\n",
    "                    # Reshaping to a matrix\n",
    "                    Gtemp = Gtemp.reshape((4*N, nz1*4*N))\n",
    "                    # And that's it. We're ready to add to Gmat\n",
    "                else:\n",
    "                    Gtemp = G[:, nz1*4*N:].reshape((4*N, M, 4*N))\n",
    "                    Gtemp = Gtemp[:,::-1]\n",
    "                    Gtemp[:,:, 2*N:3*N] *= -1.\n",
    "                    Gtemp = Gtemp.reshape((4*N, M*4*N))\n",
    "                    \n",
    "                    \n",
    "                \n",
    "            \n",
    "            cInd = iFun(lp, -M)\n",
    "            rInd = iFun(l,m)\n",
    "            Gmat[rInd: rInd+4*N, cInd: cInd+nz1*4*N] = G[:,:nz1*4*N]\n",
    "            if sigma1:\n",
    "                Gmat[rInd: rInd+4*N, cInd: cInd+M*4*N] += (-1.)**lp * Gtemp\n",
    "\n",
    "\n"
   ]
  },
  {
   "cell_type": "code",
   "execution_count": null,
   "metadata": {
    "collapsed": false
   },
   "outputs": [],
   "source": [
    "vf = x.slice(nd=[0,1,2]); pf = x.getScalar(nd=3); tol = 1.0e-10\n",
    "nex = 5\n",
    "\n",
    "vf1 = vf.slice(L=vf.nx//2+nex, M = vf.nz//2+nex)\n",
    "pf1 = pf.slice(L=vf.nx//2+nex, M = vf.nz//2+nex)\n",
    "\n",
    "\n",
    "if sigma1:\n",
    "    NLterm = 0.5*np.dot(Lmat, x[0,:,:x.nz//2+1].flatten())\n",
    "else:\n",
    "    NLterm = 0.5*np.dot(Lmat, x.flatten())\n",
    "\n",
    "NLtermClassFine = vf1.convNL()\n",
    "NLtermClass = NLtermClassFine.slice(L=vf.nx//2, M=vf.nz//2).appendField(pf.zero())\n",
    "\n",
    "if sigma1:\n",
    "    resnorm =  chebnorm(NLterm - NLtermClass[0,:,:x.nz//2+1].flatten(), x.N)   \n",
    "else:\n",
    "    resnorm = chebnorm(NLterm - NLtermClass.flatten(), x.N)\n",
    "\n",
    "NLtestResult = resnorm <= tol\n",
    "print(NLtestResult, resnorm)"
   ]
  },
  {
   "cell_type": "code",
   "execution_count": null,
   "metadata": {
    "collapsed": true
   },
   "outputs": [],
   "source": []
  },
  {
   "cell_type": "code",
   "execution_count": null,
   "metadata": {
    "collapsed": true
   },
   "outputs": [],
   "source": []
  },
  {
   "cell_type": "code",
   "execution_count": null,
   "metadata": {
    "collapsed": true
   },
   "outputs": [],
   "source": []
  },
  {
   "cell_type": "code",
   "execution_count": null,
   "metadata": {
    "collapsed": true
   },
   "outputs": [],
   "source": []
  },
  {
   "cell_type": "markdown",
   "metadata": {},
   "source": [
    "## Linear truncation in Fourier space"
   ]
  },
  {
   "cell_type": "code",
   "execution_count": null,
   "metadata": {
    "collapsed": true
   },
   "outputs": [],
   "source": [
    "vf = h52ff('../flowFieldV2/Eq/eq1.h5')\n",
    "pf = h52ff('../flowFieldV2/Eq/pres_eq1.h5',pres=True)\n",
    "x = vf.appendField(pf).view4d()"
   ]
  },
  {
   "cell_type": "code",
   "execution_count": null,
   "metadata": {
    "collapsed": false
   },
   "outputs": [],
   "source": [
    "Larr = np.array([5,7,10,13]).astype(np.int)\n",
    "Marr = np.array([8,10, 12, 14]).astype(np.int)\n",
    "lRes = np.zeros(4); mRes = np.zeros(4); lmRes1 = np.zeros(4); lmRes2 = np.zeros(4)\n",
    "L = x.nx//2; M = x.nz//2\n",
    "for k in range(4):\n",
    "    l = Larr[k]; m = Marr[k]\n",
    "    print(l,m)\n",
    "    lRes[k] = chebnorm(x[0,L-l,M],x.N)\n",
    "    mRes[k] = chebnorm(x[0,L,M-m],x.N)\n",
    "    lmRes1[k] = chebnorm(x[0, L-l//2, M-m//2], x.N)\n",
    "    lmRes2[k] = chebnorm(x[0,L-l, M-m], x.N)\n",
    "\n",
    "print(lRes, mRes, lmRes1, lmRes2)\n",
    "#"
   ]
  },
  {
   "cell_type": "code",
   "execution_count": null,
   "metadata": {
    "collapsed": false
   },
   "outputs": [],
   "source": [
    "for l in range(16,31):\n",
    "    print(chebnorm(x[0,l,M],x.N), chebnorm(x[0,l,l],x.N))\n",
    "\n",
    "# Modes (l,l) seem to have more energy than modes (l,0). Clearly, linear truncation is a bad idea."
   ]
  },
  {
   "cell_type": "code",
   "execution_count": null,
   "metadata": {
    "collapsed": false
   },
   "outputs": [],
   "source": [
    "x0 = loadh5('solutions/e1/A10/ribEq1L7M16N35E1_050.hdf5')\n",
    "x1 = loadh5('solutions/e1phi1p0/A10/ribEq1L7M10N30E0500.hdf5')\n",
    "x0.residuals().norm(), x1.residuals().norm(), (x0.slice(M=10,N=30).shiftPhase(phiX=np.pi)-x1).norm()\n"
   ]
  },
  {
   "cell_type": "code",
   "execution_count": null,
   "metadata": {
    "collapsed": true
   },
   "outputs": [],
   "source": [
    "x00 = x0.slice(M=10,N=30)\n",
    "x00.imposeSymms()\n",
    "x00[:,:,:,:3,[0,-1]] = 0.\n",
    "x00[0,x00.nx//2,x00.nz//2,0,0]= 1.\n",
    "x00[0,x00.nx//2,x00.nz//2,0,-1]= -1."
   ]
  },
  {
   "cell_type": "code",
   "execution_count": null,
   "metadata": {
    "collapsed": false
   },
   "outputs": [],
   "source": [
    "x00.residuals().norm()"
   ]
  },
  {
   "cell_type": "code",
   "execution_count": null,
   "metadata": {
    "collapsed": false
   },
   "outputs": [],
   "source": [
    "print((x00.reflectZ().shiftPhase(phiX=np.pi) - x1).norm())\n",
    "print((x00.reflectZ().shiftPhase(phiZ=np.pi) - x1).norm())\n",
    "print((x00.reflectZ().shiftPhase(phiX=np.pi,phiZ=np.pi) - x1).norm())\n",
    "print((x00.reflectZ().shiftPhase(phiX=np.pi/2.) - x1).norm())\n",
    "print((x00.reflectZ().shiftPhase(phiZ=np.pi/2.) - x1).norm())\n",
    "print((x00.reflectZ().shiftPhase(phiX=np.pi/2.,phiZ=np.pi/2.) - x1).norm())\n",
    "print((x00.reflectZ().shiftPhase(phiX=np.pi,phiZ=np.pi/2.) - x1).norm())\n",
    "print((x00.reflectZ().shiftPhase(phiZ=np.pi,phiX=np.pi/2.) - x1).norm())\n",
    "\n",
    "print((x00.reflectZ().rotateZ().shiftPhase(phiX=np.pi) - x1).norm())\n",
    "print((x00.reflectZ().rotateZ().shiftPhase(phiZ=np.pi) - x1).norm())\n",
    "print((x00.reflectZ().rotateZ().shiftPhase(phiX=np.pi,phiZ=np.pi) - x1).norm())\n",
    "print((x00.reflectZ().rotateZ().shiftPhase(phiX=np.pi/2.) - x1).norm())\n",
    "print((x00.reflectZ().rotateZ().shiftPhase(phiZ=np.pi/2.) - x1).norm())\n",
    "print((x00.reflectZ().rotateZ().shiftPhase(phiX=np.pi/2.,phiZ=np.pi/2.) - x1).norm())\n",
    "print((x00.reflectZ().rotateZ().shiftPhase(phiX=np.pi,phiZ=np.pi/2.) - x1).norm())\n",
    "print((x00.reflectZ().rotateZ().shiftPhase(phiZ=np.pi,phiX=np.pi/2.) - x1).norm())\n",
    "\n",
    "print((x00.shiftPhase(phiX=np.pi) - x1).norm())\n",
    "print((x00.shiftPhase(phiZ=np.pi) - x1).norm())\n",
    "print((x00.shiftPhase(phiX=np.pi,phiZ=np.pi) - x1).norm())\n",
    "print((x00.shiftPhase(phiX=np.pi/2.) - x1).norm())\n",
    "print((x00.shiftPhase(phiZ=np.pi/2.) - x1).norm())\n",
    "print((x00.shiftPhase(phiX=np.pi/2.,phiZ=np.pi/2.) - x1).norm())\n",
    "print((x00.shiftPhase(phiX=np.pi,phiZ=np.pi/2.) - x1).norm())\n",
    "print((x00.shiftPhase(phiZ=np.pi,phiX=np.pi/2.) - x1).norm())\n"
   ]
  },
  {
   "cell_type": "code",
   "execution_count": null,
   "metadata": {
    "collapsed": false
   },
   "outputs": [],
   "source": [
    "x00.energy(),x00.dissipation(), x1.energy(), x1.dissipation()"
   ]
  },
  {
   "cell_type": "code",
   "execution_count": null,
   "metadata": {
    "collapsed": false
   },
   "outputs": [],
   "source": [
    "x1.checkSymms()"
   ]
  },
  {
   "cell_type": "code",
   "execution_count": 32,
   "metadata": {
    "collapsed": false
   },
   "outputs": [],
   "source": [
    "solDir = '/home/sabarish/Dropbox/gitwork/python3/symmetries/solutions/e1/'\n",
    "os.chdir(solDir)\n",
    "for k in range(11):\n",
    "    os.chdir('A%02d'%k)\n",
    "    files = os.listdir('./')\n",
    "    for f in files:\n",
    "        if f.startswith('ribEq1L14'): fName = f\n",
    "    x = loadh5(fName)\n",
    "    print('p00 mode at top wall:%.4g'%(np.abs(x[0,x.nx//2,x.nz//2,3,0])) )\n",
    "    print('p00 mode at bottom wall:%.4g'%(np.abs(x[0,x.nx//2,x.nz//2,3,-1])) )\n",
    "    print('Current res norm:%.4g'%(x.residuals().norm()))\n",
    "    x[0,x.nx//2,x.nz//2,3] -= x[0,x.nx//2,x.nz//2,3,0]\n",
    "    print('New res norm:%.4g'%(x.residuals().norm()))\n",
    "    print();print()\n",
    "    os.chdir('../')"
   ]
  },
  {
   "cell_type": "code",
   "execution_count": 20,
   "metadata": {
    "collapsed": false
   },
   "outputs": [],
   "source": [
    "os.chdir(solDir+'../../testMethods')\n"
   ]
  },
  {
   "cell_type": "code",
   "execution_count": 26,
   "metadata": {
    "collapsed": false
   },
   "outputs": [
    {
     "name": "stdout",
     "output_type": "stream",
     "text": [
      "4.05192904674e-12\n",
      "4.44494176504e-05\n",
      "0.00166081698003\n",
      "saved field to  ./ribEq1L5M6N25E1_030.hdf5\n"
     ]
    }
   ],
   "source": [
    "x = loadh5('ribEq1L7M10N30E0000.hdf5')\n",
    "print(x.residuals().norm())\n",
    "x = x.slice(N=25)\n",
    "x[0,x.nx//2,x.nz//2,0,0] = 1.\n",
    "x[0,x.nx//2,x.nz//2,0,-1] = -1.\n",
    "print(x.residuals().norm())\n",
    "x.flowDict.update({'eps':0.03,'epsArr':np.array([0.,0.03])})\n",
    "x = x.slice(L=5,M=6)\n",
    "print(x.residuals().norm())\n",
    "x.saveh5(fNamePrefix='ribEq1')"
   ]
  },
  {
   "cell_type": "code",
   "execution_count": 33,
   "metadata": {
    "collapsed": false
   },
   "outputs": [],
   "source": [
    "os.chdir(solDir+'../../testMethods/simple')"
   ]
  },
  {
   "cell_type": "code",
   "execution_count": 34,
   "metadata": {
    "collapsed": false
   },
   "outputs": [
    {
     "ename": "OSError",
     "evalue": "unable to create file (File accessibilty: Unable to open file)",
     "output_type": "error",
     "traceback": [
      "\u001b[0;31m---------------------------------------------------------------------------\u001b[0m",
      "\u001b[0;31mOSError\u001b[0m                                   Traceback (most recent call last)",
      "\u001b[0;32m/home/sabarish/Dropbox/gitwork/python3/symmetries/testMethods/runEq.py\u001b[0m in \u001b[0;36m<module>\u001b[0;34m()\u001b[0m\n\u001b[1;32m    111\u001b[0m \u001b[0;32mif\u001b[0m \u001b[0mvf\u001b[0m\u001b[0;34m.\u001b[0m\u001b[0mflowDict\u001b[0m\u001b[0;34m[\u001b[0m\u001b[0;34m'counter'\u001b[0m\u001b[0;34m]\u001b[0m\u001b[0;34m==\u001b[0m \u001b[0;36m0\u001b[0m\u001b[0;34m:\u001b[0m\u001b[0;34m\u001b[0m\u001b[0m\n\u001b[1;32m    112\u001b[0m     \u001b[0;31m# Saving first flow field in folder tmp/\u001b[0m\u001b[0;34m\u001b[0m\u001b[0;34m\u001b[0m\u001b[0m\n\u001b[0;32m--> 113\u001b[0;31m     \u001b[0mx\u001b[0m\u001b[0;34m.\u001b[0m\u001b[0msaveh5\u001b[0m\u001b[0;34m(\u001b[0m\u001b[0mfNamePrefix\u001b[0m\u001b[0;34m=\u001b[0m\u001b[0mfNamePrefix\u001b[0m\u001b[0;34m+\u001b[0m\u001b[0;34m'_0_'\u001b[0m\u001b[0;34m,\u001b[0m\u001b[0mprefix\u001b[0m\u001b[0;34m=\u001b[0m\u001b[0mloadPath\u001b[0m\u001b[0;34m+\u001b[0m\u001b[0;34m'tmp/'\u001b[0m\u001b[0;34m)\u001b[0m\u001b[0;34m\u001b[0m\u001b[0m\n\u001b[0m\u001b[1;32m    114\u001b[0m \u001b[0;34m\u001b[0m\u001b[0m\n\u001b[1;32m    115\u001b[0m \u001b[0mstart\u001b[0m \u001b[0;34m=\u001b[0m \u001b[0mtime\u001b[0m\u001b[0;34m.\u001b[0m\u001b[0mtime\u001b[0m\u001b[0;34m(\u001b[0m\u001b[0;34m)\u001b[0m\u001b[0;34m\u001b[0m\u001b[0m\n",
      "\u001b[0;32m/home/sabarish/Dropbox/gitwork/python3/symmetries/flowFieldWavy.py\u001b[0m in \u001b[0;36msaveh5\u001b[0;34m(self, fNamePrefix, prefix)\u001b[0m\n\u001b[1;32m    644\u001b[0m         \u001b[0mfName\u001b[0m \u001b[0;34m=\u001b[0m \u001b[0mpathPrefix\u001b[0m \u001b[0;34m+\u001b[0m \u001b[0mfName\u001b[0m\u001b[0;34m\u001b[0m\u001b[0m\n\u001b[1;32m    645\u001b[0m \u001b[0;34m\u001b[0m\u001b[0m\n\u001b[0;32m--> 646\u001b[0;31m         \u001b[0;32mwith\u001b[0m \u001b[0mh5py\u001b[0m\u001b[0;34m.\u001b[0m\u001b[0mFile\u001b[0m\u001b[0;34m(\u001b[0m\u001b[0mfName\u001b[0m\u001b[0;34m,\u001b[0m\u001b[0;34m\"w\"\u001b[0m\u001b[0;34m)\u001b[0m \u001b[0;32mas\u001b[0m \u001b[0moutFile\u001b[0m\u001b[0;34m:\u001b[0m\u001b[0;34m\u001b[0m\u001b[0m\n\u001b[0m\u001b[1;32m    647\u001b[0m             \u001b[0;32massert\u001b[0m \u001b[0mself\u001b[0m\u001b[0;34m.\u001b[0m\u001b[0mnd\u001b[0m \u001b[0;34m==\u001b[0m \u001b[0;36m4\u001b[0m\u001b[0;34m,\u001b[0m \u001b[0;34m\"Save flowFields that include a pressure field\"\u001b[0m\u001b[0;34m\u001b[0m\u001b[0m\n\u001b[1;32m    648\u001b[0m \u001b[0;34m\u001b[0m\u001b[0m\n",
      "\u001b[0;32m/usr/lib/python3/dist-packages/h5py/_hl/files.py\u001b[0m in \u001b[0;36m__init__\u001b[0;34m(self, name, mode, driver, libver, userblock_size, **kwds)\u001b[0m\n\u001b[1;32m    204\u001b[0m \u001b[0;34m\u001b[0m\u001b[0m\n\u001b[1;32m    205\u001b[0m             \u001b[0mfapl\u001b[0m \u001b[0;34m=\u001b[0m \u001b[0mmake_fapl\u001b[0m\u001b[0;34m(\u001b[0m\u001b[0mdriver\u001b[0m\u001b[0;34m,\u001b[0m \u001b[0mlibver\u001b[0m\u001b[0;34m,\u001b[0m \u001b[0;34m**\u001b[0m\u001b[0mkwds\u001b[0m\u001b[0;34m)\u001b[0m\u001b[0;34m\u001b[0m\u001b[0m\n\u001b[0;32m--> 206\u001b[0;31m             \u001b[0mfid\u001b[0m \u001b[0;34m=\u001b[0m \u001b[0mmake_fid\u001b[0m\u001b[0;34m(\u001b[0m\u001b[0mname\u001b[0m\u001b[0;34m,\u001b[0m \u001b[0mmode\u001b[0m\u001b[0;34m,\u001b[0m \u001b[0muserblock_size\u001b[0m\u001b[0;34m,\u001b[0m \u001b[0mfapl\u001b[0m\u001b[0;34m)\u001b[0m\u001b[0;34m\u001b[0m\u001b[0m\n\u001b[0m\u001b[1;32m    207\u001b[0m \u001b[0;34m\u001b[0m\u001b[0m\n\u001b[1;32m    208\u001b[0m         \u001b[0mGroup\u001b[0m\u001b[0;34m.\u001b[0m\u001b[0m__init__\u001b[0m\u001b[0;34m(\u001b[0m\u001b[0mself\u001b[0m\u001b[0;34m,\u001b[0m \u001b[0mfid\u001b[0m\u001b[0;34m)\u001b[0m\u001b[0;34m\u001b[0m\u001b[0m\n",
      "\u001b[0;32m/usr/lib/python3/dist-packages/h5py/_hl/files.py\u001b[0m in \u001b[0;36mmake_fid\u001b[0;34m(name, mode, userblock_size, fapl, fcpl)\u001b[0m\n\u001b[1;32m     83\u001b[0m         \u001b[0mfid\u001b[0m \u001b[0;34m=\u001b[0m \u001b[0mh5f\u001b[0m\u001b[0;34m.\u001b[0m\u001b[0mcreate\u001b[0m\u001b[0;34m(\u001b[0m\u001b[0mname\u001b[0m\u001b[0;34m,\u001b[0m \u001b[0mh5f\u001b[0m\u001b[0;34m.\u001b[0m\u001b[0mACC_EXCL\u001b[0m\u001b[0;34m,\u001b[0m \u001b[0mfapl\u001b[0m\u001b[0;34m=\u001b[0m\u001b[0mfapl\u001b[0m\u001b[0;34m,\u001b[0m \u001b[0mfcpl\u001b[0m\u001b[0;34m=\u001b[0m\u001b[0mfcpl\u001b[0m\u001b[0;34m)\u001b[0m\u001b[0;34m\u001b[0m\u001b[0m\n\u001b[1;32m     84\u001b[0m     \u001b[0;32melif\u001b[0m \u001b[0mmode\u001b[0m \u001b[0;34m==\u001b[0m \u001b[0;34m'w'\u001b[0m\u001b[0;34m:\u001b[0m\u001b[0;34m\u001b[0m\u001b[0m\n\u001b[0;32m---> 85\u001b[0;31m         \u001b[0mfid\u001b[0m \u001b[0;34m=\u001b[0m \u001b[0mh5f\u001b[0m\u001b[0;34m.\u001b[0m\u001b[0mcreate\u001b[0m\u001b[0;34m(\u001b[0m\u001b[0mname\u001b[0m\u001b[0;34m,\u001b[0m \u001b[0mh5f\u001b[0m\u001b[0;34m.\u001b[0m\u001b[0mACC_TRUNC\u001b[0m\u001b[0;34m,\u001b[0m \u001b[0mfapl\u001b[0m\u001b[0;34m=\u001b[0m\u001b[0mfapl\u001b[0m\u001b[0;34m,\u001b[0m \u001b[0mfcpl\u001b[0m\u001b[0;34m=\u001b[0m\u001b[0mfcpl\u001b[0m\u001b[0;34m)\u001b[0m\u001b[0;34m\u001b[0m\u001b[0m\n\u001b[0m\u001b[1;32m     86\u001b[0m     \u001b[0;32melif\u001b[0m \u001b[0mmode\u001b[0m \u001b[0;34m==\u001b[0m \u001b[0;34m'a'\u001b[0m \u001b[0;32mor\u001b[0m \u001b[0mmode\u001b[0m \u001b[0;32mis\u001b[0m \u001b[0;32mNone\u001b[0m\u001b[0;34m:\u001b[0m\u001b[0;34m\u001b[0m\u001b[0m\n\u001b[1;32m     87\u001b[0m         \u001b[0;32mtry\u001b[0m\u001b[0;34m:\u001b[0m\u001b[0;34m\u001b[0m\u001b[0m\n",
      "\u001b[0;32mh5f.pyx\u001b[0m in \u001b[0;36mh5py.h5f.create (h5py/h5f.c:1986)\u001b[0;34m()\u001b[0m\n",
      "\u001b[0;31mOSError\u001b[0m: unable to create file (File accessibilty: Unable to open file)"
     ]
    }
   ],
   "source": [
    "%run ../runEq.py 5 6 25 --eps1 0.03 --sigma1 True --sigma2 False --prefix ribEq1 --method simple --jacobian True"
   ]
  },
  {
   "cell_type": "code",
   "execution_count": null,
   "metadata": {
    "collapsed": true
   },
   "outputs": [],
   "source": []
  }
 ],
 "metadata": {
  "kernelspec": {
   "display_name": "Python 3",
   "language": "python",
   "name": "python3"
  },
  "language_info": {
   "codemirror_mode": {
    "name": "ipython",
    "version": 3
   },
   "file_extension": ".py",
   "mimetype": "text/x-python",
   "name": "python",
   "nbconvert_exporter": "python",
   "pygments_lexer": "ipython3",
   "version": "3.4.2"
  }
 },
 "nbformat": 4,
 "nbformat_minor": 0
}
