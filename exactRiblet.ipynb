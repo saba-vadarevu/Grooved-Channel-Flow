{
 "cells": [
  {
   "cell_type": "code",
   "execution_count": 1,
   "metadata": {
    "collapsed": true
   },
   "outputs": [],
   "source": [
    "%load_ext autoreload\n",
    "%autoreload 2\n"
   ]
  },
  {
   "cell_type": "code",
   "execution_count": 81,
   "metadata": {
    "collapsed": false
   },
   "outputs": [],
   "source": [
    "from flowField import *\n",
    "from flowFieldWavy import *\n",
    "import h5py\n",
    "import numpy as np\n",
    "import pdb\n",
    "import cProfile\n",
    "import time\n",
    "from pseudo import *\n",
    "from scipy.linalg import norm, svd\n",
    "from scipy.sparse.linalg import gmres, LinearOperator\n",
    "from lgmresCustom import lgmres\n",
    "from scipy.optimize import newton_krylov,root,anderson\n",
    "import exactRiblet as rib\n",
    "\n",
    "import matplotlib.pyplot as plt\n",
    "%matplotlib inline\n",
    "\n",
    "docFolder = \"./doc/figures/\"\n",
    "#%run test_flowFieldWavy.py"
   ]
  },
  {
   "cell_type": "code",
   "execution_count": 3,
   "metadata": {
    "collapsed": false
   },
   "outputs": [
    {
     "data": {
      "text/plain": [
       "(True, True)"
      ]
     },
     "execution_count": 3,
     "metadata": {},
     "output_type": "execute_result"
    }
   ],
   "source": [
    "rib.testExactRibletModule(eps=0.)\n",
    "rib.testExactRibletModule(eps=0.025)"
   ]
  },
  {
   "cell_type": "code",
   "execution_count": 3,
   "metadata": {
    "collapsed": false
   },
   "outputs": [],
   "source": [
    "vf0 = h52ff('eq1.h5')\n",
    "pf0 = h52ff('eq1_pressure.h5',pres=True)\n",
    "assert isinstance(vf0,flowFieldRiblet) and isinstance(pf0,flowFieldRiblet)"
   ]
  },
  {
   "cell_type": "code",
   "execution_count": 4,
   "metadata": {
    "collapsed": false
   },
   "outputs": [],
   "source": [
    "L = 4; M=6; N=20\n",
    "vf=vf0.slice(L=L,M=M,N=N); pf=pf0.slice(L=L,M=M,N=N)\n",
    "x0 = vf.appendField(pf)\n",
    "assert isinstance(vf,flowFieldRiblet) and isinstance(pf,flowFieldRiblet) and isinstance(x0,flowFieldRiblet)"
   ]
  },
  {
   "cell_type": "markdown",
   "metadata": {},
   "source": [
    "## Iterating with matrix pseudo-inverse"
   ]
  },
  {
   "cell_type": "code",
   "execution_count": null,
   "metadata": {
    "collapsed": false
   },
   "outputs": [],
   "source": [
    "print('initial norm:',vecnorm2(rib.residual(vf=vf, pf = pf), vf.N))\n",
    "J,F = rib.makeSystem(vf=vf, pf=pf)\n",
    "dx,lnorm,jrank,svals = np.linalg.lstsq(J,-F, rcond=1.0e-6)\n",
    "x00 = x0.copy()\n",
    "x0.view1d()[:] += dx\n",
    "vf=x0.slice(nd=[0,1,2]); pf = x0.getScalar(nd=3)\n",
    "print('final norm:',vecnorm2(rib.residual(vf=vf, pf = pf), vf.N))\n"
   ]
  },
  {
   "cell_type": "code",
   "execution_count": 6,
   "metadata": {
    "collapsed": false
   },
   "outputs": [
    {
     "name": "stdout",
     "output_type": "stream",
     "text": [
      "Starting iterations...............\n",
      "iter: 0\n",
      "fnorm: 0.00867889710028\n",
      "Number of variables, Rank of JacobianBC matrix: 9360 9357\n",
      "len(sVals: 9360  Last 3 singular values: [  1.73870270e-05   7.20289887e-13   5.01717746e-16]\n",
      "Inversion success with residual norm  2.93795012891e-15\n",
      "*********************************************************\n",
      "iter: 1\n",
      "fnorm: 0.000188294667841\n",
      "Number of variables, Rank of JacobianBC matrix: 9360 9356\n",
      "len(sVals: 9360  Last 3 singular values: [  1.94054925e-05   7.20291497e-13   8.28092326e-16]\n",
      "Inversion success with residual norm  1.05368805891e-16\n",
      "*********************************************************\n",
      "iter: 2\n",
      "fnorm: 7.71099338992e-07\n",
      "Number of variables, Rank of JacobianBC matrix: 9360 9356\n",
      "len(sVals: 9360  Last 3 singular values: [  1.60628360e-08   7.20291487e-13   3.51509802e-16]\n",
      "Inversion success with residual norm  5.87092773121e-18\n",
      "*********************************************************\n",
      "iter: 3\n",
      "fnorm: 7.90901504828e-10\n",
      "Number of variables, Rank of JacobianBC matrix: 9360 9356\n",
      "len(sVals: 9360  Last 3 singular values: [  4.99868300e-10   7.20291488e-13   1.10018006e-16]\n",
      "Inversion success with residual norm  1.75806970053e-18\n",
      "*********************************************************\n",
      "iter: 4\n",
      "fnorm: 1.71463163131e-16\n",
      "Converged in  4  iterations. Returning....................................\n"
     ]
    }
   ],
   "source": [
    "vf.flowDict['eps'] = 0.025; pf.flowDict['eps'] = 0.025\n",
    "vf, pf, fnormArr, flg = rib.iterate(vf=vf, pf=pf, rcond=1.0e-06, tol=1.0e-10)"
   ]
  },
  {
   "cell_type": "code",
   "execution_count": null,
   "metadata": {
    "collapsed": false
   },
   "outputs": [],
   "source": [
    "vecnorm2(rib.residual(vf=vf1,pf=pf1),vf.N)"
   ]
  },
  {
   "cell_type": "code",
   "execution_count": null,
   "metadata": {
    "collapsed": true
   },
   "outputs": [],
   "source": []
  },
  {
   "cell_type": "code",
   "execution_count": 8,
   "metadata": {
    "collapsed": false
   },
   "outputs": [
    {
     "name": "stdout",
     "output_type": "stream",
     "text": [
      "Starting iterations...............\n",
      "iter: 0\n",
      "fnorm: 0.00849358381965\n",
      "Number of variables, Rank of JacobianBC matrix: 9360 9357\n",
      "len(sVals: 9360  Last 3 singular values: [  4.94852536e-05   7.35939467e-13   1.87023582e-16]\n",
      "Inversion success with residual norm  3.63226915373e-15\n",
      "*********************************************************\n",
      "iter: 1\n",
      "fnorm: 0.00031609009037\n",
      "Number of variables, Rank of JacobianBC matrix: 9360 9357\n",
      "len(sVals: 9360  Last 3 singular values: [  3.75925437e-05   7.35940483e-13   4.80465707e-16]\n",
      "Inversion success with residual norm  3.55325659774e-16\n",
      "*********************************************************\n",
      "iter: 2\n",
      "fnorm: 5.4360259533e-06\n",
      "Number of variables, Rank of JacobianBC matrix: 9360 9356\n",
      "len(sVals: 9360  Last 3 singular values: [  5.92959339e-06   7.35940610e-13   8.30140484e-16]\n",
      "Inversion success with residual norm  1.71308716038e-17\n",
      "*********************************************************\n",
      "iter: 3\n",
      "fnorm: 9.50359926808e-09\n",
      "Number of variables, Rank of JacobianBC matrix: 9360 9356\n",
      "len(sVals: 9360  Last 3 singular values: [  9.24382136e-09   7.35940606e-13   6.78668979e-17]\n",
      "Inversion success with residual norm  4.25613636582e-18\n",
      "*********************************************************\n",
      "iter: 4\n",
      "fnorm: 2.78945547974e-14\n",
      "Converged in  4  iterations. Returning....................................\n",
      "CPU times: user 4h 3min 18s, sys: 35min 55s, total: 4h 39min 14s\n",
      "Wall time: 1h 32min 44s\n"
     ]
    }
   ],
   "source": [
    "vf1 = vf.copy(); pf1 = pf.copy()\n",
    "vf1.flowDict['eps'] = 0.05; pf1.flowDict['eps'] = 0.05\n",
    "%time vf1, pf1, fnormArr, flg = rib.iterate(vf=vf1, pf=pf1, rcond=1.0e-06, tol=1.0e-10)"
   ]
  },
  {
   "cell_type": "code",
   "execution_count": 42,
   "metadata": {
    "collapsed": false
   },
   "outputs": [
    {
     "data": {
      "text/plain": [
       "(array([ -2.53239991e-17]),\n",
       " array([  1.39588317e-15]),\n",
       " array([  1.02864200e-16]))"
      ]
     },
     "execution_count": 42,
     "metadata": {},
     "output_type": "execute_result"
    }
   ],
   "source": [
    "vf0.slice(L=4,M=6,N=20).flux(), vf.flux(), vf1.flux()\n",
    "\n"
   ]
  },
  {
   "cell_type": "code",
   "execution_count": null,
   "metadata": {
    "collapsed": false
   },
   "outputs": [
    {
     "name": "stdout",
     "output_type": "stream",
     "text": [
      "Starting iterations...............\n",
      "iter: 0\n",
      "fnorm:"
     ]
    }
   ],
   "source": [
    "vf2 = vf1.slice(N=30); pf2 = pf1.slice(N=30)\n",
    "%time vf2, pf2, fnormArr, flg = rib.iterate(vf=vf2, pf=pf2, rcond=1.0e-06, tol=1.0e-10)"
   ]
  },
  {
   "cell_type": "code",
   "execution_count": 80,
   "metadata": {
    "collapsed": false
   },
   "outputs": [
    {
     "name": "stdout",
     "output_type": "stream",
     "text": [
      "Starting iterations...............\n",
      "iter: 0\n",
      "fnorm: 0.0345330121908\n",
      "Number of variables, Rank of JacobianBC matrix: 11700 11697\n",
      "len(sVals: 11700  Last 3 singular values: [  1.96601112e-04   1.27660498e-12   3.28529619e-16]\n",
      "Inversion success with residual norm  1.79441547567e-14\n",
      "*********************************************************\n",
      "iter: 1\n",
      "fnorm: 0.00473333420783\n",
      "Number of variables, Rank of JacobianBC matrix: 11700 11697\n",
      "len(sVals: 11700  Last 3 singular values: [  7.71247625e-05   1.27661250e-12   3.99648352e-16]\n",
      "Inversion success with residual norm  2.41255191823e-15\n",
      "*********************************************************\n",
      "iter: 2\n",
      "fnorm: 0.000324981877581\n",
      "Number of variables, Rank of JacobianBC matrix: 11700 11696\n",
      "len(sVals: 11700  Last 3 singular values: [  1.95659253e-05   1.27661287e-12   9.97418173e-16]\n",
      "Inversion success with residual norm  1.52877149631e-15\n",
      "*********************************************************\n",
      "iter: 3\n",
      "fnorm: 3.85356288263e-05\n",
      "Number of variables, Rank of JacobianBC matrix: 11700 11696\n",
      "len(sVals: 11700  Last 3 singular values: [  3.42489005e-06   1.27661303e-12   9.11670212e-16]\n",
      "Inversion success with residual norm  1.77730111302e-16\n",
      "*********************************************************\n",
      "iter: 4\n",
      "fnorm: 7.56872467646e-07\n",
      "Number of variables, Rank of JacobianBC matrix: 11700 11696\n",
      "len(sVals: 11700  Last 3 singular values: [  7.60693551e-07   1.27661301e-12   1.04010648e-16]\n",
      "Inversion success with residual norm  2.0911935922e-17\n",
      "*********************************************************\n",
      "iter: 5\n",
      "fnorm: 2.53904143204e-11\n",
      "Converged in  5  iterations. Returning....................................\n",
      "eps: 0.1\n",
      "Starting iterations...............\n",
      "iter: 0\n",
      "fnorm: 0.00333777020445\n",
      "Number of variables, Rank of JacobianBC matrix: 11700 11696\n",
      "len(sVals: 11700  Last 3 singular values: [  9.68719638e-05   1.30283289e-12   6.19320228e-16]\n",
      "Inversion success with residual norm  1.82431153956e-15\n",
      "*********************************************************\n",
      "iter: 1\n",
      "fnorm: 3.85752206292e-05\n",
      "Number of variables, Rank of JacobianBC matrix: 11700 11696\n",
      "len(sVals: 11700  Last 3 singular values: [  2.50711126e-05   1.30283340e-12   1.84540270e-16]\n",
      "Inversion success with residual norm  3.75417983798e-17\n",
      "*********************************************************\n",
      "iter: 2\n",
      "fnorm: 4.47458778353e-08\n",
      "Number of variables, Rank of JacobianBC matrix: 11700 11696\n",
      "len(sVals: 11700  Last 3 singular values: [  1.85127590e-09   1.30283340e-12   2.42745757e-16]\n",
      "Inversion success with residual norm  2.0971494066e-17\n",
      "*********************************************************\n",
      "iter: 3\n",
      "fnorm: 2.46021259811e-13\n",
      "Converged in  3  iterations. Returning....................................\n",
      "eps: 0.11\n",
      "*******************\n",
      "Starting iterations...............\n",
      "iter: 0\n",
      "fnorm: 0.00334256641878\n",
      "Number of variables, Rank of JacobianBC matrix: 11700 11696\n",
      "len(sVals: 11700  Last 3 singular values: [  1.06847217e-04   1.33102192e-12   1.27917999e-16]\n",
      "Inversion success with residual norm  1.69863197481e-15\n",
      "*********************************************************\n",
      "iter: 1\n",
      "fnorm: 3.96210913765e-05\n",
      "Number of variables, Rank of JacobianBC matrix: 11700 11696\n",
      "len(sVals: 11700  Last 3 singular values: [  2.64613513e-05   1.33102238e-12   2.25543812e-16]\n",
      "Inversion success with residual norm  3.77655791115e-17\n",
      "*********************************************************\n",
      "iter: 2\n",
      "fnorm: 4.24581974835e-08\n",
      "Number of variables, Rank of JacobianBC matrix: 11700 11696\n",
      "len(sVals: 11700  Last 3 singular values: [  2.32723601e-09   1.33102238e-12   1.72687282e-15]\n",
      "Inversion success with residual norm  2.7641616688e-17\n",
      "*********************************************************\n",
      "iter: 3\n",
      "fnorm: 2.59086293339e-13\n",
      "Converged in  3  iterations. Returning....................................\n",
      "eps: 0.12\n",
      "*******************\n",
      "Starting iterations...............\n",
      "iter: 0\n",
      "fnorm: 0.0033500842809\n",
      "Number of variables, Rank of JacobianBC matrix: 11700 11696\n",
      "len(sVals: 11700  Last 3 singular values: [  1.17763005e-04   1.36107429e-12   1.73099613e-16]\n",
      "Inversion success with residual norm  1.79884067176e-15\n",
      "*********************************************************\n",
      "iter: 1\n",
      "fnorm: 4.07813408844e-05\n",
      "Number of variables, Rank of JacobianBC matrix: 11700 11696\n",
      "len(sVals: 11700  Last 3 singular values: [  2.76925843e-05   1.36107472e-12   2.00527901e-16]\n",
      "Inversion success with residual norm  4.14689883632e-17\n",
      "*********************************************************\n",
      "iter: 2\n",
      "fnorm: 4.21366502997e-08\n",
      "Number of variables, Rank of JacobianBC matrix: 11700 11696\n",
      "len(sVals: 11700  Last 3 singular values: [  5.98795649e-10   1.36107472e-12   1.71527550e-16]\n",
      "Inversion success with residual norm  2.87639061262e-17\n",
      "*********************************************************\n",
      "iter: 3\n",
      "fnorm: 2.63524284985e-13\n",
      "Converged in  3  iterations. Returning....................................\n",
      "eps: 0.13\n",
      "*******************\n",
      "Starting iterations...............\n",
      "iter: 0\n",
      "fnorm: 0.00336027416433\n",
      "Number of variables, Rank of JacobianBC matrix: 11700 11696\n",
      "len(sVals: 11700  Last 3 singular values: [  1.29793108e-04   1.39288756e-12   2.33051770e-16]\n",
      "Inversion success with residual norm  1.81729122675e-15\n",
      "*********************************************************\n",
      "iter: 1\n",
      "fnorm: 4.18926217537e-05\n",
      "Number of variables, Rank of JacobianBC matrix: 11700 11696\n",
      "len(sVals: 11700  Last 3 singular values: [  2.83593413e-05   1.39288795e-12   5.09684301e-16]\n",
      "Inversion success with residual norm  4.6324647934e-17\n",
      "*********************************************************\n",
      "iter: 2\n",
      "fnorm: 4.39578563381e-08\n",
      "Number of variables, Rank of JacobianBC matrix: 11700 11696\n",
      "len(sVals: 11700  Last 3 singular values: [  2.45229684e-09   1.39288795e-12   5.17528271e-16]\n",
      "Inversion success with residual norm  3.49279769998e-17\n",
      "*********************************************************\n",
      "iter: 3\n",
      "fnorm: 2.70914863152e-13\n",
      "Converged in  3  iterations. Returning....................................\n",
      "eps: 0.14\n",
      "*******************\n",
      "Starting iterations...............\n",
      "iter: 0\n",
      "fnorm: 0.00337324231142\n",
      "Number of variables, Rank of JacobianBC matrix: 11700 11696\n",
      "len(sVals: 11700  Last 3 singular values: [  1.42903272e-04   1.42636305e-12   2.21833039e-16]\n",
      "Inversion success with residual norm  1.91063741808e-15\n",
      "*********************************************************\n",
      "iter: 1\n",
      "fnorm: 4.27071442935e-05\n",
      "Number of variables, Rank of JacobianBC matrix: 11700 11696\n",
      "len(sVals: 11700  Last 3 singular values: [  2.81310632e-05   1.42636341e-12   2.91449046e-16]\n",
      "Inversion success with residual norm  5.34624650771e-17\n",
      "*********************************************************\n",
      "iter: 2\n",
      "fnorm: 4.72830360179e-08\n",
      "Number of variables, Rank of JacobianBC matrix: 11700 11696\n",
      "len(sVals: 11700  Last 3 singular values: [  5.68459131e-09   1.42636341e-12   2.97096005e-16]\n",
      "Inversion success with residual norm  4.53084895861e-17\n",
      "*********************************************************\n",
      "iter: 3\n",
      "fnorm: 2.87044854218e-13\n",
      "Converged in  3  iterations. Returning....................................\n",
      "eps: 0.15000000000000002\n",
      "*******************\n",
      "Starting iterations...............\n",
      "iter: 0\n",
      "fnorm: 0.00338928051814\n",
      "Number of variables, Rank of JacobianBC matrix: 11700 11696\n",
      "len(sVals: 11700  Last 3 singular values: [  1.56868816e-04   1.46140663e-12   3.28378987e-16]\n",
      "Inversion success with residual norm  1.71087156343e-15\n",
      "*********************************************************\n",
      "iter: 1\n",
      "fnorm: 4.29870837203e-05\n",
      "Number of variables, Rank of JacobianBC matrix: 11700 11696\n",
      "len(sVals: 11700  Last 3 singular values: [  2.69556206e-05   1.46140696e-12   2.67411388e-16]\n",
      "Inversion success with residual norm  5.72995341283e-17\n",
      "*********************************************************\n",
      "iter: 2\n",
      "fnorm: 5.03487421156e-08\n",
      "Number of variables, Rank of JacobianBC matrix: 11700 11696\n",
      "len(sVals: 11700  Last 3 singular values: [  7.73827089e-09   1.46140696e-12   1.68574241e-15]\n",
      "Inversion success with residual norm  4.85519851872e-17\n",
      "*********************************************************\n",
      "iter: 3\n",
      "fnorm: 2.90876370148e-13\n",
      "Converged in  3  iterations. Returning....................................\n",
      "eps: 0.16000000000000003\n",
      "*******************\n",
      "Starting iterations...............\n",
      "iter: 0\n",
      "fnorm: 0.00340881590259\n",
      "Number of variables, Rank of JacobianBC matrix: 11700 11696\n",
      "len(sVals: 11700  Last 3 singular values: [  1.71412935e-04   1.49792920e-12   2.05571594e-15]\n",
      "Inversion success with residual norm  1.88386816679e-15\n",
      "*********************************************************\n",
      "iter: 1\n",
      "fnorm: 4.2644241677e-05\n",
      "Number of variables, Rank of JacobianBC matrix: 11700 11696\n",
      "len(sVals: 11700  Last 3 singular values: [  2.51614192e-05   1.49792950e-12   9.65835805e-16]\n",
      "Inversion success with residual norm  6.37438748332e-17\n",
      "*********************************************************\n",
      "iter: 2\n",
      "fnorm: 5.06782761909e-08\n",
      "Number of variables, Rank of JacobianBC matrix: 11700 11696\n",
      "len(sVals: 11700  Last 3 singular values: [  7.34323679e-09   1.49792950e-12   1.16770844e-15]\n",
      "Inversion success with residual norm  5.42092518162e-17\n",
      "*********************************************************\n",
      "iter: 3\n",
      "fnorm: 2.66447657469e-13\n",
      "Converged in  3  iterations. Returning....................................\n",
      "eps: 0.17000000000000004\n",
      "*******************\n",
      "Starting iterations...............\n",
      "iter: 0\n",
      "fnorm: 0.00343228576778\n",
      "Number of variables, Rank of JacobianBC matrix: 11700 11696\n",
      "len(sVals: 11700  Last 3 singular values: [  1.86404577e-04   1.53584700e-12   1.18699776e-15]\n",
      "Inversion success with residual norm  1.84313208302e-15\n",
      "*********************************************************\n",
      "iter: 1\n",
      "fnorm: 4.18162462473e-05\n",
      "Number of variables, Rank of JacobianBC matrix: 11700 11696\n",
      "len(sVals: 11700  Last 3 singular values: [  2.33252100e-05   1.53584728e-12   2.62147599e-15]\n",
      "Inversion success with residual norm  7.22673021664e-17\n",
      "*********************************************************\n",
      "iter: 2\n",
      "fnorm: 4.68872565991e-08\n",
      "Number of variables, Rank of JacobianBC matrix: 11700 11696\n",
      "len(sVals: 11700  Last 3 singular values: [  5.02658227e-09   1.53584729e-12   1.07595134e-15]\n",
      "Inversion success with residual norm  6.53133308358e-17\n",
      "*********************************************************\n",
      "iter: 3\n",
      "fnorm: 2.28104617588e-13\n",
      "Converged in  3  iterations. Returning....................................\n",
      "eps: 0.18000000000000005\n",
      "*******************\n",
      "Starting iterations...............\n",
      "iter: 0\n",
      "fnorm: 0.00345999920477\n",
      "Number of variables, Rank of JacobianBC matrix: 11700 11696\n",
      "len(sVals: 11700  Last 3 singular values: [  2.02000309e-04   1.57508177e-12   8.62841318e-16]\n",
      "Inversion success with residual norm  1.74585034166e-15\n",
      "*********************************************************\n",
      "iter: 1\n",
      "fnorm: 4.08019542827e-05\n",
      "Number of variables, Rank of JacobianBC matrix: 11700 11696\n",
      "len(sVals: 11700  Last 3 singular values: [  2.19513035e-05   1.57508204e-12   2.27957770e-15]\n",
      "Inversion success with residual norm  7.16596909744e-17\n",
      "*********************************************************\n",
      "iter: 2\n",
      "fnorm: 4.00737740712e-08\n",
      "Number of variables, Rank of JacobianBC matrix: 11700 11696\n",
      "len(sVals: 11700  Last 3 singular values: [  3.79435658e-09   1.57508204e-12   8.96701259e-17]\n",
      "Inversion success with residual norm  6.73878637404e-17\n",
      "*********************************************************\n",
      "iter: 3\n",
      "fnorm: 1.95429513555e-13\n",
      "Converged in  3  iterations. Returning....................................\n",
      "eps: 0.19000000000000006\n",
      "*******************\n",
      "Done..........................................\n"
     ]
    }
   ],
   "source": [
    "vfList = []; pfList = []; fnormList = []\n",
    "vf = vf0.slice(L=4,M=6,N=25); pf = pf0.slice(L=4,M=6,N=25)\n",
    "vf.flowDict['eps'] = 0.1; pf.flowDict['eps'] = 0.1\n",
    "vf,pf,fnorm, flg = rib.iterate(vf=vf,pf=pf, rcond=1.0e-06, tol=1.0e-10)\n",
    "print('eps:', vf.flowDict['eps'])\n",
    "vfList.append(vf); pfList.append(pf)\n",
    "for k in range(9):\n",
    "    vf.flowDict['eps'] += 0.01; pf.flowDict['eps'] += 0.01\n",
    "    vf,pf,fnorm, flg = rib.iterate(vf=vf,pf=pf, rcond=1.0e-06, tol=1.0e-10)\n",
    "    print('eps:', vf.flowDict['eps'])\n",
    "    vfList.append(vf.copy()); pfList.append(pf.copy())\n",
    "    print('*******************')\n",
    "print('Done..........................................')"
   ]
  },
  {
   "cell_type": "code",
   "execution_count": 82,
   "metadata": {
    "collapsed": false
   },
   "outputs": [
    {
     "name": "stdout",
     "output_type": "stream",
     "text": [
      "saved field to  solutions/ribEq/ribEq1L4M6N25E1100.hdf5\n",
      "saved field to  solutions/ribEq/ribEq1L4M6N25E1100.hdf5\n",
      "saved field to  solutions/ribEq/ribEq1L4M6N25E1200.hdf5\n",
      "saved field to  solutions/ribEq/ribEq1L4M6N25E1300.hdf5\n",
      "saved field to  solutions/ribEq/ribEq1L4M6N25E1400.hdf5\n",
      "saved field to  solutions/ribEq/ribEq1L4M6N25E1500.hdf5\n",
      "saved field to  solutions/ribEq/ribEq1L4M6N25E1600.hdf5\n",
      "saved field to  solutions/ribEq/ribEq1L4M6N25E1700.hdf5\n",
      "saved field to  solutions/ribEq/ribEq1L4M6N25E1800.hdf5\n",
      "saved field to  solutions/ribEq/ribEq1L4M6N25E1900.hdf5\n"
     ]
    }
   ],
   "source": [
    "for k in range(len(vfList)):\n",
    "    vf = vfList[k]; pf = pfList[k]\n",
    "    x = vf.appendField(pf)\n",
    "    flowFieldRiblet.saveh5(x)"
   ]
  },
  {
   "cell_type": "code",
   "execution_count": 6,
   "metadata": {
    "collapsed": true
   },
   "outputs": [],
   "source": [
    "vf = vfList[0]; pf = pfList[0]"
   ]
  },
  {
   "cell_type": "code",
   "execution_count": 7,
   "metadata": {
    "collapsed": true
   },
   "outputs": [],
   "source": [
    "outFile = h5py.File(\"testFile.hdf5\",\"w\")"
   ]
  },
  {
   "cell_type": "code",
   "execution_count": 8,
   "metadata": {
    "collapsed": true
   },
   "outputs": [],
   "source": [
    "field = outFile.create_dataset(\"field\",data=(vf.appendField(pf)).flatten(), compression='gzip')"
   ]
  },
  {
   "cell_type": "code",
   "execution_count": 9,
   "metadata": {
    "collapsed": true
   },
   "outputs": [],
   "source": [
    "tempDict = vf.flowDict.copy()\n",
    "for key in tempDict:\n",
    "    field.attrs[key] = tempDict[key]"
   ]
  },
  {
   "cell_type": "code",
   "execution_count": 13,
   "metadata": {
    "collapsed": false
   },
   "outputs": [],
   "source": [
    "field.attrs['class'] = 'flowFieldRiblet'"
   ]
  },
  {
   "cell_type": "code",
   "execution_count": 14,
   "metadata": {
    "collapsed": true
   },
   "outputs": [],
   "source": [
    "outFile.close()"
   ]
  },
  {
   "cell_type": "code",
   "execution_count": 17,
   "metadata": {
    "collapsed": false
   },
   "outputs": [
    {
     "name": "stdout",
     "output_type": "stream",
     "text": [
      "<class 'numpy.ndarray'> complex128 (11700,)\n"
     ]
    }
   ],
   "source": [
    "inFile = h5py.File(\"testFile.hdf5\",\"r\")\n",
    "fieldArr = np.array(inFile['field'])\n",
    "print(type(fieldArr), fieldArr.dtype, fieldArr.shape)\n",
    "tempDict={}\n",
    "for key in inFile['field'].attrs:\n",
    "    tempDict[key] = inFile['field'].attrs[key]"
   ]
  },
  {
   "cell_type": "code",
   "execution_count": 18,
   "metadata": {
    "collapsed": true
   },
   "outputs": [],
   "source": [
    "xTemp = flowFieldRiblet(arr=fieldArr,flowDict=updateDict(tempDict,{'nd':4}))"
   ]
  },
  {
   "cell_type": "code",
   "execution_count": 19,
   "metadata": {
    "collapsed": false
   },
   "outputs": [
    {
     "data": {
      "text/plain": [
       "(0.0, 0.0)"
      ]
     },
     "execution_count": 19,
     "metadata": {},
     "output_type": "execute_result"
    }
   ],
   "source": [
    "vfTemp = xTemp.slice(nd=[0,1,2]); pfTemp = xTemp.getScalar(nd=3)\n",
    "(vf-vfTemp).norm(),(pf-pfTemp).norm()"
   ]
  },
  {
   "cell_type": "code",
   "execution_count": 32,
   "metadata": {
    "collapsed": false
   },
   "outputs": [
    {
     "name": "stderr",
     "output_type": "stream",
     "text": [
      "/usr/local/lib/python3.4/dist-packages/numpy-1.11.0-py3.4-linux-x86_64.egg/numpy/core/numeric.py:482: ComplexWarning: Casting complex values to real discards the imaginary part\n",
      "  return array(a, dtype, copy=False, order=order)\n"
     ]
    },
    {
     "data": {
      "image/png": "[encoded data removed]",
      "text/plain": [
       "<matplotlib.figure.Figure at 0x7fbc360b8f28>"
      ]
     },
     "metadata": {},
     "output_type": "display_data"
    }
   ],
   "source": [
    "plt.figure()\n",
    "for k in range(1,len(vfList)):\n",
    "    vf = vfList[k]\n",
    "    plt.plot(vf[0,vf.nx//2, vf.nz//2,0],vf.y)\n",
    "plt.xlim([-1.,1.]);plt.ylim([-1.,1.])\n",
    "plt.show()"
   ]
  },
  {
   "cell_type": "code",
   "execution_count": 41,
   "metadata": {
    "collapsed": false
   },
   "outputs": [
    {
     "name": "stdout",
     "output_type": "stream",
     "text": [
      "0.0\n"
     ]
    },
    {
     "name": "stderr",
     "output_type": "stream",
     "text": [
      "/usr/local/lib/python3.4/dist-packages/numpy-1.11.0-py3.4-linux-x86_64.egg/numpy/core/numeric.py:482: ComplexWarning: Casting complex values to real discards the imaginary part\n",
      "  return array(a, dtype, copy=False, order=order)\n"
     ]
    },
    {
     "data": {
      "image/png": "[encoded data removed]",
      "text/plain": [
       "<matplotlib.figure.Figure at 0x7fbc3a130b00>"
      ]
     },
     "metadata": {},
     "output_type": "display_data"
    }
   ],
   "source": [
    "vf00 = vf0.slice(N=25)[0,vf0.nx//2,vf0.nz//2,0]\n",
    "print(vf0.flowDict['eps'])\n",
    "leg = []\n",
    "plt.figure()\n",
    "for k in range(1,len(vfList)):\n",
    "    vf = vfList[k]\n",
    "    plt.plot(vf[0,vf.nx//2, vf.nz//2,0]-vf00,vf.y)\n",
    "    leg.append(str(round(2.*vf.flowDict['eps'],2)))\n",
    "#plt.xlim([-1.,1.]);plt.ylim([-1.,1.])\n",
    "plt.legend(leg,loc=4)\n",
    "plt.show()"
   ]
  },
  {
   "cell_type": "code",
   "execution_count": 79,
   "metadata": {
    "collapsed": false
   },
   "outputs": [
    {
     "name": "stdout",
     "output_type": "stream",
     "text": [
      "0 0.00357314474464\n",
      "1 0.00360275971608 0.0\n",
      "2 0.00362144495815 0.0\n",
      "3 0.0036429079361 0.0\n",
      "4 0.00366724690597 0.0\n",
      "5 0.00369460772162 0.0\n",
      "6 0.00372513639562 0.0\n",
      "7 0.0037589340008 0.0\n",
      "8 0.00379602771055 0.0\n",
      "9 0.00383636692471 0.0\n",
      "laminar: 0.0025\n"
     ]
    }
   ],
   "source": [
    "vf00 = vf0.slice(N=25)[0,vf0.nx//2,vf0.nz//2,0]\n",
    "print(0,rib.shearStress(vf0))\n",
    "for k in range(1,len(vfList)):\n",
    "    vf = vfList[k]\n",
    "    eps = vf.flowDict['eps']; b = vf.flowDict['beta']\n",
    "    u = vf.slice(L=0).getScalar(); uy = u.ddy()\n",
    "    shrStr = (1.+2.*eps**2 * b**2)*np.real(uy[0,uy.nx//2, uy.nz//2,0,-1])\\\n",
    "        -eps * b**2 * np.real(u[0,u.nx//2, u.nz//2+1,0,-1])\\\n",
    "        - eps**2 * b**2 * np.real(uy[0,u.nx//2, u.nz//2+2,0,-1])\n",
    "    shrStr1 = rib.shearStress(vf)\n",
    "    print(k, shrStr1, shrStr1-shrStr/vf.flowDict['Re'])\n",
    "\n",
    "print('laminar:', 1./vf.flowDict['Re'])"
   ]
  },
  {
   "cell_type": "code",
   "execution_count": 48,
   "metadata": {
    "collapsed": false
   },
   "outputs": [
    {
     "data": {
      "text/plain": [
       "flowFieldWavy.flowFieldRiblet"
      ]
     },
     "execution_count": 48,
     "metadata": {},
     "output_type": "execute_result"
    }
   ],
   "source": [
    "\n",
    "vf00.__class__"
   ]
  },
  {
   "cell_type": "code",
   "execution_count": null,
   "metadata": {
    "collapsed": true
   },
   "outputs": [],
   "source": []
  },
  {
   "cell_type": "code",
   "execution_count": null,
   "metadata": {
    "collapsed": true
   },
   "outputs": [],
   "source": []
  },
  {
   "cell_type": "code",
   "execution_count": null,
   "metadata": {
    "collapsed": true
   },
   "outputs": [],
   "source": []
  },
  {
   "cell_type": "code",
   "execution_count": null,
   "metadata": {
    "collapsed": true
   },
   "outputs": [],
   "source": [
    "def vecnorm2(vec,N):\n",
    "    m = vec.size//N\n",
    "    w = clencurt(N).reshape((1,N))\n",
    "    W = np.tile(w,(1,m))\n",
    "    tempVec = vec.reshape(vec.size,1)\n",
    "    tempVecConj = tempVec.conj().T\n",
    "    \n",
    "    vecNorm = np.sqrt(np.abs( np.dot( tempVecConj*W, tempVec ) ))\n",
    "    return vecNorm[0,0]/2.\n",
    "\n",
    "#flowDict = tempDict\n",
    "finDifEps =1.0e-7\n",
    "def residual(xArr,**kwargs):\n",
    "    xTemp = weighted2ff(flowDict=x0.flowDict, arr=xArr)\n",
    "    vf = xTemp.slice(L=xTemp.nx//2+2,M=xTemp.nx//2+2, nd=[0,1,2])\n",
    "    pf = xTemp.slice(L=xTemp.nx//2+2,M=xTemp.nx//2+2, nd=[3])\n",
    "    resid = (vf.residuals(pField=pf,**kwargs)).appendField(vf.div())\n",
    "    #return resid.slice(L=xF.nx//2,M=xF.nz//2)\n",
    "    return resid.slice(L=xTemp.nx//2,M=xTemp.nz//2).weighted() # .slice(L=xF.nx//2)\n",
    "\n",
    "def ffResidual(xTemp,**kwargs):\n",
    "    vf = xTemp.slice(L=xTemp.nx//2+2,M=xTemp.nx//2+2, N=xTemp.N+2, nd=[0,1,2])\n",
    "    pf = xTemp.slice(L=xTemp.nx//2+2,M=xTemp.nx//2+2, N=xTemp.N+2, nd=[3])\n",
    "    resid = (vf.residuals(pField=pf,**kwargs)).appendField(vf.div())\n",
    "    #return resid.slice(L=xF.nx//2,M=xF.nz//2)\n",
    "    return resid.slice(L=xTemp.nx//2,M=xTemp.nz//2, N=xTemp.N) # .slice(L=xF.nx//2)"
   ]
  },
  {
   "cell_type": "code",
   "execution_count": null,
   "metadata": {
    "collapsed": true
   },
   "outputs": [],
   "source": []
  },
  {
   "cell_type": "markdown",
   "metadata": {},
   "source": [
    "## Resolution for low order inversion"
   ]
  },
  {
   "cell_type": "markdown",
   "metadata": {},
   "source": [
    "### Energy in state-vector modes"
   ]
  },
  {
   "cell_type": "code",
   "execution_count": null,
   "metadata": {
    "collapsed": true
   },
   "outputs": [],
   "source": [
    "x0 = vf0.appendField(pf0)\n",
    "xArr = np.zeros((x0.nx,x0.nz,4,x0.N),dtype=np.complex)\n",
    "for lp in range(vf0.nx):\n",
    "    for mp in range(vf0.nz):\n",
    "        for nd in range(4):\n",
    "            xArr[lp,mp,nd] = chebcoeffs( x0[0,lp,mp,nd]  )\n",
    "    "
   ]
  },
  {
   "cell_type": "code",
   "execution_count": null,
   "metadata": {
    "collapsed": false
   },
   "outputs": [],
   "source": [
    "# chebMode energy content\n",
    "chebEnergy = np.sum(np.sum(np.sum(np.abs(xArr),axis=0),axis=0),axis=0)\n",
    "chebEnergyTot = np.sum(chebEnergy)\n",
    "chebEnergyV = np.sum(np.sum(np.sum(np.abs(xArr[:,:,:3]),axis=0),axis=0),axis=0)\n",
    "chebEnergyVTot = np.sum(chebEnergyV)\n",
    "plt.plot(chebEnergy/chebEnergyTot,'k')\n",
    "plt.xlabel(\"Chebyshev polynomial\"); plt.ylabel(\"Energy fraction\")\n",
    "plt.yscale(\"log\")\n",
    "plt.savefig(docFolder+'chebEnergy.pdf',format='pdf')\n",
    "plt.show()\n",
    "plt.plot(chebEnergyV/chebEnergyVTot,'b--')\n",
    "plt.xlabel(\"Chebyshev polynomial\"); plt.ylabel(\"Energy fraction\")\n",
    "plt.yscale(\"log\")\n",
    "plt.savefig(docFolder+'chebEnergyV.pdf',format='pdf')\n",
    "plt.show()"
   ]
  },
  {
   "cell_type": "code",
   "execution_count": null,
   "metadata": {
    "collapsed": false
   },
   "outputs": [],
   "source": [
    "xEnergy = np.sum(np.sum(np.sum(np.abs(xArr),axis=1),axis=1),axis=1)\n",
    "xEnergyTot = np.sum(xEnergy)\n",
    "zEnergy = np.sum(np.sum(np.sum(np.abs(xArr),axis=0),axis=1),axis=1)\n",
    "zEnergyTot = np.sum(zEnergy)\n",
    "plt.figure()\n",
    "plt.plot(2*np.arange(24)+1,xEnergy[23:]/xEnergyTot,'k--')\n",
    "plt.plot(2*np.arange(24)+1,zEnergy[23:]/zEnergyTot,'k')\n",
    "plt.plot(chebEnergy/chebEnergyTot,'k-.')\n",
    "plt.xlabel(\"No. of modes\"); plt.ylabel(\"Energy fraction\")\n",
    "plt.yscale(\"log\")\n",
    "plt.legend([\"x\",\"z\",\"y\"])\n",
    "plt.savefig(docFolder+'modeEnergy.pdf',format='pdf')\n",
    "plt.ylim([1.0e-06,2.0])\n",
    "plt.savefig(docFolder+'modeEnergyZoom.pdf',format='pdf')\n",
    "plt.show()\n"
   ]
  },
  {
   "cell_type": "code",
   "execution_count": null,
   "metadata": {
    "collapsed": false
   },
   "outputs": [],
   "source": [
    "for lTrun in range(3,6):\n",
    "    for mTrun in range(5,8):\n",
    "        for NTrun in range(15,22,3):\n",
    "            print(lTrun,mTrun,NTrun,\n",
    "                  1.-np.sum(np.abs(\n",
    "                        xArr[23-lTrun:23+lTrun+1,23-mTrun:23+mTrun+1,:,:NTrun].flatten()\n",
    "                    ))/xEnergyTot)"
   ]
  },
  {
   "cell_type": "markdown",
   "metadata": {},
   "source": [
    "### Residual norm"
   ]
  },
  {
   "cell_type": "code",
   "execution_count": null,
   "metadata": {
    "collapsed": false
   },
   "outputs": [],
   "source": [
    "resNormArr = np.zeros((7,7,7))\n",
    "for lp in range(7):\n",
    "    for mp in range(7):\n",
    "        for Np in range(7):\n",
    "            N = 3*Np+10\n",
    "            resNormArr[lp,mp,Np] = ffResidual(x0.slice(L=2*lp,M=2*mp,N=N)).norm()\n"
   ]
  },
  {
   "cell_type": "code",
   "execution_count": null,
   "metadata": {
    "collapsed": false
   },
   "outputs": [],
   "source": [
    "from matplotlib.colors import LogNorm\n",
    "plt.contourf(10+3*np.arange(7),4*np.arange(7)+1,resNormArr[1,:,:],levels=10.**np.arange(-5,-1,0.25), norm=LogNorm(),cmap=plt.cm.bone)\n",
    "plt.xlabel(\"N\"); plt.ylabel(\"2M+1\")\n",
    "plt.colorbar()\n",
    "plt.savefig(docFolder+'resNormL2.pdf',format='pdf')\n",
    "plt.show()"
   ]
  },
  {
   "cell_type": "code",
   "execution_count": null,
   "metadata": {
    "collapsed": false
   },
   "outputs": [],
   "source": [
    "ffResidual(x0).norm()"
   ]
  },
  {
   "cell_type": "code",
   "execution_count": null,
   "metadata": {
    "collapsed": true
   },
   "outputs": [],
   "source": []
  },
  {
   "cell_type": "code",
   "execution_count": null,
   "metadata": {
    "collapsed": true
   },
   "outputs": [],
   "source": []
  },
  {
   "cell_type": "code",
   "execution_count": null,
   "metadata": {
    "collapsed": true
   },
   "outputs": [],
   "source": []
  },
  {
   "cell_type": "code",
   "execution_count": null,
   "metadata": {
    "collapsed": true
   },
   "outputs": [],
   "source": []
  },
  {
   "cell_type": "code",
   "execution_count": null,
   "metadata": {
    "collapsed": true
   },
   "outputs": [],
   "source": []
  },
  {
   "cell_type": "code",
   "execution_count": null,
   "metadata": {
    "collapsed": true
   },
   "outputs": [],
   "source": []
  },
  {
   "cell_type": "code",
   "execution_count": null,
   "metadata": {
    "collapsed": true
   },
   "outputs": [],
   "source": []
  },
  {
   "cell_type": "code",
   "execution_count": null,
   "metadata": {
    "collapsed": false
   },
   "outputs": [],
   "source": [
    "print(norm(residual(x0.weighted())))\n",
    "x0.flowDict['eps'] = 0.01\n",
    "norm(residual(x0.weighted()))"
   ]
  },
  {
   "cell_type": "code",
   "execution_count": null,
   "metadata": {
    "collapsed": false
   },
   "outputs": [],
   "source": [
    "# Preconditioner based on linear operator\n",
    "start = time.time()\n",
    "LmatInv = rib.linrInv(x0.flowDict)\n",
    "print(time.time()-start)\n",
    "def precondMatvec(xArr):\n",
    "    nx = LmatInv.shape[0]\n",
    "    xTemp = xArr.reshape((nx,xArr.size//nx))\n",
    "    dotProd = np.zeros(xTemp.shape, dtype=np.complex)\n",
    "    for lp in range(nx):\n",
    "        dotProd[lp] = np.dot(LmatInv[lp], xTemp[lp])\n",
    "    \n",
    "    return dotProd.flatten()\n",
    "\n",
    "precond = LinearOperator(matvec=precondMatvec, shape= (x0.size,x0.size),dtype=np.complex)\n",
    "    \n",
    "    "
   ]
  },
  {
   "cell_type": "code",
   "execution_count": null,
   "metadata": {
    "collapsed": false
   },
   "outputs": [],
   "source": [
    "start = time.time()\n",
    "sol = newton_krylov(residual, x00.weighted(), rdiff=1.0e-04,iter=5,   method='gmres',  f_tol=1.0e-9,f_rtol=1.0e-4,verbose=True,\n",
    "                    inner_maxiter=5, inner_M= precond,inner_tol=1.0e-03 , inner_restrt = x0.size//100)\n",
    "time.time()-start\n"
   ]
  },
  {
   "cell_type": "code",
   "execution_count": null,
   "metadata": {
    "collapsed": false
   },
   "outputs": [],
   "source": [
    "x00 = x0.copy()\n",
    "x0 = weighted2ff(arr=sol, flowDict=x0.flowDict)"
   ]
  },
  {
   "cell_type": "code",
   "execution_count": null,
   "metadata": {
    "collapsed": false
   },
   "outputs": [],
   "source": [
    "xNew = weighted2ff(flowDict=x0.flowDict,arr=sol)"
   ]
  },
  {
   "cell_type": "code",
   "execution_count": null,
   "metadata": {
    "collapsed": false
   },
   "outputs": [],
   "source": [
    "norm(residual(sol))"
   ]
  },
  {
   "cell_type": "code",
   "execution_count": null,
   "metadata": {
    "collapsed": false
   },
   "outputs": [],
   "source": [
    "norm(residual(x0.weighted())), x0.flowDict"
   ]
  },
  {
   "cell_type": "code",
   "execution_count": null,
   "metadata": {
    "collapsed": true
   },
   "outputs": [],
   "source": [
    "start = time.time()\n",
    "dx, = newton_krylov(residual, x0.weighted(), iter=5,   method='gmres',  f_tol=1.0e-9,f_rtol=1.0e-4,verbose=True,\n",
    "                    inner_maxiter=5, inner_M= precond,inner_tol=1.0e-03 , inner_restrt = x0.size//10)\n",
    "time.time()-start\n"
   ]
  },
  {
   "cell_type": "code",
   "execution_count": null,
   "metadata": {
    "collapsed": true
   },
   "outputs": [],
   "source": []
  },
  {
   "cell_type": "markdown",
   "metadata": {
    "collapsed": true
   },
   "source": [
    "## Custom Newton-Krylov"
   ]
  },
  {
   "cell_type": "code",
   "execution_count": null,
   "metadata": {
    "collapsed": true
   },
   "outputs": [],
   "source": [
    "epsil = 1.0e-07\n",
    "def jacobian(dx,x):\n",
    "    rp1 = residual(x + epsil*dx)\n",
    "    rm1 = residual(x - epsil*dx)\n",
    "    \n",
    "    matvec = (rp1 - rm1)/2./epsil\n",
    "    return matvec\n",
    "\n",
    "jcbn = lambda dx: jacobian(dx,x0.weighted())\n",
    "\n",
    "JOp = LinearOperator(matvec = jcbn, shape = (x0.size,x0.size),dtype=np.complex)\n",
    "JPrFun = lambda xArr: JOp.matvec(precond.matvec(xArr))\n",
    "JPrOp = LinearOperator(matvec=JPrFun, shape = (x0.size,x0.size),dtype=np.complex)    "
   ]
  },
  {
   "cell_type": "code",
   "execution_count": null,
   "metadata": {
    "collapsed": false
   },
   "outputs": [],
   "source": [
    "start = time.time()\n",
    "dx,info = gmres(JPrOp, -residual(x0.weighted()), x0=x0.weighted(), maxiter=5, \n",
    "                tol=1.0e-09,restart = x0.size//10)\n",
    "time.time()-start\n"
   ]
  },
  {
   "cell_type": "code",
   "execution_count": null,
   "metadata": {
    "collapsed": true
   },
   "outputs": [],
   "source": [
    "x00 = x0.copy()"
   ]
  },
  {
   "cell_type": "code",
   "execution_count": null,
   "metadata": {
    "collapsed": false
   },
   "outputs": [],
   "source": [
    "x0.view1d()[:] += precond.matvec(dx)\n",
    "norm(residual(x00.weighted())), norm(residual(x0.weighted()))"
   ]
  },
  {
   "cell_type": "code",
   "execution_count": null,
   "metadata": {
    "collapsed": true
   },
   "outputs": [],
   "source": []
  },
  {
   "cell_type": "code",
   "execution_count": null,
   "metadata": {
    "collapsed": true
   },
   "outputs": [],
   "source": []
  },
  {
   "cell_type": "code",
   "execution_count": null,
   "metadata": {
    "collapsed": false
   },
   "outputs": [],
   "source": [
    "info, norm( JOp.matvec(dx)+residual(x00.weighted())  )"
   ]
  },
  {
   "cell_type": "code",
   "execution_count": null,
   "metadata": {
    "collapsed": true
   },
   "outputs": [],
   "source": []
  },
  {
   "cell_type": "code",
   "execution_count": null,
   "metadata": {
    "collapsed": true
   },
   "outputs": [],
   "source": []
  },
  {
   "cell_type": "markdown",
   "metadata": {},
   "source": [
    "## Matrix-based solution"
   ]
  },
  {
   "cell_type": "code",
   "execution_count": null,
   "metadata": {
    "collapsed": false
   },
   "outputs": [],
   "source": [
    "import exactRiblet as rib\n",
    "\n",
    "Lmat = rib.linr(vf0.flowDict.copy())"
   ]
  },
  {
   "cell_type": "code",
   "execution_count": null,
   "metadata": {
    "collapsed": false
   },
   "outputs": [],
   "source": [
    "vf = vf0.slice(L=4,M=8); pf = pf0.slice(L=4,M=8)\n",
    "xff = vf.appendField(pf)\n",
    "\n",
    "linTerm = np.dot(Lmat,xff.flatten())\n",
    "linTermClass = -1./vf.flowDict['Re']*vf.laplacian() + pf.grad()\n",
    "linTermClass = linTermClass.appendField(vf.div())"
   ]
  },
  {
   "cell_type": "code",
   "execution_count": null,
   "metadata": {
    "collapsed": false
   },
   "outputs": [],
   "source": [
    "np.linalg.norm(linTerm-linTermClass.flatten())"
   ]
  },
  {
   "cell_type": "code",
   "execution_count": null,
   "metadata": {
    "collapsed": false
   },
   "outputs": [],
   "source": [
    "rib.testExactRibletModule()"
   ]
  },
  {
   "cell_type": "code",
   "execution_count": null,
   "metadata": {
    "collapsed": false
   },
   "outputs": [],
   "source": [
    "start = time.time()\n",
    "LmatInv = np.linalg.pinv(Lmat)\n",
    "time.time()-start"
   ]
  },
  {
   "cell_type": "code",
   "execution_count": null,
   "metadata": {
    "collapsed": true
   },
   "outputs": [],
   "source": []
  }
 ],
 "metadata": {
  "kernelspec": {
   "display_name": "Python 3",
   "language": "python",
   "name": "python3"
  },
  "language_info": {
   "codemirror_mode": {
    "name": "ipython",
    "version": 3
   },
   "file_extension": ".py",
   "mimetype": "text/x-python",
   "name": "python",
   "nbconvert_exporter": "python",
   "pygments_lexer": "ipython3",
   "version": "3.4.2"
  }
 },
 "nbformat": 4,
 "nbformat_minor": 0
}
