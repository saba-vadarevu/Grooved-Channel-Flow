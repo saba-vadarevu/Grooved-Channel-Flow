{
 "cells": [
  {
   "cell_type": "code",
   "execution_count": 1,
   "metadata": {
    "collapsed": false
   },
   "outputs": [],
   "source": [
    "%load_ext autoreload\n",
    "%autoreload 2\n"
   ]
  },
  {
   "cell_type": "code",
   "execution_count": 8,
   "metadata": {
    "collapsed": false
   },
   "outputs": [],
   "source": [
    "from flowField import *\n",
    "from flowFieldWavy import *\n",
    "import h5py\n",
    "import numpy as np\n",
    "import pdb\n",
    "import cProfile\n",
    "import time\n",
    "from pseudo import *\n",
    "from scipy.linalg import norm, svd\n",
    "from scipy.sparse.linalg import gmres, LinearOperator\n",
    "from scipy.optimize import newton_krylov,root,anderson\n",
    "import exactRiblet as rib\n",
    "import os\n",
    "import resource\n",
    "\n",
    "import matplotlib.pyplot as plt\n",
    "%matplotlib inline\n",
    "\n",
    "figureFolder = \"/home/sabarish/Dropbox/reports/2016/equilibria/figures/\"\n",
    "docFolder = \"./doc/figures/\"\n",
    "#%run test_flowFieldWavy.py\n",
    "resnormFun = lambda x: x.slice(nd=[0,1,2]).residuals(pField=x.getScalar(nd=3)).appendField(x.slice(nd=[0,1,2]).div()).norm()"
   ]
  },
  {
   "cell_type": "code",
   "execution_count": 3,
   "metadata": {
    "collapsed": false
   },
   "outputs": [
    {
     "name": "stdout",
     "output_type": "stream",
     "text": [
      "Success for both tests!\n",
      "Success for both tests!\n"
     ]
    },
    {
     "data": {
      "text/plain": [
       "(True, True)"
      ]
     },
     "execution_count": 3,
     "metadata": {},
     "output_type": "execute_result"
    }
   ],
   "source": [
    "rib.testExactRibletModule(L=4,M=8,epsArr=np.array([0.,0.]),complexType=np.complex)\n",
    "rib.testExactRibletModule(complexType=np.complex)"
   ]
  },
  {
   "cell_type": "code",
   "execution_count": 4,
   "metadata": {
    "collapsed": false
   },
   "outputs": [],
   "source": [
    "vf = h52ff('testFields/eq1.h5').slice(L=3,M=7)\n",
    "pf = h52ff('testFields/pres_eq1.h5',pres=True).slice(L=4,M=7)\n",
    "assert isinstance(vf,flowFieldRiblet) and isinstance(pf,flowFieldRiblet)\n",
    "\n",
    "vf.flowDict['epsArr'] = np.array([0.,0.0])\n",
    "pf.flowDict['epsArr'] = np.array([0.,0.0])\n",
    "tol = 1.0e-06"
   ]
  },
  {
   "cell_type": "code",
   "execution_count": 6,
   "metadata": {
    "collapsed": false
   },
   "outputs": [],
   "source": [
    "x = loadh5('ribEq1L7M10N30E0000.hdf5')\n",
    "x = x.slice(L=3, M=5); x.flowDict['epsArr'] = np.array([0.,0.,0.01])\n",
    "vf = x.slice(nd=[0,1,2]); pf = x.getScalar(nd=3)\n",
    "\n",
    "#vf, pf, fnorm, flg = rib.iterate(vf=vf, pf=pf,tol=1.0e-06,complexType=np.complex64)"
   ]
  },
  {
   "cell_type": "markdown",
   "metadata": {
    "collapsed": true
   },
   "source": [
    "# Symmetries of Eq1"
   ]
  },
  {
   "cell_type": "code",
   "execution_count": 5,
   "metadata": {
    "collapsed": false
   },
   "outputs": [],
   "source": [
    "x0 = loadh5('solutions/ribEq/L7M10/ribEq1L7M10N30E0000.hdf5')\n",
    "x5 = loadh5('solutions/ribEq/L7M10/ribEq1L7M10N30E0500.hdf5')\n",
    "\n",
    "def verifySyms(x, l0=None,l1=None, m0=None, m1=None, tol = 1.0e-09):\n",
    "    L = x.nx//2; M = x.nz//2\n",
    "    if l0 is None: l0 = -L\n",
    "    if l1 is None: l1 = L\n",
    "    if m0 is None: m0 = -M\n",
    "    if m1 is None: m1 = M\n",
    "    errFlag = 0\n",
    "    for l in range(l0,l1):\n",
    "        for m in range(m0,m1):\n",
    "            # Verify symmetry in u,v:\n",
    "            uvErr = np.linalg.norm( (x[0, L+l, M+m,:2] - ((-1.)**l) * x[0, L+l, M-m,:2]).flatten()  )\n",
    "            if uvErr > tol: \n",
    "                errFlag = 1\n",
    "                warn(\n",
    "                \"Symmetry $\\\\sigma_1$ is not satisfied by u and/or v mode (%d,%d). Error is %.3g\"%(l,m,uvErr))\n",
    "            # Verify symmetry in w:\n",
    "            wErr = np.linalg.norm( (x[0, L+l, M+m,2] + ((-1.)**l) * x[0, L+l, M-m,2]).flatten()  )\n",
    "            if wErr > tol: \n",
    "                errFlag = 1\n",
    "                warn(\n",
    "                \"Symmetry $\\\\sigma_1$ is not satisfied by w for mode (%d,%d). Error is %.3g\"%(l,m,wErr))\n",
    "    if not errFlag:\n",
    "        print(\"Symmetry $\\\\sigma_1$ is satisfied for all Fourier modes of x\")"
   ]
  },
  {
   "cell_type": "code",
   "execution_count": 6,
   "metadata": {
    "collapsed": false
   },
   "outputs": [
    {
     "name": "stderr",
     "output_type": "stream",
     "text": [
      "/usr/local/lib/python3.4/dist-packages/IPython/kernel/__main__.py:18: UserWarning: Symmetry $\\sigma_1$ is not satisfied by u and/or v mode (0,-1). Error is 1.46e-10\n",
      "/usr/local/lib/python3.4/dist-packages/IPython/kernel/__main__.py:18: UserWarning: Symmetry $\\sigma_1$ is not satisfied by u and/or v mode (0,1). Error is 1.46e-10\n"
     ]
    }
   ],
   "source": [
    "verifySyms(x0, tol=1.0e-10)"
   ]
  },
  {
   "cell_type": "markdown",
   "metadata": {
    "collapsed": true
   },
   "source": [
    "# Validating solver with laminar flows"
   ]
  },
  {
   "cell_type": "code",
   "execution_count": 9,
   "metadata": {
    "collapsed": false
   },
   "outputs": [
    {
     "name": "stdout",
     "output_type": "stream",
     "text": [
      "Initial residual norm is 0.0707\n",
      "Starting iterations...............\n",
      "iter: 1\n",
      "Jacobian inversion success with residual norm  2.96800245451e-14\n",
      "residual norm before setSymms: 1.47171199884e-13\n",
      "Residual norm after setSymms in 1 th iteration is 1.47e-13\n",
      "Converged in  1  iterations. Returning....................................\n",
      "Initial residual norm is 0.0707\n",
      "Starting iterations...............\n",
      "iter: 1\n",
      "Jacobian inversion success with residual norm  2.96800245451e-14\n",
      "residual norm before setSymms: 1.47171199884e-13\n",
      "Residual norm after setSymms in 1 th iteration is 1.47e-13\n",
      "Converged in  1  iterations. Returning....................................\n",
      "Initial residual norm is 0.0707\n",
      "Starting iterations...............\n",
      "iter: 1\n",
      "Jacobian inversion success with residual norm  2.96800245451e-14\n",
      "residual norm before setSymms: 1.47171199884e-13\n",
      "Residual norm after setSymms in 1 th iteration is 1.47e-13\n",
      "Converged in  1  iterations. Returning....................................\n",
      "runTime(s): 174.1941900253296\n"
     ]
    }
   ],
   "source": [
    "flowDict = getDefaultDict()\n",
    "flowDict.update({'L':1, 'M':6,'N':30,'alpha':5.,'beta':10.,'eps':0.05,'epsArr':np.array([0.,0.05]),'Re':100.,'isPois':0})\n",
    "\n",
    "start = time.time()\n",
    "for k in range(3):\n",
    "    vf = flowFieldRiblet(flowDict=flowDict).view4d()\n",
    "    vf[0,vf.nx//2,vf.nz//2,0] = vf.y\n",
    "    pf = vf.getScalar().zero()\n",
    "\n",
    "    vf, pf, fnorm, flg = rib.iterate(vf=vf, pf=pf,doLineSearch=False,rcond=1.0e-07)\n",
    "print('runTime(s):',time.time()-start)\n",
    "vf0 = vf.copy(); pf0 = pf.copy()"
   ]
  },
  {
   "cell_type": "code",
   "execution_count": 13,
   "metadata": {
    "collapsed": false
   },
   "outputs": [
    {
     "data": {
      "text/plain": [
       "0.0"
      ]
     },
     "execution_count": 13,
     "metadata": {},
     "output_type": "execute_result"
    }
   ],
   "source": []
  },
  {
   "cell_type": "markdown",
   "metadata": {
    "collapsed": true
   },
   "source": [
    "# Low res EQ1"
   ]
  },
  {
   "cell_type": "code",
   "execution_count": 21,
   "metadata": {
    "collapsed": false
   },
   "outputs": [],
   "source": [
    "x0 = loadh5('ribEq1L7M10N30E0000.hdf5')\n"
   ]
  },
  {
   "cell_type": "code",
   "execution_count": 35,
   "metadata": {
    "collapsed": false
   },
   "outputs": [],
   "source": [
    "x=x0.copy()\n",
    "resnormFun = lambda x: x.slice(nd=[0,1,2]).residuals(pField=x.getScalar(nd=3)).appendField(x.slice(nd=[0,1,2]).div()).norm()"
   ]
  },
  {
   "cell_type": "code",
   "execution_count": 36,
   "metadata": {
    "collapsed": false
   },
   "outputs": [],
   "source": [
    "eArr = np.arange(0.,0.025001,0.001)\n",
    "normArrE1 = np.zeros(eArr.size)\n",
    "for k in range(eArr.size):\n",
    "    eps1 = eArr[k]\n",
    "    x= x0.copy()\n",
    "    x.flowDict['epsArr'] = np.array([0.,eps1])\n",
    "    x.flowDict['eps'] = eps1\n",
    "    \n",
    "    normArrE1[k] = resnormFun(x)\n",
    "\n",
    "normArrE2 = np.zeros(eArr.size)\n",
    "for k in range(eArr.size):\n",
    "    eps = eArr[k]\n",
    "    x= x0.copy()\n",
    "    x.flowDict['epsArr'] = np.array([0.,0.0001,eps])\n",
    "    x.flowDict['eps'] = 0.0001\n",
    "    \n",
    "    normArrE2[k] = resnormFun(x)\n",
    "\n",
    "normArrE3 = np.zeros(eArr.size)\n",
    "for k in range(eArr.size):\n",
    "    eps = eArr[k]\n",
    "    x= x0.copy()\n",
    "    x.flowDict['epsArr'] = np.array([0.,0.0001,0.,eps])\n",
    "    x.flowDict['eps'] = 0.0001\n",
    "    \n",
    "    normArrE3[k] = resnormFun(x)\n",
    "\n"
   ]
  },
  {
   "cell_type": "code",
   "execution_count": 43,
   "metadata": {
    "collapsed": false
   },
   "outputs": [
    {
     "data": {
      "image/png": "[encoded data removed]",
      "text/plain": [
       "<matplotlib.figure.Figure at 0x7f3445c30b70>"
      ]
     },
     "metadata": {},
     "output_type": "display_data"
    }
   ],
   "source": [
    "plt.figure()\n",
    "plt.plot(eArr, normArrE1,'x:')\n",
    "plt.plot(eArr, normArrE2,'r+:')\n",
    "plt.plot(eArr, normArrE3,'ko:')\n",
    "plt.xlabel(\"$A_q$\",fontsize=15); plt.ylabel(\"$||F(\\\\chi)||$\", fontsize=15)\n",
    "plt.legend([\"q=1\",\"q=2\",\"q=3\"],loc=2)\n",
    "#plt.yscale(\"log\")\n",
    "plt.show()"
   ]
  },
  {
   "cell_type": "code",
   "execution_count": 44,
   "metadata": {
    "collapsed": true
   },
   "outputs": [],
   "source": [
    "x = loadh5('solutions/e1/A01/tmp/ribEq1_0_L7M16N35E1_005.hdf5')"
   ]
  },
  {
   "cell_type": "code",
   "execution_count": 46,
   "metadata": {
    "collapsed": false
   },
   "outputs": [
    {
     "data": {
      "text/plain": [
       "0.0012213303303876936"
      ]
     },
     "execution_count": 46,
     "metadata": {},
     "output_type": "execute_result"
    }
   ],
   "source": [
    "x.flowDict['eps'] = 0.; x.flowDict['epsArr'] = np.array([0.,0.])\n",
    "resnormFun(x)"
   ]
  },
  {
   "cell_type": "markdown",
   "metadata": {},
   "source": [
    "# Plots for JFMrapids"
   ]
  },
  {
   "cell_type": "markdown",
   "metadata": {},
   "source": [
    "## Residual norms, accuracy, energy density, bulk dissipation rate"
   ]
  },
  {
   "cell_type": "code",
   "execution_count": 90,
   "metadata": {
    "collapsed": false
   },
   "outputs": [],
   "source": [
    "loadPath='solutions/e1/'\n",
    "nSol = 21 # Number of solutions\n",
    "x0 = loadh5('ribEq1L7M10N30E0000.hdf5').slice(L=7,M=16,N=35) # Initial iterate: Sol for flat-walled Couette\n",
    "\n",
    "# Scalars to be plotted:\n",
    "resnormArr = np.zeros(nSol)   # Residual norm of converged solutions\n",
    "accArr = np.zeros(nSol)       # Accuracy of solutions w.r.t grid size\n",
    "distArr = np.zeros(nSol)      # Distance from x0\n",
    "energyArr = np.zeros(nSol)    # Energy density\n",
    "dissipationArr = np.zeros(nSol) # Bulk dissipation rate\n",
    "pInputArr = np.zeros(nSol)\n",
    "\n",
    "resnormArr[0] = resnormFun(x0.slice(M=16,N=30))\n",
    "accArr[0]  = resnormFun(x0.slice(L=14,M=20,N=60))\n",
    "distArr[0] = 0.\n",
    "energyArr[0] = x0.energy(); dissipationArr[0] = x0.dissipation(); pInputArr[0] = x0.powerInput()\n",
    "for k in range(1,nSol):\n",
    "    solPath = loadPath+'A%02d/'%(k)\n",
    "    solName = 'ribEq1L7M16N35E1_%03d.hdf5'%(5*k)\n",
    "    x = loadh5(solPath+solName)\n",
    "    resnormArr[k] = resnormFun(x)\n",
    "    accArr[k] = resnormFun(x.slice(L=14,M=32,N=70))\n",
    "    distArr[k] = (x-x0).norm()\n",
    "    \n",
    "    energyArr[k] = x.energy()\n",
    "    dissipationArr[k] = x.dissipation()\n",
    "    pInputArr[k] = x.powerInput()\n",
    "    "
   ]
  },
  {
   "cell_type": "code",
   "execution_count": 91,
   "metadata": {
    "collapsed": true
   },
   "outputs": [],
   "source": [
    "epsArr = np.arange(0.,0.1001,0.005)\n"
   ]
  },
  {
   "cell_type": "code",
   "execution_count": 94,
   "metadata": {
    "collapsed": false
   },
   "outputs": [
    {
     "data": {
      "image/png": "[encoded data removed]",
      "text/plain": [
       "<matplotlib.figure.Figure at 0x7f3445c0cbe0>"
      ]
     },
     "metadata": {},
     "output_type": "display_data"
    },
    {
     "data": {
      "image/png": "[encoded data removed]",
      "text/plain": [
       "<matplotlib.figure.Figure at 0x7f3445ca65c0>"
      ]
     },
     "metadata": {},
     "output_type": "display_data"
    }
   ],
   "source": [
    "# Residual norm, accuracy, and distance\n",
    "fig,ax1 = plt.subplots()\n",
    "ln1 = ax1.plot(2.*epsArr, resnormArr,'bx',label='Residual norm')\n",
    "ln2 = ax1.plot(2.*epsArr, accArr,'b+',label='Accuracy')\n",
    "ax1.set_ylabel('$||F(\\\\chi^*)||$',color='b',fontsize=15)\n",
    "ax1.set_xlim([-0.01,0.21])\n",
    "ax1.set_yscale('log')\n",
    "#ax1.set_ylim([0.1,0.15])\n",
    "\n",
    "ax2 = ax1.twinx()\n",
    "ln3 = ax2.plot(2.*epsArr, distArr,'r*:',label='Distance')\n",
    "ax2.set_xlim([-0.01,0.21])\n",
    "ax2.set_ylabel('$||\\chi^*-\\chi^0||$',color='r',fontsize=15)\n",
    "\n",
    "for tl in ax1.get_yticklabels():\n",
    "    tl.set_color('b')\n",
    "for tl in ax2.get_yticklabels():\n",
    "    tl.set_color('r')\n",
    "\n",
    "line1,label1 = ax1.get_legend_handles_labels()\n",
    "line2,label2 = ax2.get_legend_handles_labels()\n",
    "ax2.legend(line1+line2, label1+label2,loc=4)\n",
    "\n",
    "ax1.set_xlabel('Amplitude($A$)',fontsize=15)\n",
    "plt.tight_layout()\n",
    "plt.savefig(figureFolder+'normDistE1.eps',format='eps',dpi=1200)\n",
    "plt.show()\n",
    "\n",
    "\n",
    "\n",
    "\n",
    "\n",
    "# Energy density and bulk dissipation rate\n",
    "fig,ax1 = plt.subplots()\n",
    "ln1 = ax1.plot(2.*epsArr, energyArr,'bx:',label='Energy Density')\n",
    "ax1.set_ylabel('E',color='b',fontsize=15)\n",
    "ax1.set_xlim([-0.01,0.21])\n",
    "ax1.set_ylim([0.1,0.15])\n",
    "ax2 = ax1.twinx()\n",
    "ln2 = ax2.plot(2.*epsArr, dissipationArr,'r+:',label='Dissipation rate ')\n",
    "ax2.set_xlim([-0.01,0.21])\n",
    "ax2.set_ylabel('D',color='r',fontsize=15)\n",
    "\n",
    "for tl in ax1.get_yticklabels():\n",
    "    tl.set_color('b')\n",
    "for tl in ax2.get_yticklabels():\n",
    "    tl.set_color('r')\n",
    "\n",
    "\n",
    "line1,label1 = ax1.get_legend_handles_labels()\n",
    "line2,label2 = ax2.get_legend_handles_labels()\n",
    "ax2.legend(line1+line2, label1+label2,loc=4)\n",
    "\n",
    "ax1.set_xlabel('Amplitude($A$)',fontsize=15)\n",
    "plt.tight_layout()\n",
    "plt.savefig(figureFolder+'energyDissipationE1.eps',format='eps',dpi=1200)\n",
    "plt.show()\n"
   ]
  },
  {
   "cell_type": "code",
   "execution_count": 88,
   "metadata": {
    "collapsed": false
   },
   "outputs": [
    {
     "data": {
      "text/plain": [
       "array([ -2.96616728e-07,   6.83102978e-04,   2.74398629e-03,\n",
       "         6.19428385e-03,   1.10379027e-02,   1.72709271e-02,\n",
       "         2.48819655e-02,   3.38520103e-02,   4.41551090e-02,\n",
       "         5.57587251e-02,   6.86242769e-02,   8.27161599e-02,\n",
       "         9.79803396e-02,   1.14432063e-01,   1.32033310e-01,\n",
       "         1.50691946e-01,   1.70097890e-01,   1.90614662e-01,\n",
       "         2.12447720e-01,   2.34724059e-01,   2.58075986e-01])"
      ]
     },
     "execution_count": 88,
     "metadata": {},
     "output_type": "execute_result"
    }
   ],
   "source": [
    "dissipationArr- pInputArr"
   ]
  },
  {
   "cell_type": "markdown",
   "metadata": {},
   "source": [
    "## Phase-difference"
   ]
  },
  {
   "cell_type": "code",
   "execution_count": 29,
   "metadata": {
    "collapsed": false
   },
   "outputs": [],
   "source": [
    "# eps_1 = 0\n",
    "x0 = loadh5('ribEq1L7M10N30E0000.hdf5')\n",
    "x = x0\n",
    "phaseArrZ = 2.*np.pi*np.arange(0.,1.001,0.05)\n",
    "\n",
    "normArr = np.zeros(phaseArrZ.size)\n",
    "for m in range(phaseArrZ.size):\n",
    "    phiZ = phaseArrZ[m]\n",
    "    normArr[m] = resnormFun(shiftPhase(x,phiZ=phiZ))\n",
    "        \n",
    "normArrA01 = np.zeros(phaseArrZ.size)\n",
    "x = loadh5('solutions/e1/A01/ribEq1L7M16N35E1_005.hdf5')\n",
    "for m in range(phaseArrZ.size):\n",
    "    phiZ = phaseArrZ[m]\n",
    "    normArrA01[m] = resnormFun(shiftPhase(x,phiZ=phiZ))\n",
    "        \n",
    "        \n",
    "normArrA05 = np.zeros(phaseArrZ.size)\n",
    "x = loadh5('solutions/e1/A05/ribEq1L7M16N35E1_025.hdf5')\n",
    "for m in range(phaseArrZ.size):\n",
    "    phiZ = phaseArrZ[m]\n",
    "    normArrA05[m] = resnormFun(shiftPhase(x,phiZ=phiZ))\n",
    "        \n",
    "\n"
   ]
  },
  {
   "cell_type": "code",
   "execution_count": 30,
   "metadata": {
    "collapsed": false
   },
   "outputs": [
    {
     "data": {
      "image/png": "[encoded data removed]",
      "text/plain": [
       "<matplotlib.figure.Figure at 0x7fc0705f9080>"
      ]
     },
     "metadata": {},
     "output_type": "display_data"
    }
   ],
   "source": [
    "plt.plot(phaseArrZ/np.pi, normArr)\n",
    "plt.plot(phaseArrZ/np.pi, normArrA01,'r')\n",
    "plt.plot(phaseArrZ/np.pi, normArrA05,'k')\n",
    "plt.ylim([-0.002,0.015])\n",
    "#plt.yscale(\"log\")\n",
    "plt.show()"
   ]
  },
  {
   "cell_type": "code",
   "execution_count": 33,
   "metadata": {
    "collapsed": false
   },
   "outputs": [
    {
     "name": "stdout",
     "output_type": "stream",
     "text": [
      "0.0 0.0679579759024\n",
      "0.2 0.0679579759024\n",
      "0.4 0.0679579759024\n",
      "0.6 0.0679579759024\n",
      "0.8 0.0679579759024\n",
      "1.0 0.0679579759024\n",
      "1.2 0.0679579759024\n",
      "1.4 0.0679579759024\n",
      "1.6 0.0679579759024\n",
      "1.8 0.0679579759024\n",
      "2.0 0.0679579759024\n"
     ]
    }
   ],
   "source": [
    "x1 = x.copy()\n",
    "x1[:,:,:,:2] = -x1[:,:,:,:2,::-1]\n",
    "x1[:,:,:,3] = -x1[:,:,:,3,::-1]\n",
    "for phiX in (2.*np.pi*np.arange(0.,1.001,0.1)):\n",
    "    print(phiX/np.pi,resnormFun(shiftPhase(x1,phiZ=np.pi,phiX=phiX)))"
   ]
  },
  {
   "cell_type": "code",
   "execution_count": null,
   "metadata": {
    "collapsed": true
   },
   "outputs": [],
   "source": []
  }
 ],
 "metadata": {
  "kernelspec": {
   "display_name": "Python 3",
   "language": "python",
   "name": "python3"
  },
  "language_info": {
   "codemirror_mode": {
    "name": "ipython",
    "version": 3
   },
   "file_extension": ".py",
   "mimetype": "text/x-python",
   "name": "python",
   "nbconvert_exporter": "python",
   "pygments_lexer": "ipython3",
   "version": "3.4.2"
  }
 },
 "nbformat": 4,
 "nbformat_minor": 0
}
