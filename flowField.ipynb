{
 "cells": [
  {
   "cell_type": "markdown",
   "metadata": {},
   "source": [
    "# flowField class for iterative solution"
   ]
  },
  {
   "cell_type": "markdown",
   "metadata": {},
   "source": [
    "## Contents\n",
    "- Subclass of numpy.ndarray()\n",
    "\n",
    "### Basic flow descriptors\n",
    "Define as a dictionary:\n",
    "* $ \\alpha, \\beta $  describing the periodicity, and $Re$\n",
    "* K,L,M,N describing the resolution:\n",
    "    - K: No. of temporal frequencies\n",
    "    - L: No. of positive streamwise Fourier modes\n",
    "    - M: No. of positive spanwise Fourier modes\n",
    "    - N: No. of Chebyshev collocation nodes in wall-normal \n",
    "    - The total size of each variable would be (2L+1)(2M+1)N\n",
    "* Flow type: Couette or Poiseuille (use flags)- default to Couette\n",
    "    - Boundary conditions on $u_0$\n",
    "    - dPdx\n",
    "    \n",
    "### Values\n",
    "* Values (This shouldn't be directly accessible- use reshapers to access values)\n",
    "    - Store only fluctuations\n",
    "    - Define a separate $u_{base}$\n",
    "\n",
    "\n",
    "### Methods to be defined\n",
    "Should I write these as a view() or simply as a reshape()?\n",
    "* Viewers: \n",
    "    - 1D array for state\n",
    "    - 4D array (streamwise, spanwise, variable ID, wall-normal)\n",
    "* Truncating:\n",
    "    - Returning only (u,w)\n",
    "    - Returning only interior nodes, ignoring the walls\n",
    "* Dot product\n",
    "* Norm\n",
    "* spectral2physical:\n",
    "    - Do not change the flowField class itself, instead, write a new object\n",
    "    \n",
    "## Inputs\n",
    "* Flow descriptors (see above)\n",
    "    - Keep $ \\alpha, \\beta, Re$ as optional parameters, default values being those used in ChannelFlow: (1.14,2.5,400)\n",
    "    * Resolution: L,M,N    \n",
    "* Base flow type (flag):\n",
    "    - Either linear, or quadratic. Assume linear as default. \n",
    "* Read from file- optional (flag):\n",
    "    - Filename, format ('mat', 'npy', 'asc',...)\n",
    "* Noise levels (default to zero):\n",
    "    - Add random noise to the state vector whose norm is that as input.\n",
    "\n",
    "## Tests for class\n",
    "* Ensure that solving for flat-walled Couette and Poiseuille flows using direct inversion works\n",
    "* Ensure that the above cases work with iterative solver. \n",
    "\n",
    "### Other notes to self:\n",
    "* Write doc-strings for all the methods and inputs\n",
    "* When initializing flowField as white-noise, think about smoothening the noise. \n"
   ]
  },
  {
   "cell_type": "markdown",
   "metadata": {},
   "source": [
    "## Collaborator comments\n",
    "Use this cell for comments"
   ]
  },
  {
   "cell_type": "markdown",
   "metadata": {
    "collapsed": false
   },
   "source": [
    "---------------------------------------------------\n",
    "\n",
    "## Inheriting numpy.ndarray()\n",
    "\n",
    "Reference: http://docs.scipy.org/doc/numpy/user/basics.subclassing.html"
   ]
  },
  {
   "cell_type": "code",
   "execution_count": 1,
   "metadata": {
    "collapsed": false
   },
   "outputs": [
    {
     "name": "stdout",
     "output_type": "stream",
     "text": [
      "<class 'numpy.ndarray'>\n",
      "<class '__main__.C'>\n",
      "[ 0.  0.  0.]\n"
     ]
    }
   ],
   "source": [
    "import numpy as np\n",
    "\n",
    "class C(np.ndarray): pass\n",
    "\n",
    "arr = np.zeros(3,)\n",
    "c_arr = arr.view(C)\n",
    "\n",
    "print(type(arr))\n",
    "print(type(c_arr))\n",
    "print(c_arr)\n",
    "\n"
   ]
  },
  {
   "cell_type": "code",
   "execution_count": 2,
   "metadata": {
    "collapsed": false
   },
   "outputs": [
    {
     "name": "stdout",
     "output_type": "stream",
     "text": [
      "<class '__main__.C'>\n"
     ]
    },
    {
     "data": {
      "text/plain": [
       "False"
      ]
     },
     "execution_count": 2,
     "metadata": {},
     "output_type": "execute_result"
    }
   ],
   "source": [
    "v= c_arr[:]\n",
    "print(type(v))\n",
    "\n",
    "v is c_arr\n"
   ]
  },
  {
   "cell_type": "code",
   "execution_count": 3,
   "metadata": {
    "collapsed": false
   },
   "outputs": [
    {
     "name": "stdout",
     "output_type": "stream",
     "text": [
      "<class '__main__.C'>\n"
     ]
    }
   ],
   "source": [
    "print(type(v))"
   ]
  },
  {
   "cell_type": "code",
   "execution_count": 5,
   "metadata": {
    "collapsed": false
   },
   "outputs": [
    {
     "name": "stdout",
     "output_type": "stream",
     "text": [
      "['C', 'In', 'Out', '_', '_2', '__', '___', '__builtin__', '__builtins__', '__doc__', '__loader__', '__name__', '__package__', '__spec__', '_dh', '_i', '_i1', '_i2', '_i3', '_i4', '_i5', '_ih', '_ii', '_iii', '_oh', '_sh', 'arr', 'c_arr', 'exit', 'get_ipython', 'np', 'quit', 'v']\n"
     ]
    }
   ],
   "source": [
    "print(dir())"
   ]
  },
  {
   "cell_type": "code",
   "execution_count": 6,
   "metadata": {
    "collapsed": false
   },
   "outputs": [
    {
     "name": "stdout",
     "output_type": "stream",
     "text": [
      "[ 0.  0.  0.]\n",
      "[ 0.  5.  0.]\n"
     ]
    }
   ],
   "source": [
    "print(c_arr)\n",
    "v[1]=5.\n",
    "print(c_arr)"
   ]
  },
  {
   "cell_type": "code",
   "execution_count": 7,
   "metadata": {
    "collapsed": false
   },
   "outputs": [
    {
     "data": {
      "text/plain": [
       "C([ True,  True,  True], dtype=bool)"
      ]
     },
     "execution_count": 7,
     "metadata": {},
     "output_type": "execute_result"
    }
   ],
   "source": [
    "v == c_arr"
   ]
  },
  {
   "cell_type": "markdown",
   "metadata": {},
   "source": [
    "Need to be careful when using `is`. It refers to the IDs of objects. If using arrays or elements of arrays, using `is` is a bad idea. Stick to `==` when comparing numerical values- which is usually all I care for."
   ]
  },
  {
   "cell_type": "code",
   "execution_count": 8,
   "metadata": {
    "collapsed": false
   },
   "outputs": [
    {
     "name": "stdout",
     "output_type": "stream",
     "text": [
      "False\n",
      "[ 0.  3.  0.]\n",
      "False\n",
      "34815088\n",
      "34837296\n",
      "True\n",
      "34815088\n",
      "[ True  True  True]\n",
      "False\n"
     ]
    }
   ],
   "source": [
    "gen = np.zeros(3,)\n",
    "v1 = gen[:]\n",
    "print(v1 is gen)\n",
    "v1[1]=3.\n",
    "print(gen)\n",
    "print(gen[:] is gen)\n",
    "print(id(gen))\n",
    "print(id(gen[:]))\n",
    "v2 = gen\n",
    "print (v2 is gen)\n",
    "print (id(v2))\n",
    "print(v1 == gen)\n",
    "print (v1[0] is gen[0])"
   ]
  },
  {
   "cell_type": "markdown",
   "metadata": {
    "collapsed": true
   },
   "source": [
    "## Reading files into dictionary\n"
   ]
  },
  {
   "cell_type": "code",
   "execution_count": 9,
   "metadata": {
    "collapsed": false
   },
   "outputs": [
    {
     "name": "stdout",
     "output_type": "stream",
     "text": [
      "flowConfig.txt  flowField.ipynb\r\n"
     ]
    }
   ],
   "source": [
    "ls\n"
   ]
  },
  {
   "cell_type": "code",
   "execution_count": 10,
   "metadata": {
    "collapsed": false
   },
   "outputs": [
    {
     "name": "stdout",
     "output_type": "stream",
     "text": [
      "alpha   1.14\t% (float) Streamwise wavenumber of periodic box\r\n",
      "beta    2.5\t% (float) Spanwise wavenumber of periodic box\r\n",
      "omega   0.0\t% (float) Fundamental frequency resolved in computation\r\n",
      "ReLam   400.0 \t% (float) Re based on laminar base flow\r\n",
      "isPois  0\t% (0 or 1) 1 for Poiseuille flow, 0 for Couette\r\n",
      "noise   0.0\t% (float) Norm of white noise to be added\r\n",
      "L       23      % (int) Number of positive streamwise Fourier modes \r\n",
      "M       23\t% (int) Number of positive spanwise Fourier modes\r\n",
      "N       35\t% (int) Number of Chebyshev collocation nodes\r\n",
      "K       0\t% (int) Number of positive Fourier frequency modes\r\n",
      "--- 0 ---- ---- WARNING: No text goes after this line. DO NOT EDIT THIS LINE AT ALL.\r\n"
     ]
    }
   ],
   "source": [
    "%cat flowConfig.txt"
   ]
  },
  {
   "cell_type": "code",
   "execution_count": 11,
   "metadata": {
    "collapsed": false
   },
   "outputs": [],
   "source": [
    "flowDict = {}\n",
    "with open(\"flowConfig.txt\",'r') as f:\n",
    "    for line in f:\n",
    "        (key,val) = line.split()[:2]\n",
    "        flowDict[key] = float(val)\n"
   ]
  },
  {
   "cell_type": "code",
   "execution_count": 12,
   "metadata": {
    "collapsed": false
   },
   "outputs": [
    {
     "name": "stdout",
     "output_type": "stream",
     "text": [
      "testvar 5.5 <class 'float'>\n"
     ]
    }
   ],
   "source": [
    "defaultDict = {'alpha':1.14, 'beta' : 2.5, 'omega':0.0, 'L': 0.0, 'M': 0.0, 'N': 0.0, 'K':0.0,\n",
    "               'ReLam': 400.0, 'isPois':0.0, 'noise':0.0 , 'testvar':5.5}\n",
    "for key in defaultDict:\n",
    "    if key not in flowDict:\n",
    "        flowDict[key] = defaultDict[key]\n",
    "        print(key,flowDict[key],type(flowDict[key]))"
   ]
  },
  {
   "cell_type": "code",
   "execution_count": 13,
   "metadata": {
    "collapsed": false
   },
   "outputs": [
    {
     "name": "stdout",
     "output_type": "stream",
     "text": [
      "{'omega': 0.0, 'noise': 0.0, 'K': 0.0, 'ReLam': 400.0, 'isPois': 0.0, 'testvar': 5.5, 'beta': 2.5, 'alpha': 1.14, 'M': 23.0, 'N': 35.0, '---': 0.0, 'L': 23.0}\n",
      "3.6399999999999997\n"
     ]
    }
   ],
   "source": [
    "print(flowDict)\n",
    "print( 2.5+flowDict['alpha'])"
   ]
  },
  {
   "cell_type": "code",
   "execution_count": 14,
   "metadata": {
    "collapsed": false
   },
   "outputs": [
    {
     "name": "stdout",
     "output_type": "stream",
     "text": [
      "3.1399999999999997\n",
      "<built-in method values of dict object at 0x7f11a8fde4c8>\n"
     ]
    },
    {
     "data": {
      "text/plain": [
       "3.6399999999999997"
      ]
     },
     "execution_count": 14,
     "metadata": {},
     "output_type": "execute_result"
    }
   ],
   "source": [
    "flowDict['alpha'],flowDict['beta']\n",
    "print (2+float(flowDict['alpha']))\n",
    "print(flowDict.values)\n",
    "float(flowDict['beta'])\n",
    "\n",
    "flowDict['alpha'] = float(flowDict['alpha'])\n",
    "flowDict['alpha']+2.5"
   ]
  },
  {
   "cell_type": "markdown",
   "metadata": {},
   "source": [
    "## Defining flowField class that inherits np.ndarray"
   ]
  },
  {
   "cell_type": "markdown",
   "metadata": {},
   "source": [
    "For starters, defining the class to initialize an empty ndarray along with a dictionary provided during initialization."
   ]
  },
  {
   "cell_type": "markdown",
   "metadata": {},
   "source": [
    "I need to verify that the dictionary being supplied has all the info I need to go with a flowField class. But, I can't verify this all the time. This is how I'll deal with it: \n",
    "* Verify the dictionary only when constructing a flowField class. So, that's when\n",
    "    - Explicitly constructing an instance of the class\n",
    "    - Viewing a given array as an instance of the class\n",
    "* When slicing an array of the flowField class (to obtain another instance of the class), don't bother with the check. \n",
    "\n",
    "Basically, ensure every instance of the flowField class has a valid dictionary, and then stop worrying about it. \n",
    "\n",
    "So, we need a function that verifies the validity of dictionary, or creates one if one isn't supplied. The parameters required in the dictionary, and their defaults, are as follows:\n",
    "* alpha : 1.14    \n",
    "    *Wavenumber of fundamental streamwise Fourier mode*\n",
    "* beta :  2.5    \n",
    "    *Wavenumber of fundamental spanwise Fourier mode*\n",
    "* omega: 0.0    \n",
    "    *Fundamental frequency*\n",
    "* ReLam: 400.0  \n",
    "    *Reynolds number of the laminar base flow*\n",
    "* isPois: 0     \n",
    "    *Flag for base flow type. 0: Couette, 1: Poiseuille*\n",
    "* noise: 0.0    \n",
    "    *Norm of noise to be added to the flow*\n",
    "* L: 0          \n",
    "    *Number of (positive) harmonics of fundamental streamwise Fourier mode.*\n",
    "* M: 0          \n",
    "    *Number of (positive) harmonics of fundamental spanwise Fourier mode*\n",
    "* N: 35         \n",
    "    *Number of Chebyshev collocation nodes*\n",
    "* K: 0         \n",
    "    *Number of (positive) harmonics of fundamental frequency*"
   ]
  },
  {
   "cell_type": "markdown",
   "metadata": {},
   "source": [
    "** For now, I'm ignoring the fact that np.ndarray can be viewed as a subclass. I'm defining the dictionary and checks in flowField.__new__(). Later, I'll have to move this to __array_finalize__ so that the dictionary is defined for cases when either an explicit constructor call is made or a view-casting is done**"
   ]
  },
  {
   "cell_type": "markdown",
   "metadata": {},
   "source": [
    "### Ensure these features:\n",
    "* View-casting:\n",
    "    - Take an existing numpy array and view it as a flowField class, given that a flowDict dictionary is supplied.\n",
    "* Explicit construction:\n",
    "    - Construct a randomField object based on noise levels supplied\n",
    "* New from template:\n",
    "    - Truncate and expand an instance of flowField to obtain a new instance with a changed dictionary (to reflect the truncation of L,M,N, or K)\n",
    "\n"
   ]
  },
  {
   "cell_type": "markdown",
   "metadata": {},
   "source": [
    "** I have three cases to consider when building a flowField instance. Suppose L = 1**:\n",
    "- The flowField has streamwise wavenumbers $-\\alpha, 0, \\alpha$\n",
    "- The flowField only has streamwise wavenumbers $-\\alpha, \\alpha$\n",
    "- The flowField only has streamwise wavenumber $\\alpha$\n",
    "    \n",
    "This question becomes particularly important if only a half-plane or half-volume of the wavenumber space is considered. \n",
    "\n",
    "This is how I chose to resolve this issue. Considering L:\n",
    "* If L = 0, then the flowField is of wavenumber $\\alpha$\n",
    "* If L = n ($\\in \\mathbb{N}$), then the flowField is resolved in wavenumbers {$0,\\alpha,2\\alpha,..,n\\alpha$}.\n",
    "* If L = -n ($n \\in \\mathbb{N}$), then the flowField is resolved in wavenumbers {$-n\\alpha, (-n+1)\\alpha,..,0,\\alpha,...,n\\alpha$}\n",
    "\n",
    "This way, a flowField can be defined in three different ways for each of the three Fourier axes (streamwise, spanwise, temporal):\n",
    "* As just one Fourier mode, $\\alpha$ (which could be positive, negative, or zero). \n",
    "* As a collection of `n` harmonics (positive integer multiples of a positive/negative wavenumber), along with mode zero (the invariant mode).\n",
    "* As a collection of `2n+1` harmonics, from $-n\\alpha$ through $n\\alpha$.\n",
    "\n",
    "** Correction: Cannot do flowFields with just modes \n",
    "\n",
    "I think this should be enough to deal with most cases. We will later need to define collections of flowFields. "
   ]
  },
  {
   "cell_type": "code",
   "execution_count": 197,
   "metadata": {
    "collapsed": false
   },
   "outputs": [
    {
     "name": "stdout",
     "output_type": "stream",
     "text": [
      "{'K': 0.0, 'N': 0.0, 'M': 0.0, 'omega': 0.0, 'noise': 0.0, 'L': 0.0, 'alpha': 1.14, 'beta': 2.5, 'ReLam': 400.0, 'isPois': 0.0}\n"
     ]
    }
   ],
   "source": [
    "# In case dictionary is 'None':\n",
    "defaultDict = {'alpha':1.14, 'beta' : 2.5, 'omega':0.0, 'L': 0.0, 'M': 0.0, 'N': 0.0, 'K':0.0,\n",
    "               'ReLam': 400.0, 'isPois':0.0, 'noise':0.0 }\n",
    "\n",
    "def verify_dict(tempDict):\n",
    "    if tempDict is None:\n",
    "        tempDict = defaultDict\n",
    "    else: \n",
    "        for key in defaultDict:\n",
    "            if key not in tempDict:\n",
    "                tempDict[key] = defaultDict[key]\n",
    "    return tempDict\n",
    "\n",
    "flowDict = None\n",
    "flowDict = verify_dict(flowDict)\n",
    "print(flowDict)"
   ]
  },
  {
   "cell_type": "markdown",
   "metadata": {},
   "source": [
    "## Slice\n",
    "I'm defining `slice` as a general method used for either truncating or extending the existing flowField instance. \n",
    "\n",
    "There are several cases to consider:\n",
    "1.  Both existing and requested instances have the same wavenumber extension: either both contain positive and negative wavenumbers, or both contain only non-negative wavenumbers. For this case, there are 2 subcases:\n",
    "    1.  The requested instance needs the existing instance to be truncated or held the same.\n",
    "    2.  The requested instance needs the existing instance to be extended.\n",
    "2.  The existing instance contains positive as well as negative wavenumbers, whereas the requested instance is only for positive wavenumbers. For this case:\n",
    "    1.  The requested instance requires truncation in positive modes of the existing instance.\n",
    "    2.  The requested instance requires extension in positive wavenumbers (with zeros for modes unavailable).\n",
    "3.  The existing instance contains only positive wavenumbers, whereas the requested instance is for positive as well as negative. For this case too:\n",
    "    1.  Truncation.\n",
    "    2.  Extension.\n",
    "\n",
    "\n",
    "## Going from half plane/volume to full using conjugate\n",
    "I thought that if the Fourier modes available were $(0:K\\omega,0:L\\alpha, 0:M\\beta)$, I could extend each set of modes into the negative side. But that's not true, I can only do that for just 1 set of modes. That is, I can't extend a quadrant to a full plane or an octant to a full volume. I can only go from 2 quadrants to 4, or 4 octants to 8. \n",
    "\n",
    "For now, I will suppose that we always have the flow resolved in the half-plane or the half-volume $\\beta>0$. So, K,L are always negative (-0=0). Only M is allowed to be positive, but it could also be set to be negative. \n",
    "\n",
    "**With this simplification, cases 2 and 3 identified for slicing (above) only relate to M. For K and L, it's always case 1.**\n",
    "\n"
   ]
  },
  {
   "cell_type": "code",
   "execution_count": 1,
   "metadata": {
    "collapsed": false
   },
   "outputs": [],
   "source": [
    "import numpy as np\n",
    "import scipy as sp\n",
    "from scipy.linalg import norm\n",
    "from warnings import warn\n",
    "#from pseudo.py import chebint\n",
    "\n",
    "defaultDict = {'alpha':1.14, 'beta' : 2.5, 'omega':0.0, 'L': 23.0, 'M': 23.0, 'N': 35.0, 'K':0.0,\n",
    "               'ReLam': 400.0, 'isPois':0.0, 'noise':0.0 }\n",
    "\n",
    "def verify_dict(tempDict):\n",
    "    '''Verify that the supplied flowDict has all required parameters'''\n",
    "    if tempDict is None:\n",
    "        tempDict = defaultDict\n",
    "    else: \n",
    "        for key in defaultDict:\n",
    "            if key not in tempDict:\n",
    "                tempDict[key] = defaultDict[key]\n",
    "    return tempDict\n",
    "\n",
    "def read_dictFile(dictFile):\n",
    "    '''Read flowDict from file. MUST use \"flowConfig.txt\" as template. '''\n",
    "    tempDict = {}\n",
    "    with open(\"flowConfig.txt\",'r') as f:\n",
    "        for line in f:\n",
    "            (key,val) = line.split()[:2]\n",
    "            tempDict[key] = float(val)    \n",
    "    return tempDict\n",
    "\n",
    "class flowField(np.ndarray):\n",
    "    ''' Provides a class to define u,v,w,p in 4D: time, x,z,y. \n",
    "    Ordered as (omega,alpha,beta,nd,y): omega, alpha, beta are Fourier modes in t,x,z respectively.\n",
    "    nd is an index going from 0 to 3 for u,v,w,p. \n",
    "    y is the array of Chebyshev collocation nodes\n",
    "    Methods: \n",
    "        slice(K,L,M,nd,N): Make gride finer or coarser along any direction\n",
    "        extract(K,L,M,nd,N): Similar to slice, but allows only for choosing existing Fourier modes (slice also allows for extrapolation)'''\n",
    "    def __new__(cls, arr=None, flowDict=None, dictFile= None):\n",
    "        # The shape of the numpy array comes from the dictionary\n",
    "        #   so it is absolutely necessary to have the dictionary\n",
    "        print('constructor has been called')\n",
    "        if flowDict is None:\n",
    "            if dictFile is not None:\n",
    "                flowDict = verify_dict(read_dictFile(dictFile))\n",
    "            else:\n",
    "                flowDict = defaultDict\n",
    "        else:\n",
    "            flowDict = verify_dict(flowDict)\n",
    "        \n",
    "        L = int(flowDict['L'])\n",
    "        M = int(flowDict['M'])\n",
    "        N = int(flowDict['N'])\n",
    "        K = int(flowDict['K'])\n",
    "        nt = int(3.*abs(K)/2. - K/2. + 1)    # = 1 if K=0;    = K+1 if K>0;    = 2*|K|+1 if K<0\n",
    "        nx = int(3.*abs(L)/2. - L/2. + 1)    \n",
    "        nz = int(3.*abs(M)/2. - M/2. + 1) \n",
    "        \n",
    "        \n",
    "        #obj = np.ndarray.__new__(cls, shape=(nt,nx,nz,4,N),dtype=float) # The 4th index goes to 4 because u,v,w,p\n",
    "        if arr is None:\n",
    "            obj = np.zeros((nt,nx,nz,4,N),dtype=np.complex).view(cls)\n",
    "        else:\n",
    "            obj = np.asarray(arr).view(cls)\n",
    "\n",
    "        return obj\n",
    "    \n",
    "    def __array_finalize__(self,obj,dictFile=None,flowDict=defaultDict):\n",
    "        if self.dtype != np.complex:\n",
    "            warn('flowField class is designed to work with complex array entries\\n'+\n",
    "                 'To obtain real/imaginary parts of an instance, use class methods \"real\" and \"imag\"')\n",
    "        if type(obj) is type(self):\n",
    "            if obj.shape != self.shape:\n",
    "                warn('Extracting slice of np.ndarray does not effect changes in flowDict.\\n'+ \n",
    "                        'Use flowField method \"slice\" instead')\n",
    "            return\n",
    "        if (obj is None) or (type(obj) is not np.ndarray):\n",
    "            raise RuntimeError('Use explicit constructor call when creating class instances without supplying np.ndarrays')\n",
    "            return\n",
    "        \n",
    "        if dictFile is not None:\n",
    "            flowDict = read_dictFile(dictFile)\n",
    "            flowDict = verify_dict(flowDict)\n",
    "        \n",
    "        L = int(flowDict['L'])\n",
    "        M = int(flowDict['M'])\n",
    "        N = int(flowDict['N'])\n",
    "        K = int(flowDict['K'])\n",
    "        \n",
    "        nx = 2*L+1     \n",
    "        nz = int(3.*abs(M)/2. - M/2. + 1)    # = 1 if K=0;    = K+1 if K>0;    = 2*|K|+1 if K<0\n",
    "        nt = 2*K+1\n",
    "        \n",
    "        if obj.size != (nx*nz*nt*4*N):\n",
    "            raise RuntimeError('The parameters in the dictionary are not consistent with the size of the supplied array')\n",
    "        \n",
    "        self.flowDict = flowDict\n",
    "        self.nx = nx\n",
    "        self.nz = nz\n",
    "        self.nt = nt\n",
    "        self.N = N\n",
    "        self.nd = 4\n",
    "        return\n",
    "\n",
    "    \n"
   ]
  },
  {
   "cell_type": "code",
   "execution_count": null,
   "metadata": {
    "collapsed": true
   },
   "outputs": [],
   "source": [
    "    def slice(self,K=None,L=None,M=None,nd=None,N=None):\n",
    "        '''\n",
    "        Returns a class instance with increased/reduced K,L,M,nd,N\n",
    "        Call as new_inst = myFlowField.slice((Knew,Lnew,None,None,Nnew)) to change values of K,L,N without affecting M and nd\n",
    "        When the number of Fourier modes (K,L,M, or nt,nx,nz) are smaller than what is requested, \n",
    "            additional zero modes are added. For Chebyshev nodes, interpolation is used'''\n",
    "        if K:\n",
    "            Kt = self.flowDict['K']               # Temporary name for 'L' of self\n",
    "            nx = int(3.*abs(L)/2. - L/2. + 1)     # = 1 if L=0;    = L+1 if L>0;    = 2*|L|+1 if L<0\n",
    "            \n",
    "            if abs(L) <= abs(Lt): # Case 1.A\n",
    "                nx0 = int((abs(Lt)-Lt)/2)\n",
    "                nxm1 = nx0 - int((abs(L)-L)/2)\n",
    "                nxp1 = nx0 + abs(L) + 1\n",
    "                obj = obj[:,nxm1:nxp1]\n",
    "            else:  # Case 1.B\n",
    "                nxplus = int(abs(L)-abs(Lt))\n",
    "                if L>0: \n",
    "                    obj = np.append(obj, np.zeros((self.nt,nxplus,self.nz,self.nd,self.N),dtype=np.complex),axis=1)\n",
    "                    obj = np.append(obj[:,:0:-1].conjugate())\n",
    "            \n",
    "        if L:\n",
    "            Lt = self.flowDict['L']               # Temporary name for 'L' of self\n",
    "            nx = int(3.*abs(L)/2. - L/2. + 1)     # = 1 if L=0;    = L+1 if L>0;    = 2*|L|+1 if L<0\n",
    "            \n",
    "            if abs(L) <= abs(Lt): # Case 1.A\n",
    "                nx0 = int((abs(Lt)-Lt)/2)\n",
    "                nxm1 = nx0 - int((abs(L)-L)/2)\n",
    "                nxp1 = nx0 + abs(L) + 1\n",
    "                obj = obj[:,nxm1:nxp1]\n",
    "            else:  # Case 1.B\n",
    "                nxplus = int(abs(L)-abs(Lt))\n",
    "                if L>0: \n",
    "                    obj = np.append(obj, np.zeros((self.nt,nxplus,self.nz,self.nd,self.N),dtype=np.complex),axis=1)\n",
    "                    obj = np.append(obj[:,:0:-1].conjugate())\n",
    "            elif L > 0:          # Case 2\n",
    "                if abs(L) <= abs(Lt): # Case 2.A\n",
    "                    nx0 = int((abs(Lt)-Lt)/2)\n",
    "                    nxp1 = nx0 + L + 1\n",
    "                    obj = obj[:,nx0:nxp1]\n",
    "                else:  # Case 2.B\n",
    "                    pass   # Need to add zero modes here\n",
    "            else: \n",
    "                if abs(L) <= abs(Lt):\n",
    "        return \n",
    "            "
   ]
  },
  {
   "cell_type": "code",
   "execution_count": 2,
   "metadata": {
    "collapsed": false
   },
   "outputs": [
    {
     "name": "stdout",
     "output_type": "stream",
     "text": [
      "constructor has been called\n",
      "complex128\n"
     ]
    }
   ],
   "source": [
    "ff = flowField()\n",
    "print(ff.dtype)"
   ]
  },
  {
   "cell_type": "code",
   "execution_count": 3,
   "metadata": {
    "collapsed": false
   },
   "outputs": [
    {
     "name": "stdout",
     "output_type": "stream",
     "text": [
      "(1, 47, 24, 4, 35)\n",
      "float64\n"
     ]
    },
    {
     "name": "stderr",
     "output_type": "stream",
     "text": [
      "/usr/local/lib/python3.4/dist-packages/IPython/kernel/__main__.py:69: UserWarning: flowField class is designed to work with complex array entries\n",
      "To obtain real/imaginary parts of an instance, use class methods \"real\" and \"imag\"\n"
     ]
    }
   ],
   "source": [
    "ff1=np.real(ff)\n",
    "print(ff1.shape)\n",
    "print(ff1.dtype)\n"
   ]
  },
  {
   "cell_type": "code",
   "execution_count": null,
   "metadata": {
    "collapsed": false
   },
   "outputs": [],
   "source": [
    "cat flowConfig.txt"
   ]
  },
  {
   "cell_type": "code",
   "execution_count": 195,
   "metadata": {
    "collapsed": false
   },
   "outputs": [],
   "source": [
    "def tfun(newShape=(None,None,None)):\n",
    "    for k in newShape[:2]:\n",
    "        if k:\n",
    "            print('well')\n",
    "        else:\n",
    "            print('nope')\n",
    "    if newShape[2] > 2:\n",
    "        warn('Not allowed')\n",
    "            "
   ]
  },
  {
   "cell_type": "code",
   "execution_count": 196,
   "metadata": {
    "collapsed": false
   },
   "outputs": [
    {
     "name": "stdout",
     "output_type": "stream",
     "text": [
      "well\n",
      "nope\n"
     ]
    },
    {
     "name": "stderr",
     "output_type": "stream",
     "text": [
      "/usr/local/lib/python3.4/dist-packages/IPython/kernel/__main__.py:8: UserWarning: Not allowed\n"
     ]
    }
   ],
   "source": [
    "tfun((1,None,3))"
   ]
  },
  {
   "cell_type": "code",
   "execution_count": null,
   "metadata": {
    "collapsed": true
   },
   "outputs": [],
   "source": []
  }
 ],
 "metadata": {
  "kernelspec": {
   "display_name": "Python 3",
   "language": "python",
   "name": "python3"
  },
  "language_info": {
   "codemirror_mode": {
    "name": "ipython",
    "version": 3
   },
   "file_extension": ".py",
   "mimetype": "text/x-python",
   "name": "python",
   "nbconvert_exporter": "python",
   "pygments_lexer": "ipython3",
   "version": "3.4.2"
  }
 },
 "nbformat": 4,
 "nbformat_minor": 0
}
