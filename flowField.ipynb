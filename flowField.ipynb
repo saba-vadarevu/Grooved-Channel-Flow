{
 "cells": [
  {
   "cell_type": "markdown",
   "metadata": {
    "collapsed": true
   },
   "source": [
    "# flowField class for iterative solution"
   ]
  },
  {
   "cell_type": "code",
   "execution_count": 1,
   "metadata": {
    "collapsed": false
   },
   "outputs": [],
   "source": [
    "%load_ext autoreload\n",
    "%autoreload 2"
   ]
  },
  {
   "cell_type": "code",
   "execution_count": 7,
   "metadata": {
    "collapsed": false
   },
   "outputs": [],
   "source": [
    "from flowField import *\n",
    "from flowFieldWavy import *\n",
    "import h5py\n",
    "import numpy as np\n",
    "import pdb\n",
    "import cProfile\n",
    "import time\n",
    "from pseudo import *\n",
    "from scipy.linalg import norm\n",
    "from scipy.sparse.linalg import gmres, LinearOperator, lgmres\n",
    "\n",
    "import matplotlib.pyplot as plt\n",
    "%matplotlib inline"
   ]
  },
  {
   "cell_type": "code",
   "execution_count": 8,
   "metadata": {
    "collapsed": false
   },
   "outputs": [
    {
     "name": "stderr",
     "output_type": "stream",
     "text": [
      ".........."
     ]
    },
    {
     "name": "stdout",
     "output_type": "stream",
     "text": [
      "Note: when testing for derivatives, if looking at the last modes in x or z,remember that the general formulae I use do not apply, because one/some of their neighbouring modes are missing\n"
     ]
    },
    {
     "name": "stderr",
     "output_type": "stream",
     "text": [
      "\n",
      "----------------------------------------------------------------------\n",
      "Ran 10 tests in 0.140s\n",
      "\n",
      "OK\n"
     ]
    }
   ],
   "source": [
    "%run test_flowFieldWavy.py"
   ]
  },
  {
   "cell_type": "code",
   "execution_count": null,
   "metadata": {
    "collapsed": true
   },
   "outputs": [],
   "source": []
  },
  {
   "cell_type": "code",
   "execution_count": 4,
   "metadata": {
    "collapsed": true
   },
   "outputs": [],
   "source": [
    "tempDict = getDefaultDict()\n",
    "L = 23; M = 23; N=35\n",
    "tempDict.update({'K':0, 'L':L,'M':M,'N':N, 'eps':1.0e-3, 'alpha':20.,'beta':50.,'nd':4,'isPois':1, 'Re':100.})\n",
    "x00 = flowFieldWavy(flowDict=tempDict).view4d()\n",
    "x00[0,L,M,0] = 1.-(x00.y)**2\n",
    "vF = x00.slice(nd=[0,1,2])\n",
    "pF = x00.getScalar(nd=2)\n",
    "\n",
    "\n"
   ]
  },
  {
   "cell_type": "code",
   "execution_count": 5,
   "metadata": {
    "collapsed": false
   },
   "outputs": [
    {
     "name": "stdout",
     "output_type": "stream",
     "text": [
      "0.0704367978939\n",
      "4.496234893798828\n"
     ]
    }
   ],
   "source": [
    "start = time.time()\n",
    "print(vF.residuals(pField=pF)[0].norm())\n",
    "print(time.time()-start)"
   ]
  },
  {
   "cell_type": "markdown",
   "metadata": {},
   "source": [
    "## Using numpy arrays for gmres instead of flowFieldWavy\n",
    "If I do that, I can use scipy's gmres and other routines. The plan is this- supply weighted np.ndarray copies of flowFieldWavy instances, and when the Jacobian matvec needs to be computed, make a flowField instance (actually, just assign to an existing instance) out of the array. "
   ]
  },
  {
   "cell_type": "code",
   "execution_count": 33,
   "metadata": {
    "collapsed": false
   },
   "outputs": [
    {
     "name": "stdout",
     "output_type": "stream",
     "text": [
      "(1, 7, 11, 4, 31)\n"
     ]
    }
   ],
   "source": [
    "tempDict = getDefaultDict()\n",
    "L = 3; M = 5; N=31\n",
    "eps=1.0e-02; gz = 0.8; b= gz/eps; gx= 0.05; a = gx/eps;\n",
    "tempDict.update({'K':0, 'L':L,'M':M,'N':N, 'eps':eps, 'alpha':a,'beta':b,'nd':4,'isPois':1, 'Re':100.})\n",
    "x00 = flowFieldWavy(flowDict=tempDict).view4d()\n",
    "x00[0,L,M,0] = 1.-(x00.y)**2\n",
    "pF = x00.getScalar(nd=2)\n",
    "print(x00.shape)\n",
    "x0 = x00.copy()"
   ]
  },
  {
   "cell_type": "code",
   "execution_count": 4,
   "metadata": {
    "collapsed": false
   },
   "outputs": [],
   "source": [
    "def vecnorm2(vec,N):\n",
    "    m = vec.size//N\n",
    "    w = clencurt(N).reshape((1,N))\n",
    "    W = np.tile(w,(1,m))\n",
    "    tempVec = vec.reshape(vec.size,1)\n",
    "    tempVecConj = tempVec.conj().T\n",
    "    \n",
    "    vecNorm = np.sqrt(np.abs( np.dot( tempVecConj*W, tempVec ) ))\n",
    "    return vecNorm[0,0]\n",
    "\n",
    "#flowDict = tempDict\n",
    "finDifEps =1.0e-7\n",
    "def residual(xF):\n",
    "    #return (xF.slice(nd=[0,1,2]).residuals(pField=xF.getScalar(nd=3))[0]).appendField(xF.slice(nd=[0,1,2]).div())\n",
    "    #xTemp = xF.slice(L=xF.nx//2+2,M=xF.nz//2+2)\n",
    "    xTemp = xF.slice(L=xF.nx//2+2)\n",
    "    resid = (xTemp.slice(nd=[0,1,2]).residuals(pField=xTemp.getScalar(nd=3))[0]).appendField(xTemp.slice(nd=[0,1,2]).div())\n",
    "    #return resid.slice(L=xF.nx//2,M=xF.nz//2)\n",
    "    return resid.slice(L=xF.nx//2)\n",
    "\n",
    "def jacobian(x0,r0,arr):\n",
    "    xFF = weighted2ff(flowDict=x0.flowDict, arr=arr)\n",
    "    #vf = finDifEps*xFF.slice(nd=[0,1,2]) + x0.slice(nd=[0,1,2])\n",
    "    #pf = finDifEps*xFF.getScalar(nd=3) + x0.slice(nd=3)\n",
    "    #residual = vf.residuals(pField=pf)[0]\n",
    "    #residual= residual.appendField(vf.div())\n",
    "    \n",
    "    matVecProd = (residual(x0+finDifEps*xFF)-r0)/finDifEps\n",
    "    return matVecProd.weighted()\n",
    "\n",
    "searchArr = np.append(np.arange(0.,2.1,0.1),np.array([2.5,3.0,4.0,5.0]))\n",
    "searchArr = np.append(-searchArr[::-1],searchArr[1:])\n",
    "def lineSearch(x0,arr):\n",
    "    delFF = (weighted2ff(flowDict=x0.flowDict,arr=arr).view4d())\n",
    "    resArr = np.zeros(searchArr.size)\n",
    "    k = 0\n",
    "    for step in searchArr:\n",
    "        resArr[k] = residual(x0 + step*delFF).norm()\n",
    "        k +=1\n",
    "    # print(resArr)\n",
    "    optimalStep = searchArr[resArr.argmin()]\n",
    "    print('Optimal factor from line search is ', optimalStep)\n",
    "    return (x0 + optimalStep* delFF)\n",
    "\n",
    "searchArrFine = np.arange(-0.1,0.11,0.01)\n",
    "def lineSearchFine(x0,arr):\n",
    "    delFF = (weighted2ff(flowDict=x0.flowDict,arr=arr).view4d())\n",
    "    resArr = np.zeros(searchArrFine.size)\n",
    "    k = 0\n",
    "    for step in searchArrFine:\n",
    "        resArr[k] = residual(x0 + step*delFF).norm()\n",
    "            \n",
    "    print(resArr)\n",
    "    print(searchArrFine)\n",
    "    optimalStep = searchArrFine[resArr.argmin()]\n",
    "    print('Optimal factor from line search is ', optimalStep)\n",
    "    return (x0 + optimalStep* delFF)\n",
    "    \n",
    "        "
   ]
  },
  {
   "cell_type": "code",
   "execution_count": null,
   "metadata": {
    "collapsed": true
   },
   "outputs": [],
   "source": [
    "f = h5py.File(\"\", 'r')\n",
    "self.u = np.array(f['data']['u'])\n",
    "self.x = np.array(f['geom']['x'])\n",
    "self.y = np.array(f['geom']['y'])\n",
    "self.z = np.array(f['geom']['z'])"
   ]
  },
  {
   "cell_type": "code",
   "execution_count": 25,
   "metadata": {
    "collapsed": false
   },
   "outputs": [
    {
     "name": "stdout",
     "output_type": "stream",
     "text": [
      "2.90787911136e-13\n",
      "2.90787911136e-13 1.41853975808e-18 0.0\n"
     ]
    }
   ],
   "source": [
    "vf,pf,paramDict = mapData2ff(eps=0.01,g=0.8,theta=0,Re=100.)\n",
    "x0 = vf.appendField(pf)\n",
    "print(residual(x0).norm())\n",
    "#x0 = x0.slice(L=x0.nx//2+2)\n",
    "#print(residual(x0).slice(L=x0.nx//2-2).norm(), x0.shape)\n",
    "x0.flowDict['eps'] = 0.01\n",
    "#x0[:] = 0.; x0[0,x0.nx//2,x0.nz//2,0] = 1.-x0.y**2\n",
    "print(residual(x0).norm(), x0.getScalar(nd=2).norm(), x0.ddz().norm())"
   ]
  },
  {
   "cell_type": "code",
   "execution_count": 26,
   "metadata": {
    "collapsed": false
   },
   "outputs": [],
   "source": [
    "L = x0.nx//2\n",
    "Lnew = 2*L\n",
    "state = x0.slice(L=Lnew).view4d().copyArray()\n",
    "dx = x0.ddx().slice(L=Lnew).view4d().copyArray()\n",
    "dy = x0.ddy().slice(L=Lnew).view4d().copyArray()\n",
    "\n",
    "Phys = np.fft.ifftn(np.fft.ifftshift(state,axes=1),axes=[1])\n",
    "dxPhys = np.fft.ifftn(np.fft.ifftshift(dx,axes=1),axes=[1])\n",
    "dyPhys = np.fft.ifftn(np.fft.ifftshift(dy,axes=1),axes=[1])\n"
   ]
  },
  {
   "cell_type": "code",
   "execution_count": 27,
   "metadata": {
    "collapsed": false
   },
   "outputs": [
    {
     "name": "stdout",
     "output_type": "stream",
     "text": [
      "2.86945998043e-15\n",
      "1.11982661133e-15\n",
      "4.76248945806e-15\n"
     ]
    }
   ],
   "source": [
    "tempDict = x0.flowDict.copy()\n",
    "tempDict['L'] = Lnew\n",
    "SpecArr = np.fft.fftshift(np.fft.fftn(Phys,axes=[1]),axes=1)\n",
    "Spec = flowFieldWavy(flowDict=tempDict, arr = SpecArr.reshape(SpecArr.size))\n",
    "\n",
    "dxSpecArr = np.fft.fftshift(np.fft.fftn(dxPhys,axes=[1]),axes=1)\n",
    "dxSpec = flowFieldWavy(flowDict=tempDict, arr = dxSpecArr.reshape(dxSpecArr.size))\n",
    "\n",
    "dySpecArr = np.fft.fftshift(np.fft.fftn(dyPhys,axes=[1]),axes=1)\n",
    "dySpec = flowFieldWavy(flowDict=tempDict, arr = dySpecArr.reshape(dySpecArr.size))\n",
    "\n",
    "\n",
    "print((Spec.slice(L=L)-x0).norm())\n",
    "print((dxSpec.slice(L=L)-x0.ddx()).norm())\n",
    "print((dySpec.slice(L=L)-x0.ddy()).norm())"
   ]
  },
  {
   "cell_type": "code",
   "execution_count": 34,
   "metadata": {
    "collapsed": false
   },
   "outputs": [],
   "source": [
    "convPhys = np.zeros(SpecArr.shape,dtype=np.complex)\n",
    "convPhys[:,:,:,0] = Phys[:,:,:,0]*dxPhys[:,:,:,0] + Phys[:,:,:,1]*dyPhys[:,:,:,0]\n",
    "convPhys[:,:,:,1] = Phys[:,:,:,0]*dxPhys[:,:,:,1] + Phys[:,:,:,1]*dyPhys[:,:,:,1]\n",
    "\n",
    "convSpecArr = np.fft.fftshift(np.fft.fftn(convPhys,axes=[1]),axes=1)\n",
    "convSpec = flowFieldWavy(flowDict=tempDict, arr = convSpecArr.reshape(convSpecArr.size))\n",
    "\n",
    "x0conv = x0.convNL()"
   ]
  },
  {
   "cell_type": "code",
   "execution_count": 72,
   "metadata": {
    "collapsed": false
   },
   "outputs": [
    {
     "name": "stdout",
     "output_type": "stream",
     "text": [
      "[ 0.00213554  0.00213554  0.00213554  0.00213554  0.00213554  0.00213554\n",
      "  0.00213554  0.00213554  0.00213554  0.00213554  0.00213554  0.00213554\n",
      "  0.00213554  0.00213554  0.00213554  0.00213554  0.00213554  0.00213554\n",
      "  0.00213554  0.00213554] **************\n",
      "0 33.0 0.00213554091562 0.00213554091562\n"
     ]
    }
   ],
   "source": [
    "kArr = np.arange(kArr[minArg],kArr[minArg+1],(kArr[minArg+1]-kArr[minArg])/20.)\n",
    "#kArr = np.arange(32.,34.,0.1)\n",
    "normArr = np.zeros(kArr.size)\n",
    "j = 0\n",
    "for k in kArr:\n",
    "    normArr[j]=(vecnorm2((convSpec*k-x0conv.slice(L=Lnew)),x0.N))\n",
    "    j+= 1\n",
    "print(normArr,'**************')\n",
    "minArg = np.argmin(normArr)\n",
    "print(minArg, kArr[minArg], normArr[0], normArr[minArg])\n"
   ]
  },
  {
   "cell_type": "code",
   "execution_count": 50,
   "metadata": {
    "collapsed": false
   },
   "outputs": [
    {
     "name": "stdout",
     "output_type": "stream",
     "text": [
      "$||r_0|| $ 6.28393362528\n"
     ]
    },
    {
     "ename": "KeyboardInterrupt",
     "evalue": "",
     "output_type": "error",
     "traceback": [
      "\u001b[1;31m---------------------------------------------------------------------------\u001b[0m",
      "\u001b[1;31mKeyboardInterrupt\u001b[0m                         Traceback (most recent call last)",
      "\u001b[1;32m<ipython-input-50-6bdccc20cd75>\u001b[0m in \u001b[0;36m<module>\u001b[1;34m()\u001b[0m\n\u001b[0;32m     10\u001b[0m     \u001b[0mjcbn\u001b[0m \u001b[1;33m=\u001b[0m \u001b[1;32mlambda\u001b[0m \u001b[0marr\u001b[0m\u001b[1;33m:\u001b[0m \u001b[0mjacobian\u001b[0m\u001b[1;33m(\u001b[0m\u001b[0mx0\u001b[0m\u001b[1;33m,\u001b[0m\u001b[0mr0\u001b[0m\u001b[1;33m,\u001b[0m\u001b[0marr\u001b[0m\u001b[1;33m)\u001b[0m\u001b[1;33m\u001b[0m\u001b[0m\n\u001b[0;32m     11\u001b[0m     \u001b[0mA\u001b[0m \u001b[1;33m=\u001b[0m \u001b[0mLinearOperator\u001b[0m\u001b[1;33m(\u001b[0m\u001b[1;33m(\u001b[0m\u001b[0mx0\u001b[0m\u001b[1;33m.\u001b[0m\u001b[0msize\u001b[0m\u001b[1;33m,\u001b[0m\u001b[0mx0\u001b[0m\u001b[1;33m.\u001b[0m\u001b[0msize\u001b[0m\u001b[1;33m)\u001b[0m\u001b[1;33m,\u001b[0m \u001b[0mmatvec\u001b[0m\u001b[1;33m=\u001b[0m\u001b[0mjcbn\u001b[0m\u001b[1;33m,\u001b[0m\u001b[0mdtype\u001b[0m\u001b[1;33m=\u001b[0m\u001b[0mnp\u001b[0m\u001b[1;33m.\u001b[0m\u001b[0mcomplex\u001b[0m\u001b[1;33m)\u001b[0m\u001b[1;33m\u001b[0m\u001b[0m\n\u001b[1;32m---> 12\u001b[1;33m     \u001b[0mdelX\u001b[0m\u001b[1;33m,\u001b[0m\u001b[0mflag\u001b[0m \u001b[1;33m=\u001b[0m \u001b[0mlgmres\u001b[0m\u001b[1;33m(\u001b[0m\u001b[0mA\u001b[0m\u001b[1;33m,\u001b[0m\u001b[1;33m-\u001b[0m\u001b[0mr0\u001b[0m\u001b[1;33m.\u001b[0m\u001b[0mweighted\u001b[0m\u001b[1;33m(\u001b[0m\u001b[1;33m)\u001b[0m\u001b[1;33m,\u001b[0m\u001b[0mtol\u001b[0m\u001b[1;33m=\u001b[0m\u001b[1;36m1.0e-15\u001b[0m\u001b[1;33m,\u001b[0m\u001b[0mmaxiter\u001b[0m\u001b[1;33m=\u001b[0m\u001b[1;36m5\u001b[0m\u001b[1;33m,\u001b[0m\u001b[0minner_m\u001b[0m\u001b[1;33m=\u001b[0m\u001b[1;36m1000\u001b[0m\u001b[1;33m,\u001b[0m\u001b[0mouter_k\u001b[0m\u001b[1;33m=\u001b[0m\u001b[1;36m3\u001b[0m\u001b[1;33m)\u001b[0m\u001b[1;33m\u001b[0m\u001b[0m\n\u001b[0m\u001b[0;32m     13\u001b[0m     \u001b[1;32mif\u001b[0m \u001b[0mflag\u001b[0m\u001b[1;33m:\u001b[0m \u001b[0mprint\u001b[0m\u001b[1;33m(\u001b[0m\u001b[1;34m'LGMRES did not converge...................................'\u001b[0m\u001b[1;33m)\u001b[0m\u001b[1;33m\u001b[0m\u001b[0m\n\u001b[0;32m     14\u001b[0m     \u001b[0mprint\u001b[0m\u001b[1;33m(\u001b[0m\u001b[1;34m'||Ax-b||/||b||:'\u001b[0m\u001b[1;33m,\u001b[0m\u001b[0mnorm\u001b[0m\u001b[1;33m(\u001b[0m\u001b[0mA\u001b[0m\u001b[1;33m.\u001b[0m\u001b[0mmatvec\u001b[0m\u001b[1;33m(\u001b[0m\u001b[0mdelX\u001b[0m\u001b[1;33m)\u001b[0m\u001b[1;33m+\u001b[0m\u001b[0mr0\u001b[0m\u001b[1;33m.\u001b[0m\u001b[0mweighted\u001b[0m\u001b[1;33m(\u001b[0m\u001b[1;33m)\u001b[0m\u001b[1;33m,\u001b[0m\u001b[1;36m2\u001b[0m\u001b[1;33m)\u001b[0m\u001b[1;33m/\u001b[0m\u001b[0mr0norm\u001b[0m\u001b[1;33m)\u001b[0m\u001b[1;33m\u001b[0m\u001b[0m\n",
      "\u001b[1;32m/usr/lib/python3/dist-packages/scipy/sparse/linalg/isolve/lgmres.py\u001b[0m in \u001b[0;36mlgmres\u001b[1;34m(A, b, x0, tol, maxiter, M, callback, inner_m, outer_k, outer_v, store_outer_Av)\u001b[0m\n\u001b[0;32m    201\u001b[0m \u001b[1;33m\u001b[0m\u001b[0m\n\u001b[0;32m    202\u001b[0m             \u001b[1;32mif\u001b[0m \u001b[0mv_new\u001b[0m \u001b[1;32mis\u001b[0m \u001b[1;32mNone\u001b[0m\u001b[1;33m:\u001b[0m\u001b[1;33m\u001b[0m\u001b[0m\n\u001b[1;32m--> 203\u001b[1;33m                 \u001b[0mv_new\u001b[0m \u001b[1;33m=\u001b[0m \u001b[0mpsolve\u001b[0m\u001b[1;33m(\u001b[0m\u001b[0mmatvec\u001b[0m\u001b[1;33m(\u001b[0m\u001b[0mz\u001b[0m\u001b[1;33m)\u001b[0m\u001b[1;33m)\u001b[0m\u001b[1;33m\u001b[0m\u001b[0m\n\u001b[0m\u001b[0;32m    204\u001b[0m             \u001b[1;32melse\u001b[0m\u001b[1;33m:\u001b[0m\u001b[1;33m\u001b[0m\u001b[0m\n\u001b[0;32m    205\u001b[0m                 \u001b[1;31m# Note: v_new is modified in-place below. Must make a\u001b[0m\u001b[1;33m\u001b[0m\u001b[1;33m\u001b[0m\u001b[0m\n",
      "\u001b[1;32m/usr/lib/python3/dist-packages/scipy/sparse/linalg/interface.py\u001b[0m in \u001b[0;36mmatvec\u001b[1;34m(self, x)\u001b[0m\n\u001b[0;32m    132\u001b[0m             \u001b[1;32mraise\u001b[0m \u001b[0mValueError\u001b[0m\u001b[1;33m(\u001b[0m\u001b[1;34m'dimension mismatch'\u001b[0m\u001b[1;33m)\u001b[0m\u001b[1;33m\u001b[0m\u001b[0m\n\u001b[0;32m    133\u001b[0m \u001b[1;33m\u001b[0m\u001b[0m\n\u001b[1;32m--> 134\u001b[1;33m         \u001b[0my\u001b[0m \u001b[1;33m=\u001b[0m \u001b[0mself\u001b[0m\u001b[1;33m.\u001b[0m\u001b[0m_matvec\u001b[0m\u001b[1;33m(\u001b[0m\u001b[0mx\u001b[0m\u001b[1;33m)\u001b[0m\u001b[1;33m\u001b[0m\u001b[0m\n\u001b[0m\u001b[0;32m    135\u001b[0m \u001b[1;33m\u001b[0m\u001b[0m\n\u001b[0;32m    136\u001b[0m         \u001b[1;32mif\u001b[0m \u001b[0misinstance\u001b[0m\u001b[1;33m(\u001b[0m\u001b[0mx\u001b[0m\u001b[1;33m,\u001b[0m \u001b[0mnp\u001b[0m\u001b[1;33m.\u001b[0m\u001b[0mmatrix\u001b[0m\u001b[1;33m)\u001b[0m\u001b[1;33m:\u001b[0m\u001b[1;33m\u001b[0m\u001b[0m\n",
      "\u001b[1;32m<ipython-input-50-6bdccc20cd75>\u001b[0m in \u001b[0;36m<lambda>\u001b[1;34m(arr)\u001b[0m\n\u001b[0;32m      8\u001b[0m \u001b[1;32mfor\u001b[0m \u001b[0miter\u001b[0m \u001b[1;32min\u001b[0m \u001b[0mrange\u001b[0m\u001b[1;33m(\u001b[0m\u001b[1;36m5\u001b[0m\u001b[1;33m)\u001b[0m\u001b[1;33m:\u001b[0m\u001b[1;33m\u001b[0m\u001b[0m\n\u001b[0;32m      9\u001b[0m     \u001b[1;32mif\u001b[0m \u001b[0mr0norm\u001b[0m \u001b[1;33m<\u001b[0m \u001b[1;36m1.0e-15\u001b[0m\u001b[1;33m:\u001b[0m \u001b[0mprint\u001b[0m\u001b[1;33m(\u001b[0m\u001b[1;34m'Norm below tolerance, exiting....'\u001b[0m\u001b[1;33m,\u001b[0m\u001b[0mr0norm\u001b[0m\u001b[1;33m)\u001b[0m\u001b[1;33m;\u001b[0m \u001b[1;32mbreak\u001b[0m\u001b[1;33m\u001b[0m\u001b[0m\n\u001b[1;32m---> 10\u001b[1;33m     \u001b[0mjcbn\u001b[0m \u001b[1;33m=\u001b[0m \u001b[1;32mlambda\u001b[0m \u001b[0marr\u001b[0m\u001b[1;33m:\u001b[0m \u001b[0mjacobian\u001b[0m\u001b[1;33m(\u001b[0m\u001b[0mx0\u001b[0m\u001b[1;33m,\u001b[0m\u001b[0mr0\u001b[0m\u001b[1;33m,\u001b[0m\u001b[0marr\u001b[0m\u001b[1;33m)\u001b[0m\u001b[1;33m\u001b[0m\u001b[0m\n\u001b[0m\u001b[0;32m     11\u001b[0m     \u001b[0mA\u001b[0m \u001b[1;33m=\u001b[0m \u001b[0mLinearOperator\u001b[0m\u001b[1;33m(\u001b[0m\u001b[1;33m(\u001b[0m\u001b[0mx0\u001b[0m\u001b[1;33m.\u001b[0m\u001b[0msize\u001b[0m\u001b[1;33m,\u001b[0m\u001b[0mx0\u001b[0m\u001b[1;33m.\u001b[0m\u001b[0msize\u001b[0m\u001b[1;33m)\u001b[0m\u001b[1;33m,\u001b[0m \u001b[0mmatvec\u001b[0m\u001b[1;33m=\u001b[0m\u001b[0mjcbn\u001b[0m\u001b[1;33m,\u001b[0m\u001b[0mdtype\u001b[0m\u001b[1;33m=\u001b[0m\u001b[0mnp\u001b[0m\u001b[1;33m.\u001b[0m\u001b[0mcomplex\u001b[0m\u001b[1;33m)\u001b[0m\u001b[1;33m\u001b[0m\u001b[0m\n\u001b[0;32m     12\u001b[0m     \u001b[0mdelX\u001b[0m\u001b[1;33m,\u001b[0m\u001b[0mflag\u001b[0m \u001b[1;33m=\u001b[0m \u001b[0mlgmres\u001b[0m\u001b[1;33m(\u001b[0m\u001b[0mA\u001b[0m\u001b[1;33m,\u001b[0m\u001b[1;33m-\u001b[0m\u001b[0mr0\u001b[0m\u001b[1;33m.\u001b[0m\u001b[0mweighted\u001b[0m\u001b[1;33m(\u001b[0m\u001b[1;33m)\u001b[0m\u001b[1;33m,\u001b[0m\u001b[0mtol\u001b[0m\u001b[1;33m=\u001b[0m\u001b[1;36m1.0e-15\u001b[0m\u001b[1;33m,\u001b[0m\u001b[0mmaxiter\u001b[0m\u001b[1;33m=\u001b[0m\u001b[1;36m5\u001b[0m\u001b[1;33m,\u001b[0m\u001b[0minner_m\u001b[0m\u001b[1;33m=\u001b[0m\u001b[1;36m1000\u001b[0m\u001b[1;33m,\u001b[0m\u001b[0mouter_k\u001b[0m\u001b[1;33m=\u001b[0m\u001b[1;36m3\u001b[0m\u001b[1;33m)\u001b[0m\u001b[1;33m\u001b[0m\u001b[0m\n",
      "\u001b[1;32m<ipython-input-22-12747c4b8efa>\u001b[0m in \u001b[0;36mjacobian\u001b[1;34m(x0, r0, arr)\u001b[0m\n\u001b[0;32m     26\u001b[0m     \u001b[1;31m#residual= residual.appendField(vf.div())\u001b[0m\u001b[1;33m\u001b[0m\u001b[1;33m\u001b[0m\u001b[0m\n\u001b[0;32m     27\u001b[0m \u001b[1;33m\u001b[0m\u001b[0m\n\u001b[1;32m---> 28\u001b[1;33m     \u001b[0mmatVecProd\u001b[0m \u001b[1;33m=\u001b[0m \u001b[1;33m(\u001b[0m\u001b[0mresidual\u001b[0m\u001b[1;33m(\u001b[0m\u001b[0mx0\u001b[0m\u001b[1;33m+\u001b[0m\u001b[0mfinDifEps\u001b[0m\u001b[1;33m*\u001b[0m\u001b[0mxFF\u001b[0m\u001b[1;33m)\u001b[0m\u001b[1;33m-\u001b[0m\u001b[0mr0\u001b[0m\u001b[1;33m)\u001b[0m\u001b[1;33m/\u001b[0m\u001b[0mfinDifEps\u001b[0m\u001b[1;33m\u001b[0m\u001b[0m\n\u001b[0m\u001b[0;32m     29\u001b[0m     \u001b[1;32mreturn\u001b[0m \u001b[0mmatVecProd\u001b[0m\u001b[1;33m.\u001b[0m\u001b[0mweighted\u001b[0m\u001b[1;33m(\u001b[0m\u001b[1;33m)\u001b[0m\u001b[1;33m\u001b[0m\u001b[0m\n\u001b[0;32m     30\u001b[0m \u001b[1;33m\u001b[0m\u001b[0m\n",
      "\u001b[1;32m<ipython-input-22-12747c4b8efa>\u001b[0m in \u001b[0;36mresidual\u001b[1;34m(xF)\u001b[0m\n\u001b[0;32m     15\u001b[0m     \u001b[1;31m#xTemp = xF.slice(L=xF.nx//2+2,M=xF.nz//2+2)\u001b[0m\u001b[1;33m\u001b[0m\u001b[1;33m\u001b[0m\u001b[0m\n\u001b[0;32m     16\u001b[0m     \u001b[0mxTemp\u001b[0m \u001b[1;33m=\u001b[0m \u001b[0mxF\u001b[0m\u001b[1;33m.\u001b[0m\u001b[0mslice\u001b[0m\u001b[1;33m(\u001b[0m\u001b[0mL\u001b[0m\u001b[1;33m=\u001b[0m\u001b[0mxF\u001b[0m\u001b[1;33m.\u001b[0m\u001b[0mnx\u001b[0m\u001b[1;33m//\u001b[0m\u001b[1;36m2\u001b[0m\u001b[1;33m+\u001b[0m\u001b[1;36m2\u001b[0m\u001b[1;33m)\u001b[0m\u001b[1;33m\u001b[0m\u001b[0m\n\u001b[1;32m---> 17\u001b[1;33m     \u001b[0mresid\u001b[0m \u001b[1;33m=\u001b[0m \u001b[1;33m(\u001b[0m\u001b[0mxTemp\u001b[0m\u001b[1;33m.\u001b[0m\u001b[0mslice\u001b[0m\u001b[1;33m(\u001b[0m\u001b[0mnd\u001b[0m\u001b[1;33m=\u001b[0m\u001b[1;33m[\u001b[0m\u001b[1;36m0\u001b[0m\u001b[1;33m,\u001b[0m\u001b[1;36m1\u001b[0m\u001b[1;33m,\u001b[0m\u001b[1;36m2\u001b[0m\u001b[1;33m]\u001b[0m\u001b[1;33m)\u001b[0m\u001b[1;33m.\u001b[0m\u001b[0mresiduals\u001b[0m\u001b[1;33m(\u001b[0m\u001b[0mpField\u001b[0m\u001b[1;33m=\u001b[0m\u001b[0mxTemp\u001b[0m\u001b[1;33m.\u001b[0m\u001b[0mgetScalar\u001b[0m\u001b[1;33m(\u001b[0m\u001b[0mnd\u001b[0m\u001b[1;33m=\u001b[0m\u001b[1;36m3\u001b[0m\u001b[1;33m)\u001b[0m\u001b[1;33m)\u001b[0m\u001b[1;33m[\u001b[0m\u001b[1;36m0\u001b[0m\u001b[1;33m]\u001b[0m\u001b[1;33m)\u001b[0m\u001b[1;33m.\u001b[0m\u001b[0mappendField\u001b[0m\u001b[1;33m(\u001b[0m\u001b[0mxTemp\u001b[0m\u001b[1;33m.\u001b[0m\u001b[0mslice\u001b[0m\u001b[1;33m(\u001b[0m\u001b[0mnd\u001b[0m\u001b[1;33m=\u001b[0m\u001b[1;33m[\u001b[0m\u001b[1;36m0\u001b[0m\u001b[1;33m,\u001b[0m\u001b[1;36m1\u001b[0m\u001b[1;33m,\u001b[0m\u001b[1;36m2\u001b[0m\u001b[1;33m]\u001b[0m\u001b[1;33m)\u001b[0m\u001b[1;33m.\u001b[0m\u001b[0mdiv\u001b[0m\u001b[1;33m(\u001b[0m\u001b[1;33m)\u001b[0m\u001b[1;33m)\u001b[0m\u001b[1;33m\u001b[0m\u001b[0m\n\u001b[0m\u001b[0;32m     18\u001b[0m     \u001b[1;31m#return resid.slice(L=xF.nx//2,M=xF.nz//2)\u001b[0m\u001b[1;33m\u001b[0m\u001b[1;33m\u001b[0m\u001b[0m\n\u001b[0;32m     19\u001b[0m     \u001b[1;32mreturn\u001b[0m \u001b[0mresid\u001b[0m\u001b[1;33m.\u001b[0m\u001b[0mslice\u001b[0m\u001b[1;33m(\u001b[0m\u001b[0mL\u001b[0m\u001b[1;33m=\u001b[0m\u001b[0mxF\u001b[0m\u001b[1;33m.\u001b[0m\u001b[0mnx\u001b[0m\u001b[1;33m//\u001b[0m\u001b[1;36m2\u001b[0m\u001b[1;33m)\u001b[0m\u001b[1;33m\u001b[0m\u001b[0m\n",
      "\u001b[1;32m/home/sabarish/Dropbox/gitwork/python3/flowFieldV2/flowField.py\u001b[0m in \u001b[0;36mresiduals\u001b[1;34m(self, pField, divFree)\u001b[0m\n\u001b[0;32m    687\u001b[0m             \u001b[1;32massert\u001b[0m \u001b[1;33m(\u001b[0m\u001b[0mpField\u001b[0m\u001b[1;33m.\u001b[0m\u001b[0mnd\u001b[0m \u001b[1;33m==\u001b[0m \u001b[1;36m1\u001b[0m\u001b[1;33m)\u001b[0m \u001b[1;32mand\u001b[0m \u001b[1;33m(\u001b[0m\u001b[0mpField\u001b[0m\u001b[1;33m.\u001b[0m\u001b[0msize\u001b[0m \u001b[1;33m==\u001b[0m \u001b[0mself\u001b[0m\u001b[1;33m.\u001b[0m\u001b[0msize\u001b[0m\u001b[1;33m//\u001b[0m\u001b[1;36m3\u001b[0m\u001b[1;33m)\u001b[0m\u001b[1;33m,\u001b[0m \u001b[1;34m'pField should be a scalar of the same size as each scalar of velocity'\u001b[0m\u001b[1;33m\u001b[0m\u001b[0m\n\u001b[0;32m    688\u001b[0m \u001b[1;33m\u001b[0m\u001b[0m\n\u001b[1;32m--> 689\u001b[1;33m         \u001b[0mresidual\u001b[0m\u001b[1;33m[\u001b[0m\u001b[1;33m:\u001b[0m\u001b[1;33m]\u001b[0m \u001b[1;33m=\u001b[0m \u001b[0mpField\u001b[0m\u001b[1;33m.\u001b[0m\u001b[0mgrad\u001b[0m\u001b[1;33m(\u001b[0m\u001b[1;33m)\u001b[0m \u001b[1;33m-\u001b[0m \u001b[1;33m(\u001b[0m\u001b[1;36m1.\u001b[0m\u001b[1;33m/\u001b[0m\u001b[0mself\u001b[0m\u001b[1;33m.\u001b[0m\u001b[0mflowDict\u001b[0m\u001b[1;33m[\u001b[0m\u001b[1;34m'Re'\u001b[0m\u001b[1;33m]\u001b[0m\u001b[1;33m)\u001b[0m\u001b[1;33m*\u001b[0m\u001b[0mself\u001b[0m\u001b[1;33m.\u001b[0m\u001b[0mlaplacian\u001b[0m\u001b[1;33m(\u001b[0m\u001b[1;33m)\u001b[0m\u001b[1;33m\u001b[0m\u001b[0m\n\u001b[0m\u001b[0;32m    690\u001b[0m         \u001b[1;32mif\u001b[0m \u001b[0mself\u001b[0m\u001b[1;33m.\u001b[0m\u001b[0mflowDict\u001b[0m\u001b[1;33m[\u001b[0m\u001b[1;34m'isPois'\u001b[0m\u001b[1;33m]\u001b[0m \u001b[1;33m==\u001b[0m\u001b[1;36m1\u001b[0m\u001b[1;33m:\u001b[0m\u001b[1;33m\u001b[0m\u001b[0m\n\u001b[0;32m    691\u001b[0m             \u001b[0mresidual\u001b[0m\u001b[1;33m[\u001b[0m\u001b[0mK\u001b[0m\u001b[1;33m,\u001b[0m\u001b[0mL\u001b[0m\u001b[1;33m,\u001b[0m\u001b[0mM\u001b[0m\u001b[1;33m,\u001b[0m\u001b[1;36m0\u001b[0m\u001b[1;33m]\u001b[0m \u001b[1;33m-=\u001b[0m \u001b[1;36m2.\u001b[0m\u001b[1;33m/\u001b[0m\u001b[0mself\u001b[0m\u001b[1;33m.\u001b[0m\u001b[0mflowDict\u001b[0m\u001b[1;33m[\u001b[0m\u001b[1;34m'Re'\u001b[0m\u001b[1;33m]\u001b[0m     \u001b[1;31m# adding dP/dx, the mean pressure gradient\u001b[0m\u001b[1;33m\u001b[0m\u001b[0m\n",
      "\u001b[1;32m/home/sabarish/Dropbox/gitwork/python3/flowFieldV2/flowField.py\u001b[0m in \u001b[0;36mlaplacian\u001b[1;34m(self)\u001b[0m\n\u001b[0;32m    528\u001b[0m     \u001b[1;32mdef\u001b[0m \u001b[0mlaplacian\u001b[0m\u001b[1;33m(\u001b[0m\u001b[0mself\u001b[0m\u001b[1;33m)\u001b[0m\u001b[1;33m:\u001b[0m\u001b[1;33m\u001b[0m\u001b[0m\n\u001b[0;32m    529\u001b[0m         \u001b[1;34m\"\"\" Computes Laplacian for a flowField instance \"\"\"\u001b[0m\u001b[1;33m\u001b[0m\u001b[0m\n\u001b[1;32m--> 530\u001b[1;33m         \u001b[1;32mreturn\u001b[0m \u001b[0mself\u001b[0m\u001b[1;33m.\u001b[0m\u001b[0mddx2\u001b[0m\u001b[1;33m(\u001b[0m\u001b[1;33m)\u001b[0m \u001b[1;33m+\u001b[0m \u001b[0mself\u001b[0m\u001b[1;33m.\u001b[0m\u001b[0mddy2\u001b[0m\u001b[1;33m(\u001b[0m\u001b[1;33m)\u001b[0m \u001b[1;33m+\u001b[0m \u001b[0mself\u001b[0m\u001b[1;33m.\u001b[0m\u001b[0mddz2\u001b[0m\u001b[1;33m(\u001b[0m\u001b[1;33m)\u001b[0m\u001b[1;33m\u001b[0m\u001b[0m\n\u001b[0m\u001b[0;32m    531\u001b[0m \u001b[1;33m\u001b[0m\u001b[0m\n\u001b[0;32m    532\u001b[0m     \u001b[1;32mdef\u001b[0m \u001b[0mdiv\u001b[0m\u001b[1;33m(\u001b[0m\u001b[0mself\u001b[0m\u001b[1;33m)\u001b[0m\u001b[1;33m:\u001b[0m\u001b[1;33m\u001b[0m\u001b[0m\n",
      "\u001b[1;32m/home/sabarish/Dropbox/gitwork/python3/flowFieldV2/flowFieldWavy.py\u001b[0m in \u001b[0;36mddx2\u001b[1;34m(self)\u001b[0m\n\u001b[0;32m    271\u001b[0m         \u001b[1;31m#       e^{iC}.[  -2.i.g.d_XY(f) + g.a.d_Y(f) ]  + e^{-iC}.[  2.i.g.d_XY(f)  + g.a.d_Y(f) ]\u001b[0m\u001b[1;33m\u001b[0m\u001b[1;33m\u001b[0m\u001b[0m\n\u001b[0;32m    272\u001b[0m         \u001b[1;31m# Step 1: Calculate d_XY(f) and d_Y(f):\u001b[0m\u001b[1;33m\u001b[0m\u001b[1;33m\u001b[0m\u001b[0m\n\u001b[1;32m--> 273\u001b[1;33m         \u001b[0mtempField1\u001b[0m \u001b[1;33m=\u001b[0m \u001b[0mself\u001b[0m\u001b[1;33m.\u001b[0m\u001b[0mddX\u001b[0m\u001b[1;33m(\u001b[0m\u001b[1;33m)\u001b[0m\u001b[1;33m.\u001b[0m\u001b[0mddY\u001b[0m\u001b[1;33m(\u001b[0m\u001b[1;33m)\u001b[0m\u001b[1;33m\u001b[0m\u001b[0m\n\u001b[0m\u001b[0;32m    274\u001b[0m         \u001b[0mtempField2\u001b[0m \u001b[1;33m=\u001b[0m \u001b[0mself\u001b[0m\u001b[1;33m.\u001b[0m\u001b[0mddY\u001b[0m\u001b[1;33m(\u001b[0m\u001b[1;33m)\u001b[0m\u001b[1;33m\u001b[0m\u001b[0m\n\u001b[0;32m    275\u001b[0m \u001b[1;33m\u001b[0m\u001b[0m\n",
      "\u001b[1;32m/home/sabarish/Dropbox/gitwork/python3/flowFieldV2/flowFieldWavy.py\u001b[0m in \u001b[0;36mddY\u001b[1;34m(self)\u001b[0m\n\u001b[0;32m    191\u001b[0m \u001b[1;33m\u001b[0m\u001b[0m\n\u001b[0;32m    192\u001b[0m     \u001b[1;32mdef\u001b[0m \u001b[0mddY\u001b[0m\u001b[1;33m(\u001b[0m\u001b[0mself\u001b[0m\u001b[1;33m)\u001b[0m\u001b[1;33m:\u001b[0m\u001b[1;33m\u001b[0m\u001b[0m\n\u001b[1;32m--> 193\u001b[1;33m         \u001b[1;32mreturn\u001b[0m \u001b[0mself\u001b[0m\u001b[1;33m.\u001b[0m\u001b[0mddy\u001b[0m\u001b[1;33m(\u001b[0m\u001b[1;33m)\u001b[0m\u001b[1;33m\u001b[0m\u001b[0m\n\u001b[0m\u001b[0;32m    194\u001b[0m \u001b[1;33m\u001b[0m\u001b[0m\n\u001b[0;32m    195\u001b[0m     \u001b[1;32mdef\u001b[0m \u001b[0mddY2\u001b[0m\u001b[1;33m(\u001b[0m\u001b[0mself\u001b[0m\u001b[1;33m)\u001b[0m\u001b[1;33m:\u001b[0m\u001b[1;33m\u001b[0m\u001b[0m\n",
      "\u001b[1;32m/home/sabarish/Dropbox/gitwork/python3/flowFieldV2/flowField.py\u001b[0m in \u001b[0;36mddy\u001b[1;34m(self)\u001b[0m\n\u001b[0;32m    370\u001b[0m         \u001b[0mpartialY\u001b[0m \u001b[1;33m=\u001b[0m \u001b[0mself\u001b[0m\u001b[1;33m.\u001b[0m\u001b[0mview1d\u001b[0m\u001b[1;33m(\u001b[0m\u001b[1;33m)\u001b[0m\u001b[1;33m.\u001b[0m\u001b[0mcopy\u001b[0m\u001b[1;33m(\u001b[0m\u001b[1;33m)\u001b[0m\u001b[1;33m\u001b[0m\u001b[0m\n\u001b[0;32m    371\u001b[0m         \u001b[0mtempArr\u001b[0m \u001b[1;33m=\u001b[0m \u001b[0mself\u001b[0m\u001b[1;33m.\u001b[0m\u001b[0mreshape\u001b[0m\u001b[1;33m(\u001b[0m\u001b[0mself\u001b[0m\u001b[1;33m.\u001b[0m\u001b[0msize\u001b[0m\u001b[1;33m//\u001b[0m\u001b[0mN\u001b[0m\u001b[1;33m,\u001b[0m\u001b[0mN\u001b[0m\u001b[1;33m)\u001b[0m\u001b[1;33m\u001b[0m\u001b[0m\n\u001b[1;32m--> 372\u001b[1;33m         \u001b[0mpartialY\u001b[0m\u001b[1;33m[\u001b[0m\u001b[1;33m:\u001b[0m\u001b[1;33m]\u001b[0m \u001b[1;33m=\u001b[0m \u001b[0mnp\u001b[0m\u001b[1;33m.\u001b[0m\u001b[0mdot\u001b[0m\u001b[1;33m(\u001b[0m\u001b[0mtempArr\u001b[0m\u001b[1;33m,\u001b[0m\u001b[0mself\u001b[0m\u001b[1;33m.\u001b[0m\u001b[0mD\u001b[0m\u001b[1;33m.\u001b[0m\u001b[0mT\u001b[0m\u001b[1;33m)\u001b[0m\u001b[1;33m.\u001b[0m\u001b[0mreshape\u001b[0m\u001b[1;33m(\u001b[0m\u001b[0mself\u001b[0m\u001b[1;33m.\u001b[0m\u001b[0msize\u001b[0m\u001b[1;33m)\u001b[0m\u001b[1;33m\u001b[0m\u001b[0m\n\u001b[0m\u001b[0;32m    373\u001b[0m         \u001b[1;32mreturn\u001b[0m \u001b[0mpartialY\u001b[0m\u001b[1;33m.\u001b[0m\u001b[0mview4d\u001b[0m\u001b[1;33m(\u001b[0m\u001b[1;33m)\u001b[0m\u001b[1;33m\u001b[0m\u001b[0m\n\u001b[0;32m    374\u001b[0m \u001b[1;33m\u001b[0m\u001b[0m\n",
      "\u001b[1;31mKeyboardInterrupt\u001b[0m: "
     ]
    }
   ],
   "source": [
    "x0.flowDict['eps'] = 0.0\n",
    "#x0 = x00.copy()\n",
    "#x0[:]=0.; x0[0,x0.nx//2,x0.nz//2,0] = 1.-x0.y**2\n",
    "startTime = time.time()\n",
    "r0 = residual(x0)\n",
    "r0norm = r0.norm()\n",
    "print('$||r_0|| $',r0norm)\n",
    "for iter in range(5):\n",
    "    if r0norm < 1.0e-15: print('Norm below tolerance, exiting....',r0norm); break\n",
    "    jcbn = lambda arr: jacobian(x0,r0,arr)\n",
    "    A = LinearOperator((x0.size,x0.size), matvec=jcbn,dtype=np.complex)\n",
    "    delX,flag = lgmres(A,-r0.weighted(),tol=1.0e-15,maxiter=5,inner_m=1000,outer_k=3)\n",
    "    if flag: print('LGMRES did not converge...................................')\n",
    "    print('||Ax-b||/||b||:',norm(A.matvec(delX)+r0.weighted(),2)/r0norm)\n",
    "    print('||del X||:',norm(delX,2))\n",
    "    x0[:] = lineSearch(x0,delX)\n",
    "    r0 = residual(x0)\n",
    "    print('New and old norms respectively:',r0.norm(), r0norm)\n",
    "    r0norm = r0.norm()\n",
    "    \n",
    "print('Done........................................')    \n",
    "print('Time elapsed:',int(time.time()-startTime))"
   ]
  },
  {
   "cell_type": "code",
   "execution_count": 53,
   "metadata": {
    "collapsed": false
   },
   "outputs": [
    {
     "name": "stdout",
     "output_type": "stream",
     "text": [
      "<class 'flowFieldWavy.flowFieldRiblet'>\n",
      "0.0\n"
     ]
    }
   ],
   "source": [
    "x = x0.view(flowFieldRiblet)\n",
    "print(type(x))\n",
    "print((x.ddx2()-x0.ddX2()).norm())"
   ]
  },
  {
   "cell_type": "code",
   "execution_count": null,
   "metadata": {
    "collapsed": false
   },
   "outputs": [],
   "source": [
    "r0 = residual(x0)\n",
    "jcbn = lambda arr: jacobian(x0,r0,arr)\n",
    "A = LinearOperator((x0.size,x0.size), matvec=jcbn,dtype=np.complex)\n",
    "r0norm = r0.norm()\n",
    "print('residual norm before correction:',r0norm)\n",
    "startTime = time.time()\n",
    "delX,flag = gmres(A,-r0.weighted(),tol=1.0e-6*r0norm,maxiter=50,restart=30)\n",
    "if flag: print('GMRES did not converge...................................')\n",
    "print('Norm of Ax-b:',norm(A.matvec(delX)+r0.weighted(),2))\n",
    "print('Residual norm after correction:', residual(x0+weighted2ff(flowDict=x0.flowDict,arr=delX)).norm())\n",
    "print('Norm of correction:',norm(delX,2))\n",
    "x0[:] = lineSearch(x0,delX)\n",
    "print('New and old norms respectively:',residual(x0).norm(), r0.norm())\n",
    "print('Time elapsed:',time.time()-startTime)"
   ]
  },
  {
   "cell_type": "markdown",
   "metadata": {},
   "source": [
    "### Generate numpy arrays for flowfield solutions (velocity, pressure) from Gibson's ChannelFlow "
   ]
  },
  {
   "cell_type": "code",
   "execution_count": 4,
   "metadata": {
    "collapsed": false
   },
   "outputs": [],
   "source": [
    "f = np.genfromtxt('eq1.asc',dtype=np.complex)\n",
    "f_p = np.genfromtxt('peq1.asc',dtype=np.complex)\n",
    "   \n",
    "x = f[:,3];x_p = f_p[:,3]\n",
    "\n",
    "# From the database at channelflow.org\n",
    "Re=4.0e2\n",
    "a=1.14\n",
    "b=2.5\n",
    "\n",
    "nx = 48\n",
    "nz = 25\n",
    "L = 24\n",
    "M = 24\n",
    "N = 35\n",
    "\n",
    "# In input file, ordering of modes is different from what I would like it to be.\n",
    "# It goes, 0,1,..,24,-23,-22,....,-1 in 'x'\n",
    "# I prefer, -23,-22,..,-1,0,1,...,22,23\n",
    "# In 'z', it's just 0,..,24 \n",
    "#     Negative wavenumbers are not included due to symmetry.\n",
    "\n",
    "# First, getting rid of mode 24 in both x and z \n",
    "modes = x.reshape((nx,nz,3,N))\n",
    "modes = sp.append(modes,x_p.reshape((nx,nz,1,N)),axis=2)\n",
    "modes = sp.delete(modes,L,0)\n",
    "modes = sp.delete(modes,M,1)\n",
    "nx = nx-1 \n",
    "nz = nz-1\n",
    "L = L-1\n",
    "M = M-1\n",
    "\n",
    "# Now, reordering streamwise wavenumbers\n",
    "modes = sp.append(modes[L+1:,:,:,:],modes[:L+1,:,:,:],0)\n",
    "del x,x_p,f,f_p\n",
    "\n",
    "# Projecting Cheb coefficients onto Cheb collocation nodes\n",
    "for kx in range(0,nx):\n",
    "    for kz in range(0,nz):\n",
    "        for nd in range(0,4):\n",
    "            modes[kx,kz,nd,:] = chebcoll_vec(modes[kx,kz,nd,:])\n",
    "\n",
    "# Adding modes for negative spanwise wavenumbers. \n",
    "modes = sp.append(modes[::-1,:0:-1].conjugate(),modes,axis=1)\n",
    "nz = nx\n",
    "\n",
    "# Deleting pressure from state-vector:\n",
    "p = modes[:,:,3]\n",
    "modes = sp.delete(modes,3,2)\n",
    "\n",
    "vecsize = nx*nz*N\n",
    "# Finally, reshaping to get a state-vector containing u and w\n",
    "v = modes.reshape(3*vecsize)\n",
    "p = p.reshape(vecsize)\n",
    "del modes\n",
    "#print(modes[L,M,0])\n"
   ]
  },
  {
   "cell_type": "code",
   "execution_count": 5,
   "metadata": {
    "collapsed": false
   },
   "outputs": [],
   "source": [
    "tempDict = getDefaultDict()\n",
    "L = 23; M = 23; N=35\n",
    "tempDict.update({'K':0, 'L':L,'M':M,'N':N, 'eps':0.0, 'alpha':1.14,'beta':2.5,'nd':3,'isPois':0, 'Re':400.})\n",
    "vf = flowFieldRiblet(flowDict=tempDict, arr=v).view4d()\n",
    "vf[0,L,M,0] += vf.y\n",
    "tempDict['nd']=1\n",
    "pf = flowFieldRiblet(flowDict=tempDict, arr=p).view4d()\n",
    "x0 = vf.appendField(pf)\n",
    "\n",
    "\n",
    "#x0 = x0.slice(L=3,M=5,N=15)"
   ]
  },
  {
   "cell_type": "code",
   "execution_count": 66,
   "metadata": {
    "collapsed": false
   },
   "outputs": [],
   "source": [
    "res = residual(x0)\n"
   ]
  },
  {
   "cell_type": "code",
   "execution_count": 67,
   "metadata": {
    "collapsed": false
   },
   "outputs": [
    {
     "name": "stdout",
     "output_type": "stream",
     "text": [
      "0.0 0.0\n",
      "0.0 0.0\n",
      "0.0 0.0\n",
      "0.0 0.0\n",
      "0.0 0.0\n",
      "0.0 0.0\n",
      "0.0 0.0\n",
      "0.0 0.0\n",
      "2.00789873167e-19 0.0\n",
      "1.65731932559e-18 0.0\n",
      "7.41178185407e-18 0.0\n",
      "2.39149411705e-17 0.0\n",
      "1.27990697868e-16 0.0\n",
      "2.48790696632e-16 0.0\n",
      "8.28241775515e-16 0.0\n",
      "2.05247139553e-15 0.0\n",
      "1.11984562124e-14 0.0\n",
      "2.91352806371e-14 0.0\n",
      "1.96116326074e-13 0.0\n",
      "8.07986020351e-13 0.0\n",
      "4.98314502809e-12 0.0\n",
      "1.68395428682e-11 0.0\n",
      "8.18431896059e-11 0.0\n",
      "3.50263399547e-11 0.0\n"
     ]
    }
   ],
   "source": [
    "l=23;m=23\n",
    "ddz = x0.ddz(); ddZ = x0.ddZ()\n",
    "for l in range(24):\n",
    "    print(vecnorm2(res[0,l,:,3],res.N), vecnorm2(ddz[0,l]-ddZ[0,l],x0.N) )"
   ]
  },
  {
   "cell_type": "code",
   "execution_count": 40,
   "metadata": {
    "collapsed": false
   },
   "outputs": [
    {
     "data": {
      "text/plain": [
       "0.15512504992764775"
      ]
     },
     "execution_count": 40,
     "metadata": {},
     "output_type": "execute_result"
    }
   ],
   "source": [
    "x0[:] = 0.\n",
    "x0[0,23,23,0] += x0.y\n",
    "x0.norm()"
   ]
  },
  {
   "cell_type": "code",
   "execution_count": 150,
   "metadata": {
    "collapsed": false
   },
   "outputs": [
    {
     "data": {
      "text/plain": [
       "0.00038552857433352177"
      ]
     },
     "execution_count": 150,
     "metadata": {},
     "output_type": "execute_result"
    }
   ],
   "source": [
    "x0 = x0.slice(L=5,M=9,N=35)\n",
    "residual(x0).norm()"
   ]
  },
  {
   "cell_type": "code",
   "execution_count": 106,
   "metadata": {
    "collapsed": false
   },
   "outputs": [
    {
     "data": {
      "text/plain": [
       "2.4185396384947908e-15"
      ]
     },
     "execution_count": 106,
     "metadata": {},
     "output_type": "execute_result"
    }
   ],
   "source": [
    "x0[:] = 0.\n",
    "x0[0,23,23,0] = x0.y\n",
    "residual(x0).norm()"
   ]
  },
  {
   "cell_type": "code",
   "execution_count": 107,
   "metadata": {
    "collapsed": false
   },
   "outputs": [
    {
     "data": {
      "text/plain": [
       "0.0"
      ]
     },
     "execution_count": 107,
     "metadata": {},
     "output_type": "execute_result"
    }
   ],
   "source": [
    "x0.slice(nd=[0,1,2]).convNL().norm()"
   ]
  },
  {
   "cell_type": "code",
   "execution_count": null,
   "metadata": {
    "collapsed": true
   },
   "outputs": [],
   "source": []
  },
  {
   "cell_type": "code",
   "execution_count": null,
   "metadata": {
    "collapsed": true
   },
   "outputs": [],
   "source": []
  },
  {
   "cell_type": "markdown",
   "metadata": {},
   "source": [
    "# -------------------------------------------------"
   ]
  },
  {
   "cell_type": "code",
   "execution_count": null,
   "metadata": {
    "collapsed": false
   },
   "outputs": [],
   "source": [
    "#from seprn import seprn\n",
    "#%load_ext autoreload\n",
    "#%autoreload 2\n",
    "\n",
    "xs = np.zeros(vArr.shape,dtype=np.float)\n",
    "xr = xs.copy(); ybub=xs.copy(); sflag = np.zeros(vArr.shape,dtype=np.int)\n",
    "\n",
    "for ke in range(xs.shape[0]):\n",
    "    for kg in range(xs.shape[1]):\n",
    "        for kr in range(xs.shape[2]):\n",
    "            x = vArr[ke,kg,kr].field.addBase().appendField(pArr[ke,kg,kr].field).view1d()\n",
    "            N = x.N; n = x.flowDict['L']; a = x.flowDict['alpha']; b=x.flowDict['beta'];Re=x.flowDict['Re']; eps=x.flowDict['eps']\n",
    "            x = x.copyArray()\n",
    "            sf,sp,rp,yb = seprn(x,N,n,eps,a,b,Re)\n",
    "            xs[ke,kg,kr] = sp; xr[ke,kg,kr] = rp; ybub[ke,kg,kr] = yb; sflag[ke,kg,kr] = sf\n"
   ]
  },
  {
   "cell_type": "code",
   "execution_count": null,
   "metadata": {
    "collapsed": false
   },
   "outputs": [],
   "source": [
    "import matplotlib.pyplot as plt\n",
    "%matplotlib inline\n",
    "epsArr = vArr[:,:,0].getProperty('eps')\n",
    "gArr = vArr[:,:,0].getProperty('g')\n",
    "\n",
    "plt.figure()\n",
    "plt.contourf(2.*gArr,2.*epsArr,xs[:,:,10])\n",
    "plt.colorbar()\n",
    "plt.show()"
   ]
  },
  {
   "cell_type": "code",
   "execution_count": null,
   "metadata": {
    "collapsed": false
   },
   "outputs": [],
   "source": [
    "plt.figure()\n",
    "plt.title('Location of separation point, $Re_{\\\\tau}=4.5$')\n",
    "plt.contourf(2.*gArr,2.*epsArr,xs[:,:,0],levels=np.arange(0.,0.55,0.05))\n",
    "plt.xlabel('Slope');plt.ylabel('Amplitude')\n",
    "plt.colorbar()\n",
    "plt.savefig('./figures/xSepReT4.pdf',format='pdf')\n",
    "plt.show()\n",
    "\n",
    "plt.figure()\n",
    "plt.title('Location of separation point, $Re_{\\\\tau}=8$')\n",
    "plt.contourf(2.*gArr,2.*epsArr,xs[:,:,5],levels=np.arange(0.,0.55,0.05))\n",
    "plt.xlabel('Slope');plt.ylabel('Amplitude')\n",
    "plt.colorbar()\n",
    "plt.savefig('./figures/xSepReT8.pdf',format='pdf')\n",
    "plt.show()\n",
    "\n",
    "plt.figure()\n",
    "plt.title('Location of separation point, $Re_{\\\\tau}=14.1$')\n",
    "plt.contourf(2.*gArr,2.*epsArr,xs[:,:,10],levels=np.arange(0.,0.55,0.05))\n",
    "plt.xlabel('Slope');plt.ylabel('Amplitude')\n",
    "plt.colorbar()\n",
    "plt.savefig('./figures/xSepReT14.pdf',format='pdf')\n",
    "plt.show()\n",
    "\n",
    "plt.figure()\n",
    "plt.title('Location of separation point, $Re_{\\\\tau}=45$')\n",
    "plt.contourf(2.*gArr,2.*epsArr,xs[:,:,20],levels=np.arange(0.,0.55,0.05))\n",
    "plt.xlabel('Slope');plt.ylabel('Amplitude')\n",
    "plt.colorbar()\n",
    "plt.savefig('./figures/xSepReT45.pdf',format='pdf')\n",
    "plt.show()\n",
    "\n",
    "plt.figure()\n",
    "plt.title('Location of Reattachment point, $Re_{\\\\tau}=4.5$')\n",
    "plt.contourf(2.*gArr,2.*epsArr,xr[:,:,0],levels=np.arange(0.5,1.05,0.05))\n",
    "plt.xlabel('Slope');plt.ylabel('Amplitude')\n",
    "plt.colorbar()\n",
    "plt.savefig('./figures/xReatReT4.pdf',format='pdf')\n",
    "plt.show()\n",
    "\n",
    "plt.figure()\n",
    "plt.title('Location of Reattachment point, $Re_{\\\\tau}=8$')\n",
    "plt.contourf(2.*gArr,2.*epsArr,xr[:,:,5],levels=np.arange(0.5,1.05,0.05))\n",
    "plt.xlabel('Slope');plt.ylabel('Amplitude')\n",
    "plt.colorbar()\n",
    "plt.savefig('./figures/xReatReT8.pdf',format='pdf')\n",
    "plt.show()\n",
    "\n",
    "plt.figure()\n",
    "plt.title('Location of Reattachment point, $Re_{\\\\tau}=14.1$')\n",
    "plt.contourf(2.*gArr,2.*epsArr,xr[:,:,10],levels=np.arange(0.5,1.05,0.05))\n",
    "plt.xlabel('Slope');plt.ylabel('Amplitude')\n",
    "plt.colorbar()\n",
    "plt.savefig('./figures/xReatReT14.pdf',format='pdf')\n",
    "plt.show()\n",
    "\n",
    "plt.figure()\n",
    "plt.title('Location of Reattachment point, $Re_{\\\\tau}=45$')\n",
    "plt.contourf(2.*gArr,2.*epsArr,xr[:,:,20],levels=np.arange(0.5,1.05,0.05))\n",
    "plt.xlabel('Slope');plt.ylabel('Amplitude')\n",
    "plt.colorbar()\n",
    "plt.savefig('./figures/xReatReT45.pdf',format='pdf')\n",
    "plt.show()\n",
    "\n",
    "plt.figure()\n",
    "plt.title('Separation bubble height, $Re_{\\\\tau}=4.5$')\n",
    "plt.contourf(2.*gArr,2.*epsArr,ybub[:,:,0],levels=np.arange(0.,1.05,0.05))\n",
    "plt.xlabel('Slope');plt.ylabel('Amplitude')\n",
    "plt.colorbar()\n",
    "plt.savefig('./figures/ybubReT4.pdf',format='pdf')\n",
    "plt.show()\n",
    "\n",
    "plt.figure()\n",
    "plt.title('Separation bubble height, $Re_{\\\\tau}=8$')\n",
    "plt.contourf(2.*gArr,2.*epsArr,ybub[:,:,5],levels=np.arange(0.,1.05,0.05))\n",
    "plt.xlabel('Slope');plt.ylabel('Amplitude')\n",
    "plt.colorbar()\n",
    "plt.savefig('./figures/ybubReT8.pdf',format='pdf')\n",
    "plt.show()\n",
    "\n",
    "plt.figure()\n",
    "plt.title('Separation bubble height, $Re_{\\\\tau}=14.1$')\n",
    "plt.contourf(2.*gArr,2.*epsArr,ybub[:,:,10],levels=np.arange(0.,1.05,0.05))\n",
    "plt.xlabel('Slope');plt.ylabel('Amplitude')\n",
    "plt.colorbar()\n",
    "plt.savefig('./figures/ybubReT14.pdf',format='pdf')\n",
    "plt.show()\n",
    "\n",
    "plt.figure()\n",
    "plt.title('Separation bubble height, $Re_{\\\\tau}=45$')\n",
    "plt.contourf(2.*gArr,2.*epsArr,xr[:,:,20],levels=np.arange(0.,1.05,0.05))\n",
    "plt.xlabel('Slope');plt.ylabel('Amplitude')\n",
    "plt.colorbar()\n",
    "plt.savefig('./figures/ybubReT45.pdf',format='pdf')\n",
    "plt.show()\n"
   ]
  },
  {
   "cell_type": "code",
   "execution_count": null,
   "metadata": {
    "collapsed": false
   },
   "outputs": [],
   "source": [
    "#fluxArr = vArr.getProperty('flux',withBase=True)\n",
    "\n",
    "import matplotlib.lines as mlines\n",
    "eOff = 7\n",
    "plt.figure()\n",
    "ax = plt.gca()\n",
    "plt.title ('Contours of Volume flux and bubble height, $Re_{\\\\tau}=4.5$')\n",
    "plt.xlabel ('Slope');  plt.ylabel ('Amplitude (log scale)')\n",
    "ax.set_yscale('log')\n",
    "CF = plt.contour(2.*gArr[eOff:],2.*epsArr[eOff:],fluxArr[eOff:,:,0],levels=[0.4,0.45,0.5,0.55,0.6,0.65],colors = 'k')\n",
    "plt.clabel(CF)\n",
    "plt.draw()\n",
    "\n",
    "CF = plt.contour(2.*gArr[eOff:],2.*epsArr[eOff:],ybub[eOff:,:,0],levels=[0.1,0.3,0.5,0.7],colors = 'k',linestyles = 'dashed')\n",
    "plt.clabel(CF)\n",
    "plt.draw()\n",
    "\n",
    "black_line = mlines.Line2D([], [], color='k', label='Vflux',linewidth = 1.5)\n",
    "dashed_line = mlines.Line2D([], [], color='k', label='yBub',linewidth = 1,linestyle = '--')\n",
    "plt.legend(handles=[dashed_line,black_line],framealpha = 0.3,loc = 'lower left', ncol = 2)#bbox_to_anchor=(0.24, 0.20),)\n",
    "plt.savefig('./figures/vFluxYbubReT4.pdf',format='pdf')\n",
    "plt.show()\n",
    "\n",
    "\n",
    "\n",
    "plt.figure()\n",
    "ax = plt.gca()\n",
    "plt.title ('Contours of Volume flux and bubble height, $Re_{\\\\tau}=8$')\n",
    "plt.xlabel ('Slope');  plt.ylabel ('Amplitude (log scale)')\n",
    "ax.set_yscale('log')\n",
    "CF = plt.contour(2.*gArr[eOff:],2.*epsArr[eOff:],fluxArr[eOff:,:,5],levels=[0.4,0.45,0.5,0.55,0.6,0.65],colors = 'k')\n",
    "plt.clabel(CF)\n",
    "plt.draw()\n",
    "\n",
    "CF = plt.contour(2.*gArr[eOff:],2.*epsArr[eOff:],ybub[eOff:,:,5],levels=[0.1,0.3,0.5,0.7],colors = 'k',linestyles = 'dashed')\n",
    "plt.clabel(CF)\n",
    "plt.draw()\n",
    "\n",
    "black_line = mlines.Line2D([], [], color='k', label='Vflux',linewidth = 1.5)\n",
    "dashed_line = mlines.Line2D([], [], color='k', label='yBub',linewidth = 1,linestyle = '--')\n",
    "plt.legend(handles=[dashed_line,black_line],framealpha = 0.3,loc = 'lower left', ncol = 2)#bbox_to_anchor=(0.24, 0.20),)\n",
    "plt.savefig('./figures/vFluxYbubReT8.pdf',format='pdf')\n",
    "plt.show()\n",
    "\n",
    "\n",
    "\n",
    "plt.figure()\n",
    "ax = plt.gca()\n",
    "plt.title ('Contours of Volume flux and bubble height, $Re_{\\\\tau}=14$')\n",
    "plt.xlabel ('Slope');  plt.ylabel ('Amplitude (log scale)')\n",
    "ax.set_yscale('log')\n",
    "CF = plt.contour(2.*gArr[eOff:],2.*epsArr[eOff:],fluxArr[eOff:,:,10],levels=[0.4,0.45,0.5,0.55,0.6,0.65],colors = 'k')\n",
    "plt.clabel(CF)\n",
    "plt.draw()\n",
    "\n",
    "CF = plt.contour(2.*gArr[eOff:],2.*epsArr[eOff:],ybub[eOff:,:,10],levels=[0.1,0.3,0.5,0.7],colors = 'k',linestyles = 'dashed')\n",
    "plt.clabel(CF)\n",
    "plt.draw()\n",
    "\n",
    "black_line = mlines.Line2D([], [], color='k', label='Vflux',linewidth = 1.5)\n",
    "dashed_line = mlines.Line2D([], [], color='k', label='yBub',linewidth = 1,linestyle = '--')\n",
    "plt.legend(handles=[dashed_line,black_line],framealpha = 0.3,loc = 'lower left', ncol = 2)#bbox_to_anchor=(0.24, 0.20),)\n",
    "plt.savefig('./figures/vFluxYbubReT14.pdf',format='pdf')\n",
    "plt.show()\n",
    "\n",
    "\n",
    "\n",
    "plt.figure()\n",
    "ax = plt.gca()\n",
    "plt.title ('Contours of Volume flux and bubble height, $Re_{\\\\tau}=45$')\n",
    "plt.xlabel ('Slope');  plt.ylabel ('Amplitude (log scale)')\n",
    "ax.set_yscale('log')\n",
    "CF = plt.contour(2.*gArr[eOff:],2.*epsArr[eOff:],fluxArr[eOff:,:,20],levels=[0.4,0.45,0.5,0.55,0.6,0.65],colors = 'k')\n",
    "plt.clabel(CF)\n",
    "plt.draw()\n",
    "\n",
    "CF = plt.contour(2.*gArr[eOff:],2.*epsArr[eOff:],ybub[eOff:,:,20],levels=[0.1,0.3,0.5,0.7],colors = 'k',linestyles = 'dashed')\n",
    "plt.clabel(CF)\n",
    "plt.draw()\n",
    "\n",
    "black_line = mlines.Line2D([], [], color='k', label='Vflux',linewidth = 1.5)\n",
    "dashed_line = mlines.Line2D([], [], color='k', label='yBub',linewidth = 1,linestyle = '--')\n",
    "plt.legend(handles=[dashed_line,black_line],framealpha = 0.3,loc = 'lower left', ncol = 2)#bbox_to_anchor=(0.24, 0.20),)\n",
    "plt.savefig('./figures/vFluxYbubReT45.pdf',format='pdf')\n",
    "plt.show()\n",
    "\n",
    "\n",
    "\n"
   ]
  },
  {
   "cell_type": "code",
   "execution_count": null,
   "metadata": {
    "collapsed": false
   },
   "outputs": [],
   "source": [
    "#ReTauArr = vArr.getProperty('ReTau')\n",
    "ReArr = vArr.getProperty('Re')\n",
    "#fluxArr = vArr.getProperty('flux',withBase=True)\n",
    "uBulk = fluxArr; ReFlat = ReArr\n",
    "print(ReFlat.shape, uBulk.shape, type(ReFlat), type(uBulk))\n",
    "fricFac = 16./ReFlat/uBulk/uBulk\n",
    "ReWavy = uBulk*ReFlat"
   ]
  },
  {
   "cell_type": "code",
   "execution_count": null,
   "metadata": {
    "collapsed": false
   },
   "outputs": [],
   "source": [
    "epsArr = vArr.getProperty('eps'); gArr = vArr.getProperty('g')"
   ]
  },
  {
   "cell_type": "code",
   "execution_count": null,
   "metadata": {
    "collapsed": false
   },
   "outputs": [],
   "source": [
    "import matplotlib.pyplot as plt\n",
    "%matplotlib inline\n",
    "phiArr = ReWavy*fricFac\n",
    "keArr = np.asarray([6,17,21]);kgArr = np.asarray([1,11,22]); nRe=ReWavy.shape[2]\n",
    "print(epsArr[keArr,0,0])\n",
    "print(gArr[0,kgArr,0])\n",
    "\n",
    "markers = ['*','s','^']\n",
    "\n",
    "kg=kgArr[0]\n",
    "fig = plt.figure(figsize=(7,5))\n",
    "ax0 = fig.add_subplot(111)\n",
    "plt.xlabel('Re',fontsize=25); plt.ylabel('$\\\\phi$',fontsize=35)\n",
    "plt.ylim([23.,30.])\n",
    "plt.xlim([-100,700])\n",
    "\n",
    "ax4,=ax0.plot(ReWavy[keArr[0],kg,:], 24.*np.ones(nRe),linestyle='--',color='k')\n",
    "plt.savefig('./figures/phiRe0.pdf',format='pdf')\n",
    "\n",
    "ax1=ax0.scatter(ReWavy[keArr[0],kg,:], phiArr[keArr[0],kg,:], marker=markers[0],color='b',s=40)\n",
    "plt.savefig('./figures/phiRe11.pdf',format='pdf')\n",
    "\n",
    "ax2=ax0.scatter(ReWavy[keArr[1],kg,:], phiArr[keArr[1],kg,:], marker=markers[1],color='c',s=40)\n",
    "plt.savefig('./figures/phiRe12.pdf',format='pdf')\n",
    "\n",
    "ax3=ax0.scatter(ReWavy[keArr[2],kg,:], phiArr[keArr[2],kg,:], marker=markers[2],color='r',s=40)\n",
    "plt.savefig('./figures/phiRe13.pdf',format='pdf')\n",
    "\n",
    "\n",
    "kg=kgArr[1]\n",
    "fig = plt.figure(figsize=(7,5))\n",
    "ax0 = fig.add_subplot(111)\n",
    "plt.xlabel('Re',fontsize=25); plt.ylabel('$\\\\phi$',fontsize=35)\n",
    "plt.ylim([23.,30.])\n",
    "\n",
    "ax4,=ax0.plot(ReWavy[keArr[0],kg,:], 24.*np.ones(nRe),linestyle='--',color='k')\n",
    "plt.savefig('./figures/phiRe0.pdf',format='pdf')\n",
    "\n",
    "ax1=ax0.scatter(ReWavy[keArr[0],kg,:], phiArr[keArr[0],kg,:], marker=markers[0],color='b',s=40)\n",
    "plt.savefig('./figures/phiRe21.pdf',format='pdf')\n",
    "\n",
    "ax2=ax0.scatter(ReWavy[keArr[1],kg,:], phiArr[keArr[1],kg,:], marker=markers[1],color='c',s=40)\n",
    "plt.savefig('./figures/phiRe22.pdf',format='pdf')\n",
    "\n",
    "ax3=ax0.scatter(ReWavy[keArr[2],kg,:], phiArr[keArr[2],kg,:], marker=markers[2],color='r',s=40)\n",
    "plt.savefig('./figures/phiRe23.pdf',format='pdf')\n",
    "\n",
    "\n",
    "kg=kgArr[2]\n",
    "fig = plt.figure(figsize=(7,5))\n",
    "ax0 = fig.add_subplot(111)\n",
    "plt.xlabel('Re',fontsize=25); plt.ylabel('$\\\\phi$',fontsize=35)\n",
    "plt.ylim([23.,30.])\n",
    "\n",
    "ax4,=ax0.plot(ReWavy[keArr[0],kg,:], 24.*np.ones(nRe),linestyle='--',color='k')\n",
    "#plt.savefig('./figures/phiRe0.pdf',format='pdf')\n",
    "\n",
    "ax1=ax0.scatter(ReWavy[keArr[0],kg,:], phiArr[keArr[0],kg,:], marker=markers[0],color='b',s=40)\n",
    "plt.savefig('./figures/phiRe31.pdf',format='pdf')\n",
    "\n",
    "ax2=ax0.scatter(ReWavy[keArr[1],kg,:], phiArr[keArr[1],kg,:], marker=markers[1],color='c',s=40)\n",
    "plt.savefig('./figures/phiRe32.pdf',format='pdf')\n",
    "\n",
    "ax3=ax0.scatter(ReWavy[keArr[2],kg,:], phiArr[keArr[2],kg,:], marker=markers[2],color='r',s=40)\n",
    "plt.savefig('./figures/phiRe33.pdf',format='pdf')\n",
    "\n",
    "plt.show()\n",
    "\n",
    "kg = kgArr[0]\n",
    "fig = plt.figure(figsize=(7,5))\n",
    "ax0 = fig.add_subplot(111)\n",
    "plt.xlabel('Re',fontsize=25); plt.ylabel('$\\\\phi$',fontsize=35)\n",
    "\n",
    "ax3=ax0.scatter(ReWavy[keArr[2],kg,:], phiArr[keArr[2],kg,:], marker=markers[2],color='r')\n",
    "phiMean = 0.5*(np.min(phiArr[keArr[2],kg,:])+np.max(phiArr[keArr[2],kg,:]))\n",
    "phiDev = np.max(phiArr[keArr[2],kg,:]) - phiMean\n",
    "print('phiMean, phiDev:',phiMean,phiDev)\n",
    "ax4=ax0.plot(ReWavy[keArr[2],kg,:],phiMean*np.ones(nRe), color='r')\n",
    "\n",
    "\n",
    "plt.annotate('$\\\\bar{\\\\phi}$',xy = (0.05,0.5),xycoords='axes fraction', \n",
    "             xytext=(0.05,0.5),textcoords='axes fraction',\n",
    "             arrowprops=dict(facecolor='white',shrink=0.000,width=0.0),\n",
    "            horizontalalignment='left', verticalalignment='top',fontsize=16)\n",
    "\n",
    "plt.show()\n",
    "\n"
   ]
  },
  {
   "cell_type": "code",
   "execution_count": null,
   "metadata": {
    "collapsed": false
   },
   "outputs": [],
   "source": [
    "np.log10(0.03)"
   ]
  },
  {
   "cell_type": "code",
   "execution_count": null,
   "metadata": {
    "collapsed": false
   },
   "outputs": [],
   "source": [
    "kg=kgArr[0]\n",
    "fig = plt.figure(figsize=(7,5))\n",
    "ax0 = fig.add_subplot(111)\n",
    "plt.xlabel('Re',fontsize=25); plt.ylabel('$\\\\phi$',fontsize=35)\n",
    "plt.ylim([23.,30.])\n",
    "ax3=ax0.scatter(ReWavy[keArr[2],kg,:], phiArr[keArr[2],kg,:], marker=markers[2],color='r',s=40)\n",
    "plt.savefig('./figures/phiRe40.pdf',format='pdf')\n",
    "plt.show()\n",
    "\n",
    "fig = plt.figure(figsize=(7,5))\n",
    "ax0 = fig.add_subplot(111)\n",
    "plt.xlabel('Re',fontsize=25); plt.ylabel('$\\\\phi$',fontsize=35)\n",
    "ax3=ax0.scatter(ReWavy[keArr[2],kg,:], phiArr[keArr[2],kg,:], marker=markers[2],color='r',s=40)\n",
    "plt.savefig('./figures/phiRe41.pdf',format='pdf')\n",
    "\n",
    "phiMean = 0.5*(np.min(phiArr[keArr[2],kg,:])+np.max(phiArr[keArr[2],kg,:]))\n",
    "phiDev = np.max(phiArr[keArr[2],kg,:]) - phiMean\n",
    "print('phiMean, phiDev:',phiMean,phiDev)\n",
    "ax4=ax0.plot(ReWavy[keArr[2],kg,:],phiMean*np.ones(nRe), color='r')\n",
    "plt.text(-35,25.6,'$\\\\bar{\\\\phi}$',fontsize=35,color='blue')\n",
    "plt.savefig('./figures/phiRe42.pdf',format='pdf')\n",
    "\n",
    "plt.annotate(\"\",xy=(600,26.22),xycoords='data',\n",
    "            xytext=(600,25.58),textcoords='data',\n",
    "             arrowprops={'arrowstyle':'<->'})\n",
    "plt.text(530,25.9,\"$\\\\phi'$\",fontsize=35,color='blue')\n",
    "plt.savefig('./figures/phiRe43.pdf',format='pdf')\n",
    "plt.show()\n"
   ]
  },
  {
   "cell_type": "code",
   "execution_count": null,
   "metadata": {
    "collapsed": true
   },
   "outputs": [],
   "source": [
    "phiMean = 0.5*(np.min(phiArr,axis=2)+np.max(phiArr,axis=2))\n",
    "phiDev = 0.5*(np.max(phiArr,axis=2)-np.min(phiArr,axis=2))"
   ]
  },
  {
   "cell_type": "markdown",
   "metadata": {},
   "source": [
    "## Curve fitting\n",
    "\n",
    "- We're looking for a relation that goes as $\\lambda = a Re^{-n}$, where $a$ and $n$ are functions of $g,\\epsilon$. \n",
    "- From earlier work by Adrien, we know $n \\approx 1$ for $\\epsilon$ holds for $4\\epsilon$ not exceeding 15%.\n",
    "- We just need to verify if $\\lambda Re = const.$ holds up, and if it does, how we need to see how the constant varies with $g,\\epsilon$.\n",
    "\n",
    "### FIrst, checking if the inverse law holds"
   ]
  },
  {
   "cell_type": "code",
   "execution_count": null,
   "metadata": {
    "collapsed": false
   },
   "outputs": [],
   "source": [
    "import matplotlib.pyplot as plt\n",
    "from matplotlib.backends.backend_pdf import PdfPages\n",
    "%matplotlib inline\n",
    "#coloring = np.random.random(32).reshape((8,4))\n",
    "#for k in range(0,8):\n",
    "#    plt.scatter(np.log10(ReWavy[3*k,3*k]),10.**(np.log10(ReWavy[3*k,3*k])+ np.log10(fricFac[3*k,3*k])), c=coloring[k-3])\n",
    "#plt.ylim([-0.006,0.])\n",
    "#plt.show()\n",
    "\n",
    "#theta='0'\n",
    "#pp = PdfPages('InverseLaw'+theta+'.pdf')\n",
    "\n",
    "#prod = fricFac*ReWavy         # This must be a constant for different ReWavy. \n",
    "prod = phiArr\n",
    "# To see if it is indeed constant, I can look at the standard deviation at any g,eps:\n",
    "#prod = prod[:,:,2:]\n",
    "\n",
    "#stdDev = np.std(prod,axis=2)  # Computing standard deviation for lambda*Re at a constant g,eps, but varying Re\n",
    "stdDev=phiDev\n",
    "\n",
    "epsArr = vArr.getProperty('eps')\n",
    "gArr = vArr.getProperty('g')\n",
    "cutOff = 0\n",
    "\n",
    "cLimits = np.arange(24., 44., 1.0)\n",
    "#meanProd = np.mean(prod,axis=2)  # Computing mean for lambda*Re at a constant g,eps, but varying Re\n",
    "meanProd = phiMean\n",
    "plt.figure()\n",
    "#plt.contourf(2.*gArr[:-cutOff,:,0], 4.*epsArr[:-cutOff,:,0], meanProd[:-cutOff],levels=cLimits)\n",
    "plt.contourf(2.*gArr[:,:,0], 2.*epsArr[:,:,0], meanProd[:], levels=cLimits)\n",
    "#plt.ylim([24.,44.])\n",
    "#plt.clim(24.0,28.0)\n",
    "plt.colorbar()\n",
    "plt.title('$\\\\bar{\\\\phi}$',fontsize=25)\n",
    "plt.xlabel('Slope',fontsize=15);plt.ylabel('Amplitude',fontsize=15)\n",
    "#pp.savefig()\n",
    "plt.savefig('./figures/mean.pdf',format='pdf')\n",
    "plt.show()\n",
    "\n",
    "cLimits= np.arange(0.0, 0.3, 0.015)\n",
    "plt.figure()\n",
    "plt.title(\"$\\\\phi'$\",fontsize=25)\n",
    "#plt.contourf(2.*gArr[:-cutOff,:,0], 4.*epsArr[:-cutOff,:,0], stdDev[:-cutOff], levels=cLimits)\n",
    "plt.contourf(2.*gArr[:,:,0], 2.*epsArr[:,:,0], stdDev[:], levels=cLimits)\n",
    "#plt.clim([0.,0.15])\n",
    "#plt.clim(0.0,0.2)\n",
    "plt.colorbar()\n",
    "plt.xlabel('Slope',fontsize=15);plt.ylabel('Amplitude',fontsize=15)\n",
    "#pp.savefig()\n",
    "plt.savefig('./figures/std.pdf',format='pdf')\n",
    "plt.show()\n",
    "\n",
    "\n",
    "cLimits = np.arange(0.0,0.1,0.1/20)\n",
    "#cLimits= np.append(cLimits,np.asarray([0.2,0.3,0.4,0.5,0.6,0.7]))\n",
    "plt.figure()\n",
    "plt.title(\"$\\\\phi'/\\\\bar{\\\\phi}$\",fontsize=25)\n",
    "#plt.contourf(2.*gArr[:,:,0], 2.*epsArr[:,:,0], stdDev[:]/(meanProd[:]-24),levels=cLimits)\n",
    "plt.contourf(2.*gArr[:,:,0], 2.*epsArr[:,:,0], stdDev[:]/(meanProd[:]),levels=cLimits)\n",
    "#plt.clim([0.,0.15])\n",
    "#plt.clim(0.0,0.1)\n",
    "plt.colorbar()\n",
    "plt.xlabel('Slope',fontsize=15);plt.ylabel('Amplitude',fontsize=15)\n",
    "plt.savefig('./figures/stdOverMean.pdf',format='pdf')\n",
    "plt.show()\n",
    "#plt.savefig('stdOverMeanT'+theta+'.pdf')\n",
    "\n",
    "# Mean where stdDev/(mean-24) is small enough (<10%):\n",
    "#cLimits = np.arange(0., 4., 0.25)\n",
    "#stdOverMean = stdDev/(meanProd-24.)\n",
    "stdOverMean = stdDev/(meanProd)\n",
    "newMean = meanProd.copy()\n",
    "newMean[stdOverMean>0.1] = None\n",
    "plt.figure()\n",
    "#plt.title('(Mean-24) of fricFac*ReWavy where inverse relation holds (10% stdDev)')\n",
    "plt.title('(Mean) of fricFac*ReWavy where inverse relation holds (10% stdDev)')\n",
    "plt.contourf(2.*gArr[:,:,0], 2.*epsArr[:,:,0], (newMean[:]-24))\n",
    "plt.colorbar()\n",
    "plt.xlabel('Slope');plt.ylabel('Amplitude')\n",
    "plt.savefig('meanInverseLaw'+theta+'.pdf',format='pdf')\n",
    "plt.show()\n",
    "\n",
    "\n"
   ]
  },
  {
   "cell_type": "code",
   "execution_count": null,
   "metadata": {
    "collapsed": false
   },
   "outputs": [],
   "source": [
    "import matplotlib.pyplot as plt\n",
    "from matplotlib.backends.backend_pdf import PdfPages\n",
    "%matplotlib inline\n",
    "#coloring = np.random.random(32).reshape((8,4))\n",
    "#for k in range(0,8):\n",
    "#    plt.scatter(np.log10(ReWavy[3*k,3*k]),10.**(np.log10(ReWavy[3*k,3*k])+ np.log10(fricFac[3*k,3*k])), c=coloring[k-3])\n",
    "#plt.ylim([-0.006,0.])\n",
    "#plt.show()\n",
    "\n",
    "#theta='0'\n",
    "#pp = PdfPages('InverseLaw'+theta+'.pdf')\n",
    "\n",
    "prod = fricFac*ReWavy         # This must be a constant for different ReWavy. \n",
    "# To see if it is indeed constant, I can look at the standard deviation at any g,eps:\n",
    "#prod = prod[:,:,2:]\n",
    "#meanProd = np.mean(prod,axis=2)  # Computing mean for lambda*Re at a constant g,eps, but varying Re\n",
    "meanProd = 0.5*( prod[:,:,0] + prod[:,:,-1] )\n",
    "\n",
    "#stdDev = np.std(prod,axis=2)  # Computing standard deviation for lambda*Re at a constant g,eps, but varying Re\n",
    "stdDev = np.amax( np.abs( prod[:,:,:] -meanProd.reshape((prod.shape[0],prod.shape[1],1))  ) , axis=2 )\n",
    "\n",
    "epsArr = vArr.getProperty('eps')\n",
    "gArr = vArr.getProperty('g')\n",
    "cutOff = 0\n",
    "\n",
    "cLimits = np.arange(24., 44., 1.0)\n",
    "plt.figure()\n",
    "#plt.contourf(2.*gArr[:-cutOff,:,0], 4.*epsArr[:-cutOff,:,0], meanProd[:-cutOff],levels=cLimits)\n",
    "plt.contourf(2.*gArr[:,:,0], 2.*epsArr[:,:,0], meanProd[:], levels=cLimits)\n",
    "#plt.ylim([24.,44.])\n",
    "#plt.clim(24.0,28.0)\n",
    "plt.colorbar()\n",
    "plt.title('$\\\\bar{\\\\phi}$: Mean of $\\\\phi(Re)$')\n",
    "plt.xlabel('Slope');plt.ylabel('Amplitude')\n",
    "#pp.savefig()\n",
    "plt.savefig('mean.pdf',format='pdf')\n",
    "plt.show()\n",
    "\n",
    "#cLimits= np.arange(0.0, 0.3, 0.05)\n",
    "plt.figure()\n",
    "plt.title(\"$\\\\phi'$: Deviation of $\\\\phi(Re)$ from $\\\\bar{\\\\phi}$\")\n",
    "#plt.contourf(2.*gArr[:,:,0], 2.*epsArr[:,:,0], stdDev[:], levels=cLimits)\n",
    "plt.contourf(2.*gArr[:,:,0], 2.*epsArr[:,:,0], stdDev[:],20)\n",
    "#plt.clim([0.,0.15])\n",
    "#plt.clim(0.0,2.0)\n",
    "plt.colorbar()\n",
    "plt.xlabel('Slope');plt.ylabel('Amplitude')\n",
    "#pp.savefig()\n",
    "plt.savefig('stdT'+theta+'.pdf',format='pdf')\n",
    "plt.show()\n",
    "\n",
    "\n",
    "cLimits = np.arange(0.0,0.15,0.1/20)\n",
    "#cLimits= np.append(cLimits,np.asarray([0.2,0.3,0.4,0.5,0.6,0.7]))\n",
    "plt.figure()\n",
    "plt.title(\"$\\\\phi'/\\\\bar{\\\\phi}$: Relative deviation\")\n",
    "#plt.contourf(2.*gArr[:,:,0], 2.*epsArr[:,:,0], stdDev[:]/(meanProd[:]-24),levels=cLimits)\n",
    "plt.contourf(2.*gArr[:,:,0], 2.*epsArr[:,:,0], stdDev[:]/(meanProd[:]),levels=cLimits)\n",
    "#plt.clim([0.,0.15])\n",
    "#plt.clim(0.0,0.1)\n",
    "plt.colorbar()\n",
    "plt.xlabel('Slope');plt.ylabel('Amplitude')\n",
    "plt.savefig('stdOverMeanT'+theta+'.pdf',format='pdf')\n",
    "plt.show()\n",
    "#plt.savefig('stdOverMeanT'+theta+'.pdf')\n",
    "\n",
    "# Mean where stdDev/(mean-24) is small enough (<10%):\n",
    "#cLimits = np.arange(0., 4., 0.25)\n",
    "#stdOverMean = stdDev/(meanProd-24.)\n",
    "stdOverMean = stdDev/(meanProd)\n",
    "newMean = meanProd.copy()\n",
    "newMean[stdOverMean>0.1] = None\n",
    "plt.figure()\n",
    "#plt.title('(Mean-24) of fricFac*ReWavy where inverse relation holds (10% stdDev)')\n",
    "plt.title('(Mean) of fricFac*ReWavy where inverse relation holds (10% stdDev)')\n",
    "plt.contourf(2.*gArr[:,:,0], 2.*epsArr[:,:,0], (newMean[:]-24))\n",
    "plt.colorbar()\n",
    "plt.xlabel('Slope');plt.ylabel('Amplitude')\n",
    "plt.savefig('meanInverseLaw'+theta+'.pdf',format='pdf')\n",
    "plt.show()\n"
   ]
  },
  {
   "cell_type": "code",
   "execution_count": null,
   "metadata": {
    "collapsed": false
   },
   "outputs": [],
   "source": [
    "plt.figure()\n",
    "lArr = np.random.rand(120).reshape(30,4)\n",
    "symArr = [\"o\",\"v\",\"s\",\"^\",\"*\",\"x\",\"+\"]\n",
    "symArr.extend(symArr);symArr.extend(symArr);\n",
    "printFolder = '/home/sabarish/Dropbox/reports/2015/transfer/figures/'\n",
    "'''\n",
    "for k in range(21):\n",
    "    #plt.scatter(np.log10(2.*gArr[k,:,0]),np.log10(meanProd[k,:]-24.), color=lArr[k])\n",
    "    plt.scatter(2.*gArr[k,:,0],(meanProd[k,:]-24.), color=lArr[k])\n",
    "plt.show()\n",
    "'''\n",
    "plt.figure()\n",
    "#ax = plt.subplot(111)\n",
    "#ax = plt.axes()\n",
    "plt.annotate('Slope',xy = (0.4,0.7),xycoords='axes fraction', \n",
    "             xytext=(0.7,0.1),textcoords='axes fraction',\n",
    "             arrowprops=dict(facecolor='black',shrink=0.0001,width=0.01),\n",
    "            horizontalalignment='left', verticalalignment='top',fontsize=12)\n",
    "keArr=[0,1,2,3,4,6,8,11,14,18,23]\n",
    "for k in keArr:\n",
    "    #plt.scatter(np.log10(2.*gArr[k,:,0]),np.log10(meanProd[k,:]-24.), color=lArr[k])\n",
    "    #plt.scatter(2.*epsArr[:,k,0],(meanProd[:,k]-24.), color=lArr[k])\n",
    "    plt.plot(2.*epsArr[:,k,0],(meanProd[:,k]))#, marker=symArr[k])\n",
    "plt.title('$\\\\bar{\\\\phi}$-dependence on Amplitude')\n",
    "plt.xlabel('Amplitude')\n",
    "plt.ylabel('$\\\\bar{\\\\phi}$',fontsize=12)\n",
    "plt.ylim([23.,43.])\n",
    "plt.savefig('./figures/epsDep.pdf',format='pdf')\n",
    "plt.show()\n",
    "\n",
    "kgArr=[0,5,10,14,17,19,21,22,23,24,25]\n",
    "plt.figure()\n",
    "plt.annotate('Amplitude',xy = (0.5,0.9),xycoords='axes fraction', \n",
    "             xytext=(0.5,0.05),textcoords='axes fraction',\n",
    "             arrowprops=dict(facecolor='black',shrink=0.0001,width=0.01),\n",
    "            horizontalalignment='left', verticalalignment='top',fontsize=12)\n",
    "for k in kgArr:\n",
    "    #plt.scatter(np.log10(2.*gArr[k,:,0]),np.log10(meanProd[k,:]-24.), color=lArr[k])\n",
    "    #plt.scatter(2.*gArr[k,4:,0],(meanProd[k,4:]-24.), color=lArr[k])\n",
    "    plt.plot(2.*gArr[k,4:,0],(meanProd[k,4:]))\n",
    "plt.title('$\\\\bar{\\\\phi}$-dependence on Slope')\n",
    "plt.xlabel('Slope')\n",
    "plt.ylabel('$\\\\bar{\\\\phi}$',fontsize=12)\n",
    "plt.ylim([23.,43.])\n",
    "plt.savefig('./figures/gDep.pdf',format='pdf')\n",
    "plt.show()\n",
    "\n",
    "\n",
    "\n",
    "\n",
    "plt.figure()\n",
    "nRe = ReWavy[0,0,:].size\n",
    "\n",
    "#keArr = np.asarray([3,10,20,3,10,20,3,10,20]);kgArr = np.asarray([0,0,0,10,10,10,20,20,20])\n",
    "\"\"\"\n",
    "for k in range(keArr.size):\n",
    "    ke = keArr[k]; kg = kgArr[k]\n",
    "    plt.figure()\n",
    "    ax1=plt.scatter(ReWavy[ke,kg,:], ReWavy[ke,kg,:]*fricFac[ke,kg,:])\n",
    "    ax2,=plt.plot(ReWavy[ke,kg,:], np.mean(ReWavy[ke,kg,:]*fricFac[ke,kg,:])*np.ones(nRe))\n",
    "    ax3,=plt.plot(ReWavy[ke,kg,:], 24.*np.ones(nRe),linestyle='--')\n",
    "    plt.legend([ax1,ax2,ax3], ['computed', 'mean','flatWall'], loc=2)\n",
    "    #plt.xlabel('ReBulk'); plt.ylabel('fricFac*ReBulk')\n",
    "    plt.xlabel('Re'); plt.ylabel('$\\bar{\\phi}$')\n",
    "    plt.ylim([23.,29.])\n",
    "    #plt.title('fricFac*ReBulk for Amplitude:'+str(round(2.*epsArr[ke,0,0],4))+', Slope:'+str(2.*gArr[0,kg,0]) )\n",
    "    plt.title('$\\bar{\\phi}$ for Amplitude:'+str(round(2.*epsArr[ke,0,0],4))+', Slope:'+str(2.*gArr[0,kg,0]) )\n",
    "    plt.savefig(printFolder+'linReg'+str(k)+'.pdf', format='pdf')\n",
    "\"\"\"\n",
    "keArr = np.asarray([3,11,20]);kgArr = np.asarray([0,10,20])\n",
    "markers = ['x','+','^']\n",
    "for k in range(kgArr.size):\n",
    "    kg = kgArr[k]\n",
    "    fig = plt.figure(figsize=(7,5))\n",
    "    ax0 = fig.add_subplot(111)\n",
    "    ax1=ax0.scatter(ReWavy[keArr[0],kg,:], ReWavy[keArr[0],kg,:]*fricFac[keArr[0],kg,:], marker=markers[0],color='b')\n",
    "    ax2=ax0.scatter(ReWavy[keArr[1],kg,:], ReWavy[keArr[1],kg,:]*fricFac[keArr[1],kg,:], marker=markers[1],color='g')\n",
    "    ax3=ax0.scatter(ReWavy[keArr[2],kg,:], ReWavy[keArr[2],kg,:]*fricFac[keArr[2],kg,:], marker=markers[2],color='r')\n",
    "    #ax2,=plt.plot(ReWavy[ke,kg,:], np.mean(ReWavy[ke,kg,:]*fricFac[ke,kg,:])*np.ones(nRe))\n",
    "    ax4,=ax0.plot(ReWavy[keArr[0],kg,:], 24.*np.ones(nRe),linestyle='--',color='k')\n",
    "    plt.legend([ax1,ax2,ax3,ax4], \\\n",
    "               ['Amp:'+str(round(2.*epsArr[keArr[0],0,0],4)),\\\n",
    "                'Amp:'+str(round(2.*epsArr[keArr[1],0,0],4)),\\\n",
    "                'Amp:'+str(round(2.*epsArr[keArr[2],0,0],4)),\\\n",
    "                'flat'], loc=2)\n",
    "    #plt.xlabel('ReBulk'); plt.ylabel('fricFac*ReBulk')\n",
    "    plt.xlabel('Re'); plt.ylabel('phi')\n",
    "    plt.ylim([23.,30.])\n",
    "    #plt.title('fricFac*ReBulk for Amplitude:'+str(round(2.*epsArr[ke,0,0],4))+', Slope:'+str(2.*gArr[0,kg,0]) )\n",
    "    plt.title('$\\\\bar{\\\\phi}$ for Slope:'+str(2.*gArr[0,kg,0]) )\n",
    "    plt.savefig(printFolder+'linReg'+str(k)+'.pdf', format='pdf')\n",
    "\n",
    "\n"
   ]
  },
  {
   "cell_type": "code",
   "execution_count": null,
   "metadata": {
    "collapsed": false
   },
   "outputs": [],
   "source": [
    "plt.figure()\n",
    "plt.annotate('Slope',xy = (0.4,0.7),xycoords='axes fraction', \n",
    "             xytext=(0.7,0.1),textcoords='axes fraction',\n",
    "             arrowprops=dict(facecolor='black',shrink=0.0001,width=0.01),\n",
    "            horizontalalignment='left', verticalalignment='top',fontsize=12)\n",
    "keArr=[0,1,2,3,4,6,8,11,14,18,23]\n",
    "for k in keArr:\n",
    "    #plt.scatter(np.log10(2.*gArr[k,:,0]),np.log10(meanProd[k,:]-24.), color=lArr[k])\n",
    "    #plt.scatter(2.*epsArr[:,k,0],(meanProd[:,k]-24.), color=lArr[k])\n",
    "    plt.plot(2.*epsArr[:,k,0],(meanProd[:,k]))#, marker=symArr[k])\n",
    "plt.title('$\\\\bar{\\\\phi}$-dependence on Amplitude',fontsize=18)\n",
    "plt.xlabel('Amplitude',fontsize=15)\n",
    "plt.ylabel('$\\\\bar{\\\\phi}$',fontsize=25)\n",
    "plt.ylim([23.,43.])\n",
    "plt.savefig('./figures/epsDep.pdf',format='pdf')\n",
    "plt.show()\n",
    "\n",
    "kgArr=[0,5,10,14,17,19,21,22,23,24,25]\n",
    "plt.figure()\n",
    "plt.annotate('Amplitude',xy = (0.5,0.9),xycoords='axes fraction', \n",
    "             xytext=(0.5,0.05),textcoords='axes fraction',\n",
    "             arrowprops=dict(facecolor='black',shrink=0.0001,width=0.01),\n",
    "            horizontalalignment='left', verticalalignment='top',fontsize=12)\n",
    "for k in kgArr:\n",
    "    #plt.scatter(np.log10(2.*gArr[k,:,0]),np.log10(meanProd[k,:]-24.), color=lArr[k])\n",
    "    #plt.scatter(2.*gArr[k,4:,0],(meanProd[k,4:]-24.), color=lArr[k])\n",
    "    plt.plot(2.*gArr[k,4:,0],(meanProd[k,4:]))\n",
    "plt.title('$\\\\bar{\\\\phi}$-dependence on Slope',fontsize=18)\n",
    "plt.xlabel('Slope',fontsize=15)\n",
    "plt.ylabel('$\\\\bar{\\\\phi}$',fontsize=25)\n",
    "plt.ylim([23.,43.])\n",
    "plt.savefig('./figures/gDep.pdf',format='pdf')\n",
    "plt.show()\n"
   ]
  },
  {
   "cell_type": "code",
   "execution_count": null,
   "metadata": {
    "collapsed": false
   },
   "outputs": [],
   "source": [
    "plt.figure()\n",
    "lArr = np.random.rand(120).reshape(30,4)\n",
    "symArr = [\"o\",\"v\",\"s\",\"^\",\"*\",\"x\",\"+\"]\n",
    "symArr.extend(symArr);symArr.extend(symArr);\n",
    "printFolder = '/home/sabarish/Dropbox/reports/2015/transfer/figures/'\n",
    "'''\n",
    "for k in range(21):\n",
    "    #plt.scatter(np.log10(2.*gArr[k,:,0]),np.log10(meanProd[k,:]-24.), color=lArr[k])\n",
    "    plt.scatter(2.*gArr[k,:,0],(meanProd[k,:]-24.), color=lArr[k])\n",
    "plt.show()\n",
    "'''\n",
    "plt.figure()\n",
    "#ax = plt.subplot(111)\n",
    "#ax = plt.axes()\n",
    "plt.annotate('Slope',xy = (0.4,0.7),xycoords='axes fraction', \n",
    "             xytext=(0.7,0.1),textcoords='axes fraction',\n",
    "             arrowprops=dict(facecolor='black',shrink=0.0001,width=0.01),\n",
    "            horizontalalignment='left', verticalalignment='top',fontsize=12)\n",
    "keArr=[0,1,2,3,4,6,8,11,14,18,23]\n",
    "for k in keArr:\n",
    "    #plt.scatter(np.log10(2.*gArr[k,:,0]),np.log10(meanProd[k,:]-24.), color=lArr[k])\n",
    "    #plt.scatter(2.*epsArr[:,k,0],(meanProd[:,k]-24.), color=lArr[k])\n",
    "    plt.plot(2.*epsArr[:,k,0],(meanProd[:,k]))#, marker=symArr[k])\n",
    "#plt.title('Amplitude depencence of $\\\\bar{\\\\phi}$')\n",
    "plt.xlabel('Amplitude ($2 \\\\epsilon$)')\n",
    "plt.ylabel('$\\\\bar{\\\\phi}$')\n",
    "plt.ylim([23.,43.])\n",
    "plt.savefig(printFolder+'epsDep.pdf',format='pdf')\n",
    "plt.show()\n",
    "\n",
    "kgArr=[0,5,10,14,17,19,21,22,23,24,25]\n",
    "plt.figure()\n",
    "plt.annotate('Amplitude',xy = (0.5,0.9),xycoords='axes fraction', \n",
    "             xytext=(0.5,0.05),textcoords='axes fraction',\n",
    "             arrowprops=dict(facecolor='black',shrink=0.0001,width=0.01),\n",
    "            horizontalalignment='left', verticalalignment='top',fontsize=12)\n",
    "for k in kgArr:\n",
    "    #plt.scatter(np.log10(2.*gArr[k,:,0]),np.log10(meanProd[k,:]-24.), color=lArr[k])\n",
    "    #plt.scatter(2.*gArr[k,4:,0],(meanProd[k,4:]-24.), color=lArr[k])\n",
    "    plt.plot(2.*gArr[k,4:,0],(meanProd[k,4:]))\n",
    "#plt.title('Slope dependence of $\\\\bar{\\\\phi}$')\n",
    "plt.xlabel('Slope (2g)')\n",
    "plt.ylabel('$\\\\bar{\\\\phi}$')\n",
    "plt.ylim([23.,43.])\n",
    "plt.savefig(printFolder+'gDep.pdf',format='pdf')\n",
    "plt.show()\n",
    "\n",
    "\n",
    "\n",
    "\n",
    "plt.figure()\n",
    "nRe = ReWavy[0,0,:].size\n",
    "\n",
    "#keArr = np.asarray([3,10,20,3,10,20,3,10,20]);kgArr = np.asarray([0,0,0,10,10,10,20,20,20])\n",
    "\"\"\"\n",
    "for k in range(keArr.size):\n",
    "    ke = keArr[k]; kg = kgArr[k]\n",
    "    plt.figure()\n",
    "    ax1=plt.scatter(ReWavy[ke,kg,:], ReWavy[ke,kg,:]*fricFac[ke,kg,:])\n",
    "    ax2,=plt.plot(ReWavy[ke,kg,:], np.mean(ReWavy[ke,kg,:]*fricFac[ke,kg,:])*np.ones(nRe))\n",
    "    ax3,=plt.plot(ReWavy[ke,kg,:], 24.*np.ones(nRe),linestyle='--')\n",
    "    plt.legend([ax1,ax2,ax3], ['computed', 'mean','flatWall'], loc=2)\n",
    "    #plt.xlabel('ReBulk'); plt.ylabel('fricFac*ReBulk')\n",
    "    plt.xlabel('Re'); plt.ylabel('$\\bar{\\phi}$')\n",
    "    plt.ylim([23.,29.])\n",
    "    #plt.title('fricFac*ReBulk for Amplitude:'+str(round(2.*epsArr[ke,0,0],4))+', Slope:'+str(2.*gArr[0,kg,0]) )\n",
    "    plt.title('$\\bar{\\phi}$ for Amplitude:'+str(round(2.*epsArr[ke,0,0],4))+', Slope:'+str(2.*gArr[0,kg,0]) )\n",
    "    plt.savefig(printFolder+'linReg'+str(k)+'.pdf', format='pdf')\n",
    "\"\"\"\n",
    "keArr = np.asarray([3,11,20]);kgArr = np.asarray([0,10,20])\n",
    "markers = ['x','+','^']\n",
    "for k in range(kgArr.size):\n",
    "    kg = kgArr[k]\n",
    "    fig = plt.figure(figsize=(7,5))\n",
    "    ax0 = fig.add_subplot(111)\n",
    "    ax1=ax0.scatter(ReWavy[keArr[0],kg,:], ReWavy[keArr[0],kg,:]*fricFac[keArr[0],kg,:], marker=markers[0],color='b')\n",
    "    ax2=ax0.scatter(ReWavy[keArr[1],kg,:], ReWavy[keArr[1],kg,:]*fricFac[keArr[1],kg,:], marker=markers[1],color='g')\n",
    "    ax3=ax0.scatter(ReWavy[keArr[2],kg,:], ReWavy[keArr[2],kg,:]*fricFac[keArr[2],kg,:], marker=markers[2],color='r')\n",
    "    #ax2,=plt.plot(ReWavy[ke,kg,:], np.mean(ReWavy[ke,kg,:]*fricFac[ke,kg,:])*np.ones(nRe))\n",
    "    ax4,=ax0.plot(ReWavy[keArr[0],kg,:], 24.*np.ones(nRe),linestyle='--',color='k')\n",
    "    plt.legend([ax1,ax2,ax3,ax4], \\\n",
    "               ['Amp:'+str(round(2.*epsArr[keArr[0],0,0],4)),\\\n",
    "                'Amp:'+str(round(2.*epsArr[keArr[1],0,0],4)),\\\n",
    "                'Amp:'+str(round(2.*epsArr[keArr[2],0,0],4)),\\\n",
    "                'flat'], loc=2)\n",
    "    #plt.xlabel('ReBulk'); plt.ylabel('fricFac*ReBulk')\n",
    "    plt.xlabel('Re'); plt.ylabel('$\\\\phi$')\n",
    "    plt.ylim([23.,30.])\n",
    "    #plt.title('fricFac*ReBulk for Amplitude:'+str(round(2.*epsArr[ke,0,0],4))+', Slope:'+str(2.*gArr[0,kg,0]) )\n",
    "    #plt.title('Re-variation of $\\\\phi$, for Slope:'+str(2.*gArr[0,kg,0]) )\n",
    "    plt.savefig(printFolder+'linReg'+str(k)+'.pdf', format='pdf')\n",
    "\n",
    "\n"
   ]
  },
  {
   "cell_type": "code",
   "execution_count": null,
   "metadata": {
    "collapsed": false
   },
   "outputs": [],
   "source": [
    "from scipy.optimize import leastsq\n",
    "\n",
    "meanData = meanProd[:, 4:]\n",
    "epsVec2 = 2.*epsArr[:,0,0]; gVec2 = 2.*gArr[0,4:,0]\n",
    "eps2d = 2.*epsArr[:,4:,0]; g2d = 2.*gArr[:,4:,0]\n",
    "\n",
    "\n",
    "\n",
    "eps1d = eps2d.reshape(eps2d.size); g1d = g2d.reshape(g2d.size)\n",
    "meanData1d = meanData.reshape(meanData.size)\n",
    "\n",
    "def __residuals(params,meanData1d,eps1d, g1d):\n",
    "    # Fitting meanData to  (a*tanh(b*g2d)+c)*eps2d +d*eps2d\n",
    "    # a = params[0]; b=params[1]; c=params[2]\n",
    "    #residual = 24+(params[0]*np.tanh(params[1]*g1d) + params[2])*eps1d + params[3]*eps1d**2  - meanData1d\n",
    "    \n",
    "    # Fitting meanData to 24 + [A*tanh(B*g1d) + 72-A]*eps1d + 144.*eps1d \n",
    "    residual = 24+(params[0]*np.tanh(params[1]*g1d) + 72.-params[0])*eps1d + (params[2]*np.tanh(params[3]*g1d) + 144.-params[2])*eps1d**2  - meanData1d\n",
    "    return residual\n",
    "\n",
    "#print(meanData.shape, eps2d.shape, g2d.shape)\n",
    "#test = __residuals([70.,1.,10.], meanData, eps2d, g2d)\n",
    "#print(type(test),test.shape)\n",
    "pSol = leastsq(__residuals, np.array([50.,1.,150.,1.]), args=(meanData1d,eps1d,g1d))[0]\n",
    "\n",
    "plt.figure()\n",
    "plt.contourf(g2d, eps2d,  meanData, levels=np.arange(23.,43.,1.))\n",
    "plt.colorbar()\n",
    "plt.title('$\\\\bar{\\\\phi}$')\n",
    "plt.xlabel('Slope'); plt.ylabel('Amplitude')\n",
    "#plt.savefig('mean.pdf',format='pdf')\n",
    "#plt.yscale('log')\n",
    "plt.show()\n",
    "\n",
    "plt.figure()\n",
    "plt.contourf(g2d, eps2d, __residuals(pSol, meanData,eps2d,g2d)+meanData, levels=np.arange(23.,43.,1.0))\n",
    "plt.colorbar()\n",
    "plt.title('Model: $(A\\\\tanh(Bg) +72-A)\\epsilon + (C\\\\tanh(Dg) +144-C)\\epsilon^2$')\n",
    "plt.xlabel('Slope'); plt.ylabel('Amplitude')\n",
    "#plt.yscale('log')\n",
    "plt.savefig('./figures/model.pdf', format='pdf')\n",
    "plt.show()\n",
    "\n",
    "plt.figure()\n",
    "plt.contourf(g2d, eps2d, np.abs(__residuals(pSol, meanData,eps2d,g2d)), levels=np.arange(0.,0.5,0.01))\n",
    "plt.colorbar()\n",
    "plt.title('Error in $\\\\bar{\\\\phi}$')\n",
    "plt.xlabel('Slope'); plt.ylabel('Amplitude')\n",
    "#plt.yscale('log')\n",
    "plt.savefig('./figures/modelDiff.pdf', format='pdf')\n",
    "plt.show()\n",
    "\n",
    "plt.figure()\n",
    "plt.contourf(g2d, eps2d, np.abs(__residuals(pSol, meanData,eps2d,g2d)/meanData), levels=np.arange(0.,0.02,0.001))\n",
    "plt.colorbar()\n",
    "plt.title('Relative error in $\\\\bar{\\\\phi}$',fontsize=20)\n",
    "plt.xlabel('Slope',fontsize=15); plt.ylabel('Amplitude',fontsize=15)\n",
    "#plt.yscale('log')\n",
    "plt.savefig('./figures/modelRelDiff.pdf', format='pdf')\n",
    "plt.show()\n",
    "\n",
    "print('Model coefficients:a=%1.3f,b=%1.3f,c=%1.3f,d=%1.3f'%(pSol[0],pSol[1],pSol[2], pSol[3]) )\n",
    "\n"
   ]
  },
  {
   "cell_type": "code",
   "execution_count": null,
   "metadata": {
    "collapsed": false
   },
   "outputs": [],
   "source": [
    "# Printing to ascii for 3-d visualization in tec360:\n",
    "fricFac2d = fricFac[:,:]; ReWavy2d = ReWavy[:,:]\n",
    "ReWavy1d = ReWavy2d.reshape(ReWavy2d.size); fricFac1d = fricFac2d.reshape(fricFac2d.size)\n",
    "eps2d = 2.*epsArr; g2d = 2.*gArr\n",
    "eps1d = eps2d.reshape(eps2d.size); g1d = g2d.reshape(g2d.size)\n",
    "modelMean = ((pSol[0]*np.tanh(pSol[1]*g1d) + pSol[2])*eps1d + pSol[3]*eps1d**2)+24.\n",
    "modelFricFac = modelMean/ReWavy1d\n",
    "#modelFricFac = ((.*np.tanh(0.6*g1d) + 10.)*eps1d + 136.*eps1d**2)+24.\n",
    "fricFacDiff = np.abs(modelFricFac-fricFac1d)\n",
    "fricFacRelDiff = np.abs(modelFricFac-fricFac1d)/fricFac1d\n",
    "\n",
    "modelDiff = np.abs(modelFricFac - fricFac1d*ReWavy1d)\n",
    "modelDiffRelative = modelDiff/(fricFac1d*ReWavy1d-24.)\n",
    "\n",
    "printArr = np.concatenate((ReWavy1d, g1d, eps1d, fricFac1d, modelFricFac, fricFacDiff, fricFacRelDiff), axis=0)\n",
    "fName='./figures/modelFFv1'\n",
    "variables = 'VARIABLES = \"Re(bulk)\", \"Slope\", \"Amplitude\", \"fricFac\",\"fricFacModel\", \"fricFacError\", \"fricFacRelError\"\\n'\n",
    "zone = 'ZONE T=\"\", I='+str(ReWavy2d.shape[2])+', J='+str(ReWavy2d.shape[1])+', K='+str(ReWavy2d.shape[0])+', DATAPACKING=POINT \\n'\n",
    "title = 'TITLE= \"Product of friction factor and Reynolds number: computed and modeled\"\\n'\n",
    "hdr = title+variables+zone\n",
    "\n",
    "print(type(printArr),printArr.shape)\n",
    "np.savetxt(fName+'.dat',printArr.reshape(7,printArr.size//7).T, header=hdr,comments='')\n",
    "print('Printed data to file %s.dat'%fName)\n",
    "\n"
   ]
  },
  {
   "cell_type": "code",
   "execution_count": null,
   "metadata": {
    "collapsed": false
   },
   "outputs": [],
   "source": [
    "epsVec = epsArr[:-5,0,0]\n",
    "plt.plot(epsVec,aArr)\n",
    "plt.title('eps vs a: in mean = a*tanh(b*g) +c')\n",
    "plt.xlabel('eps'); plt.ylabel('a');plt.show()\n",
    "\n",
    "\n",
    "plt.figure()\n",
    "plt.plot(epsVec,bArr)\n",
    "plt.title('eps vs b in mean = a*tanh(b*g) +c')\n",
    "plt.xlabel('eps'); plt.ylabel('b');plt.show()\n",
    "\n",
    "plt.figure()\n",
    "plt.plot(epsVec,cArr)\n",
    "plt.title('eps vs c in mean = a*tanh(b*g) +c')\n",
    "plt.xlabel('eps'); plt.ylabel('c');plt.show()\n"
   ]
  },
  {
   "cell_type": "code",
   "execution_count": null,
   "metadata": {
    "collapsed": false
   },
   "outputs": [],
   "source": [
    "linFun = lambda xData,k: k*xData\n",
    "sqrtFun = lambda xData,k: k*np.sqrt(xData)\n",
    "\n",
    "aCoeff,pcov = curve_fit(linFun,epsVec, aArr, p0=100.)\n",
    "bCoeff,pcov = curve_fit(sqrtFun, epsVec,bArr)\n",
    "cCoeff,pcov = curve_fit(linFun, epsVec, cArr,p0=20.)\n",
    "\n",
    "print(aCoeff, bCoeff,cCoeff)"
   ]
  },
  {
   "cell_type": "code",
   "execution_count": null,
   "metadata": {
    "collapsed": false
   },
   "outputs": [],
   "source": [
    "epsArr2 = epsArr[:,:,0]; gArr2 = gArr[:,:,0]\n",
    "curveFitted = 24.+ cCoeff*epsArr2 + aCoeff*epsArr2*np.tanh(bCoeff*np.sqrt(epsArr2)*2.*gArr2)\n",
    "originalData = meanProd[:-5]\n",
    "\n",
    "plt.contourf(2.*gArr2, 4.*epsArr2,originalData-24.)\n",
    "plt.title('Original data (mean-24)')\n",
    "plt.xlabel('slope=2*g'); plt.ylabel('crest-trough amplitude = 4*eps')\n",
    "plt.colorbar(); plt.show()\n",
    "\n",
    "\n",
    "plt.figure()\n",
    "plt.contourf(2.*gArr2, 4.*epsArr2, curveFitted-24.)\n",
    "plt.title('Curve fitted data (mean-24)')\n",
    "plt.xlabel('slope=2*g'); plt.ylabel('crest-trough amplitude = 4*eps')\n",
    "plt.colorbar(); plt.show()\n",
    "\n",
    "plt.figure()\n",
    "plt.contourf(2.*gArr2, 2.*epsArr2, np.abs(curveFitted-originalData))\n",
    "plt.title('Error')\n",
    "plt.xlabel('Slope'); plt.ylabel('Amplitude')\n",
    "plt.colorbar(); plt.show()\n",
    "\n",
    "plt.figure()\n",
    "plt.contourf(2.*gArr2, 2.*epsArr2, np.abs(curveFitted-originalData)/originalData, levels = np.arange(0.,0.4,0.04))\n",
    "plt.clim([0.,0.2])\n",
    "plt.xlabel('Slope'); plt.ylabel('Amplitude')\n",
    "plt.title('Relative Error')\n",
    "plt.colorbar(); plt.show()\n"
   ]
  },
  {
   "cell_type": "markdown",
   "metadata": {
    "collapsed": false
   },
   "source": [
    "## FFT and Convolution of spectral coefficients for 1-D arrays\n"
   ]
  },
  {
   "cell_type": "code",
   "execution_count": 188,
   "metadata": {
    "collapsed": false
   },
   "outputs": [],
   "source": [
    "import scipy.signal as sig\n",
    "def fftMan(y,x): # Manual DFT\n",
    "    if y[-1]==y[0]: _y = y[:-1]; _x=x[:-1]\n",
    "    else: _y = y; _x = x\n",
    "    global alpha\n",
    "    N = _y.size//2\n",
    "    coeffs = np.zeros(2*N+1, dtype=np.complex)\n",
    "    for k in range(-N,N+1):\n",
    "        coeffs[N+k] = np.dot( _y,np.exp(-1.j*k*alpha*_x) )\n",
    "    \n",
    "    coeffs = coeffs/_y.size\n",
    "    \n",
    "    if norm(np.imag(y)) == 0.: return np.real(coeffs)\n",
    "    return coeffs\n",
    "    \n",
    "def ifftMan(y,x): # Manual inverseDFT\n",
    "    assert y.size//2 != 0.\n",
    "    _y = y\n",
    "        \n",
    "    global alpha\n",
    "    N = _y.size//2\n",
    "    phys = np.zeros(2*N,dtype=np.complex)\n",
    "    for k in range(-N,N+1):\n",
    "        phys += _y[N+k]*np.exp(1.j*k*alpha*x) \n",
    "    \n",
    "    return np.real(phys)\n",
    "\n",
    "def convMan(y1,y2): # convolution: pad zeros on both sides, do convolution, return middle part\n",
    "    # I'm supposing the convolution is on the spectral coeffs\n",
    "    N = y1.size//2\n",
    "    zArr = np.zeros(N,dtype=np.complex)\n",
    "    \n",
    "    res = np.zeros(y1.size+2*N, dtype=np.complex)\n",
    "    \n",
    "    for k1 in range(-N,N+1):\n",
    "        for k2 in range(-N,N+1):\n",
    "            res[2*N+k1+k2] += y1[N+k1] * y2[N+k2]\n",
    "    \n",
    "    return res[N:N+y1.size]\n",
    "\n",
    "def npfft(x):\n",
    "    assert x.size//2 != 0., \"Numpy's fft only works well on [0,2*pi), i.e., when 2*pi is not included\"\n",
    "    c = np.fft.fftshift(np.fft.fft(x))/x.size\n",
    "    c = np.append(c,np.conj(c[0]))\n",
    "    if norm(np.imag(c),2)/c.size<= 1.0e-14: return np.real(c)\n",
    "    return c\n",
    "\n",
    "def npifft(x):\n",
    "    assert x.size//2 != 0., \"Coefficient vector must have modes -N through +N, including +N\"\n",
    "    c = np.fft.ifft(np.fft.ifftshift(  x[:-1]*(x.size-1)    ))\n",
    "    assert norm(np.imag(c),2)/c.size<=1.0e-14, \"I only use real fields, so ifft should not have any imaginary parts\"\n",
    "    return np.real(c)\n",
    "\n",
    "def npconvolve(x,y):\n",
    "    return np.convolve(x,y,mode='same')\n",
    "\n",
    "def isZero(x):\n",
    "    return not (np.abs(x)>1.0e-14).any()\n",
    "\n"
   ]
  },
  {
   "cell_type": "code",
   "execution_count": 231,
   "metadata": {
    "collapsed": false
   },
   "outputs": [
    {
     "name": "stdout",
     "output_type": "stream",
     "text": [
      "Does npfft comply with convolution theorem, convolution in spectral?: True\n",
      "Does npfft match fftMan?: True\n",
      "Is ifftMan consistent with fftMan?: True\n"
     ]
    }
   ],
   "source": [
    "# Testing convolution theorem: convolve(F(y1),F(y2)) = F(y1*y2)\n",
    "N = 5; A = 2.; alpha = 3.; M = -1\n",
    "x = (np.arange(-N,N)+N)/N*np.pi/alpha # x goes from -pi/alpha to pi/alpha (pi/alpha not included)\n",
    "y1 = A*np.cos(M*alpha*x)\n",
    "y2 = 2.*A*np.cos((M+1)*alpha*x)\n",
    "\n",
    "c1 = npfft(y1)\n",
    "c2 = npfft(y2)\n",
    "\n",
    "#print(npfft(y1))\n",
    "print(\"Does npfft comply with convolution theorem, convolution in spectral?:\", isZero(npconvolve(npfft(y1),npfft(y2))-npfft(y1*y2))                  )\n",
    "print(\"Does npfft match fftMan?:\", isZero(fftMan(y1,x)-npfft(y1))                  )\n",
    "print(\"Is ifftMan consistent with fftMan?:\", isZero( ifftMan(fftMan(y1,x),x)-y1  ) )\n"
   ]
  },
  {
   "cell_type": "code",
   "execution_count": 190,
   "metadata": {
    "collapsed": false
   },
   "outputs": [
    {
     "data": {
      "text/plain": [
       "False"
      ]
     },
     "execution_count": 190,
     "metadata": {},
     "output_type": "execute_result"
    }
   ],
   "source": [
    "\n"
   ]
  },
  {
   "cell_type": "markdown",
   "metadata": {},
   "source": [
    "## Ensure npfft and npifft (both custom functions) are consistent with each other\n"
   ]
  },
  {
   "cell_type": "code",
   "execution_count": 116,
   "metadata": {
    "collapsed": false
   },
   "outputs": [
    {
     "name": "stdout",
     "output_type": "stream",
     "text": [
      "Are numpy's fft and ifft self-consistent?: True\n"
     ]
    }
   ],
   "source": [
    "# First, showing that numpy's routines are self-consistent\n",
    "print(\"Are numpy's fft and ifft self-consistent?:\",isZero(np.fft.ifft(np.fft.fft(y1)) - y1))\n",
    "\n",
    "# Now, let's see compare what ifftshift to two things:\n",
    "#   1. ifftshift(fftshift(np.fft.fft))\n",
    "#   2. ifftshift(npfft)   - This one is the function I wrote where I append\n",
    "#       the coefficient for mode +N as the complex conjugate of mode -N:\n",
    "c1 = npfft(y1)\n",
    "cp1 = np.fft.fftshift(np.fft.fft(y1))\n",
    "if False:\n",
    "    print(\"ifftshift on custom function:\",np.fft.ifftshift(c1))\n",
    "    print(\"ifft of custom function:\", np.real(np.fft.ifft(np.fft.ifftshift(c1*(c1.size)))))\n",
    "    print(\"ifft of numpy's fft:\", np.real(np.fft.ifft(np.fft.ifftshift(cp1))))\n",
    "    print(\"Original function y1:\",y1)\n",
    "    print(\"ifft of custom function, ignoring +N mode:\", np.real(np.fft.ifft(np.fft.ifftshift(c1[:-1]*(c1.size-1)))))\n",
    "\n",
    "    print(\"Are npfft and npifft consistent with each other?\", isZero(npifft(npfft(y1))-y1) and isZero( npifft(npfft(y2))-y2 )   )"
   ]
  },
  {
   "cell_type": "code",
   "execution_count": 143,
   "metadata": {
    "collapsed": false
   },
   "outputs": [
    {
     "name": "stdout",
     "output_type": "stream",
     "text": [
      "Comparing performance of np.convolve, scipy.signal.convolve, scipy.signal.fftconvolve, and my custom functions at N= 50\n",
      "****************** \n",
      " np.convolve:\n",
      "100000 loops, best of 3: 11.1 µs per loop\n",
      "****************** \n",
      " sig.convolve:\n",
      "10000 loops, best of 3: 151 µs per loop\n",
      "***************** \n",
      " sp.signal.fftconvolve:\n",
      "10000 loops, best of 3: 112 µs per loop\n",
      "***************** \n",
      " npfft and npifft:\n",
      "10000 loops, best of 3: 153 µs per loop\n",
      "\n",
      "\n",
      "Comparing performance of np.convolve, scipy.signal.convolve, scipy.signal.fftconvolve, and my custom functions at N= 500\n",
      "Do np.convolve and sp.fftconvolve give the same result?: True\n",
      "Do np.convolve and custom convolve give the same result?: True\n",
      "Do np.convolve and scipy.signal.convolve give the same result?: True\n",
      "****************** \n",
      " np.convolve:\n",
      "1000 loops, best of 3: 542 µs per loop\n",
      "****************** \n",
      " sig.convolve:\n",
      "100 loops, best of 3: 12.7 ms per loop\n",
      "***************** \n",
      " sp.signal.fftconvolve:\n",
      "1000 loops, best of 3: 239 µs per loop\n",
      "***************** \n",
      " npfft and npifft:\n",
      "1000 loops, best of 3: 249 µs per loop\n",
      "\n",
      "\n",
      "Comparing performance of np.convolve, scipy.signal.convolve, scipy.signal.fftconvolve, and my custom functions at N= 25000\n",
      "****************** \n",
      " np.convolve:\n",
      "1 loops, best of 3: 1.46 s per loop\n",
      "****************** \n",
      " sig.convolve:\n",
      "1 loops, best of 3: 31.6 s per loop\n",
      "***************** \n",
      " sp.signal.fftconvolve:\n",
      "100 loops, best of 3: 10.5 ms per loop\n",
      "***************** \n",
      " npfft and npifft:\n",
      "100 loops, best of 3: 7.05 ms per loop\n"
     ]
    }
   ],
   "source": [
    "# Checking if sp.fftconvolve gives the same results\n",
    "N = 50 \n",
    "x = (np.arange(-N,N)+0.5)/N*np.pi/alpha # x goes from -pi/alpha to pi/alpha (pi/alpha not included)\n",
    "y1 = A*np.cos(M*alpha*x)\n",
    "y2 = 2.*A*np.cos((M+1)*alpha*x)\n",
    "c1 = npfft(y1)\n",
    "c2 = npfft(y2)\n",
    "\n",
    "print(\"Comparing performance of np.convolve, scipy.signal.convolve, scipy.signal.fftconvolve, and my custom functions at N=\",N)\n",
    "print(\"****************** \\n np.convolve:\")\n",
    "%timeit np.convolve(c1,c2,mode='same')\n",
    "print(\"****************** \\n sig.convolve:\")\n",
    "%timeit sig.convolve(c1,c2,mode='same')\n",
    "print(\"***************** \\n sp.signal.fftconvolve:\")\n",
    "%timeit sig.fftconvolve(c1,c2, mode='same')\n",
    "print(\"***************** \\n npfft and npifft:\")\n",
    "%timeit npfft(npifft(c1)*npifft(c2))\n",
    "\n",
    "\n",
    "N = 500 \n",
    "x = (np.arange(-N,N)+0.5)/N*np.pi/alpha # x goes from -pi/alpha to pi/alpha (pi/alpha not included)\n",
    "y1 = A*np.cos(M*alpha*x)\n",
    "y2 = 2.*A*np.cos((M+1)*alpha*x)\n",
    "c1 = npfft(y1)\n",
    "c2 = npfft(y2)\n",
    "\n",
    "print(\"\\n\\nComparing performance of np.convolve, scipy.signal.convolve, scipy.signal.fftconvolve, and my custom functions at N=\",N)\n",
    "print(\"Do np.convolve and sp.fftconvolve give the same result?:\", \n",
    "      isZero(np.convolve(c1,c2,mode='same')- sig.fftconvolve(c1,c2,mode='same'))  )\n",
    "print(\"Do np.convolve and custom convolve give the same result?:\", \n",
    "      isZero( np.convolve(c1,c2,mode='same')- npfft(npifft(c1)*npifft(c2)) )  )\n",
    "print(\"Do np.convolve and scipy.signal.convolve give the same result?:\", \n",
    "      isZero( np.convolve(c1,c2,mode='same')- sig.convolve(c1,c2,mode='same') )  )\n",
    "\n",
    "\n",
    "print(\"****************** \\n np.convolve:\")\n",
    "%timeit np.convolve(c1,c2,mode='same')\n",
    "print(\"****************** \\n sig.convolve:\")\n",
    "%timeit sig.convolve(c1,c2,mode='same')\n",
    "print(\"***************** \\n sp.signal.fftconvolve:\")\n",
    "%timeit sig.fftconvolve(c1,c2, mode='same')\n",
    "print(\"***************** \\n npfft and npifft:\")\n",
    "%timeit npfft(npifft(c1)*npifft(c2))\n",
    "\n",
    "\n",
    "N = 25000 \n",
    "x = (np.arange(-N,N)+0.5)/N*np.pi/alpha # x goes from -pi/alpha to pi/alpha (pi/alpha not included)\n",
    "y1 = A*np.cos(M*alpha*x)\n",
    "y2 = 2.*A*np.cos((M+1)*alpha*x)\n",
    "c1 = npfft(y1)\n",
    "c2 = npfft(y2)\n",
    "\n",
    "print(\"\\n\\nComparing performance of np.convolve, scipy.signal.convolve, scipy.signal.fftconvolve, and my custom functions at N=\",N)\n",
    "print(\"****************** \\n np.convolve:\")\n",
    "%timeit np.convolve(c1,c2,mode='same')\n",
    "print(\"****************** \\n sig.convolve:\")\n",
    "%timeit sig.convolve(c1,c2,mode='same')\n",
    "print(\"***************** \\n sp.signal.fftconvolve:\")\n",
    "%timeit sig.fftconvolve(c1,c2, mode='same')\n",
    "print(\"***************** \\n npfft and npifft:\")\n",
    "%timeit npfft(npifft(c1)*npifft(c2))\n"
   ]
  },
  {
   "cell_type": "markdown",
   "metadata": {},
   "source": [
    "## Figuring out how np.fft.fftn and np.fft.ifftn work"
   ]
  },
  {
   "cell_type": "code",
   "execution_count": 207,
   "metadata": {
    "collapsed": false
   },
   "outputs": [
    {
     "name": "stdout",
     "output_type": "stream",
     "text": [
      "(6, 6, 4)\n"
     ]
    }
   ],
   "source": [
    "Nx = 3; Nz = 3\n",
    "A = 2.; \n",
    "alpha = 3.; L = 2; beta= 1.5; M= 1\n",
    "#y = vF.y; \n",
    "y = np.array([-1.,-0.3,0.3,1.])\n",
    "y=y.reshape((1,1,y.size))\n",
    "x = (np.arange(-Nx,Nx)+Nx)/Nx*np.pi/alpha # x goes from -pi/alpha to pi/alpha (pi/alpha not included)\n",
    "z = (np.arange(-Nz,Nz)+Nz)/Nz*np.pi/beta\n",
    "x = x.reshape((x.size,1,1))\n",
    "z = z.reshape((1,z.size,1))\n",
    "\n",
    "f1 = A*np.cos(L*alpha*x + M*beta*z)*(1.-y**2)\n",
    "f2 = A*np.cos(alpha*x + 2*beta*z)*(1.-y**4)\n",
    "print(f1.shape)"
   ]
  },
  {
   "cell_type": "code",
   "execution_count": 210,
   "metadata": {
    "collapsed": false
   },
   "outputs": [
    {
     "data": {
      "text/plain": [
       "array([[ -3.21951121e-17,   1.00000000e+00,   5.93067855e-17,\n",
       "         -2.16893387e-16,  -1.69447959e-18],\n",
       "       [ -1.52503163e-17,   3.70352346e-17,  -6.60847038e-17,\n",
       "         -5.05910713e-17,   5.59178263e-17],\n",
       "       [ -2.71116734e-17,   2.16893387e-16,   3.38895917e-18,\n",
       "          2.71116734e-16,  -2.71116734e-17],\n",
       "       [  5.59178263e-17,  -9.92356119e-18,  -6.60847038e-17,\n",
       "         -3.63227549e-18,  -1.52503163e-17],\n",
       "       [ -1.69447959e-18,  -6.50680161e-16,   5.93067855e-17,\n",
       "          1.00000000e+00,  -3.21951121e-17]])"
      ]
     },
     "execution_count": 210,
     "metadata": {},
     "output_type": "execute_result"
    }
   ],
   "source": [
    "# The following code works\n",
    "cp1 = np.fft.fftn(f1,axes=[0,1])/f1.size*4\n",
    "c1 = np.fft.fftshift(cp1, axes=[0,1])\n",
    "c1 = c1[1:,1:]\n",
    "\n",
    "#np.real(np.fft.fftn(f1,axes=[0,1]))/f1.size\n",
    "np.real(c1[:,:,1]/(1.-0.3*0.3))"
   ]
  },
  {
   "cell_type": "code",
   "execution_count": 230,
   "metadata": {
    "collapsed": false
   },
   "outputs": [
    {
     "name": "stdout",
     "output_type": "stream",
     "text": [
      "The slowest run took 6.22 times longer than the fastest. This could mean that an intermediate result is being cached \n",
      "10000 loops, best of 3: 79.1 µs per loop\n"
     ]
    },
    {
     "data": {
      "text/plain": [
       "1.4981301733398643e-14"
      ]
     },
     "execution_count": 230,
     "metadata": {},
     "output_type": "execute_result"
    }
   ],
   "source": [
    "s1 = np.zeros((7,7,4), dtype=np.complex)\n",
    "s1[1,2] = A/2.\n",
    "s1[5,4] = A/2.\n",
    "s1[:] *= 1.-y**2\n",
    "\n",
    "s1 = s1[:-1,:-1]\n",
    "\n",
    "%timeit p1 = np.fft.ifftn(  np.fft.ifftshift(s1,axes=[0,1]), axes=[0,1] )*(s1.shape[0]*s1.shape[1])\n",
    "\n",
    "#c1[:,:,1], s1[1:,1:,1]\n",
    "isZero(p1- f1)\n",
    "norm((p1-f1).reshape(p1.size),2)"
   ]
  },
  {
   "cell_type": "markdown",
   "metadata": {},
   "source": [
    "## Convolution and FFT for 2-d arrays, Fourier-spectral on axis 0\n",
    "\n",
    "This is the intermediate step before I finally move to my flowField objects"
   ]
  },
  {
   "cell_type": "code",
   "execution_count": 232,
   "metadata": {
    "collapsed": true
   },
   "outputs": [],
   "source": [
    "def convMan(ff1,ff2):\n",
    "    \"\"\"Returns convolution of flowField instances ff1 and ff2 along x and z as a 3d numpy array\n",
    "    The assumption here is that they're both in spectral. \n",
    "    Convolution is computed by first doing an ifft of both arrays along axes given by argument axes,\n",
    "        the arrays in physical space are multiplied, and the result is then fft'd\n",
    "    I use numpy's fft, which is a bit unintuitive. I have to pad ff1 and ff2 before the ifft\"\"\"\n",
    "    assert (ff1.nd==1) and (ff2.nd==1)\n",
    "    # Padding with an extra wavenumber on both dimensions, this will be discarded later\n",
    "    _f1 = ff1.slice(L=ff1.nx//2+1, M=ff1.nz//2+1)\n",
    "    _f2 = ff2.slice(L=ff2.nx//2+1, M=ff2.nz//2+1)\n",
    "    \n",
    "    # Discarding the last positive modes, because numpy's fft doesn't like it if it was in there\n",
    "    _f1 = _f1.view4d().copyArray()\n",
    "    _f2 = _f2.view4d().copyArray()\n",
    "    _f1 = _f1[0,:-1,:-1,0]\n",
    "    _f2 = _f2[0,:-1,:-1,0]\n",
    "    \n",
    "    # Arranging modes in the order that numpy's fft likes, obtaining array in physical space\n",
    "    ph1 = np.fft.ifftn(  np.fft.ifftshift(_f1, axes=[0,1]), axes=[0,1]  )*(_f1.shape[0]*_f1.shape[1])\n",
    "    ph2 = np.fft.ifftn(  np.fft.ifftshift(_f2, axes=[0,1]), axes=[0,1]  )*(_f1.shape[0]*_f1.shape[1])\n",
    "    \n",
    "    # Convolution as product in physical space\n",
    "    prod = ph1*ph2\n",
    "    \n",
    "    # Convolution by fft'ing product, and then shifting to the ordering I like\n",
    "    conv = np.fft.fftshift(  np.fft.fftn(prod,axes=[0,1]), axes=[0,1] )/(_f1.shape[0]*_f1.shape[1])\n",
    "    \n",
    "    # Removing the last negative mode, which I only padded in.\n",
    "    conv = conv[1:,1:]\n",
    "    \n",
    "    return conv      "
   ]
  },
  {
   "cell_type": "code",
   "execution_count": 233,
   "metadata": {
    "collapsed": false
   },
   "outputs": [
    {
     "name": "stdout",
     "output_type": "stream",
     "text": [
      "1 loops, best of 3: 5.29 s per loop\n",
      "10 loops, best of 3: 20.1 ms per loop\n",
      "0.029560711972722295 8.267480741151165e-12\n"
     ]
    }
   ],
   "source": [
    "#vF = mapData2ff(eps=0.01, g=0.8, Re=100., theta=0)[0]\n",
    "vF = vf.copy()\n",
    "#vF[:,:,:,1:] = 0.\n",
    "u = vF.getScalar(); v=vF.getScalar(nd=1); w=vF.getScalar(nd=2)\n",
    "\n",
    "%timeit vF.convNL().getScalar().view4d().copyArray()\n",
    "convClassArr = vF.convNL().getScalar().view4d().copyArray()\n",
    "convClassArr = convClassArr[0,:,:,0]\n",
    "\n",
    "%timeit convMan(u,u.ddx())\n",
    "convCustom = convMan(u,u.ddx()) + convMan(v,u.ddy()) + convMan(w,u.ddz())       \n",
    "    \n",
    "diff = convClassArr - convCustom\n",
    "print(norm(convCustom.reshape(convCustom.size)), norm(diff.reshape(diff.size)))"
   ]
  },
  {
   "cell_type": "code",
   "execution_count": 6,
   "metadata": {
    "collapsed": false
   },
   "outputs": [
    {
     "name": "stdout",
     "output_type": "stream",
     "text": [
      "0.33258962631225586\n",
      "5.9157936573028564\n"
     ]
    }
   ],
   "source": [
    "#(vf.convNL(fft=False) - vf.convNL()).norm()\n",
    "start = time.time()\n",
    "conv1= vf.convNL()\n",
    "stop = time.time()\n",
    "print(stop-start)\n",
    "conv2 = vf.convNL(fft=False)\n",
    "print(time.time()-stop)\n"
   ]
  },
  {
   "cell_type": "code",
   "execution_count": 8,
   "metadata": {
    "collapsed": false
   },
   "outputs": [
    {
     "data": {
      "text/plain": [
       "True"
      ]
     },
     "execution_count": 8,
     "metadata": {},
     "output_type": "execute_result"
    }
   ],
   "source": [
    "Y = np.append(y1.reshape((y1.size,1)),y2.reshape((y2.size,1)),axis=1)\n",
    "C = npfft2d(Y)\n",
    "\n",
    "isZero(npconvolve2d(C,C) - npfft2d(Y*Y))"
   ]
  },
  {
   "cell_type": "code",
   "execution_count": 17,
   "metadata": {
    "collapsed": false
   },
   "outputs": [
    {
     "name": "stdout",
     "output_type": "stream",
     "text": [
      "[[ 0  0  0  0  0  0  0]\n",
      " [ 0  1  2  3 -3 -2 -1]\n",
      " [ 0  2  4  6 -6 -4 -2]\n",
      " [ 0  3  6  9 -9 -6 -3]\n",
      " [ 0 -3 -6 -9  9  6  3]\n",
      " [ 0 -2 -4 -6  6  4  2]\n",
      " [ 0 -1 -2 -3  3  2  1]]\n"
     ]
    },
    {
     "data": {
      "text/plain": [
       "array([[ 9,  6,  3,  0, -3, -6, -9],\n",
       "       [ 6,  4,  2,  0, -2, -4, -6],\n",
       "       [ 3,  2,  1,  0, -1, -2, -3],\n",
       "       [ 0,  0,  0,  0,  0,  0,  0],\n",
       "       [-3, -2, -1,  0,  1,  2,  3],\n",
       "       [-6, -4, -2,  0,  2,  4,  6],\n",
       "       [-9, -6, -3,  0,  3,  6,  9]])"
      ]
     },
     "execution_count": 17,
     "metadata": {},
     "output_type": "execute_result"
    }
   ],
   "source": [
    "arr = np.array([0,1,2,3,-3,-2,-1]).reshape((7,1))\n",
    "arr = arr*arr.reshape((1,7))\n",
    "print(arr)\n",
    "np.fft.fftshift(arr, axes=[0,1])"
   ]
  },
  {
   "cell_type": "markdown",
   "metadata": {},
   "source": [
    "## Using scipy.signal.convolve2d (for each wall-normal node) to do the convolution\n"
   ]
  },
  {
   "cell_type": "code",
   "execution_count": 6,
   "metadata": {
    "collapsed": false
   },
   "outputs": [
    {
     "name": "stdout",
     "output_type": "stream",
     "text": [
      "1 loops, best of 3: 236 ms per loop\n",
      "(1, 47, 47, 1, 35)\n"
     ]
    },
    {
     "ename": "NameError",
     "evalue": "name 'sig' is not defined",
     "output_type": "error",
     "traceback": [
      "\u001b[1;31m---------------------------------------------------------------------------\u001b[0m",
      "\u001b[1;31mNameError\u001b[0m                                 Traceback (most recent call last)",
      "\u001b[1;32m<ipython-input-6-4a7cbac87588>\u001b[0m in \u001b[0;36m<module>\u001b[1;34m()\u001b[0m\n\u001b[0;32m     14\u001b[0m \u001b[1;33m\u001b[0m\u001b[0m\n\u001b[0;32m     15\u001b[0m \u001b[0mconvConvolve\u001b[0m \u001b[1;33m=\u001b[0m \u001b[0muArr\u001b[0m\u001b[1;33m.\u001b[0m\u001b[0mcopy\u001b[0m\u001b[1;33m(\u001b[0m\u001b[1;33m)\u001b[0m\u001b[1;33m;\u001b[0m\u001b[1;33m\u001b[0m\u001b[0m\n\u001b[1;32m---> 16\u001b[1;33m \u001b[0mget_ipython\u001b[0m\u001b[1;33m(\u001b[0m\u001b[1;33m)\u001b[0m\u001b[1;33m.\u001b[0m\u001b[0mmagic\u001b[0m\u001b[1;33m(\u001b[0m\u001b[1;34m\"timeit [sig.convolve2d(uArr[:,:,k],duArr[:,:,k],mode='same') for k in range(vF.N)]\"\u001b[0m\u001b[1;33m)\u001b[0m\u001b[1;33m\u001b[0m\u001b[0m\n\u001b[0m\u001b[0;32m     17\u001b[0m \u001b[1;33m\u001b[0m\u001b[0m\n\u001b[0;32m     18\u001b[0m \u001b[0mget_ipython\u001b[0m\u001b[1;33m(\u001b[0m\u001b[1;33m)\u001b[0m\u001b[1;33m.\u001b[0m\u001b[0mmagic\u001b[0m\u001b[1;33m(\u001b[0m\u001b[1;34m'timeit sig.convolve2d(uArr[:,:,5],duArr[:,:,5])'\u001b[0m\u001b[1;33m)\u001b[0m\u001b[1;33m\u001b[0m\u001b[0m\n",
      "\u001b[1;32m/usr/local/lib/python3.4/dist-packages/IPython/core/interactiveshell.py\u001b[0m in \u001b[0;36mmagic\u001b[1;34m(self, arg_s)\u001b[0m\n\u001b[0;32m   2305\u001b[0m         \u001b[0mmagic_name\u001b[0m\u001b[1;33m,\u001b[0m \u001b[0m_\u001b[0m\u001b[1;33m,\u001b[0m \u001b[0mmagic_arg_s\u001b[0m \u001b[1;33m=\u001b[0m \u001b[0marg_s\u001b[0m\u001b[1;33m.\u001b[0m\u001b[0mpartition\u001b[0m\u001b[1;33m(\u001b[0m\u001b[1;34m' '\u001b[0m\u001b[1;33m)\u001b[0m\u001b[1;33m\u001b[0m\u001b[0m\n\u001b[0;32m   2306\u001b[0m         \u001b[0mmagic_name\u001b[0m \u001b[1;33m=\u001b[0m \u001b[0mmagic_name\u001b[0m\u001b[1;33m.\u001b[0m\u001b[0mlstrip\u001b[0m\u001b[1;33m(\u001b[0m\u001b[0mprefilter\u001b[0m\u001b[1;33m.\u001b[0m\u001b[0mESC_MAGIC\u001b[0m\u001b[1;33m)\u001b[0m\u001b[1;33m\u001b[0m\u001b[0m\n\u001b[1;32m-> 2307\u001b[1;33m         \u001b[1;32mreturn\u001b[0m \u001b[0mself\u001b[0m\u001b[1;33m.\u001b[0m\u001b[0mrun_line_magic\u001b[0m\u001b[1;33m(\u001b[0m\u001b[0mmagic_name\u001b[0m\u001b[1;33m,\u001b[0m \u001b[0mmagic_arg_s\u001b[0m\u001b[1;33m)\u001b[0m\u001b[1;33m\u001b[0m\u001b[0m\n\u001b[0m\u001b[0;32m   2308\u001b[0m \u001b[1;33m\u001b[0m\u001b[0m\n\u001b[0;32m   2309\u001b[0m     \u001b[1;31m#-------------------------------------------------------------------------\u001b[0m\u001b[1;33m\u001b[0m\u001b[1;33m\u001b[0m\u001b[0m\n",
      "\u001b[1;32m/usr/local/lib/python3.4/dist-packages/IPython/core/interactiveshell.py\u001b[0m in \u001b[0;36mrun_line_magic\u001b[1;34m(self, magic_name, line)\u001b[0m\n\u001b[0;32m   2226\u001b[0m                 \u001b[0mkwargs\u001b[0m\u001b[1;33m[\u001b[0m\u001b[1;34m'local_ns'\u001b[0m\u001b[1;33m]\u001b[0m \u001b[1;33m=\u001b[0m \u001b[0msys\u001b[0m\u001b[1;33m.\u001b[0m\u001b[0m_getframe\u001b[0m\u001b[1;33m(\u001b[0m\u001b[0mstack_depth\u001b[0m\u001b[1;33m)\u001b[0m\u001b[1;33m.\u001b[0m\u001b[0mf_locals\u001b[0m\u001b[1;33m\u001b[0m\u001b[0m\n\u001b[0;32m   2227\u001b[0m             \u001b[1;32mwith\u001b[0m \u001b[0mself\u001b[0m\u001b[1;33m.\u001b[0m\u001b[0mbuiltin_trap\u001b[0m\u001b[1;33m:\u001b[0m\u001b[1;33m\u001b[0m\u001b[0m\n\u001b[1;32m-> 2228\u001b[1;33m                 \u001b[0mresult\u001b[0m \u001b[1;33m=\u001b[0m \u001b[0mfn\u001b[0m\u001b[1;33m(\u001b[0m\u001b[1;33m*\u001b[0m\u001b[0margs\u001b[0m\u001b[1;33m,\u001b[0m\u001b[1;33m**\u001b[0m\u001b[0mkwargs\u001b[0m\u001b[1;33m)\u001b[0m\u001b[1;33m\u001b[0m\u001b[0m\n\u001b[0m\u001b[0;32m   2229\u001b[0m             \u001b[1;32mreturn\u001b[0m \u001b[0mresult\u001b[0m\u001b[1;33m\u001b[0m\u001b[0m\n\u001b[0;32m   2230\u001b[0m \u001b[1;33m\u001b[0m\u001b[0m\n",
      "\u001b[1;32m/usr/local/lib/python3.4/dist-packages/IPython/core/magics/execution.py\u001b[0m in \u001b[0;36mtimeit\u001b[1;34m(self, line, cell)\u001b[0m\n",
      "\u001b[1;32m/usr/local/lib/python3.4/dist-packages/IPython/core/magic.py\u001b[0m in \u001b[0;36m<lambda>\u001b[1;34m(f, *a, **k)\u001b[0m\n\u001b[0;32m    191\u001b[0m     \u001b[1;31m# but it's overkill for just that one bit of state.\u001b[0m\u001b[1;33m\u001b[0m\u001b[1;33m\u001b[0m\u001b[0m\n\u001b[0;32m    192\u001b[0m     \u001b[1;32mdef\u001b[0m \u001b[0mmagic_deco\u001b[0m\u001b[1;33m(\u001b[0m\u001b[0marg\u001b[0m\u001b[1;33m)\u001b[0m\u001b[1;33m:\u001b[0m\u001b[1;33m\u001b[0m\u001b[0m\n\u001b[1;32m--> 193\u001b[1;33m         \u001b[0mcall\u001b[0m \u001b[1;33m=\u001b[0m \u001b[1;32mlambda\u001b[0m \u001b[0mf\u001b[0m\u001b[1;33m,\u001b[0m \u001b[1;33m*\u001b[0m\u001b[0ma\u001b[0m\u001b[1;33m,\u001b[0m \u001b[1;33m**\u001b[0m\u001b[0mk\u001b[0m\u001b[1;33m:\u001b[0m \u001b[0mf\u001b[0m\u001b[1;33m(\u001b[0m\u001b[1;33m*\u001b[0m\u001b[0ma\u001b[0m\u001b[1;33m,\u001b[0m \u001b[1;33m**\u001b[0m\u001b[0mk\u001b[0m\u001b[1;33m)\u001b[0m\u001b[1;33m\u001b[0m\u001b[0m\n\u001b[0m\u001b[0;32m    194\u001b[0m \u001b[1;33m\u001b[0m\u001b[0m\n\u001b[0;32m    195\u001b[0m         \u001b[1;32mif\u001b[0m \u001b[0mcallable\u001b[0m\u001b[1;33m(\u001b[0m\u001b[0marg\u001b[0m\u001b[1;33m)\u001b[0m\u001b[1;33m:\u001b[0m\u001b[1;33m\u001b[0m\u001b[0m\n",
      "\u001b[1;32m/usr/local/lib/python3.4/dist-packages/IPython/core/magics/execution.py\u001b[0m in \u001b[0;36mtimeit\u001b[1;34m(self, line, cell)\u001b[0m\n\u001b[0;32m   1034\u001b[0m             \u001b[0mnumber\u001b[0m \u001b[1;33m=\u001b[0m \u001b[1;36m1\u001b[0m\u001b[1;33m\u001b[0m\u001b[0m\n\u001b[0;32m   1035\u001b[0m             \u001b[1;32mfor\u001b[0m \u001b[0m_\u001b[0m \u001b[1;32min\u001b[0m \u001b[0mrange\u001b[0m\u001b[1;33m(\u001b[0m\u001b[1;36m1\u001b[0m\u001b[1;33m,\u001b[0m \u001b[1;36m10\u001b[0m\u001b[1;33m)\u001b[0m\u001b[1;33m:\u001b[0m\u001b[1;33m\u001b[0m\u001b[0m\n\u001b[1;32m-> 1036\u001b[1;33m                 \u001b[0mtime_number\u001b[0m \u001b[1;33m=\u001b[0m \u001b[0mtimer\u001b[0m\u001b[1;33m.\u001b[0m\u001b[0mtimeit\u001b[0m\u001b[1;33m(\u001b[0m\u001b[0mnumber\u001b[0m\u001b[1;33m)\u001b[0m\u001b[1;33m\u001b[0m\u001b[0m\n\u001b[0m\u001b[0;32m   1037\u001b[0m                 \u001b[0mworst_tuning\u001b[0m \u001b[1;33m=\u001b[0m \u001b[0mmax\u001b[0m\u001b[1;33m(\u001b[0m\u001b[0mworst_tuning\u001b[0m\u001b[1;33m,\u001b[0m \u001b[0mtime_number\u001b[0m \u001b[1;33m/\u001b[0m \u001b[0mnumber\u001b[0m\u001b[1;33m)\u001b[0m\u001b[1;33m\u001b[0m\u001b[0m\n\u001b[0;32m   1038\u001b[0m                 \u001b[1;32mif\u001b[0m \u001b[0mtime_number\u001b[0m \u001b[1;33m>=\u001b[0m \u001b[1;36m0.2\u001b[0m\u001b[1;33m:\u001b[0m\u001b[1;33m\u001b[0m\u001b[0m\n",
      "\u001b[1;32m/usr/local/lib/python3.4/dist-packages/IPython/core/magics/execution.py\u001b[0m in \u001b[0;36mtimeit\u001b[1;34m(self, number)\u001b[0m\n\u001b[0;32m    130\u001b[0m         \u001b[0mgc\u001b[0m\u001b[1;33m.\u001b[0m\u001b[0mdisable\u001b[0m\u001b[1;33m(\u001b[0m\u001b[1;33m)\u001b[0m\u001b[1;33m\u001b[0m\u001b[0m\n\u001b[0;32m    131\u001b[0m         \u001b[1;32mtry\u001b[0m\u001b[1;33m:\u001b[0m\u001b[1;33m\u001b[0m\u001b[0m\n\u001b[1;32m--> 132\u001b[1;33m             \u001b[0mtiming\u001b[0m \u001b[1;33m=\u001b[0m \u001b[0mself\u001b[0m\u001b[1;33m.\u001b[0m\u001b[0minner\u001b[0m\u001b[1;33m(\u001b[0m\u001b[0mit\u001b[0m\u001b[1;33m,\u001b[0m \u001b[0mself\u001b[0m\u001b[1;33m.\u001b[0m\u001b[0mtimer\u001b[0m\u001b[1;33m)\u001b[0m\u001b[1;33m\u001b[0m\u001b[0m\n\u001b[0m\u001b[0;32m    133\u001b[0m         \u001b[1;32mfinally\u001b[0m\u001b[1;33m:\u001b[0m\u001b[1;33m\u001b[0m\u001b[0m\n\u001b[0;32m    134\u001b[0m             \u001b[1;32mif\u001b[0m \u001b[0mgcold\u001b[0m\u001b[1;33m:\u001b[0m\u001b[1;33m\u001b[0m\u001b[0m\n",
      "\u001b[1;32m<magic-timeit>\u001b[0m in \u001b[0;36minner\u001b[1;34m(_it, _timer)\u001b[0m\n",
      "\u001b[1;32m<magic-timeit>\u001b[0m in \u001b[0;36m<listcomp>\u001b[1;34m(.0)\u001b[0m\n",
      "\u001b[1;31mNameError\u001b[0m: name 'sig' is not defined"
     ]
    }
   ],
   "source": [
    "#vF = mapData2ff(eps=0.02,g=0.8,Re=100.,theta=0)[0]\n",
    "vF = vf.copy()\n",
    "vF[:,:,:,1:] = 0.\n",
    "u = vF.getScalar()\n",
    "uArr = u.view4d().copyArray(); duArr = u.ddx().view4d().copyArray()\n",
    "\n",
    "uArr = uArr[0,:,:,0]; duArr = duArr[0,:,:,0]\n",
    "\n",
    "%timeit vF.convNL().getScalar().view4d().copyArray()\n",
    "convClassArr = vF.convNL().getScalar().view4d().copyArray()\n",
    "print(convClassArr.shape)\n",
    "convClassArr = convClassArr[0,:,:,0]\n",
    "\n",
    "        \n",
    "convConvolve = uArr.copy(); \n",
    "%timeit [sig.convolve2d(uArr[:,:,k],duArr[:,:,k],mode='same') for k in range(vF.N)] \n",
    "\n",
    "%timeit sig.convolve2d(uArr[:,:,5],duArr[:,:,5])\n",
    "\n",
    "for k in range(vF.N): \n",
    "    convConvolve[:,:,k] = sig.convolve2d(uArr[:,:,k],duArr[:,:,k],mode='same') \n",
    "    \n",
    "diff = convClassArr - convConvolve\n",
    "print(norm(convConvolve.reshape(convConvolve.size)), norm(diff.reshape(diff.size)))\n",
    "\n"
   ]
  },
  {
   "cell_type": "code",
   "execution_count": null,
   "metadata": {
    "collapsed": true
   },
   "outputs": [],
   "source": []
  },
  {
   "cell_type": "code",
   "execution_count": 149,
   "metadata": {
    "collapsed": false
   },
   "outputs": [
    {
     "name": "stdout",
     "output_type": "stream",
     "text": [
      "100 loops, best of 3: 3.97 ms per loop\n"
     ]
    }
   ],
   "source": [
    "%timeit vf.slice(L=vf.nx//2+1,M=vf.nz//2+1)"
   ]
  },
  {
   "cell_type": "code",
   "execution_count": null,
   "metadata": {
    "collapsed": true
   },
   "outputs": [],
   "source": []
  }
 ],
 "metadata": {
  "kernelspec": {
   "display_name": "Python 3",
   "language": "python",
   "name": "python3"
  },
  "language_info": {
   "codemirror_mode": {
    "name": "ipython",
    "version": 3
   },
   "file_extension": ".py",
   "mimetype": "text/x-python",
   "name": "python",
   "nbconvert_exporter": "python",
   "pygments_lexer": "ipython3",
   "version": "3.4.2"
  }
 },
 "nbformat": 4,
 "nbformat_minor": 0
}
