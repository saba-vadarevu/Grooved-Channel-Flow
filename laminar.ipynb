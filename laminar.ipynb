{
 "cells": [
  {
   "cell_type": "code",
   "execution_count": 1,
   "metadata": {
    "collapsed": true
   },
   "outputs": [],
   "source": [
    "%load_ext autoreload\n",
    "%autoreload 2"
   ]
  },
  {
   "cell_type": "code",
   "execution_count": 2,
   "metadata": {
    "collapsed": false
   },
   "outputs": [],
   "source": [
    "import numpy as np\n",
    "from flowFieldWavy import *\n",
    "from flowFieldArray import *\n",
    "from pseudo import *\n",
    "from laminar import *\n",
    "import time\n",
    "\n",
    "flowDict = getDefaultDict()\n",
    "flowDict.update({'eps':0.02,'alpha':20.,'beta':0.,'L':5,'M':0,'N':50,'nd':4, 'isPois':1})\n",
    "\n",
    "\n",
    "\n"
   ]
  },
  {
   "cell_type": "code",
   "execution_count": null,
   "metadata": {
    "collapsed": false
   },
   "outputs": [],
   "source": [
    "vf1, pf1, fnormArr, flg = iterate(flowDict=flowDict)"
   ]
  },
  {
   "cell_type": "code",
   "execution_count": null,
   "metadata": {
    "collapsed": false
   },
   "outputs": [],
   "source": [
    "vff = vf1.slice(L=vf1.nx//2+2); pff = pf1.slice(L=vf1.nx//2+2)\n",
    "#vff = vf1.copy(); pff=pf1.copy()\n",
    "vff.residuals(pField=pff).slice(L=vf1.nx//2).norm()"
   ]
  },
  {
   "cell_type": "code",
   "execution_count": null,
   "metadata": {
    "collapsed": false
   },
   "outputs": [],
   "source": [
    "vf = vf1.copy(); pf = pf1.copy()\n",
    "vff = vf.slice(L=vf.nx//2+2); pff = pf.slice(L=vf.nx//2+2)\n",
    "#vff.residuals(pField=pff).slice(L=vf1.nx//2).norm()\n",
    "res = vff.convNL() + pff.grad() - vff.laplacian()/vff.flowDict['Re']\n",
    "res = res.slice(L=vf.nx//2)\n",
    "res.view4d()[0,res.nx//2,0,0] += -2./res.flowDict['Re']\n",
    "res.norm(), vff.residuals(pField=pff).slice(L=vf.nx//2).norm()"
   ]
  },
  {
   "cell_type": "code",
   "execution_count": null,
   "metadata": {
    "collapsed": false
   },
   "outputs": [],
   "source": [
    "res[0,:,0,:,[0,-1]]=0.\n",
    "res.norm(), res.getScalar().norm(), res.getScalar(nd=1).norm()"
   ]
  },
  {
   "cell_type": "code",
   "execution_count": null,
   "metadata": {
    "collapsed": false
   },
   "outputs": [],
   "source": [
    "uRes = res.getScalar(); vRes = res.getScalar(nd=1)\n",
    "#uRes[0,:,0,0,[0,-1]]=0.\n",
    "uRes.norm(), vRes.norm()"
   ]
  },
  {
   "cell_type": "code",
   "execution_count": null,
   "metadata": {
    "collapsed": false
   },
   "outputs": [],
   "source": [
    "res = (vf1.convNL()+pf1.grad()-vf1.laplacian()/vf1.flowDict['Re'])\n",
    "res[0,res.nx//2,0,0] += -2./vf1.flowDict['Re']\n",
    "res.norm()"
   ]
  },
  {
   "cell_type": "code",
   "execution_count": null,
   "metadata": {
    "collapsed": true
   },
   "outputs": [],
   "source": []
  },
  {
   "cell_type": "code",
   "execution_count": null,
   "metadata": {
    "collapsed": false,
    "scrolled": true
   },
   "outputs": [],
   "source": [
    "vf2,pf2,fnormArr,flg = iterate(flowDict=vf1.flowDict,rect=True)"
   ]
  },
  {
   "cell_type": "code",
   "execution_count": null,
   "metadata": {
    "collapsed": true
   },
   "outputs": [],
   "source": []
  },
  {
   "cell_type": "code",
   "execution_count": 145,
   "metadata": {
    "collapsed": true
   },
   "outputs": [],
   "source": [
    "vf, pf, fnorm, flg = runMATLAB(N=flowDict['N'], n=flowDict['L'], Re=flowDict['Re'], eps=flowDict['eps'],g=flowDict['alpha']*flowDict['eps'])"
   ]
  },
  {
   "cell_type": "code",
   "execution_count": 146,
   "metadata": {
    "collapsed": true
   },
   "outputs": [],
   "source": [
    "saveff(vf,pf)"
   ]
  },
  {
   "cell_type": "code",
   "execution_count": 151,
   "metadata": {
    "collapsed": false
   },
   "outputs": [],
   "source": [
    "#vf0 = vf.copy(); pf0 = pf.copy()\n",
    "fName = dict2name(vf0.flowDict)+'.npy'\n",
    "vf,pf = loadff(fName)"
   ]
  },
  {
   "cell_type": "code",
   "execution_count": 153,
   "metadata": {
    "collapsed": false
   },
   "outputs": [
    {
     "data": {
      "text/plain": [
       "(0.0, 1.226247584280389, 0.0, 4.1253052773839274e-05)"
      ]
     },
     "execution_count": 153,
     "metadata": {},
     "output_type": "execute_result"
    }
   ],
   "source": [
    "(vf-vf0).norm(), vf.norm(), (pf-pf0).norm(),  vf.residuals(pField=pf).norm()"
   ]
  },
  {
   "cell_type": "code",
   "execution_count": 94,
   "metadata": {
    "collapsed": false
   },
   "outputs": [],
   "source": [
    "vf = dict2ff(flowDict); pf=vf.getScalar().zero()"
   ]
  },
  {
   "cell_type": "code",
   "execution_count": 95,
   "metadata": {
    "collapsed": false
   },
   "outputs": [],
   "source": [
    "J0, F0, fnorm0 = makeSystem(vf=vf,pf=pf,resNorm=True,rect=False)\n",
    "J1,F1,fnorm1 = makeSystem(vf=vf,pf=pf, resNorm=True,rect=True)\n",
    "norm=np.linalg.norm"
   ]
  },
  {
   "cell_type": "code",
   "execution_count": 48,
   "metadata": {
    "collapsed": false
   },
   "outputs": [
    {
     "data": {
      "text/plain": [
       "-1.3018962203847906e-06"
      ]
     },
     "execution_count": 48,
     "metadata": {},
     "output_type": "execute_result"
    }
   ],
   "source": [
    "fnorm0-fnorm1"
   ]
  },
  {
   "cell_type": "code",
   "execution_count": 136,
   "metadata": {
    "collapsed": false
   },
   "outputs": [],
   "source": [
    "N = flowDict['N']; N4 = 4*N; m = vf.nx\n",
    "#BCrows = N4*np.arange(m).reshape((m,1)) + np.array([0,N-1,N,2*N-1,2*N,3*N-1]).reshape((1,6))\n",
    "#BCrows = N4*(m//2)+ np.array([0,N-1,N,2*N-1,2*N,3*N-1]).reshape((1,6))\n",
    "BCrows = N4*np.array([0,m-1]).reshape((2,1)) + np.array([0,N-1,N,2*N-1]).reshape((1,4))\n",
    "BCrows = BCrows.flatten()\n",
    "#BCrows = np.append(BCrows,np.array([F1.size-1]))"
   ]
  },
  {
   "cell_type": "code",
   "execution_count": 137,
   "metadata": {
    "collapsed": false,
    "scrolled": true
   },
   "outputs": [],
   "source": [
    "F10 = np.delete(F1,BCrows)\n",
    "#F0.shape, F10.shape, norm(F0-F10)"
   ]
  },
  {
   "cell_type": "code",
   "execution_count": 138,
   "metadata": {
    "collapsed": false
   },
   "outputs": [],
   "source": [
    "J10 = np.delete(J1,BCrows,axis=0)\n",
    "#J0.shape,J10.shape, norm((J0-J10).flatten())"
   ]
  },
  {
   "cell_type": "code",
   "execution_count": 139,
   "metadata": {
    "collapsed": true
   },
   "outputs": [],
   "source": [
    "dx0,linRes0,r0,s0 = np.linalg.lstsq(J0,-F0,rcond=1.0e-9)\n",
    "dx1,linRes1,r1,s1 = np.linalg.lstsq(J1,-F1,rcond=1.0e-9)\n",
    "dx10,linRes10,r10,s10 = np.linalg.lstsq(J10,-F10,rcond=1.0e-9)"
   ]
  },
  {
   "cell_type": "code",
   "execution_count": 140,
   "metadata": {
    "collapsed": false
   },
   "outputs": [
    {
     "name": "stdout",
     "output_type": "stream",
     "text": [
      "[] [] [] 2198 2199 2199\n"
     ]
    },
    {
     "data": {
      "text/plain": [
       "(array([  5.57519857e-03,   7.62269956e-12,   7.18997732e-14]),\n",
       " array([  5.93364948e-03,   5.57519869e-03,   1.48674378e-11]),\n",
       " array([  5.93364948e-03,   5.57519867e-03,   1.47632948e-11]),\n",
       " 0.39446700298489357,\n",
       " 0.39446699435988802,\n",
       " 0.39446699403524144,\n",
       " 2.1012523901949997e-07,\n",
       " 2.080603832956102e-07)"
      ]
     },
     "execution_count": 140,
     "metadata": {},
     "output_type": "execute_result"
    }
   ],
   "source": [
    "print(linRes0,linRes1,linRes10, r0,r1,r10 )\n",
    "s0[-3:],s1[-3:],s10[-3:], norm(dx0),norm(dx1), norm(dx10), norm(dx0-dx1), norm(dx0-dx10)"
   ]
  },
  {
   "cell_type": "code",
   "execution_count": 141,
   "metadata": {
    "collapsed": false
   },
   "outputs": [
    {
     "data": {
      "text/plain": [
       "(7.8966613033780981e-14, 3.3401243795407183e-06, 3.0435489508285927e-06)"
      ]
     },
     "execution_count": 141,
     "metadata": {},
     "output_type": "execute_result"
    }
   ],
   "source": [
    "norm((np.dot(J0,dx0)+F0)), norm((np.dot(J1,dx1)+F1)), norm((np.dot(J10,dx10)+F10))"
   ]
  },
  {
   "cell_type": "code",
   "execution_count": 73,
   "metadata": {
    "collapsed": false
   },
   "outputs": [],
   "source": [
    "linResArr1 = (np.dot(J1,dx1)+F1)"
   ]
  },
  {
   "cell_type": "code",
   "execution_count": 79,
   "metadata": {
    "collapsed": false
   },
   "outputs": [],
   "source": [
    "nonZero = np.arange(F1.size)[np.abs(linResArr1)>5.0e-14]"
   ]
  },
  {
   "cell_type": "code",
   "execution_count": 91,
   "metadata": {
    "collapsed": false
   },
   "outputs": [
    {
     "data": {
      "text/plain": [
       "0.0"
      ]
     },
     "execution_count": 91,
     "metadata": {},
     "output_type": "execute_result"
    }
   ],
   "source": [
    "dx0t = dx0.reshape(vf.nx,4,vf.N)\n",
    "#dx0t[vf.nx//2,3] = 0.\n",
    "dx10t = dx10.reshape(vf.nx,4,vf.N)\n",
    "#dx10t[vf.nx//2,3] = 0.\n",
    "#norm(dx0t.flatten()-dx10t.flatten())\n",
    "norm(dx0t[vf.nx//2,3]-dx10t[vf.nx//2,3])"
   ]
  },
  {
   "cell_type": "code",
   "execution_count": 166,
   "metadata": {
    "collapsed": false
   },
   "outputs": [],
   "source": [
    "flowDict = getDefaultDict()\n",
    "flowDict.update({'eps':0.05,'alpha':20.,'beta':0.,'Re':100.,'L':8,'M':0,'N':50,'nd':4, 'isPois':1})"
   ]
  },
  {
   "cell_type": "code",
   "execution_count": null,
   "metadata": {
    "collapsed": false
   },
   "outputs": [],
   "source": [
    "gArr = 0.5*np.arange(0.125,3.125,0.125)\n",
    "vf = dict2ff(flowDict)\n",
    "pf = vf.getScalar().zero()\n",
    "start = time.time()\n",
    "for g in gArr:\n",
    "    start1 = time.time()\n",
    "    a = g/flowDict['eps']\n",
    "    vf.flowDict = updateDict(vf.flowDict,{'alpha':a})\n",
    "    pf.flowDict = updateDict(pf.flowDict,{'alpha':a})\n",
    "    vf,pf,fnormArr,flg = iterate(vf=vf, pf=pf,rect=False)\n",
    "    saveff(vf,pf)\n",
    "    print('g:',g, ' runtime:', time.time()-start1, ',  total time elapsed:',time.time()-start)\n",
    "    print('**********************************************************')"
   ]
  },
  {
   "cell_type": "code",
   "execution_count": 167,
   "metadata": {
    "collapsed": false
   },
   "outputs": [
    {
     "name": "stdout",
     "output_type": "stream",
     "text": [
      "Starting iterations...............\n",
      "Iterations have converged, Returning....................................\n",
      "g: 1.375  runtime: 222 ,  total time elapsed: 222\n",
      "Starting iterations...............\n",
      "Iterations have converged, Returning....................................\n",
      "g: 1.4375  runtime: 190 ,  total time elapsed: 412\n",
      "Starting iterations...............\n",
      "Iterations have converged, Returning....................................\n",
      "g: 1.5  runtime: 121 ,  total time elapsed: 533\n"
     ]
    }
   ],
   "source": [
    "tempDict = updateDict(flowDict.copy(),{'Re':100.})\n",
    "start = time.time()\n",
    "for g in gArr[-3:]:\n",
    "    start1 = time.time()\n",
    "    a = g/flowDict['eps']\n",
    "    tempDict.update({'alpha':a})\n",
    "    vf,pf = loadff(dict2name(tempDict))\n",
    "    vf.flowDict.update({'Re':10.}); pf.flowDict.update({'Re':10.})\n",
    "    vf,pf,fnormArr,flg = iterate(vf=vf, pf=pf,rect=False,tol=1.0e-13)\n",
    "    saveff(vf,pf)\n",
    "    print('runtime:', int(time.time()-start1), ',  total time elapsed:',int(time.time()-start))"
   ]
  },
  {
   "cell_type": "code",
   "execution_count": 164,
   "metadata": {
    "collapsed": false
   },
   "outputs": [
    {
     "data": {
      "text/plain": [
       "array([ 0.0625,  0.125 ,  0.1875,  0.25  ,  0.3125,  0.375 ,  0.4375,\n",
       "        0.5   ,  0.5625,  0.625 ,  0.6875,  0.75  ,  0.8125,  0.875 ,\n",
       "        0.9375,  1.    ,  1.0625,  1.125 ,  1.1875,  1.25  ,  1.3125,\n",
       "        1.375 ,  1.4375,  1.5   ])"
      ]
     },
     "execution_count": 164,
     "metadata": {},
     "output_type": "execute_result"
    }
   ],
   "source": [
    "gArr"
   ]
  },
  {
   "cell_type": "code",
   "execution_count": null,
   "metadata": {
    "collapsed": false
   },
   "outputs": [],
   "source": [
    "flowDict = getDefaultDict()\n",
    "Re = 10.\n",
    "flowDict.update({'eps':0.05,'alpha':20.,'beta':0.,'Re':Re,'L':8,'M':0,'N':50,'nd':4, 'isPois':1})\n",
    "\n",
    "epsArr = np.arange(0.025,0.0,-0.005)\n",
    "gArr = np.arange(0.05,1.55,0.05)\n",
    "\n",
    "\n",
    "flowDict.update({'eps':float(epsArr[0]),'alpha':float(gArr[0]/epsArr[0])})\n",
    "vf = dict2ff(flowDict)\n",
    "pf = vf.getScalar().zero()\n",
    "start = time.time()\n",
    "for k in range(epsArr.size):\n",
    "    eps = epsArr[k]\n",
    "    flowDict.update({'eps':float(eps)})\n",
    "    if k!=0:\n",
    "        vf = vfG0;  pf = pfG0\n",
    "    for g in gArr:\n",
    "        a = float(g)/flowDict['eps']\n",
    "        flowDict.update({'alpha':a})\n",
    "        \n",
    "        vf.flowDict=updateDict(flowDict,{'nd':3}); pf.flowDict = updateDict(flowDict,{'nd':1})\n",
    "        start1 = time.time()\n",
    "        print('eps:',eps,', g:',g, ', Re:',Re)\n",
    "        if g > gArr[0]:\n",
    "            vf[:] = vf[:] + dvf[:]; pf[:] = pf[:] + dpf[:]\n",
    "        else:\n",
    "            vfG0 = vf.copy(); pfG0 = pf.copy()\n",
    "        \n",
    "        vf0 = vf.copy(); pf0 = pf.copy()\n",
    "        vf,pf,fnormArr,flg = iterate(vf=vf0, pf=pf0,rect=False,tol=1.0e-13)\n",
    "        dvf = vf - vf0; dpf = pf - pf0\n",
    "        \n",
    "        saveff(vf,pf)\n",
    "        print('Runtime:', int(time.time()-start1), ',  total time elapsed:',int(time.time()-start))\n",
    "        print('**************************************')"
   ]
  },
  {
   "cell_type": "code",
   "execution_count": null,
   "metadata": {
    "collapsed": false
   },
   "outputs": [],
   "source": [
    "flowDict = getDefaultDict()\n",
    "Re = 100.\n",
    "flowDict.update({'eps':0.05,'alpha':20.,'beta':0.,'Re':Re,'L':8,'M':0,'N':50,'nd':4, 'isPois':1})\n",
    "\n",
    "epsArr = np.arange(0.005,0.102,0.005)\n",
    "gArr = np.arange(0.05,1.55,0.05)\n",
    "\n",
    "flowDict.update({'eps':np.float(epsArr[0]),'alpha':np.float(gArr[0]/epsArr[0])})\n",
    "vf = dict2ff(flowDict)\n",
    "pf = vf.getScalar().zero()\n",
    "start = time.time()\n",
    "for k in range(epsArr.size):\n",
    "    eps = epsArr[k]\n",
    "    flowDict.update({'eps':np.float(eps)})\n",
    "    if k!=0:\n",
    "        vf = vfG0;  pf = pfG0\n",
    "    for g in gArr:\n",
    "        a = g/flowDict['eps']\n",
    "        flowDict.update({'alpha':np.float(a)})\n",
    "        \n",
    "        vf.flowDict=updateDict(flowDict,{'nd':3}); pf.flowDict = updateDict(flowDict,{'nd':1})\n",
    "        start1 = time.time()\n",
    "        print('eps:',eps,', g:',g, ', Re:',Re)\n",
    "        if g > gArr[0]:\n",
    "            vf[:] = vf[:] + dvf[:]; pf[:] = pf[:] + dpf[:]\n",
    "        else:\n",
    "            vfG0 = vf.copy(); pfG0 = pf.copy()\n",
    "        \n",
    "        vf0 = vf.copy(); pf0 = pf.copy()\n",
    "        vf,pf,fnormArr,flg = iterate(vf=vf0, pf=pf0,rect=False,tol=1.0e-13)\n",
    "        dvf = vf - vf0; dpf = pf - pf0\n",
    "        \n",
    "        saveff(vf,pf)\n",
    "        print('Runtime:', int(time.time()-start1), ',  total time elapsed:',int(time.time()-start))\n",
    "        print('**************************************')"
   ]
  },
  {
   "cell_type": "code",
   "execution_count": null,
   "metadata": {
    "collapsed": false
   },
   "outputs": [],
   "source": [
    "flowDict = getDefaultDict()\n",
    "Re = 100.\n",
    "flowDict.update({'eps':0.05,'alpha':20.,'beta':0.,'Re':Re,'L':8,'M':0,'N':50,'nd':4, 'isPois':1})\n",
    "\n",
    "epsArr = np.arange(0.005,0.102,0.005)\n",
    "gArr = np.arange(0.05,1.55,0.05)\n",
    "\n",
    "flowDict.update({'eps':np.float(epsArr[0]),'alpha':np.float(gArr[0]/epsArr[0])})\n",
    "vf = dict2ff(flowDict)\n",
    "pf = vf.getScalar().zero()\n",
    "start = time.time()\n",
    "for k in range(epsArr.size):\n",
    "    eps = epsArr[k]\n",
    "    flowDict.update({'eps':np.float(eps)})\n",
    "    for g in gArr:\n",
    "        a = g/flowDict['eps']\n",
    "        flowDict.update({'alpha':np.float(a)})\n",
    "        \n",
    "        vf,pf = loadff(dict2name(updateDict(flowDict,{'Re':10.})))\n",
    "        vf.flowDict.update({'Re':Re}); pf.flowDict.update({'Re':Re})\n",
    "        start1 = time.time()\n",
    "        print('eps:',eps,', g:',g, ', Re:',Re)\n",
    "        \n",
    "        vf,pf,fnormArr,flg = iterate(vf=vf, pf=pf,rect=False,tol=1.0e-13)\n",
    "        \n",
    "        saveff(vf,pf)\n",
    "        print('Runtime:', int(time.time()-start1), ',  total time elapsed:',int(time.time()-start))\n",
    "        print('**************************************')"
   ]
  },
  {
   "cell_type": "code",
   "execution_count": null,
   "metadata": {
    "collapsed": false
   },
   "outputs": [],
   "source": [
    "flowDict = getDefaultDict()\n",
    "Re = 10.\n",
    "flowDict.update({'eps':0.005,'alpha':20.,'beta':0.,'Re':Re,'L':8,'M':0,'N':50,'nd':4, 'isPois':1})\n",
    "g = 0.1; flowDict.update({'alpha':float(0.005/g)})\n",
    "vf,pf = loadff(dict2name(flowDict))"
   ]
  },
  {
   "cell_type": "code",
   "execution_count": 5,
   "metadata": {
    "collapsed": false
   },
   "outputs": [
    {
     "name": "stdout",
     "output_type": "stream",
     "text": [
      "0750 0.075 <class 'numpy.float64'>\n",
      "0699 0.07 <class 'numpy.float64'>\n"
     ]
    }
   ],
   "source": [
    "epsArr = np.arange(0.075,0.05,-0.005)\n",
    "\n",
    "start = time.time()\n",
    "for k in range(2):\n",
    "    eps = epsArr[k]\n",
    "    flowDict.update({'eps':eps})\n",
    "    print('%04d' %(int(eps*1.0e04)), flowDict['eps'], type(flowDict['eps']))"
   ]
  },
  {
   "cell_type": "code",
   "execution_count": 17,
   "metadata": {
    "collapsed": false
   },
   "outputs": [],
   "source": [
    "import os \n",
    "files= [f for f in os.listdir('./solutions/Re100/')]\n",
    "files.sort()\n"
   ]
  },
  {
   "cell_type": "code",
   "execution_count": null,
   "metadata": {
    "collapsed": false
   },
   "outputs": [],
   "source": [
    "loadPath = 'solutions/Re100/'\n",
    "savePath = 'solutions/Re1000/'\n",
    "start = time.time()\n",
    "for f in files[-180:]:\n",
    "    start1 = time.time()\n",
    "    vf,pf = loadff(loadPath+f)\n",
    "    vf.flowDict.update({'Re':1000.}); pf.flowDict.update({'Re':1000.})\n",
    "    print('2*eps:',2.*vf.flowDict['eps'], ' 2*g:', 2.*vf.flowDict['eps']*vf.flowDict['alpha'])\n",
    "    vf,pf,fnormArr,flg = iterate(vf=vf, pf=pf,rect=False,tol=1.0e-13)\n",
    "    saveff(vf,pf,prefix=savePath)\n",
    "    print('Runtime:', int(time.time()-start1), ',  total time elapsed:',int(time.time()-start))\n",
    "    print('**************************************')\n",
    "\n",
    "    \n",
    "    \n",
    "    "
   ]
  },
  {
   "cell_type": "code",
   "execution_count": null,
   "metadata": {
    "collapsed": true
   },
   "outputs": [],
   "source": [
    "neps = 15; ng = 30; nRe = 1\n",
    "vArr = flowFieldArray(vList,neps,ng,nRe); pArr = flowFieldArray(pList,neps,ng,nRe)\n"
   ]
  },
  {
   "cell_type": "code",
   "execution_count": 16,
   "metadata": {
    "collapsed": false
   },
   "outputs": [],
   "source": [
    "pDrag = np.zeros(pArr.shape)\n",
    "for k1 in range(neps):\n",
    "    for k2 in range(ng):\n",
    "        pf = pArr[k1,k2,0].field\n",
    "        pDrag[k1,k2,0] = presDrag(pf)[0]\n",
    "        "
   ]
  },
  {
   "cell_type": "code",
   "execution_count": 23,
   "metadata": {
    "collapsed": false
   },
   "outputs": [
    {
     "data": {
      "text/plain": [
       "array([ 0.79459179,  0.71628525,  0.6914274 ,  0.68003361,  0.68140409,\n",
       "        0.67450013,  0.67648491,  0.68392692,  0.68870329,  0.69100133,\n",
       "        0.69282391,  0.69479164,  0.69685027,  0.69892142,  0.70098906])"
      ]
     },
     "execution_count": 23,
     "metadata": {},
     "output_type": "execute_result"
    }
   ],
   "source": [
    "pDrag[:,29,0]/(4./10.)"
   ]
  },
  {
   "cell_type": "code",
   "execution_count": 29,
   "metadata": {
    "collapsed": false
   },
   "outputs": [],
   "source": [
    "epsArr = pArr.getProperty('eps'); gArr = pArr.getProperty('g')\n",
    "epsVec = epsArr[:,0,0]; gVec = gArr[0,:,0]"
   ]
  },
  {
   "cell_type": "code",
   "execution_count": 44,
   "metadata": {
    "collapsed": false
   },
   "outputs": [
    {
     "data": {
      "image/png": "[encoded data removed]",
      "text/plain": [
       "<matplotlib.figure.Figure at 0x7f24abe58d30>"
      ]
     },
     "metadata": {},
     "output_type": "display_data"
    }
   ],
   "source": [
    "import matplotlib.pyplot as plt\n",
    "%matplotlib inline\n",
    "plt.plot(2.*gVec, 2.5* pDrag[[0,4,9,14],:,0].T)\n",
    "plt.title('Pressure drag as percentage of total drag')\n",
    "plt.xlabel('Slope');plt.ylabel('Drag')\n",
    "#plt.legend('g=0.1',gVec[5], gVec[10])\n",
    "plt.savefig('presDragG.pdf',format='pdf')\n",
    "plt.legend(['eps=0.01','0.05','0.1','0.15'],loc=2)\n",
    "plt.show(); \n",
    "\n"
   ]
  },
  {
   "cell_type": "code",
   "execution_count": 45,
   "metadata": {
    "collapsed": false
   },
   "outputs": [
    {
     "data": {
      "image/png": "[encoded data removed]",
      "text/plain": [
       "<matplotlib.figure.Figure at 0x7f24a98752b0>"
      ]
     },
     "metadata": {},
     "output_type": "display_data"
    }
   ],
   "source": [
    "plt.plot(2.*epsVec, 2.5* pDrag[:,[0,9,19,29],0])\n",
    "plt.title('Pressure drag as percentage of total drag')\n",
    "plt.xlabel('Amplitude');plt.ylabel('Drag')\n",
    "#plt.legend('g=0.1',gVec[5], gVec[10])\n",
    "plt.savefig('presDragE.pdf',format='pdf')\n",
    "plt.legend(['g=0.1','1.0','2.0','3.0'],loc=4)\n",
    "plt.show(); "
   ]
  },
  {
   "cell_type": "code",
   "execution_count": 7,
   "metadata": {
    "collapsed": false
   },
   "outputs": [
    {
     "data": {
      "text/plain": [
       "False"
      ]
     },
     "execution_count": 7,
     "metadata": {},
     "output_type": "execute_result"
    }
   ],
   "source": [
    "eps = np.float(0.05)\n",
    "type(eps) is np.float64"
   ]
  },
  {
   "cell_type": "code",
   "execution_count": null,
   "metadata": {
    "collapsed": true
   },
   "outputs": [],
   "source": []
  }
 ],
 "metadata": {
  "kernelspec": {
   "display_name": "Python 3",
   "language": "python",
   "name": "python3"
  },
  "language_info": {
   "codemirror_mode": {
    "name": "ipython",
    "version": 3
   },
   "file_extension": ".py",
   "mimetype": "text/x-python",
   "name": "python",
   "nbconvert_exporter": "python",
   "pygments_lexer": "ipython3",
   "version": "3.4.2"
  }
 },
 "nbformat": 4,
 "nbformat_minor": 0
}
