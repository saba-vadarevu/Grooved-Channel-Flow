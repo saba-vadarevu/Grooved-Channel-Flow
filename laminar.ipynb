{
 "cells": [
  {
   "cell_type": "code",
   "execution_count": 1,
   "metadata": {
    "collapsed": true
   },
   "outputs": [],
   "source": [
    "%load_ext autoreload\n",
    "%autoreload 2"
   ]
  },
  {
   "cell_type": "code",
   "execution_count": 2,
   "metadata": {
    "collapsed": false
   },
   "outputs": [],
   "source": [
    "import numpy as np\n",
    "from flowFieldWavy import *\n",
    "from flowFieldArray import *\n",
    "from pseudo import *\n",
    "from laminar import *\n",
    "import time\n",
    "import os\n",
    "import matplotlib.pyplot as plt\n",
    "%matplotlib inline\n",
    "\n",
    "figureFolder = '/home/sabarish/Dropbox/reports/2016/JFM/figures/'\n",
    "\n",
    "\n"
   ]
  },
  {
   "cell_type": "code",
   "execution_count": null,
   "metadata": {
    "collapsed": false
   },
   "outputs": [],
   "source": [
    "J0, F0, fnorm0 = makeSystem(vf=vf,pf=pf,resNorm=True,rect=False)\n",
    "J1,F1,fnorm1 = makeSystem(vf=vf,pf=pf, resNorm=True,rect=True)\n",
    "norm=np.linalg.norm"
   ]
  },
  {
   "cell_type": "code",
   "execution_count": null,
   "metadata": {
    "collapsed": false
   },
   "outputs": [],
   "source": [
    "fnorm0-fnorm1"
   ]
  },
  {
   "cell_type": "code",
   "execution_count": null,
   "metadata": {
    "collapsed": false
   },
   "outputs": [],
   "source": [
    "N = flowDict['N']; N4 = 4*N; m = vf.nx\n",
    "#BCrows = N4*np.arange(m).reshape((m,1)) + np.array([0,N-1,N,2*N-1,2*N,3*N-1]).reshape((1,6))\n",
    "#BCrows = N4*(m//2)+ np.array([0,N-1,N,2*N-1,2*N,3*N-1]).reshape((1,6))\n",
    "BCrows = N4*np.array([0,m-1]).reshape((2,1)) + np.array([0,N-1,N,2*N-1]).reshape((1,4))\n",
    "BCrows = BCrows.flatten()\n",
    "#BCrows = np.append(BCrows,np.array([F1.size-1]))"
   ]
  },
  {
   "cell_type": "code",
   "execution_count": null,
   "metadata": {
    "collapsed": false,
    "scrolled": true
   },
   "outputs": [],
   "source": [
    "F10 = np.delete(F1,BCrows)\n",
    "#F0.shape, F10.shape, norm(F0-F10)"
   ]
  },
  {
   "cell_type": "code",
   "execution_count": null,
   "metadata": {
    "collapsed": false
   },
   "outputs": [],
   "source": [
    "J10 = np.delete(J1,BCrows,axis=0)\n",
    "#J0.shape,J10.shape, norm((J0-J10).flatten())"
   ]
  },
  {
   "cell_type": "code",
   "execution_count": null,
   "metadata": {
    "collapsed": true
   },
   "outputs": [],
   "source": [
    "dx0,linRes0,r0,s0 = np.linalg.lstsq(J0,-F0,rcond=1.0e-9)\n",
    "dx1,linRes1,r1,s1 = np.linalg.lstsq(J1,-F1,rcond=1.0e-9)\n",
    "dx10,linRes10,r10,s10 = np.linalg.lstsq(J10,-F10,rcond=1.0e-9)"
   ]
  },
  {
   "cell_type": "code",
   "execution_count": null,
   "metadata": {
    "collapsed": false
   },
   "outputs": [],
   "source": [
    "print(linRes0,linRes1,linRes10, r0,r1,r10 )\n",
    "s0[-3:],s1[-3:],s10[-3:], norm(dx0),norm(dx1), norm(dx10), norm(dx0-dx1), norm(dx0-dx10)"
   ]
  },
  {
   "cell_type": "code",
   "execution_count": null,
   "metadata": {
    "collapsed": false
   },
   "outputs": [],
   "source": [
    "norm((np.dot(J0,dx0)+F0)), norm((np.dot(J1,dx1)+F1)), norm((np.dot(J10,dx10)+F10))"
   ]
  },
  {
   "cell_type": "code",
   "execution_count": null,
   "metadata": {
    "collapsed": false
   },
   "outputs": [],
   "source": [
    "linResArr1 = (np.dot(J1,dx1)+F1)"
   ]
  },
  {
   "cell_type": "code",
   "execution_count": null,
   "metadata": {
    "collapsed": false
   },
   "outputs": [],
   "source": [
    "nonZero = np.arange(F1.size)[np.abs(linResArr1)>5.0e-14]"
   ]
  },
  {
   "cell_type": "code",
   "execution_count": null,
   "metadata": {
    "collapsed": false
   },
   "outputs": [],
   "source": [
    "dx0t = dx0.reshape(vf.nx,4,vf.N)\n",
    "#dx0t[vf.nx//2,3] = 0.\n",
    "dx10t = dx10.reshape(vf.nx,4,vf.N)\n",
    "#dx10t[vf.nx//2,3] = 0.\n",
    "#norm(dx0t.flatten()-dx10t.flatten())\n",
    "norm(dx0t[vf.nx//2,3]-dx10t[vf.nx//2,3])"
   ]
  },
  {
   "cell_type": "code",
   "execution_count": null,
   "metadata": {
    "collapsed": false
   },
   "outputs": [],
   "source": [
    "flowDict = getDefaultDict()\n",
    "flowDict.update({'eps':0.05,'alpha':20.,'beta':0.,'Re':100.,'L':8,'M':0,'N':50,'nd':4, 'isPois':1})"
   ]
  },
  {
   "cell_type": "code",
   "execution_count": null,
   "metadata": {
    "collapsed": false
   },
   "outputs": [],
   "source": [
    "gArr = 0.5*np.arange(0.125,3.125,0.125)\n",
    "vf = dict2ff(flowDict)\n",
    "pf = vf.getScalar().zero()\n",
    "start = time.time()\n",
    "for g in gArr:\n",
    "    start1 = time.time()\n",
    "    a = g/flowDict['eps']\n",
    "    vf.flowDict = updateDict(vf.flowDict,{'alpha':a})\n",
    "    pf.flowDict = updateDict(pf.flowDict,{'alpha':a})\n",
    "    vf,pf,fnormArr,flg = iterate(vf=vf, pf=pf,rect=False)\n",
    "    saveff(vf,pf)\n",
    "    print('g:',g, ' runtime:', time.time()-start1, ',  total time elapsed:',time.time()-start)\n",
    "    print('**********************************************************')"
   ]
  },
  {
   "cell_type": "code",
   "execution_count": null,
   "metadata": {
    "collapsed": false
   },
   "outputs": [],
   "source": [
    "tempDict = updateDict(flowDict.copy(),{'Re':100.})\n",
    "start = time.time()\n",
    "for g in gArr[-3:]:\n",
    "    start1 = time.time()\n",
    "    a = g/flowDict['eps']\n",
    "    tempDict.update({'alpha':a})\n",
    "    vf,pf = loadff(dict2name(tempDict))\n",
    "    vf.flowDict.update({'Re':10.}); pf.flowDict.update({'Re':10.})\n",
    "    vf,pf,fnormArr,flg = iterate(vf=vf, pf=pf,rect=False,tol=1.0e-13)\n",
    "    saveff(vf,pf)\n",
    "    print('runtime:', int(time.time()-start1), ',  total time elapsed:',int(time.time()-start))"
   ]
  },
  {
   "cell_type": "code",
   "execution_count": null,
   "metadata": {
    "collapsed": false
   },
   "outputs": [],
   "source": [
    "gArr"
   ]
  },
  {
   "cell_type": "code",
   "execution_count": null,
   "metadata": {
    "collapsed": false
   },
   "outputs": [],
   "source": [
    "flowDict = getDefaultDict()\n",
    "Re = 10.\n",
    "flowDict.update({'eps':0.05,'alpha':20.,'beta':0.,'Re':Re,'L':8,'M':0,'N':50,'nd':4, 'isPois':1})\n",
    "\n",
    "epsArr = np.arange(0.025,0.0,-0.005)\n",
    "gArr = np.arange(0.05,1.55,0.05)\n",
    "\n",
    "\n",
    "flowDict.update({'eps':float(epsArr[0]),'alpha':float(gArr[0]/epsArr[0])})\n",
    "vf = dict2ff(flowDict)\n",
    "pf = vf.getScalar().zero()\n",
    "start = time.time()\n",
    "for k in range(epsArr.size):\n",
    "    eps = epsArr[k]\n",
    "    flowDict.update({'eps':float(eps)})\n",
    "    if k!=0:\n",
    "        vf = vfG0;  pf = pfG0\n",
    "    for g in gArr:\n",
    "        a = float(g)/flowDict['eps']\n",
    "        flowDict.update({'alpha':a})\n",
    "        \n",
    "        vf.flowDict=updateDict(flowDict,{'nd':3}); pf.flowDict = updateDict(flowDict,{'nd':1})\n",
    "        start1 = time.time()\n",
    "        print('eps:',eps,', g:',g, ', Re:',Re)\n",
    "        if g > gArr[0]:\n",
    "            vf[:] = vf[:] + dvf[:]; pf[:] = pf[:] + dpf[:]\n",
    "        else:\n",
    "            vfG0 = vf.copy(); pfG0 = pf.copy()\n",
    "        \n",
    "        vf0 = vf.copy(); pf0 = pf.copy()\n",
    "        vf,pf,fnormArr,flg = iterate(vf=vf0, pf=pf0,rect=False,tol=1.0e-13)\n",
    "        dvf = vf - vf0; dpf = pf - pf0\n",
    "        \n",
    "        saveff(vf,pf)\n",
    "        print('Runtime:', int(time.time()-start1), ',  total time elapsed:',int(time.time()-start))\n",
    "        print('**************************************')"
   ]
  },
  {
   "cell_type": "code",
   "execution_count": null,
   "metadata": {
    "collapsed": false
   },
   "outputs": [],
   "source": [
    "flowDict = getDefaultDict()\n",
    "Re = 100.\n",
    "flowDict.update({'eps':0.05,'alpha':20.,'beta':0.,'Re':Re,'L':8,'M':0,'N':50,'nd':4, 'isPois':1})\n",
    "\n",
    "epsArr = np.arange(0.005,0.102,0.005)\n",
    "gArr = np.arange(0.05,1.55,0.05)\n",
    "\n",
    "flowDict.update({'eps':np.float(epsArr[0]),'alpha':np.float(gArr[0]/epsArr[0])})\n",
    "vf = dict2ff(flowDict)\n",
    "pf = vf.getScalar().zero()\n",
    "start = time.time()\n",
    "for k in range(epsArr.size):\n",
    "    eps = epsArr[k]\n",
    "    flowDict.update({'eps':np.float(eps)})\n",
    "    if k!=0:\n",
    "        vf = vfG0;  pf = pfG0\n",
    "    for g in gArr:\n",
    "        a = g/flowDict['eps']\n",
    "        flowDict.update({'alpha':np.float(a)})\n",
    "        \n",
    "        vf.flowDict=updateDict(flowDict,{'nd':3}); pf.flowDict = updateDict(flowDict,{'nd':1})\n",
    "        start1 = time.time()\n",
    "        print('eps:',eps,', g:',g, ', Re:',Re)\n",
    "        if g > gArr[0]:\n",
    "            vf[:] = vf[:] + dvf[:]; pf[:] = pf[:] + dpf[:]\n",
    "        else:\n",
    "            vfG0 = vf.copy(); pfG0 = pf.copy()\n",
    "        \n",
    "        vf0 = vf.copy(); pf0 = pf.copy()\n",
    "        vf,pf,fnormArr,flg = iterate(vf=vf0, pf=pf0,rect=False,tol=1.0e-13)\n",
    "        dvf = vf - vf0; dpf = pf - pf0\n",
    "        \n",
    "        saveff(vf,pf)\n",
    "        print('Runtime:', int(time.time()-start1), ',  total time elapsed:',int(time.time()-start))\n",
    "        print('**************************************')"
   ]
  },
  {
   "cell_type": "code",
   "execution_count": null,
   "metadata": {
    "collapsed": false,
    "scrolled": false
   },
   "outputs": [],
   "source": [
    "flowDict = getDefaultDict()\n",
    "Re = 0.1\n",
    "flowDict.update({'eps':0.005,'alpha':1.,'beta':0.,'Re':Re,'L':5,'M':0,'N':30,'nd':4, 'isPois':1})\n",
    "\n",
    "savePath = 'solutions/Re0p1/'\n",
    "epsArr = np.arange(0.005,0.102,0.005)\n",
    "gArr = np.arange(0.001,0.02,0.001)\n",
    "\n",
    "flowDict.update({'eps':np.float(epsArr[0]),'alpha':np.float(gArr[0]/epsArr[0])})\n",
    "vf = dict2ff(flowDict)\n",
    "pf = vf.getScalar().zero()\n",
    "start = time.time()\n",
    "for k in range(epsArr.size):\n",
    "    eps = round(epsArr[k],4)\n",
    "    vf.flowDict.update({'eps':np.float(eps)})\n",
    "    pf.flowDict.update({'eps':np.float(eps)})\n",
    "    for g in gArr:\n",
    "        a = round(g,3)/round(vf.flowDict['eps'],4)\n",
    "        vf.flowDict.update({'alpha':np.float(a)})\n",
    "        pf.flowDict.update({'alpha':np.float(a)})\n",
    "        \n",
    "        start1 = time.time()\n",
    "        print('eps:',eps,', gx:',g, ', Re:',Re)\n",
    "        vf,pf,fnormArr,flg = iterate(vf=vf, pf=pf,rect=False,tol=1.0e-12)\n",
    "        \n",
    "        saveff(vf,pf,prefix=savePath)\n",
    "        print('Runtime:', int(time.time()-start1), ',  total time elapsed:',int(time.time()-start))\n",
    "        print('**************************************')"
   ]
  },
  {
   "cell_type": "code",
   "execution_count": null,
   "metadata": {
    "collapsed": false
   },
   "outputs": [],
   "source": [
    "%debug"
   ]
  },
  {
   "cell_type": "code",
   "execution_count": null,
   "metadata": {
    "collapsed": false
   },
   "outputs": [],
   "source": [
    "flowDict = getDefaultDict()\n",
    "Re = 10.\n",
    "flowDict.update({'eps':0.005,'alpha':20.,'beta':0.,'Re':Re,'L':8,'M':0,'N':50,'nd':4, 'isPois':1})\n",
    "g = 0.1; flowDict.update({'alpha':float(0.005/g)})\n",
    "vf,pf = loadff(dict2name(flowDict))"
   ]
  },
  {
   "cell_type": "code",
   "execution_count": null,
   "metadata": {
    "collapsed": false
   },
   "outputs": [],
   "source": [
    "epsArr = np.arange(0.075,0.05,-0.005)\n",
    "\n",
    "start = time.time()\n",
    "for k in range(2):\n",
    "    eps = epsArr[k]\n",
    "    flowDict.update({'eps':eps})\n",
    "    print('%04d' %(int(eps*1.0e04)), flowDict['eps'], type(flowDict['eps']))"
   ]
  },
  {
   "cell_type": "code",
   "execution_count": null,
   "metadata": {
    "collapsed": false
   },
   "outputs": [],
   "source": [
    "import os \n",
    "files= [f for f in os.listdir('./solutions/Re1000/')]\n",
    "files.sort()\n",
    "loadPath = 'solutions/Re1000/'"
   ]
  },
  {
   "cell_type": "code",
   "execution_count": null,
   "metadata": {
    "collapsed": false
   },
   "outputs": [],
   "source": [
    "epsArr = np.zeros((20,30)).flatten()\n",
    "gArr = epsArr.copy()\n",
    "k = 0\n",
    "for f in files:\n",
    "    vf,pf = loadff(loadPath+f)\n",
    "    res = vf.slice(L=10).residuals(pField=pf.slice(L=10))\n",
    "    resNorm = res.slice(L=8).norm()\n",
    "    eps = vf.flowDict['eps']\n",
    "    a = vf.flowDict['alpha']\n",
    "    g = eps*a\n",
    "    epsArr[k] = eps\n",
    "    gArr[k] = g\n",
    "    k+= 1\n",
    "    \n",
    "epsArr = epsArr.reshape((20,30))\n",
    "gArr= gArr.reshape((20,30))\n",
    "\n",
    "print( np.sum(np.abs(epsArr[:,0:1]-epsArr[:,1:]).flatten()), np.sum(np.abs(gArr[0:1]-gArr[1:])).flatten())\n"
   ]
  },
  {
   "cell_type": "code",
   "execution_count": null,
   "metadata": {
    "collapsed": false
   },
   "outputs": [],
   "source": [
    "epsArr[0], epsArr[5],gArr[0], gArr[5]"
   ]
  },
  {
   "cell_type": "code",
   "execution_count": null,
   "metadata": {
    "collapsed": false
   },
   "outputs": [],
   "source": [
    "savePath = 'solutions/Re1000/'\n",
    "start = time.time()\n",
    "for f in files[-180:]:\n",
    "    start1 = time.time()\n",
    "    vf,pf = loadff(loadPath+f)\n",
    "    vf.flowDict.update({'Re':1000.}); pf.flowDict.update({'Re':1000.})\n",
    "    print('2*eps:',2.*vf.flowDict['eps'], ' 2*g:', 2.*vf.flowDict['eps']*vf.flowDict['alpha'])\n",
    "    vf,pf,fnormArr,flg = iterate(vf=vf, pf=pf,rect=False,tol=1.0e-13)\n",
    "    saveff(vf,pf,prefix=savePath)\n",
    "    print('Runtime:', int(time.time()-start1), ',  total time elapsed:',int(time.time()-start))\n",
    "    print('**************************************')\n",
    "\n",
    "    \n",
    "    \n",
    "    "
   ]
  },
  {
   "cell_type": "code",
   "execution_count": null,
   "metadata": {
    "collapsed": false
   },
   "outputs": [],
   "source": [
    "for f in files:\n",
    "    vf,pf = loadff(loadPath+f)\n",
    "    res = vf.slice(L=10).residuals(pField=pf.slice(L=10))\n",
    "    resNorm = res.slice(L=8).norm()\n",
    "    eps = vf.flowDict['eps']\n",
    "    a = vf.flowDict['alpha']\n",
    "    g = eps*a\n",
    "    if (eps != round(eps,3)) or (g != round(g,2)):\n",
    "        print(f, resNorm)\n",
    "        vf.flowDict.update({'eps':round(eps,3), 'alpha':round(g,2)/round(eps,3)})\n",
    "        pf.flowDict.update({'eps':round(eps,3), 'alpha':round(g,2)/round(eps,3)})\n",
    "        vf, pf, fnormArr, flg = iterate(vf=vf, pf=pf, rect=False, tol=5.0e-13)\n",
    "        res = vf.slice(L=10).residuals(pField=pf.slice(L=10))\n",
    "        \n",
    "        if res.slice(L=8).norm() < 1.0e-12:\n",
    "            saveff(vf,pf,prefix=loadPath)\n",
    "            #print('      removing..', loadPath+f)\n",
    "            #os.remove(loadPath+f)\n",
    "            vf,pf = loadff(dict2name(vf.flowDict,prefix=loadPath))\n",
    "            res = vf.slice(L=10).residuals(pField=pf.slice(L=10))\n",
    "            print('      new residual norm:', res.slice(L=8).norm())"
   ]
  },
  {
   "cell_type": "code",
   "execution_count": null,
   "metadata": {
    "collapsed": true
   },
   "outputs": [],
   "source": [
    "neps = 15; ng = 30; nRe = 1\n",
    "vArr = flowFieldArray(vList,neps,ng,nRe); pArr = flowFieldArray(pList,neps,ng,nRe)\n"
   ]
  },
  {
   "cell_type": "code",
   "execution_count": null,
   "metadata": {
    "collapsed": false
   },
   "outputs": [],
   "source": [
    "pDrag = np.zeros(pArr.shape)\n",
    "for k1 in range(neps):\n",
    "    for k2 in range(ng):\n",
    "        pf = pArr[k1,k2,0].field\n",
    "        pDrag[k1,k2,0] = presDrag(pf)[0]\n",
    "        "
   ]
  },
  {
   "cell_type": "code",
   "execution_count": null,
   "metadata": {
    "collapsed": false
   },
   "outputs": [],
   "source": [
    "pDrag[:,29,0]/(4./10.)"
   ]
  },
  {
   "cell_type": "code",
   "execution_count": null,
   "metadata": {
    "collapsed": false
   },
   "outputs": [],
   "source": [
    "epsArr = pArr.getProperty('eps'); gArr = pArr.getProperty('g')\n",
    "epsVec = epsArr[:,0,0]; gVec = gArr[0,:,0]"
   ]
  },
  {
   "cell_type": "code",
   "execution_count": null,
   "metadata": {
    "collapsed": false
   },
   "outputs": [],
   "source": [
    "import matplotlib.pyplot as plt\n",
    "%matplotlib inline\n",
    "plt.plot(2.*gVec, 2.5* pDrag[[0,4,9,14],:,0].T)\n",
    "plt.title('Pressure drag as percentage of total drag')\n",
    "plt.xlabel('Slope');plt.ylabel('Drag')\n",
    "#plt.legend('g=0.1',gVec[5], gVec[10])\n",
    "plt.savefig('presDragG.pdf',format='pdf')\n",
    "plt.legend(['eps=0.01','0.05','0.1','0.15'],loc=2)\n",
    "plt.show(); \n",
    "\n"
   ]
  },
  {
   "cell_type": "code",
   "execution_count": null,
   "metadata": {
    "collapsed": false
   },
   "outputs": [],
   "source": [
    "plt.plot(2.*epsVec, 2.5* pDrag[:,[0,9,19,29],0])\n",
    "plt.title('Pressure drag as percentage of total drag')\n",
    "plt.xlabel('Amplitude');plt.ylabel('Drag')\n",
    "#plt.legend('g=0.1',gVec[5], gVec[10])\n",
    "plt.savefig('presDragE.pdf',format='pdf')\n",
    "plt.legend(['g=0.1','1.0','2.0','3.0'],loc=4)\n",
    "plt.show(); "
   ]
  },
  {
   "cell_type": "code",
   "execution_count": null,
   "metadata": {
    "collapsed": false
   },
   "outputs": [],
   "source": [
    "flowDict = getDefaultDict()\n",
    "flowDict.update({'K':0,'L':5,'M':0,'N':11,'Re':0.01,'alpha':0.01,'beta':0.,'eps':0.1,'isPois':1})"
   ]
  },
  {
   "cell_type": "code",
   "execution_count": null,
   "metadata": {
    "collapsed": false
   },
   "outputs": [],
   "source": [
    "vf,pf,fnormArr,flg = iterate(flowDict=flowDict, rect=False,tol = 1.0e-13,iterMax=10)"
   ]
  },
  {
   "cell_type": "code",
   "execution_count": null,
   "metadata": {
    "collapsed": true
   },
   "outputs": [],
   "source": [
    "vfAn = vf.zero()\n",
    "a = vf.flowDict['alpha']; eps = vf.flowDict['eps']; g=eps*a\n",
    "vfAn[0,vf.nx//2,0,0] = 1.-vfAn.y**2\n",
    "vfAn[0,vf.nx//2+1,0,0] = 2./3.*g*a*(vfAn.y**3 - vfAn.y)\n",
    "vfAn[0,vf.nx//2+2,0,0] = 2.*g**2 * (1.-vfAn.y**2)\n",
    "vfAn[0,vf.nx//2-1,0,0] = 2./3.*g*a*(vfAn.y**3 - vfAn.y)\n",
    "vfAn[0,vf.nx//2-2,0,0] = 2.*g**2 * (1.-vfAn.y**2)\n",
    "\n",
    "vfAn[0,vf.nx//2,0,0] = 0.\n",
    "vfAn[0,vf.nx//2+1,0,0] = 2./3.*g*a*(vfAn.y**3 - vfAn.y)\n",
    "vfAn[0,vf.nx//2+2,0,0] = 2.*g**2 * (1.-vfAn.y**2)\n",
    "vfAn[0,vf.nx//2-1,0,0] = 2./3.*g*a*(vfAn.y**3 - vfAn.y)\n",
    "vfAn[0,vf.nx//2-2,0,0] = 2.*g**2 * (1.-vfAn.y**2)\n",
    "\n"
   ]
  },
  {
   "cell_type": "code",
   "execution_count": null,
   "metadata": {
    "collapsed": false
   },
   "outputs": [],
   "source": [
    "chebcoeffs(vf[0,vf.nx//2,0,0]),chebcoeffs(vf[0,vf.nx//2+1,0,0]),chebcoeffs(vf[0,vf.nx//2+2,0,0])"
   ]
  },
  {
   "cell_type": "code",
   "execution_count": null,
   "metadata": {
    "collapsed": false
   },
   "outputs": [],
   "source": [
    "chebcoll_vec(chebcoeffs(vf[0,4,0,0]))"
   ]
  },
  {
   "cell_type": "code",
   "execution_count": null,
   "metadata": {
    "collapsed": false
   },
   "outputs": [],
   "source": [
    "chebcoeffs(vf[0,3,0,1]),chebcoeffs(vf[0,4,0,1]),chebcoeffs(vf[0,5,0,1])"
   ]
  },
  {
   "cell_type": "code",
   "execution_count": null,
   "metadata": {
    "collapsed": false
   },
   "outputs": [],
   "source": [
    "chebcoeffs(pf[0,3,0,0]),chebcoeffs(pf[0,4,0,0]),chebcoeffs(pf[0,5,0,0]), chebcoeffs(pf[0,2,0,0])"
   ]
  },
  {
   "cell_type": "code",
   "execution_count": null,
   "metadata": {
    "collapsed": false
   },
   "outputs": [],
   "source": [
    "pf[0,2,0,0,-1], pf[0,4,0,0,-1]"
   ]
  },
  {
   "cell_type": "code",
   "execution_count": null,
   "metadata": {
    "collapsed": true
   },
   "outputs": [],
   "source": [
    "flowDict = vf.flowDict.copy()\n",
    "flowDict.update({'L':3,'M':0,'N':7,'Re':1.,'alpha':0.1,'beta':0.,'eps':0.01})"
   ]
  },
  {
   "cell_type": "code",
   "execution_count": null,
   "metadata": {
    "collapsed": false
   },
   "outputs": [],
   "source": [
    "vf,pf,fnormArr,flg = iterate(flowDict=flowDict, rect=False,tol = 1.0e-13,iterMax=10)"
   ]
  },
  {
   "cell_type": "code",
   "execution_count": null,
   "metadata": {
    "collapsed": false
   },
   "outputs": [],
   "source": [
    "chebcoeffs(vf[0,3,0,0]),chebcoeffs(vf[0,4,0,0]),chebcoeffs(vf[0,5,0,0])"
   ]
  },
  {
   "cell_type": "code",
   "execution_count": null,
   "metadata": {
    "collapsed": false
   },
   "outputs": [],
   "source": [
    "chebcoeffs(vf[0,3,0,1]),chebcoeffs(vf[0,4,0,1]),chebcoeffs(vf[0,5,0,1])"
   ]
  },
  {
   "cell_type": "code",
   "execution_count": null,
   "metadata": {
    "collapsed": false
   },
   "outputs": [],
   "source": [
    "chebcoeffs(pf[0,3,0,0]),chebcoeffs(pf[0,4,0,0]),chebcoeffs(pf[0,5,0,0])"
   ]
  },
  {
   "cell_type": "code",
   "execution_count": null,
   "metadata": {
    "collapsed": false
   },
   "outputs": [],
   "source": [
    "pf[0,5,0,0]"
   ]
  },
  {
   "cell_type": "code",
   "execution_count": null,
   "metadata": {
    "collapsed": true
   },
   "outputs": [],
   "source": []
  },
  {
   "cell_type": "code",
   "execution_count": null,
   "metadata": {
    "collapsed": false
   },
   "outputs": [],
   "source": [
    "flowDict = vf.flowDict.copy()\n",
    "flowDict.update({'L':6,'M':0,'N':35,'Re':10.,'alpha':10.,'beta':0.,'eps':0.05})\n",
    "vf,pf,fnormArr,flg = iterate(flowDict=flowDict, rect=False,tol = 1.0e-13,iterMax=10)"
   ]
  },
  {
   "cell_type": "code",
   "execution_count": null,
   "metadata": {
    "collapsed": false
   },
   "outputs": [],
   "source": [
    "(vf[0,8,0,0] - vf[0,8,0,0,::-1])"
   ]
  },
  {
   "cell_type": "code",
   "execution_count": null,
   "metadata": {
    "collapsed": false
   },
   "outputs": [],
   "source": [
    "w = clencurt(vf.N)\n",
    "vf[0,vf.nx//2+2,0,0],np.dot(w,vf[0,vf.nx//2+2,0,0])"
   ]
  },
  {
   "cell_type": "code",
   "execution_count": null,
   "metadata": {
    "collapsed": false
   },
   "outputs": [],
   "source": [
    "vf.div()"
   ]
  },
  {
   "cell_type": "code",
   "execution_count": null,
   "metadata": {
    "collapsed": true
   },
   "outputs": [],
   "source": [
    "import os \n",
    "files= [f for f in os.listdir('./solutions/Re0p1/')]\n",
    "files.sort()\n",
    "loadPath = 'solutions/Re0p1/'"
   ]
  },
  {
   "cell_type": "code",
   "execution_count": null,
   "metadata": {
    "collapsed": false
   },
   "outputs": [],
   "source": [
    "neps = 20;ng=19;nRe=1\n",
    "Re = 0.1\n",
    "uDistArr = np.zeros(neps*ng)\n",
    "pDistArr = uDistArr.copy()\n",
    "n=0\n",
    "for f in files:\n",
    "    vf,pf = loadff(loadPath+f,checkNorm=False)\n",
    "\n",
    "    vfAn = vf.zero(); pfAn = pf.zero()\n",
    "    a = vf.flowDict['alpha']; eps = vf.flowDict['eps']; g=eps*a\n",
    "    vfAn[0,vf.nx//2,0,0] = 1.-vfAn.y**2\n",
    "    vfAn[0,vf.nx//2+1,0,0] = 2./3.*g*a*(vfAn.y**3 - vfAn.y)\n",
    "    vfAn[0,vf.nx//2-1,0,0] = vfAn[0,vf.nx//2+1,0,0]\n",
    "    \n",
    "    vfAn[0,vf.nx//2+1,0,1] = 1.j*g*(1.-vfAn.y*2)\n",
    "    vfAn[0,vf.nx//2+2,0,1] = 2.j/3.*g**2*a*(vfAn.y**3 - vfAn.y)\n",
    "    vfAn[0,vf.nx//2-1,0,1] = -vfAn[0,vf.nx//2+1,0,1]\n",
    "    vfAn[0,vf.nx//2-2,0,1] = -vfAn[0,vf.nx//2+2,0,1]\n",
    "    \n",
    "    pfAn[0,pf.nx//2+1,0,0] = -2.j*g/Re*pfAn.y\n",
    "    pfAn[0,pf.nx//2+2,0,0] = -2.j*g*a/Re\n",
    "    pfAn[0,pf.nx//2-1,0,0] = -pfAn[0,pf.nx//2+1,0,0]\n",
    "    pfAn[0,pf.nx//2-2,0,0] = -pfAn[0,pf.nx//2+2,0,0]\n",
    "    \n",
    "    uDistArr[n] = (vf-vfAn).norm()/vf.norm() \n",
    "    pDistArr[n] = (pf-pfAn).norm()/pf.norm()\n",
    "    print(eps,a,uDistArr[n],pDistArr[n])\n",
    "    n+= 1\n"
   ]
  },
  {
   "cell_type": "code",
   "execution_count": null,
   "metadata": {
    "collapsed": true
   },
   "outputs": [],
   "source": []
  },
  {
   "cell_type": "code",
   "execution_count": null,
   "metadata": {
    "collapsed": false
   },
   "outputs": [],
   "source": [
    "flowDict = getDefaultDict()\n",
    "aArr = np.arange(0.005,0.052,0.005,dtype=np.float)\n",
    "epsArr = np.arange(0.005,0.052,0.005)\n",
    "Re = 0.1\n",
    "flowDict.update({'eps':epsArr[0],'alpha':aArr[0],'beta':0.,'Re':Re,'L':5,'M':0,'N':20,'nd':4, 'isPois':1})\n",
    "vf = dict2ff(flowDict); pf = vf.getScalar().zero()\n",
    "\n",
    "neps = epsArr.size; na = aArr.size\n",
    "uDistArr = np.zeros(neps*na); pDistArr = uDistArr.copy()\n",
    "\n",
    "ind=0\n",
    "for eps in epsArr:\n",
    "    for a in aArr:\n",
    "        vf.flowDict.update({'eps':eps,'alpha':a})\n",
    "        pf.flowDict.update({'eps':eps,'alpha':a})\n",
    "        g = eps*a\n",
    "        \n",
    "        vf, pf, fnormArr, flg = iterate(vf=vf,pf=pf,rect=False, tol=1.0e-12 )\n",
    "\n",
    "        vfAn = vf.zero(); pfAn = pf.zero()\n",
    "        vfAn[0,vf.nx//2,0,0] = 1.-vfAn.y**2\n",
    "        vfAn[0,vf.nx//2+1,0,0] = 2./3.*g*a*(vfAn.y**3 - vfAn.y)\n",
    "        vfAn[0,vf.nx//2-1,0,0] = vfAn[0,vf.nx//2+1,0,0]\n",
    "\n",
    "        vfAn[0,vf.nx//2+1,0,1] = 1.j*g*(1.-vfAn.y*2)\n",
    "        vfAn[0,vf.nx//2+2,0,1] = 2.j/3.*g**2*a*(vfAn.y**3 - vfAn.y)\n",
    "        vfAn[0,vf.nx//2-1,0,1] = -vfAn[0,vf.nx//2+1,0,1]\n",
    "        vfAn[0,vf.nx//2-2,0,1] = -vfAn[0,vf.nx//2+2,0,1]\n",
    "\n",
    "        pfAn[0,pf.nx//2+1,0,0] = -2.j*g/Re*pfAn.y\n",
    "        pfAn[0,pf.nx//2+2,0,0] = -2.j*g*a/Re\n",
    "        pfAn[0,pf.nx//2-1,0,0] = -pfAn[0,pf.nx//2+1,0,0]\n",
    "        pfAn[0,pf.nx//2-2,0,0] = -pfAn[0,pf.nx//2+2,0,0]\n",
    "\n",
    "        uDistArr[ind] = (vf-vfAn).norm()/vf.norm() \n",
    "        pDistArr[ind] = (pf-pfAn).norm()/pf.norm()\n",
    "        print(eps,a,uDistArr[ind],pDistArr[ind])        \n",
    "        ind+=1\n",
    "\n"
   ]
  },
  {
   "cell_type": "code",
   "execution_count": null,
   "metadata": {
    "collapsed": false
   },
   "outputs": [],
   "source": [
    "flowDict = updateDict(vf.flowDict,{'L':6,'M':0,'N':50,'eps':0.02,'alpha':30.,'beta':0.,'Re':100.})\n",
    "vf,pf,fnorm,flg = iterate(flowDict=flowDict,rect=False,tol=1.0e-12)\n"
   ]
  },
  {
   "cell_type": "code",
   "execution_count": null,
   "metadata": {
    "collapsed": false
   },
   "outputs": [],
   "source": [
    "vf.shape,pf.shape,vf.nz,pf.nz"
   ]
  },
  {
   "cell_type": "code",
   "execution_count": null,
   "metadata": {
    "collapsed": false
   },
   "outputs": [],
   "source": [
    "presDrag(pf)"
   ]
  },
  {
   "cell_type": "code",
   "execution_count": null,
   "metadata": {
    "collapsed": false
   },
   "outputs": [],
   "source": [
    "stressDict = shearStress(vf,seprn=True)"
   ]
  },
  {
   "cell_type": "code",
   "execution_count": null,
   "metadata": {
    "collapsed": false
   },
   "outputs": [],
   "source": [
    "presDrag(pf)[0] + stressDict['avgStressFraction']"
   ]
  },
  {
   "cell_type": "code",
   "execution_count": null,
   "metadata": {
    "collapsed": false
   },
   "outputs": [],
   "source": [
    "type(genArr[0]) == np.float"
   ]
  },
  {
   "cell_type": "code",
   "execution_count": null,
   "metadata": {
    "collapsed": false
   },
   "outputs": [],
   "source": [
    "plt.contourf(epsArr,aArr,np.log(uDistArr.reshape((neps,na))),cmap=plt.cm.bone ) \n",
    "plt.xticks(np.arange(0.01,0.055,0.01))\n",
    "plt.yticks(np.arange(0.01,0.055,0.01))\n",
    "plt.colorbar();plt.show()"
   ]
  },
  {
   "cell_type": "code",
   "execution_count": null,
   "metadata": {
    "collapsed": false
   },
   "outputs": [],
   "source": [
    "np.log(uDistArr)"
   ]
  },
  {
   "cell_type": "code",
   "execution_count": null,
   "metadata": {
    "collapsed": true
   },
   "outputs": [],
   "source": [
    "y = vf.y"
   ]
  },
  {
   "cell_type": "code",
   "execution_count": null,
   "metadata": {
    "collapsed": true
   },
   "outputs": [],
   "source": [
    "genFun = 1.*y**3 + 4.*y**2 + y  - y**4"
   ]
  },
  {
   "cell_type": "code",
   "execution_count": null,
   "metadata": {
    "collapsed": false
   },
   "outputs": [],
   "source": [
    "np.arange(y.size)[genFun<=0]"
   ]
  },
  {
   "cell_type": "code",
   "execution_count": null,
   "metadata": {
    "collapsed": false
   },
   "outputs": [],
   "source": [
    "genFun"
   ]
  },
  {
   "cell_type": "code",
   "execution_count": null,
   "metadata": {
    "collapsed": true
   },
   "outputs": [],
   "source": []
  },
  {
   "cell_type": "markdown",
   "metadata": {},
   "source": [
    "## Analytical solution vs numerical solutions\n",
    "Plot bulk velocity, and the distance of velocity fields. "
   ]
  },
  {
   "cell_type": "code",
   "execution_count": 4,
   "metadata": {
    "collapsed": false
   },
   "outputs": [],
   "source": []
  },
  {
   "cell_type": "code",
   "execution_count": 28,
   "metadata": {
    "collapsed": false,
    "scrolled": true
   },
   "outputs": [
    {
     "name": "stdout",
     "output_type": "stream",
     "text": [
      "Converged in  2  iterations. Returning....................................\n",
      "0.005 5e-05 0.01 8.72256818999e-13\n",
      "0.66666666 0.000119895888801 0.00865981043526\n",
      "Converged in  2  iterations. Returning....................................\n",
      "0.01 0.0001 0.01 6.21374160875e-13\n",
      "0.66666664 0.000239791786124 4.4032079463e-05\n",
      "Converged in  2  iterations. Returning....................................\n",
      "0.015 0.00015 0.01 6.89818182412e-13\n",
      "0.666666606666 0.000359687700495 0.00865721288923\n",
      "Converged in  2  iterations. Returning....................................\n",
      "0.02 0.0002 0.01 9.44310001893e-13\n",
      "0.666666559999 0.000479583640434 0.0173097178942\n",
      "Converged in  2  iterations. Returning....................................\n",
      "0.025 0.00025 0.01 7.17667250564e-13\n",
      "0.666666499999 0.000599479614467 0.0259557819226\n",
      "Converged in  2  iterations. Returning....................................\n",
      "0.03 0.0003 0.01 9.97019163099e-13\n",
      "0.666666426665 0.000719375631115 0.0345934469121\n",
      "Converged in  3  iterations. Returning....................................\n",
      "0.035 0.00035 0.01 6.85337269561e-13\n",
      "0.666666339998 0.000839271698903 0.0432207871484\n",
      "Converged in  2  iterations. Returning....................................\n",
      "0.04 0.0004 0.01 5.05748890713e-13\n",
      "0.666666239997 0.000959167826352 0.0518358927611\n",
      "Converged in  2  iterations. Returning....................................\n",
      "0.045 0.00045 0.01 6.72415286079e-13\n",
      "0.666666126663 0.00107906402199 0.0604368691161\n",
      "Converged in  2  iterations. Returning....................................\n",
      "0.05 0.0005 0.01 7.31168251999e-13\n",
      "0.666665999996 0.00119896029433 0.0690218381929\n",
      "Converged in  2  iterations. Returning....................................\n",
      "0.055 0.00055 0.01 8.7613226804e-13\n",
      "0.666665859995 0.00131885665191 0.0775889403854\n",
      "Converged in  2  iterations. Returning....................................\n",
      "0.06 0.0006 0.01 8.70030112409e-13\n",
      "0.666665706661 0.00143875310324 0.0861363363465\n",
      "Converged in  2  iterations. Returning....................................\n",
      "0.065 0.00065 0.01 7.13322229971e-13\n",
      "0.666665539994 0.00155864965685 0.094662208857\n",
      "Converged in  2  iterations. Returning....................................\n",
      "0.07 0.0007 0.01 7.20535867923e-13\n",
      "0.666665359993 0.00167854632126 0.103164764672\n",
      "Converged in  3  iterations. Returning....................................\n",
      "0.075 0.00075 0.01 7.55582804408e-13\n",
      "0.666665166659 0.00179844310499 0.111642236253\n",
      "Converged in  2  iterations. Returning....................................\n",
      "0.005 0.0005 0.01 5.89582575325e-13\n",
      "0.666665999558 0.00119905906659 0.164124563034\n",
      "Converged in  2  iterations. Returning....................................\n",
      "0.01 0.001 0.01 5.90939608522e-13\n",
      "0.666663998237 0.00239812667168 0.155471674027\n",
      "Converged in  2  iterations. Returning....................................\n",
      "0.015 0.0015 0.01 6.90462330838e-13\n",
      "0.66666066272 0.0035972113538 0.146810027678\n",
      "Converged in  2  iterations. Returning....................................\n",
      "0.02 0.002 0.01 5.9927595433e-13\n",
      "0.66665599303 0.00479632165149 0.13814160988\n",
      "Converged in  2  iterations. Returning....................................\n",
      "0.025 0.0025 0.01 5.52561043814e-13\n",
      "0.666649989203 0.00599546610338 0.129468415346\n",
      "Converged in  2  iterations. Returning....................................\n",
      "0.03 0.003 0.01 5.37459253414e-13\n",
      "0.666642651285 0.00719465324816 0.120792447806\n",
      "Converged in  2  iterations. Returning....................................\n",
      "0.035 0.0035 0.01 9.62542450674e-13\n",
      "0.66663397933 0.00839389162461 0.112115721322\n",
      "Converged in  2  iterations. Returning....................................\n",
      "0.04 0.004 0.01 8.01632284266e-13\n",
      "0.666623973405 0.00959318977164 0.103440263372\n",
      "Converged in  2  iterations. Returning....................................\n",
      "0.045 0.0045 0.01 6.73822859348e-13\n",
      "0.666612633583 0.0107925562283 0.0947681208301\n",
      "Converged in  2  iterations. Returning....................................\n",
      "0.05 0.005 0.01 7.82329222421e-13\n",
      "0.666599959951 0.0119919995337 0.0861013708503\n",
      "Converged in  2  iterations. Returning....................................\n",
      "0.055 0.0055 0.01 6.4796964672e-13\n",
      "0.666585952604 0.0131915282273 0.0774421404548\n",
      "Converged in  2  iterations. Returning....................................\n",
      "0.06 0.006 0.01 7.75316482789e-13\n",
      "0.666570611647 0.0143911508485 0.0687926423992\n",
      "Converged in  2  iterations. Returning....................................\n",
      "0.065 0.0065 0.01 9.39585879921e-13\n",
      "0.666553937196 0.0155908759372 0.0601552435071\n",
      "Converged in  2  iterations. Returning....................................\n",
      "0.07 0.007 0.01 8.43582251985e-13\n",
      "0.666535929377 0.0167907120334 0.0515326031576\n",
      "Converged in  2  iterations. Returning....................................\n",
      "0.075 0.0075 0.01 5.84753332494e-13\n",
      "0.666516588324 0.0179906676771 0.0429279795292\n",
      "Converged in  3  iterations. Returning....................................\n",
      "0.005 0.005 0.01 5.90504599297e-13\n",
      "0.666597405539 0.0121335567207 1.43398631052\n",
      "Converged in  3  iterations. Returning....................................\n",
      "0.01 0.01 0.01 5.80882226455e-13\n",
      "0.666389687119 0.0242767485576 1.4274696807\n",
      "Converged in  2  iterations. Returning....................................\n",
      "0.015 0.015 0.01 9.27260803271e-13\n",
      "0.666043706158 0.0364392089121 1.42104612294\n",
      "Converged in  3  iterations. Returning....................................\n",
      "0.02 0.02 0.01 4.54897250003e-13\n",
      "0.665559786784 0.0486305677742 1.41471720169\n",
      "Converged in  3  iterations. Returning....................................\n",
      "0.025 0.025 0.01 7.49315884162e-13\n",
      "0.66493838181 0.0608604500613 1.40848451344\n",
      "Converged in  2  iterations. Returning....................................\n",
      "0.03 0.03 0.01 6.89185465223e-13\n",
      "0.664180071778 0.0731384740118 1.40234968418\n",
      "Converged in  2  iterations. Returning....................................\n",
      "0.035 0.035 0.01 8.75829452875e-13\n",
      "0.663285563734 0.0854742496487 1.39631436689\n",
      "Converged in  2  iterations. Returning....................................\n",
      "0.04 0.04 0.01 8.509539854e-13\n",
      "0.662255689732 0.0978773773301 1.39038023884\n",
      "Converged in  3  iterations. Returning....................................\n",
      "0.045 0.045 0.01 7.3540060387e-13\n",
      "0.661091405091 0.110357446404 1.38454899888\n",
      "Converged in  3  iterations. Returning....................................\n",
      "0.05 0.05 0.01 4.36063549941e-13\n",
      "0.659793786393 0.122924033979 1.37882236463\n",
      "Converged in  2  iterations. Returning....................................\n",
      "0.055 0.055 0.01 8.95504086341e-13\n",
      "0.658364029244 0.135586703827 1.37320206965\n",
      "Converged in  3  iterations. Returning....................................\n",
      "0.06 0.06 0.01 6.25219845952e-13\n",
      "0.656803445789 0.148355005433 1.36768986054\n",
      "Converged in  3  iterations. Returning....................................\n",
      "0.065 0.065 0.01 8.17989625405e-13\n",
      "0.655113462012 0.161238473193 1.36228749401\n",
      "Converged in  2  iterations. Returning....................................\n",
      "0.07 0.07 0.01 8.49937832125e-13\n",
      "0.653295614808 0.174246625785 1.35699673397\n",
      "Converged in  2  iterations. Returning....................................\n",
      "0.075 0.075 0.01 6.1621793379e-13\n",
      "0.651351548861 0.187388965708 1.35181934854\n",
      "Converged in  3  iterations. Returning....................................\n",
      "0.005 5e-05 1.0 1.73455844829e-14\n",
      "0.66666666 0.000119895888801 0.484871612514\n",
      "Converged in  2  iterations. Returning....................................\n",
      "0.01 0.0001 1.0 1.42201279428e-14\n",
      "0.66666664 0.000239791786125 0.267074880454\n",
      "Converged in  2  iterations. Returning....................................\n",
      "0.015 0.00015 1.0 1.23723596282e-14\n",
      "0.666666606666 0.000359687700496 0.181869888914\n",
      "Converged in  2  iterations. Returning....................................\n",
      "0.02 0.0002 1.0 1.65771383714e-14\n",
      "0.666666559999 0.000479583640436 0.138297609262\n",
      "Converged in  2  iterations. Returning....................................\n",
      "0.025 0.00025 1.0 2.2141511299e-14\n",
      "0.666666499999 0.000599479614469 0.113122086535\n",
      "Converged in  2  iterations. Returning....................................\n",
      "0.03 0.0003 1.0 1.6235511008e-14\n",
      "0.666666426665 0.000719375631117 0.0981785342198\n",
      "Converged in  2  iterations. Returning....................................\n",
      "0.035 0.00035 1.0 1.686591584e-14\n",
      "0.666666339998 0.000839271698905 0.0898747976079\n",
      "Converged in  2  iterations. Returning....................................\n",
      "0.04 0.0004 1.0 1.7737208784e-14\n",
      "0.666666239997 0.000959167826355 0.0862646759281\n",
      "Converged in  2  iterations. Returning....................................\n",
      "0.045 0.00045 1.0 2.21693732567e-14\n",
      "0.666666126663 0.00107906402199 0.0860653590716\n",
      "Converged in  2  iterations. Returning....................................\n",
      "0.05 0.0005 1.0 1.58135606337e-14\n",
      "0.666665999996 0.00119896029434 0.0883290961752\n",
      "Converged in  2  iterations. Returning....................................\n",
      "0.055 0.00055 1.0 1.27487281372e-14\n",
      "0.666665859995 0.00131885665191 0.0923424224713\n",
      "Converged in  2  iterations. Returning....................................\n",
      "0.06 0.0006 1.0 1.53910670622e-14\n",
      "0.666665706661 0.00143875310324 0.0975823287606\n",
      "Converged in  2  iterations. Returning....................................\n",
      "0.065 0.00065 1.0 1.38405878696e-14\n",
      "0.666665539994 0.00155864965685 0.103677065209\n",
      "Converged in  2  iterations. Returning....................................\n",
      "0.07 0.0007 1.0 2.19481482186e-14\n",
      "0.666665359993 0.00167854632126 0.110367545849\n",
      "Converged in  2  iterations. Returning....................................\n",
      "0.075 0.00075 1.0 1.97263298328e-14\n",
      "0.666665166659 0.001798443105 0.117474470554\n",
      "Converged in  2  iterations. Returning....................................\n",
      "0.005 0.0005 1.0 2.55924530765e-14\n",
      "0.666665999558 0.00119905910477 0.176235538359\n",
      "Converged in  2  iterations. Returning....................................\n",
      "0.01 0.001 1.0 1.99338627164e-14\n",
      "0.666663998236 0.00239812674805 0.161498309098\n",
      "Converged in  2  iterations. Returning....................................\n",
      "0.015 0.0015 1.0 2.30815553406e-14\n",
      "0.666660662718 0.00359721146836 0.151836031557\n",
      "Converged in  2  iterations. Returning....................................\n",
      "0.02 0.002 1.0 1.7879251774e-14\n",
      "0.666655993026 0.00479632180425 0.142975445777\n",
      "Converged in  2  iterations. Returning....................................\n",
      "0.025 0.0025 1.0 1.55761272346e-14\n",
      "0.666649989198 0.00599546629434 0.134372646321\n",
      "Converged in  2  iterations. Returning....................................\n",
      "0.03 0.003 1.0 1.15386467981e-14\n",
      "0.666642651277 0.00719465347733 0.125896994429\n",
      "Converged in  2  iterations. Returning....................................\n",
      "0.035 0.0035 1.0 2.50504300125e-14\n",
      "0.66663397932 0.008393891892 0.117510015848\n",
      "Converged in  2  iterations. Returning....................................\n",
      "0.04 0.004 1.0 2.30636193038e-14\n",
      "0.66662397339 0.00959319007726 0.109203410845\n",
      "Converged in  2  iterations. Returning....................................\n",
      "0.045 0.0045 1.0 1.93029033501e-14\n",
      "0.666612633565 0.0107925565721 0.100982666441\n",
      "Converged in  2  iterations. Returning....................................\n",
      "0.05 0.005 1.0 1.13460700648e-14\n",
      "0.666599959929 0.0119919999158 0.0928624482717\n",
      "Converged in  2  iterations. Returning....................................\n",
      "0.055 0.0055 1.0 2.29865876148e-14\n",
      "0.666585952577 0.0131915286477 0.0848662322305\n",
      "Converged in  2  iterations. Returning....................................\n",
      "0.06 0.006 1.0 2.98280083644e-14\n",
      "0.666570611615 0.0143911513072 0.0770283261028\n",
      "Converged in  2  iterations. Returning....................................\n",
      "0.065 0.0065 1.0 1.7376094721e-14\n",
      "0.666553937159 0.0155908764343 0.0693981721908\n",
      "Converged in  2  iterations. Returning....................................\n",
      "0.07 0.007 1.0 1.62983257107e-14\n",
      "0.666535929333 0.0167907125688 0.0620476897303\n",
      "Converged in  2  iterations. Returning....................................\n",
      "0.075 0.0075 1.0 2.27836517444e-14\n",
      "0.666516588274 0.0179906682509 0.0550830906214\n",
      "Converged in  2  iterations. Returning....................................\n",
      "0.005 0.005 1.0 5.88579993705e-13\n",
      "0.666597280594 0.0121364576319 1.41140881788\n",
      "Converged in  2  iterations. Returning....................................\n",
      "0.01 0.01 1.0 1.10230354933e-13\n",
      "0.666389188157 0.0242825662579 1.40515647397\n",
      "Converged in  2  iterations. Returning....................................\n",
      "0.015 0.015 1.0 1.1677012337e-13\n",
      "0.666042586546 0.036447975006 1.39900350269\n",
      "Converged in  2  iterations. Returning....................................\n",
      "0.02 0.02 1.0 1.24223442993e-13\n",
      "0.66555780393 0.0486423292911 1.39295451672\n",
      "Converged in  2  iterations. Returning....................................\n",
      "0.025 0.025 1.0 1.32853787564e-13\n",
      "0.66493529873 0.0608752690081 1.38701094614\n",
      "Converged in  2  iterations. Returning....................................\n",
      "0.03 0.03 1.0 1.45093719704e-13\n",
      "0.66417565861 0.0731564267835 1.38117389861\n",
      "Converged in  2  iterations. Returning....................................\n",
      "0.035 0.035 1.0 1.59367943045e-13\n",
      "0.663279599187 0.0854954263036 1.37544442427\n",
      "Converged in  2  iterations. Returning....................................\n",
      "0.04 0.04 1.0 1.75441118637e-13\n",
      "0.662247962461 0.0979018807387 1.3698235663\n",
      "Converged in  2  iterations. Returning....................................\n",
      "0.045 0.045 1.0 1.910856063e-13\n",
      "0.661081714981 0.110385391279 1.36431237461\n",
      "Converged in  2  iterations. Returning....................................\n",
      "0.05 0.05 1.0 2.09804663606e-13\n",
      "0.659781945748 0.122955545798 1.35891191035\n",
      "Converged in  2  iterations. Returning....................................\n",
      "0.055 0.055 1.0 2.28889549102e-13\n",
      "0.65834986386 0.135621917661 1.35362324764\n",
      "Converged in  2  iterations. Returning....................................\n",
      "0.06 0.06 1.0 2.5020255748e-13\n",
      "0.656786795918 0.148394064686 1.34844747407\n",
      "Converged in  2  iterations. Returning....................................\n",
      "0.065 0.065 1.0 2.71729010294e-13\n",
      "0.655094183199 0.161281528276 1.34338569076\n",
      "Converged in  2  iterations. Returning....................................\n",
      "0.07 0.07 1.0 2.96312021561e-13\n",
      "0.653273578602 0.174293832731 1.33843901212\n",
      "Converged in  2  iterations. Returning....................................\n",
      "0.075 0.075 1.0 3.21758981893e-13\n",
      "0.651326643388 0.187440484742 1.33360856545\n",
      "Converged in  4  iterations. Returning....................................\n",
      "0.005 5e-05 100.0 4.06358090208e-16\n",
      "0.66666666 0.000119895892621 0.999855134086\n",
      "Converged in  2  iterations. Returning....................................\n",
      "0.01 0.0001 100.0 5.00892367622e-16\n",
      "0.66666664 0.000239791793765 0.999420800211\n",
      "Converged in  2  iterations. Returning....................................\n",
      "0.015 0.00015 100.0 5.00779026381e-16\n",
      "0.666666606666 0.000359687711955 0.99869805023\n",
      "Converged in  2  iterations. Returning....................................\n",
      "0.02 0.0002 100.0 5.49199862765e-16\n",
      "0.666666559999 0.000479583655715 0.997688805071\n",
      "Converged in  2  iterations. Returning....................................\n",
      "0.025 0.00025 100.0 5.63196017435e-16\n",
      "0.666666499999 0.000599479633567 0.996395843726\n",
      "Converged in  2  iterations. Returning....................................\n",
      "0.03 0.0003 100.0 5.28373957097e-16\n",
      "0.666666426665 0.000719375654034 0.994822787602\n",
      "Converged in  2  iterations. Returning....................................\n",
      "0.035 0.00035 100.0 4.08128515843e-16\n",
      "0.666666339998 0.000839271725639 0.992974080418\n",
      "Converged in  2  iterations. Returning....................................\n",
      "0.04 0.0004 100.0 4.77431505367e-16\n",
      "0.666666239997 0.000959167856907 0.990854963829\n",
      "Converged in  2  iterations. Returning....................................\n",
      "0.045 0.00045 100.0 3.88830396882e-16\n",
      "0.666666126663 0.00107906405636 0.988471449022\n",
      "Converged in  2  iterations. Returning....................................\n",
      "0.05 0.0005 100.0 4.59354704103e-16\n",
      "0.666665999996 0.00119896033252 0.985830284559\n",
      "Converged in  2  iterations. Returning....................................\n",
      "0.055 0.00055 100.0 4.11632786226e-16\n",
      "0.666665859995 0.00131885669391 0.982938920762\n",
      "Converged in  2  iterations. Returning....................................\n",
      "0.06 0.0006 100.0 4.95280118198e-16\n",
      "0.666665706661 0.00143875314905 0.979805470985\n",
      "Converged in  2  iterations. Returning....................................\n",
      "0.065 0.00065 100.0 4.32848939044e-16\n",
      "0.666665539993 0.00155864970647 0.976438670093\n",
      "Converged in  2  iterations. Returning....................................\n",
      "0.07 0.0007 100.0 3.85549766767e-16\n",
      "0.666665359992 0.00167854637469 0.972847830546\n",
      "Converged in  2  iterations. Returning....................................\n",
      "0.075 0.00075 100.0 4.62814919723e-16\n",
      "0.666665166658 0.00179844316224 0.969042796434\n",
      "Converged in  2  iterations. Returning....................................\n",
      "0.005 0.0005 100.0 7.54814775333e-15\n",
      "0.66666599763 0.00119938342653 0.989511221988\n",
      "Converged in  2  iterations. Returning....................................\n",
      "0.01 0.001 100.0 1.89941020593e-14\n",
      "0.666663990526 0.00239877541054 0.976744900121\n",
      "Converged in  2  iterations. Returning....................................\n",
      "0.015 0.0015 100.0 1.90188701376e-14\n",
      "0.666660645368 0.0035981845095 0.969919522079\n",
      "Converged in  2  iterations. Returning....................................\n",
      "0.02 0.002 100.0 1.9058078557e-14\n",
      "0.666655962181 0.00479761928097 0.966408890235\n",
      "Converged in  2  iterations. Returning....................................\n",
      "0.025 0.0025 100.0 1.91054594565e-14\n",
      "0.666649941001 0.00599708828255 0.964427230859\n",
      "Converged in  2  iterations. Returning....................................\n",
      "0.03 0.003 100.0 1.91670306493e-14\n",
      "0.66664258187 0.00719660007195 0.963191894879\n",
      "Converged in  2  iterations. Returning....................................\n",
      "0.035 0.0035 100.0 1.92396452861e-14\n",
      "0.666633884842 0.008396163207 0.962352958667\n",
      "Converged in  2  iterations. Returning....................................\n",
      "0.04 0.004 100.0 1.93287044959e-14\n",
      "0.666623849983 0.00959578624567 0.961741323129\n",
      "Converged in  2  iterations. Returning....................................\n",
      "0.045 0.0045 100.0 1.94251153371e-14\n",
      "0.666612477364 0.0107954777461 0.961268695722\n",
      "Converged in  2  iterations. Returning....................................\n",
      "0.05 0.005 100.0 1.95367508457e-14\n",
      "0.666599767071 0.0119952462666 0.960885775435\n",
      "Converged in  2  iterations. Returning....................................\n",
      "0.055 0.0055 100.0 1.9655570052e-14\n",
      "0.666585719195 0.0131951003657 0.960563433157\n",
      "Converged in  2  iterations. Returning....................................\n",
      "0.06 0.006 100.0 1.97910744873e-14\n",
      "0.666570333841 0.0143950486021 0.960283621873\n",
      "Converged in  2  iterations. Returning....................................\n",
      "0.065 0.0065 100.0 1.99381736278e-14\n",
      "0.66655361112 0.015595099535 0.960034703315\n",
      "Converged in  2  iterations. Returning....................................\n",
      "0.07 0.007 100.0 2.00947017306e-14\n",
      "0.666535551156 0.0167952617237 0.959808911533\n",
      "Converged in  2  iterations. Returning....................................\n",
      "0.075 0.0075 100.0 2.02678210632e-14\n",
      "0.666516154081 0.0179955437277 0.959600910286\n",
      "Converged in  3  iterations. Returning....................................\n",
      "0.005 0.005 100.0 4.56748485306e-16\n",
      "0.666495602783 0.013601462311 0.986843479307\n",
      "Converged in  3  iterations. Returning....................................\n",
      "0.01 0.01 100.0 5.98041810779e-16\n",
      "0.66598295101 0.0272343596567 0.986490058897\n",
      "Converged in  3  iterations. Returning....................................\n",
      "0.015 0.015 100.0 5.85994344121e-16\n",
      "0.665130327533 0.0409300183152 0.986134432109\n",
      "Converged in  3  iterations. Returning....................................\n",
      "0.02 0.02 100.0 5.59552528894e-16\n",
      "0.663940414543 0.0547195482913 0.985769235924\n",
      "Converged in  3  iterations. Returning....................................\n",
      "0.025 0.025 100.0 6.04780734847e-16\n",
      "0.66241694317 0.0686337382466 0.985393009808\n",
      "Converged in  3  iterations. Returning....................................\n",
      "0.03 0.03 100.0 7.19745809291e-16\n",
      "0.66056466978 0.0827029540044 0.985004948658\n",
      "Converged in  3  iterations. Returning....................................\n",
      "0.035 0.035 100.0 6.28237675183e-16\n",
      "0.658389345864 0.0969570416604 0.984604413819\n",
      "Converged in  3  iterations. Returning....................................\n",
      "0.04 0.04 100.0 7.31817568873e-16\n",
      "0.65589768176 0.111425236195 0.984190840851\n",
      "Converged in  3  iterations. Returning....................................\n",
      "0.045 0.045 100.0 7.65568285378e-16\n",
      "0.653097304536 0.126136076344 0.983763715986\n",
      "Converged in  3  iterations. Returning....................................\n",
      "0.05 0.05 100.0 8.84346518678e-16\n",
      "0.649996710392 0.141117326311 0.983322569797\n",
      "Converged in  3  iterations. Returning....................................\n",
      "0.055 0.055 100.0 9.34592165675e-16\n",
      "0.646605212003 0.156395904766 0.982866976355\n",
      "Converged in  3  iterations. Returning....................................\n",
      "0.06 0.06 100.0 9.67762624385e-16\n",
      "0.642932881276 0.171997821383 0.982396554472\n",
      "Converged in  3  iterations. Returning....................................\n",
      "0.065 0.065 100.0 1.03964890562e-15\n",
      "0.638990488008 0.187948121063 0.981910969868\n",
      "Converged in  3  iterations. Returning....................................\n",
      "0.07 0.07 100.0 1.12445021783e-15\n",
      "0.63478943502 0.204270835797 0.981409937783\n",
      "Converged in  3  iterations. Returning....................................\n",
      "0.075 0.075 100.0 1.16365818884e-15\n",
      "0.630341690316 0.22098894407 0.980893225793\n",
      "**********Done******************************\n"
     ]
    }
   ],
   "source": [
    "epsArr = np.arange(0.005,0.077,0.005)\n",
    "aArr = np.array([0.01,0.1,1.0]); ReArr = np.array([0.01,1.,100.])\n",
    "flowDict = getDefaultDict()\n",
    "flowDict.update({'K':0,'L':5,'M':0,'N':15,'Re':0.01,'alpha':0.01,'beta':0.,'eps':0.005,'isPois':1})\n",
    "\n",
    "uDist = np.zeros((3,3,epsArr.size)); uBulk = uDist.copy(); pDist = uDist.copy()\n",
    "vf = dict2ff(flowDict); pf = vf.getScalar().zero()\n",
    "for indr in range(ReArr.size):\n",
    "    Re = ReArr[indr]\n",
    "    N = 11 + indr*8\n",
    "    vf = vf.slice(N=N); pf=pf.slice(N=N)\n",
    "    vf[:,:,:,:,[0,-1]]=0.\n",
    "    for inda in range(aArr.size):\n",
    "        a = aArr[inda]\n",
    "        for inde in range(epsArr.size):\n",
    "            eps = epsArr[inde]\n",
    "            g = a*eps\n",
    "            vf.flowDict.update({'eps':eps, 'alpha':a, 'Re':Re})\n",
    "            pf.flowDict.update({'eps':eps, 'alpha':a, 'Re':Re})\n",
    "            vf,pf,fnorm,flg = iterate(vf=vf,pf=pf,rect=False,tol=1.0e-12,iterMax=8)\n",
    "            uBulk[indr,inda,inde] = vf.flux()\n",
    "\n",
    "            vfAn = vf.zero(); pfAn = pf.zero()\n",
    "            vfAn[0,vf.nx//2,0,0] = 1.-vfAn.y**2\n",
    "            vfAn[0,vf.nx//2+1,0,0] = 2./3.*g*a*(vfAn.y**3 - vfAn.y)\n",
    "            vfAn[0,vf.nx//2-1,0,0] = vfAn[0,vf.nx//2+1,0,0]\n",
    "\n",
    "            vfAn[0,vf.nx//2+1,0,1] = 1.j*g*(1.-vfAn.y*2)\n",
    "            vfAn[0,vf.nx//2-1,0,1] = -vfAn[0,vf.nx//2+1,0,1]\n",
    "\n",
    "            pfAn[0,pf.nx//2+1,0,0] = -2.j*g/Re*pfAn.y\n",
    "            pfAn[0,pf.nx//2+2,0,0] = -2.j*g*a/Re\n",
    "            pfAn[0,pf.nx//2-1,0,0] = -pfAn[0,pf.nx//2+1,0,0]\n",
    "            pfAn[0,pf.nx//2-2,0,0] = -pfAn[0,pf.nx//2+2,0,0]\n",
    "\n",
    "            uDist[indr,inda,inde] = (vf-vfAn).norm()/vf.norm() \n",
    "            pDist[indr,inda,inde] = (pf-pfAn).norm()/pf.norm()\n",
    "            print(eps,g,Re,fnorm[-1])\n",
    "            print(uBulk[indr,inda, inde], uDist[indr,inda, inde],pDist[indr,inda,inde])        \n",
    "            \n",
    "print('**********Done******************************')"
   ]
  },
  {
   "cell_type": "code",
   "execution_count": 73,
   "metadata": {
    "collapsed": false
   },
   "outputs": [
    {
     "name": "stderr",
     "output_type": "stream",
     "text": [
      "/usr/lib/python3/dist-packages/matplotlib/collections.py:571: FutureWarning: elementwise comparison failed; returning scalar instead, but in the future will perform elementwise comparison\n",
      "  if self._edgecolors == str('face'):\n"
     ]
    },
    {
     "data": {
      "image/png": "[encoded data removed]",
      "text/plain": [
       "<matplotlib.figure.Figure at 0x7fc23ac4c358>"
      ]
     },
     "metadata": {},
     "output_type": "display_data"
    }
   ],
   "source": [
    "duBulk = 3./2.*uBulk - 1. \n",
    "plt.figure()\n",
    "markers = np.array(['o','1','s', '+','D','v']).reshape((2,3))\n",
    "for indr in [0,1]:\n",
    "    for inda in range(3):\n",
    "        gArr = aArr[inda]*epsArr\n",
    "        plt.scatter(gArr, duBulk[indr,inda], marker = markers[indr,inda],color='black',facecolors='none')\n",
    "gFullArr = np.arange(0., 1.0*0.077,0.005)\n",
    "plt.plot(gFullArr,-2.*gFullArr**2,'k--')\n",
    "plt.xscale(\"log\")\n",
    "plt.xlabel('g',fontsize=15); plt.ylabel('$\\\\delta U_b/U_{b,flat}$',fontsize=15)\n",
    "plt.savefig(figureFolder+'uBulkRelLowAlpha.pdf', format='pdf')\n",
    "plt.show()"
   ]
  },
  {
   "cell_type": "code",
   "execution_count": 72,
   "metadata": {
    "collapsed": false
   },
   "outputs": [
    {
     "name": "stderr",
     "output_type": "stream",
     "text": [
      "/usr/lib/python3/dist-packages/matplotlib/collections.py:571: FutureWarning: elementwise comparison failed; returning scalar instead, but in the future will perform elementwise comparison\n",
      "  if self._edgecolors == str('face'):\n"
     ]
    },
    {
     "data": {
      "image/png": "[encoded data removed]",
      "text/plain": [
       "<matplotlib.figure.Figure at 0x7fc23d3ee9b0>"
      ]
     },
     "metadata": {},
     "output_type": "display_data"
    }
   ],
   "source": [
    "plt.figure()\n",
    "markers = np.array(['o','1','s', '+','D','v']).reshape((2,3))\n",
    "for indr in range(2):\n",
    "    for inda in range(3):\n",
    "        gArr = aArr[inda]*epsArr\n",
    "        plt.scatter(gArr, (-2.*gArr**2)/duBulk[indr,inda] - 1., marker = markers[indr,inda],color='black',facecolors='none')\n",
    "gFullArr = np.arange(0., 1.0*0.077,0.005)\n",
    "plt.xscale(\"log\")\n",
    "plt.xlabel('g',fontsize=15); plt.ylabel('$\\\\frac{\\\\delta U_{b,An}}{\\\\delta U_{b,Comp}} -1$',fontsize=15)\n",
    "plt.savefig(figureFolder+'uBulkRelDiffLowAlpha.pdf', format='pdf')\n",
    "plt.show()"
   ]
  },
  {
   "cell_type": "markdown",
   "metadata": {
    "collapsed": true
   },
   "source": [
    "## Matrix free method"
   ]
  },
  {
   "cell_type": "code",
   "execution_count": 46,
   "metadata": {
    "collapsed": false
   },
   "outputs": [
    {
     "name": "stderr",
     "output_type": "stream",
     "text": [
      "/home/sabarish/Dropbox/gitwork/python3/flowFieldV2/laminar.py:459: UserWarning: pressure field not supplied, assigning zero pressure for computing residual\n",
      "  warn('pressure field not supplied, assigning zero pressure for computing residual')\n"
     ]
    }
   ],
   "source": [
    "import scipy.optimize as spopt\n",
    "from scipy.sparse.linalg import gmres, LinearOperator\n",
    "flowDict = getDefaultDict()\n",
    "flowDict.update({'K':0,'L':5,'M':0,'N':50,'Re':0.01,'alpha':20.,'beta':0.,'eps':0.03,'isPois':1})\n",
    "\n",
    "J,F = makeSystem(flowDict=flowDict,resNorm=False)\n"
   ]
  },
  {
   "cell_type": "code",
   "execution_count": 47,
   "metadata": {
    "collapsed": false
   },
   "outputs": [
    {
     "data": {
      "text/plain": [
       "14.696339130401611"
      ]
     },
     "execution_count": 47,
     "metadata": {},
     "output_type": "execute_result"
    }
   ],
   "source": [
    "start1 = time.time()\n",
    "dx1 = np.linalg.lstsq(J,-F)\n",
    "time.time()-start1"
   ]
  },
  {
   "cell_type": "code",
   "execution_count": 48,
   "metadata": {
    "collapsed": false
   },
   "outputs": [
    {
     "data": {
      "text/plain": [
       "80.63113570213318"
      ]
     },
     "execution_count": 48,
     "metadata": {},
     "output_type": "execute_result"
    }
   ],
   "source": [
    "Jfun = lambda xArr: np.dot(J,xArr)\n",
    "Jop = LinearOperator(matvec=Jfun,shape=(F.size,F.size),dtype=np.complex)\n",
    "x0 = dict2ff(updateDict(flowDict,{'nd':3}))\n",
    "x0 = x0.appendField(x0.getScalar().zero())\n",
    "start1 = time.time()\n",
    "dx2 = gmres(Jop, -F,restart=F.size,tol=1.0e-12)\n",
    "time.time()-start1"
   ]
  },
  {
   "cell_type": "code",
   "execution_count": 49,
   "metadata": {
    "collapsed": false
   },
   "outputs": [],
   "source": [
    "dx22 = dx2[0]; dx11 = dx1[0]"
   ]
  },
  {
   "cell_type": "code",
   "execution_count": 50,
   "metadata": {
    "collapsed": false
   },
   "outputs": [
    {
     "data": {
      "text/plain": [
       "(1.5834097110348924e-08, 1.4343186035975573e-05)"
      ]
     },
     "execution_count": 50,
     "metadata": {},
     "output_type": "execute_result"
    }
   ],
   "source": [
    "np.linalg.norm(Jop.matvec(dx22)+F), np.linalg.norm(np.dot(J,dx11)+F)"
   ]
  },
  {
   "cell_type": "code",
   "execution_count": 43,
   "metadata": {
    "collapsed": false
   },
   "outputs": [
    {
     "data": {
      "text/plain": [
       "0"
      ]
     },
     "execution_count": 43,
     "metadata": {},
     "output_type": "execute_result"
    }
   ],
   "source": [
    "dx2[1]"
   ]
  },
  {
   "cell_type": "code",
   "execution_count": 29,
   "metadata": {
    "collapsed": false
   },
   "outputs": [
    {
     "data": {
      "text/plain": [
       "1100"
      ]
     },
     "execution_count": 29,
     "metadata": {},
     "output_type": "execute_result"
    }
   ],
   "source": [
    "F.size"
   ]
  },
  {
   "cell_type": "code",
   "execution_count": 54,
   "metadata": {
    "collapsed": true
   },
   "outputs": [],
   "source": [
    "gen = np.zeros((5,5))"
   ]
  },
  {
   "cell_type": "code",
   "execution_count": 55,
   "metadata": {
    "collapsed": false
   },
   "outputs": [
    {
     "data": {
      "text/plain": [
       "array([[ 0.,  0.,  0.,  0.,  0.],\n",
       "       [ 0.,  1.,  0.,  0.,  0.],\n",
       "       [ 0.,  0.,  1.,  0.,  0.],\n",
       "       [ 0.,  0.,  0.,  0.,  0.],\n",
       "       [ 0.,  0.,  0.,  0.,  0.]])"
      ]
     },
     "execution_count": 55,
     "metadata": {},
     "output_type": "execute_result"
    }
   ],
   "source": [
    "gen[[1,2],[1,2]] = 1.\n",
    "gen"
   ]
  },
  {
   "cell_type": "code",
   "execution_count": null,
   "metadata": {
    "collapsed": true
   },
   "outputs": [],
   "source": []
  }
 ],
 "metadata": {
  "kernelspec": {
   "display_name": "Python 3",
   "language": "python",
   "name": "python3"
  },
  "language_info": {
   "codemirror_mode": {
    "name": "ipython",
    "version": 3
   },
   "file_extension": ".py",
   "mimetype": "text/x-python",
   "name": "python",
   "nbconvert_exporter": "python",
   "pygments_lexer": "ipython3",
   "version": "3.4.2"
  }
 },
 "nbformat": 4,
 "nbformat_minor": 0
}
