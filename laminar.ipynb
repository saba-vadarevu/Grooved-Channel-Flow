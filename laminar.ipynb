{
 "cells": [
  {
   "cell_type": "code",
   "execution_count": null,
   "metadata": {
    "collapsed": true
   },
   "outputs": [],
   "source": [
    "%load_ext autoreload\n",
    "%autoreload 2"
   ]
  },
  {
   "cell_type": "code",
   "execution_count": null,
   "metadata": {
    "collapsed": false
   },
   "outputs": [],
   "source": [
    "import numpy as np\n",
    "from flowFieldWavy import *\n",
    "from flowFieldArray import *\n",
    "from pseudo import *\n",
    "from laminar import *\n",
    "import time\n",
    "import os\n",
    "import matplotlib.pyplot as plt\n",
    "%matplotlib inline\n",
    "\n",
    "\n",
    "\n",
    "\n"
   ]
  },
  {
   "cell_type": "code",
   "execution_count": null,
   "metadata": {
    "collapsed": false
   },
   "outputs": [],
   "source": [
    "J0, F0, fnorm0 = makeSystem(vf=vf,pf=pf,resNorm=True,rect=False)\n",
    "J1,F1,fnorm1 = makeSystem(vf=vf,pf=pf, resNorm=True,rect=True)\n",
    "norm=np.linalg.norm"
   ]
  },
  {
   "cell_type": "code",
   "execution_count": null,
   "metadata": {
    "collapsed": false
   },
   "outputs": [],
   "source": [
    "fnorm0-fnorm1"
   ]
  },
  {
   "cell_type": "code",
   "execution_count": null,
   "metadata": {
    "collapsed": false
   },
   "outputs": [],
   "source": [
    "N = flowDict['N']; N4 = 4*N; m = vf.nx\n",
    "#BCrows = N4*np.arange(m).reshape((m,1)) + np.array([0,N-1,N,2*N-1,2*N,3*N-1]).reshape((1,6))\n",
    "#BCrows = N4*(m//2)+ np.array([0,N-1,N,2*N-1,2*N,3*N-1]).reshape((1,6))\n",
    "BCrows = N4*np.array([0,m-1]).reshape((2,1)) + np.array([0,N-1,N,2*N-1]).reshape((1,4))\n",
    "BCrows = BCrows.flatten()\n",
    "#BCrows = np.append(BCrows,np.array([F1.size-1]))"
   ]
  },
  {
   "cell_type": "code",
   "execution_count": null,
   "metadata": {
    "collapsed": false,
    "scrolled": true
   },
   "outputs": [],
   "source": [
    "F10 = np.delete(F1,BCrows)\n",
    "#F0.shape, F10.shape, norm(F0-F10)"
   ]
  },
  {
   "cell_type": "code",
   "execution_count": null,
   "metadata": {
    "collapsed": false
   },
   "outputs": [],
   "source": [
    "J10 = np.delete(J1,BCrows,axis=0)\n",
    "#J0.shape,J10.shape, norm((J0-J10).flatten())"
   ]
  },
  {
   "cell_type": "code",
   "execution_count": null,
   "metadata": {
    "collapsed": true
   },
   "outputs": [],
   "source": [
    "dx0,linRes0,r0,s0 = np.linalg.lstsq(J0,-F0,rcond=1.0e-9)\n",
    "dx1,linRes1,r1,s1 = np.linalg.lstsq(J1,-F1,rcond=1.0e-9)\n",
    "dx10,linRes10,r10,s10 = np.linalg.lstsq(J10,-F10,rcond=1.0e-9)"
   ]
  },
  {
   "cell_type": "code",
   "execution_count": null,
   "metadata": {
    "collapsed": false
   },
   "outputs": [],
   "source": [
    "print(linRes0,linRes1,linRes10, r0,r1,r10 )\n",
    "s0[-3:],s1[-3:],s10[-3:], norm(dx0),norm(dx1), norm(dx10), norm(dx0-dx1), norm(dx0-dx10)"
   ]
  },
  {
   "cell_type": "code",
   "execution_count": null,
   "metadata": {
    "collapsed": false
   },
   "outputs": [],
   "source": [
    "norm((np.dot(J0,dx0)+F0)), norm((np.dot(J1,dx1)+F1)), norm((np.dot(J10,dx10)+F10))"
   ]
  },
  {
   "cell_type": "code",
   "execution_count": null,
   "metadata": {
    "collapsed": false
   },
   "outputs": [],
   "source": [
    "linResArr1 = (np.dot(J1,dx1)+F1)"
   ]
  },
  {
   "cell_type": "code",
   "execution_count": null,
   "metadata": {
    "collapsed": false
   },
   "outputs": [],
   "source": [
    "nonZero = np.arange(F1.size)[np.abs(linResArr1)>5.0e-14]"
   ]
  },
  {
   "cell_type": "code",
   "execution_count": null,
   "metadata": {
    "collapsed": false
   },
   "outputs": [],
   "source": [
    "dx0t = dx0.reshape(vf.nx,4,vf.N)\n",
    "#dx0t[vf.nx//2,3] = 0.\n",
    "dx10t = dx10.reshape(vf.nx,4,vf.N)\n",
    "#dx10t[vf.nx//2,3] = 0.\n",
    "#norm(dx0t.flatten()-dx10t.flatten())\n",
    "norm(dx0t[vf.nx//2,3]-dx10t[vf.nx//2,3])"
   ]
  },
  {
   "cell_type": "code",
   "execution_count": null,
   "metadata": {
    "collapsed": false
   },
   "outputs": [],
   "source": [
    "flowDict = getDefaultDict()\n",
    "flowDict.update({'eps':0.05,'alpha':20.,'beta':0.,'Re':100.,'L':8,'M':0,'N':50,'nd':4, 'isPois':1})"
   ]
  },
  {
   "cell_type": "code",
   "execution_count": null,
   "metadata": {
    "collapsed": false
   },
   "outputs": [],
   "source": [
    "gArr = 0.5*np.arange(0.125,3.125,0.125)\n",
    "vf = dict2ff(flowDict)\n",
    "pf = vf.getScalar().zero()\n",
    "start = time.time()\n",
    "for g in gArr:\n",
    "    start1 = time.time()\n",
    "    a = g/flowDict['eps']\n",
    "    vf.flowDict = updateDict(vf.flowDict,{'alpha':a})\n",
    "    pf.flowDict = updateDict(pf.flowDict,{'alpha':a})\n",
    "    vf,pf,fnormArr,flg = iterate(vf=vf, pf=pf,rect=False)\n",
    "    saveff(vf,pf)\n",
    "    print('g:',g, ' runtime:', time.time()-start1, ',  total time elapsed:',time.time()-start)\n",
    "    print('**********************************************************')"
   ]
  },
  {
   "cell_type": "code",
   "execution_count": null,
   "metadata": {
    "collapsed": false
   },
   "outputs": [],
   "source": [
    "tempDict = updateDict(flowDict.copy(),{'Re':100.})\n",
    "start = time.time()\n",
    "for g in gArr[-3:]:\n",
    "    start1 = time.time()\n",
    "    a = g/flowDict['eps']\n",
    "    tempDict.update({'alpha':a})\n",
    "    vf,pf = loadff(dict2name(tempDict))\n",
    "    vf.flowDict.update({'Re':10.}); pf.flowDict.update({'Re':10.})\n",
    "    vf,pf,fnormArr,flg = iterate(vf=vf, pf=pf,rect=False,tol=1.0e-13)\n",
    "    saveff(vf,pf)\n",
    "    print('runtime:', int(time.time()-start1), ',  total time elapsed:',int(time.time()-start))"
   ]
  },
  {
   "cell_type": "code",
   "execution_count": null,
   "metadata": {
    "collapsed": false
   },
   "outputs": [],
   "source": [
    "gArr"
   ]
  },
  {
   "cell_type": "code",
   "execution_count": null,
   "metadata": {
    "collapsed": false
   },
   "outputs": [],
   "source": [
    "flowDict = getDefaultDict()\n",
    "Re = 10.\n",
    "flowDict.update({'eps':0.05,'alpha':20.,'beta':0.,'Re':Re,'L':8,'M':0,'N':50,'nd':4, 'isPois':1})\n",
    "\n",
    "epsArr = np.arange(0.025,0.0,-0.005)\n",
    "gArr = np.arange(0.05,1.55,0.05)\n",
    "\n",
    "\n",
    "flowDict.update({'eps':float(epsArr[0]),'alpha':float(gArr[0]/epsArr[0])})\n",
    "vf = dict2ff(flowDict)\n",
    "pf = vf.getScalar().zero()\n",
    "start = time.time()\n",
    "for k in range(epsArr.size):\n",
    "    eps = epsArr[k]\n",
    "    flowDict.update({'eps':float(eps)})\n",
    "    if k!=0:\n",
    "        vf = vfG0;  pf = pfG0\n",
    "    for g in gArr:\n",
    "        a = float(g)/flowDict['eps']\n",
    "        flowDict.update({'alpha':a})\n",
    "        \n",
    "        vf.flowDict=updateDict(flowDict,{'nd':3}); pf.flowDict = updateDict(flowDict,{'nd':1})\n",
    "        start1 = time.time()\n",
    "        print('eps:',eps,', g:',g, ', Re:',Re)\n",
    "        if g > gArr[0]:\n",
    "            vf[:] = vf[:] + dvf[:]; pf[:] = pf[:] + dpf[:]\n",
    "        else:\n",
    "            vfG0 = vf.copy(); pfG0 = pf.copy()\n",
    "        \n",
    "        vf0 = vf.copy(); pf0 = pf.copy()\n",
    "        vf,pf,fnormArr,flg = iterate(vf=vf0, pf=pf0,rect=False,tol=1.0e-13)\n",
    "        dvf = vf - vf0; dpf = pf - pf0\n",
    "        \n",
    "        saveff(vf,pf)\n",
    "        print('Runtime:', int(time.time()-start1), ',  total time elapsed:',int(time.time()-start))\n",
    "        print('**************************************')"
   ]
  },
  {
   "cell_type": "code",
   "execution_count": null,
   "metadata": {
    "collapsed": false
   },
   "outputs": [],
   "source": [
    "flowDict = getDefaultDict()\n",
    "Re = 100.\n",
    "flowDict.update({'eps':0.05,'alpha':20.,'beta':0.,'Re':Re,'L':8,'M':0,'N':50,'nd':4, 'isPois':1})\n",
    "\n",
    "epsArr = np.arange(0.005,0.102,0.005)\n",
    "gArr = np.arange(0.05,1.55,0.05)\n",
    "\n",
    "flowDict.update({'eps':np.float(epsArr[0]),'alpha':np.float(gArr[0]/epsArr[0])})\n",
    "vf = dict2ff(flowDict)\n",
    "pf = vf.getScalar().zero()\n",
    "start = time.time()\n",
    "for k in range(epsArr.size):\n",
    "    eps = epsArr[k]\n",
    "    flowDict.update({'eps':np.float(eps)})\n",
    "    if k!=0:\n",
    "        vf = vfG0;  pf = pfG0\n",
    "    for g in gArr:\n",
    "        a = g/flowDict['eps']\n",
    "        flowDict.update({'alpha':np.float(a)})\n",
    "        \n",
    "        vf.flowDict=updateDict(flowDict,{'nd':3}); pf.flowDict = updateDict(flowDict,{'nd':1})\n",
    "        start1 = time.time()\n",
    "        print('eps:',eps,', g:',g, ', Re:',Re)\n",
    "        if g > gArr[0]:\n",
    "            vf[:] = vf[:] + dvf[:]; pf[:] = pf[:] + dpf[:]\n",
    "        else:\n",
    "            vfG0 = vf.copy(); pfG0 = pf.copy()\n",
    "        \n",
    "        vf0 = vf.copy(); pf0 = pf.copy()\n",
    "        vf,pf,fnormArr,flg = iterate(vf=vf0, pf=pf0,rect=False,tol=1.0e-13)\n",
    "        dvf = vf - vf0; dpf = pf - pf0\n",
    "        \n",
    "        saveff(vf,pf)\n",
    "        print('Runtime:', int(time.time()-start1), ',  total time elapsed:',int(time.time()-start))\n",
    "        print('**************************************')"
   ]
  },
  {
   "cell_type": "code",
   "execution_count": null,
   "metadata": {
    "collapsed": false,
    "scrolled": false
   },
   "outputs": [],
   "source": [
    "flowDict = getDefaultDict()\n",
    "Re = 0.1\n",
    "flowDict.update({'eps':0.005,'alpha':1.,'beta':0.,'Re':Re,'L':5,'M':0,'N':30,'nd':4, 'isPois':1})\n",
    "\n",
    "savePath = 'solutions/Re0p1/'\n",
    "epsArr = np.arange(0.005,0.102,0.005)\n",
    "gArr = np.arange(0.001,0.02,0.001)\n",
    "\n",
    "flowDict.update({'eps':np.float(epsArr[0]),'alpha':np.float(gArr[0]/epsArr[0])})\n",
    "vf = dict2ff(flowDict)\n",
    "pf = vf.getScalar().zero()\n",
    "start = time.time()\n",
    "for k in range(epsArr.size):\n",
    "    eps = round(epsArr[k],4)\n",
    "    vf.flowDict.update({'eps':np.float(eps)})\n",
    "    pf.flowDict.update({'eps':np.float(eps)})\n",
    "    for g in gArr:\n",
    "        a = round(g,3)/round(vf.flowDict['eps'],4)\n",
    "        vf.flowDict.update({'alpha':np.float(a)})\n",
    "        pf.flowDict.update({'alpha':np.float(a)})\n",
    "        \n",
    "        start1 = time.time()\n",
    "        print('eps:',eps,', gx:',g, ', Re:',Re)\n",
    "        vf,pf,fnormArr,flg = iterate(vf=vf, pf=pf,rect=False,tol=1.0e-12)\n",
    "        \n",
    "        saveff(vf,pf,prefix=savePath)\n",
    "        print('Runtime:', int(time.time()-start1), ',  total time elapsed:',int(time.time()-start))\n",
    "        print('**************************************')"
   ]
  },
  {
   "cell_type": "code",
   "execution_count": null,
   "metadata": {
    "collapsed": false
   },
   "outputs": [],
   "source": [
    "%debug"
   ]
  },
  {
   "cell_type": "code",
   "execution_count": null,
   "metadata": {
    "collapsed": false
   },
   "outputs": [],
   "source": [
    "flowDict = getDefaultDict()\n",
    "Re = 10.\n",
    "flowDict.update({'eps':0.005,'alpha':20.,'beta':0.,'Re':Re,'L':8,'M':0,'N':50,'nd':4, 'isPois':1})\n",
    "g = 0.1; flowDict.update({'alpha':float(0.005/g)})\n",
    "vf,pf = loadff(dict2name(flowDict))"
   ]
  },
  {
   "cell_type": "code",
   "execution_count": null,
   "metadata": {
    "collapsed": false
   },
   "outputs": [],
   "source": [
    "epsArr = np.arange(0.075,0.05,-0.005)\n",
    "\n",
    "start = time.time()\n",
    "for k in range(2):\n",
    "    eps = epsArr[k]\n",
    "    flowDict.update({'eps':eps})\n",
    "    print('%04d' %(int(eps*1.0e04)), flowDict['eps'], type(flowDict['eps']))"
   ]
  },
  {
   "cell_type": "code",
   "execution_count": null,
   "metadata": {
    "collapsed": false
   },
   "outputs": [],
   "source": [
    "import os \n",
    "files= [f for f in os.listdir('./solutions/Re1000/')]\n",
    "files.sort()\n",
    "loadPath = 'solutions/Re1000/'"
   ]
  },
  {
   "cell_type": "code",
   "execution_count": null,
   "metadata": {
    "collapsed": false
   },
   "outputs": [],
   "source": [
    "epsArr = np.zeros((20,30)).flatten()\n",
    "gArr = epsArr.copy()\n",
    "k = 0\n",
    "for f in files:\n",
    "    vf,pf = loadff(loadPath+f)\n",
    "    res = vf.slice(L=10).residuals(pField=pf.slice(L=10))\n",
    "    resNorm = res.slice(L=8).norm()\n",
    "    eps = vf.flowDict['eps']\n",
    "    a = vf.flowDict['alpha']\n",
    "    g = eps*a\n",
    "    epsArr[k] = eps\n",
    "    gArr[k] = g\n",
    "    k+= 1\n",
    "    \n",
    "epsArr = epsArr.reshape((20,30))\n",
    "gArr= gArr.reshape((20,30))\n",
    "\n",
    "print( np.sum(np.abs(epsArr[:,0:1]-epsArr[:,1:]).flatten()), np.sum(np.abs(gArr[0:1]-gArr[1:])).flatten())\n"
   ]
  },
  {
   "cell_type": "code",
   "execution_count": null,
   "metadata": {
    "collapsed": false
   },
   "outputs": [],
   "source": [
    "epsArr[0], epsArr[5],gArr[0], gArr[5]"
   ]
  },
  {
   "cell_type": "code",
   "execution_count": null,
   "metadata": {
    "collapsed": false
   },
   "outputs": [],
   "source": [
    "savePath = 'solutions/Re1000/'\n",
    "start = time.time()\n",
    "for f in files[-180:]:\n",
    "    start1 = time.time()\n",
    "    vf,pf = loadff(loadPath+f)\n",
    "    vf.flowDict.update({'Re':1000.}); pf.flowDict.update({'Re':1000.})\n",
    "    print('2*eps:',2.*vf.flowDict['eps'], ' 2*g:', 2.*vf.flowDict['eps']*vf.flowDict['alpha'])\n",
    "    vf,pf,fnormArr,flg = iterate(vf=vf, pf=pf,rect=False,tol=1.0e-13)\n",
    "    saveff(vf,pf,prefix=savePath)\n",
    "    print('Runtime:', int(time.time()-start1), ',  total time elapsed:',int(time.time()-start))\n",
    "    print('**************************************')\n",
    "\n",
    "    \n",
    "    \n",
    "    "
   ]
  },
  {
   "cell_type": "code",
   "execution_count": null,
   "metadata": {
    "collapsed": false
   },
   "outputs": [],
   "source": [
    "for f in files:\n",
    "    vf,pf = loadff(loadPath+f)\n",
    "    res = vf.slice(L=10).residuals(pField=pf.slice(L=10))\n",
    "    resNorm = res.slice(L=8).norm()\n",
    "    eps = vf.flowDict['eps']\n",
    "    a = vf.flowDict['alpha']\n",
    "    g = eps*a\n",
    "    if (eps != round(eps,3)) or (g != round(g,2)):\n",
    "        print(f, resNorm)\n",
    "        vf.flowDict.update({'eps':round(eps,3), 'alpha':round(g,2)/round(eps,3)})\n",
    "        pf.flowDict.update({'eps':round(eps,3), 'alpha':round(g,2)/round(eps,3)})\n",
    "        vf, pf, fnormArr, flg = iterate(vf=vf, pf=pf, rect=False, tol=5.0e-13)\n",
    "        res = vf.slice(L=10).residuals(pField=pf.slice(L=10))\n",
    "        \n",
    "        if res.slice(L=8).norm() < 1.0e-12:\n",
    "            saveff(vf,pf,prefix=loadPath)\n",
    "            #print('      removing..', loadPath+f)\n",
    "            #os.remove(loadPath+f)\n",
    "            vf,pf = loadff(dict2name(vf.flowDict,prefix=loadPath))\n",
    "            res = vf.slice(L=10).residuals(pField=pf.slice(L=10))\n",
    "            print('      new residual norm:', res.slice(L=8).norm())"
   ]
  },
  {
   "cell_type": "code",
   "execution_count": null,
   "metadata": {
    "collapsed": true
   },
   "outputs": [],
   "source": [
    "neps = 15; ng = 30; nRe = 1\n",
    "vArr = flowFieldArray(vList,neps,ng,nRe); pArr = flowFieldArray(pList,neps,ng,nRe)\n"
   ]
  },
  {
   "cell_type": "code",
   "execution_count": null,
   "metadata": {
    "collapsed": false
   },
   "outputs": [],
   "source": [
    "pDrag = np.zeros(pArr.shape)\n",
    "for k1 in range(neps):\n",
    "    for k2 in range(ng):\n",
    "        pf = pArr[k1,k2,0].field\n",
    "        pDrag[k1,k2,0] = presDrag(pf)[0]\n",
    "        "
   ]
  },
  {
   "cell_type": "code",
   "execution_count": null,
   "metadata": {
    "collapsed": false
   },
   "outputs": [],
   "source": [
    "pDrag[:,29,0]/(4./10.)"
   ]
  },
  {
   "cell_type": "code",
   "execution_count": null,
   "metadata": {
    "collapsed": false
   },
   "outputs": [],
   "source": [
    "epsArr = pArr.getProperty('eps'); gArr = pArr.getProperty('g')\n",
    "epsVec = epsArr[:,0,0]; gVec = gArr[0,:,0]"
   ]
  },
  {
   "cell_type": "code",
   "execution_count": null,
   "metadata": {
    "collapsed": false
   },
   "outputs": [],
   "source": [
    "import matplotlib.pyplot as plt\n",
    "%matplotlib inline\n",
    "plt.plot(2.*gVec, 2.5* pDrag[[0,4,9,14],:,0].T)\n",
    "plt.title('Pressure drag as percentage of total drag')\n",
    "plt.xlabel('Slope');plt.ylabel('Drag')\n",
    "#plt.legend('g=0.1',gVec[5], gVec[10])\n",
    "plt.savefig('presDragG.pdf',format='pdf')\n",
    "plt.legend(['eps=0.01','0.05','0.1','0.15'],loc=2)\n",
    "plt.show(); \n",
    "\n"
   ]
  },
  {
   "cell_type": "code",
   "execution_count": null,
   "metadata": {
    "collapsed": false
   },
   "outputs": [],
   "source": [
    "plt.plot(2.*epsVec, 2.5* pDrag[:,[0,9,19,29],0])\n",
    "plt.title('Pressure drag as percentage of total drag')\n",
    "plt.xlabel('Amplitude');plt.ylabel('Drag')\n",
    "#plt.legend('g=0.1',gVec[5], gVec[10])\n",
    "plt.savefig('presDragE.pdf',format='pdf')\n",
    "plt.legend(['g=0.1','1.0','2.0','3.0'],loc=4)\n",
    "plt.show(); "
   ]
  },
  {
   "cell_type": "code",
   "execution_count": null,
   "metadata": {
    "collapsed": false
   },
   "outputs": [],
   "source": [
    "flowDict = getDefaultDict()\n",
    "flowDict.update({'K':0,'L':5,'M':0,'N':11,'Re':0.01,'alpha':0.01,'beta':0.,'eps':0.1,'isPois':1})"
   ]
  },
  {
   "cell_type": "code",
   "execution_count": null,
   "metadata": {
    "collapsed": false
   },
   "outputs": [],
   "source": [
    "vf,pf,fnormArr,flg = iterate(flowDict=flowDict, rect=False,tol = 1.0e-13,iterMax=10)"
   ]
  },
  {
   "cell_type": "code",
   "execution_count": null,
   "metadata": {
    "collapsed": true
   },
   "outputs": [],
   "source": [
    "vfAn = vf.zero()\n",
    "a = vf.flowDict['alpha']; eps = vf.flowDict['eps']; g=eps*a\n",
    "vfAn[0,vf.nx//2,0,0] = 1.-vfAn.y**2\n",
    "vfAn[0,vf.nx//2+1,0,0] = 2./3.*g*a*(vfAn.y**3 - vfAn.y)\n",
    "vfAn[0,vf.nx//2+2,0,0] = 2.*g**2 * (1.-vfAn.y**2)\n",
    "vfAn[0,vf.nx//2-1,0,0] = 2./3.*g*a*(vfAn.y**3 - vfAn.y)\n",
    "vfAn[0,vf.nx//2-2,0,0] = 2.*g**2 * (1.-vfAn.y**2)\n",
    "\n",
    "vfAn[0,vf.nx//2,0,0] = 0.\n",
    "vfAn[0,vf.nx//2+1,0,0] = 2./3.*g*a*(vfAn.y**3 - vfAn.y)\n",
    "vfAn[0,vf.nx//2+2,0,0] = 2.*g**2 * (1.-vfAn.y**2)\n",
    "vfAn[0,vf.nx//2-1,0,0] = 2./3.*g*a*(vfAn.y**3 - vfAn.y)\n",
    "vfAn[0,vf.nx//2-2,0,0] = 2.*g**2 * (1.-vfAn.y**2)\n",
    "\n"
   ]
  },
  {
   "cell_type": "code",
   "execution_count": null,
   "metadata": {
    "collapsed": false
   },
   "outputs": [],
   "source": [
    "chebcoeffs(vf[0,vf.nx//2,0,0]),chebcoeffs(vf[0,vf.nx//2+1,0,0]),chebcoeffs(vf[0,vf.nx//2+2,0,0])"
   ]
  },
  {
   "cell_type": "code",
   "execution_count": null,
   "metadata": {
    "collapsed": false
   },
   "outputs": [],
   "source": [
    "chebcoll_vec(chebcoeffs(vf[0,4,0,0]))"
   ]
  },
  {
   "cell_type": "code",
   "execution_count": null,
   "metadata": {
    "collapsed": false
   },
   "outputs": [],
   "source": [
    "chebcoeffs(vf[0,3,0,1]),chebcoeffs(vf[0,4,0,1]),chebcoeffs(vf[0,5,0,1])"
   ]
  },
  {
   "cell_type": "code",
   "execution_count": null,
   "metadata": {
    "collapsed": false
   },
   "outputs": [],
   "source": [
    "chebcoeffs(pf[0,3,0,0]),chebcoeffs(pf[0,4,0,0]),chebcoeffs(pf[0,5,0,0]), chebcoeffs(pf[0,2,0,0])"
   ]
  },
  {
   "cell_type": "code",
   "execution_count": null,
   "metadata": {
    "collapsed": false
   },
   "outputs": [],
   "source": [
    "pf[0,2,0,0,-1], pf[0,4,0,0,-1]"
   ]
  },
  {
   "cell_type": "code",
   "execution_count": null,
   "metadata": {
    "collapsed": true
   },
   "outputs": [],
   "source": [
    "flowDict = vf.flowDict.copy()\n",
    "flowDict.update({'L':3,'M':0,'N':7,'Re':1.,'alpha':0.1,'beta':0.,'eps':0.01})"
   ]
  },
  {
   "cell_type": "code",
   "execution_count": null,
   "metadata": {
    "collapsed": false
   },
   "outputs": [],
   "source": [
    "vf,pf,fnormArr,flg = iterate(flowDict=flowDict, rect=False,tol = 1.0e-13,iterMax=10)"
   ]
  },
  {
   "cell_type": "code",
   "execution_count": null,
   "metadata": {
    "collapsed": false
   },
   "outputs": [],
   "source": [
    "chebcoeffs(vf[0,3,0,0]),chebcoeffs(vf[0,4,0,0]),chebcoeffs(vf[0,5,0,0])"
   ]
  },
  {
   "cell_type": "code",
   "execution_count": null,
   "metadata": {
    "collapsed": false
   },
   "outputs": [],
   "source": [
    "chebcoeffs(vf[0,3,0,1]),chebcoeffs(vf[0,4,0,1]),chebcoeffs(vf[0,5,0,1])"
   ]
  },
  {
   "cell_type": "code",
   "execution_count": null,
   "metadata": {
    "collapsed": false
   },
   "outputs": [],
   "source": [
    "chebcoeffs(pf[0,3,0,0]),chebcoeffs(pf[0,4,0,0]),chebcoeffs(pf[0,5,0,0])"
   ]
  },
  {
   "cell_type": "code",
   "execution_count": null,
   "metadata": {
    "collapsed": false
   },
   "outputs": [],
   "source": [
    "pf[0,5,0,0]"
   ]
  },
  {
   "cell_type": "code",
   "execution_count": null,
   "metadata": {
    "collapsed": true
   },
   "outputs": [],
   "source": []
  },
  {
   "cell_type": "code",
   "execution_count": null,
   "metadata": {
    "collapsed": false
   },
   "outputs": [],
   "source": [
    "flowDict = vf.flowDict.copy()\n",
    "flowDict.update({'L':6,'M':0,'N':35,'Re':10.,'alpha':10.,'beta':0.,'eps':0.05})\n",
    "vf,pf,fnormArr,flg = iterate(flowDict=flowDict, rect=False,tol = 1.0e-13,iterMax=10)"
   ]
  },
  {
   "cell_type": "code",
   "execution_count": null,
   "metadata": {
    "collapsed": false
   },
   "outputs": [],
   "source": [
    "(vf[0,8,0,0] - vf[0,8,0,0,::-1])"
   ]
  },
  {
   "cell_type": "code",
   "execution_count": null,
   "metadata": {
    "collapsed": false
   },
   "outputs": [],
   "source": [
    "w = clencurt(vf.N)\n",
    "vf[0,vf.nx//2+2,0,0],np.dot(w,vf[0,vf.nx//2+2,0,0])"
   ]
  },
  {
   "cell_type": "code",
   "execution_count": null,
   "metadata": {
    "collapsed": false
   },
   "outputs": [],
   "source": [
    "vf.div()"
   ]
  },
  {
   "cell_type": "code",
   "execution_count": null,
   "metadata": {
    "collapsed": true
   },
   "outputs": [],
   "source": [
    "import os \n",
    "files= [f for f in os.listdir('./solutions/Re0p1/')]\n",
    "files.sort()\n",
    "loadPath = 'solutions/Re0p1/'"
   ]
  },
  {
   "cell_type": "code",
   "execution_count": null,
   "metadata": {
    "collapsed": false
   },
   "outputs": [],
   "source": [
    "neps = 20;ng=19;nRe=1\n",
    "Re = 0.1\n",
    "uDistArr = np.zeros(neps*ng)\n",
    "pDistArr = uDistArr.copy()\n",
    "n=0\n",
    "for f in files:\n",
    "    vf,pf = loadff(loadPath+f,checkNorm=False)\n",
    "\n",
    "    vfAn = vf.zero(); pfAn = pf.zero()\n",
    "    a = vf.flowDict['alpha']; eps = vf.flowDict['eps']; g=eps*a\n",
    "    vfAn[0,vf.nx//2,0,0] = 1.-vfAn.y**2\n",
    "    vfAn[0,vf.nx//2+1,0,0] = 2./3.*g*a*(vfAn.y**3 - vfAn.y)\n",
    "    vfAn[0,vf.nx//2-1,0,0] = vfAn[0,vf.nx//2+1,0,0]\n",
    "    \n",
    "    vfAn[0,vf.nx//2+1,0,1] = 1.j*g*(1.-vfAn.y*2)\n",
    "    vfAn[0,vf.nx//2+2,0,1] = 2.j/3.*g**2*a*(vfAn.y**3 - vfAn.y)\n",
    "    vfAn[0,vf.nx//2-1,0,1] = -vfAn[0,vf.nx//2+1,0,1]\n",
    "    vfAn[0,vf.nx//2-2,0,1] = -vfAn[0,vf.nx//2+2,0,1]\n",
    "    \n",
    "    pfAn[0,pf.nx//2+1,0,0] = -2.j*g/Re*pfAn.y\n",
    "    pfAn[0,pf.nx//2+2,0,0] = -2.j*g*a/Re\n",
    "    pfAn[0,pf.nx//2-1,0,0] = -pfAn[0,pf.nx//2+1,0,0]\n",
    "    pfAn[0,pf.nx//2-2,0,0] = -pfAn[0,pf.nx//2+2,0,0]\n",
    "    \n",
    "    uDistArr[n] = (vf-vfAn).norm()/vf.norm() \n",
    "    pDistArr[n] = (pf-pfAn).norm()/pf.norm()\n",
    "    print(eps,a,uDistArr[n],pDistArr[n])\n",
    "    n+= 1\n"
   ]
  },
  {
   "cell_type": "code",
   "execution_count": null,
   "metadata": {
    "collapsed": true
   },
   "outputs": [],
   "source": []
  },
  {
   "cell_type": "code",
   "execution_count": null,
   "metadata": {
    "collapsed": false
   },
   "outputs": [],
   "source": [
    "flowDict = getDefaultDict()\n",
    "aArr = np.arange(0.005,0.052,0.005,dtype=np.float)\n",
    "epsArr = np.arange(0.005,0.052,0.005)\n",
    "Re = 0.1\n",
    "flowDict.update({'eps':epsArr[0],'alpha':aArr[0],'beta':0.,'Re':Re,'L':5,'M':0,'N':20,'nd':4, 'isPois':1})\n",
    "vf = dict2ff(flowDict); pf = vf.getScalar().zero()\n",
    "\n",
    "neps = epsArr.size; na = aArr.size\n",
    "uDistArr = np.zeros(neps*na); pDistArr = uDistArr.copy()\n",
    "\n",
    "ind=0\n",
    "for eps in epsArr:\n",
    "    for a in aArr:\n",
    "        vf.flowDict.update({'eps':eps,'alpha':a})\n",
    "        pf.flowDict.update({'eps':eps,'alpha':a})\n",
    "        g = eps*a\n",
    "        \n",
    "        vf, pf, fnormArr, flg = iterate(vf=vf,pf=pf,rect=False, tol=1.0e-12 )\n",
    "\n",
    "        vfAn = vf.zero(); pfAn = pf.zero()\n",
    "        vfAn[0,vf.nx//2,0,0] = 1.-vfAn.y**2\n",
    "        vfAn[0,vf.nx//2+1,0,0] = 2./3.*g*a*(vfAn.y**3 - vfAn.y)\n",
    "        vfAn[0,vf.nx//2-1,0,0] = vfAn[0,vf.nx//2+1,0,0]\n",
    "\n",
    "        vfAn[0,vf.nx//2+1,0,1] = 1.j*g*(1.-vfAn.y*2)\n",
    "        vfAn[0,vf.nx//2+2,0,1] = 2.j/3.*g**2*a*(vfAn.y**3 - vfAn.y)\n",
    "        vfAn[0,vf.nx//2-1,0,1] = -vfAn[0,vf.nx//2+1,0,1]\n",
    "        vfAn[0,vf.nx//2-2,0,1] = -vfAn[0,vf.nx//2+2,0,1]\n",
    "\n",
    "        pfAn[0,pf.nx//2+1,0,0] = -2.j*g/Re*pfAn.y\n",
    "        pfAn[0,pf.nx//2+2,0,0] = -2.j*g*a/Re\n",
    "        pfAn[0,pf.nx//2-1,0,0] = -pfAn[0,pf.nx//2+1,0,0]\n",
    "        pfAn[0,pf.nx//2-2,0,0] = -pfAn[0,pf.nx//2+2,0,0]\n",
    "\n",
    "        uDistArr[ind] = (vf-vfAn).norm()/vf.norm() \n",
    "        pDistArr[ind] = (pf-pfAn).norm()/pf.norm()\n",
    "        print(eps,a,uDistArr[ind],pDistArr[ind])        \n",
    "        ind+=1\n",
    "\n"
   ]
  },
  {
   "cell_type": "code",
   "execution_count": null,
   "metadata": {
    "collapsed": false
   },
   "outputs": [],
   "source": [
    "flowDict = updateDict(vf.flowDict,{'L':6,'M':0,'N':50,'eps':0.02,'alpha':30.,'beta':0.,'Re':100.})\n",
    "vf,pf,fnorm,flg = iterate(flowDict=flowDict,rect=False,tol=1.0e-12)\n"
   ]
  },
  {
   "cell_type": "code",
   "execution_count": null,
   "metadata": {
    "collapsed": false
   },
   "outputs": [],
   "source": [
    "vf.shape,pf.shape,vf.nz,pf.nz"
   ]
  },
  {
   "cell_type": "code",
   "execution_count": null,
   "metadata": {
    "collapsed": false
   },
   "outputs": [],
   "source": [
    "presDrag(pf)"
   ]
  },
  {
   "cell_type": "code",
   "execution_count": null,
   "metadata": {
    "collapsed": false
   },
   "outputs": [],
   "source": [
    "stressDict = shearStress(vf,seprn=True)"
   ]
  },
  {
   "cell_type": "code",
   "execution_count": null,
   "metadata": {
    "collapsed": false
   },
   "outputs": [],
   "source": [
    "presDrag(pf)[0] + stressDict['avgStressFraction']"
   ]
  },
  {
   "cell_type": "code",
   "execution_count": null,
   "metadata": {
    "collapsed": false
   },
   "outputs": [],
   "source": [
    "type(genArr[0]) == np.float"
   ]
  },
  {
   "cell_type": "code",
   "execution_count": null,
   "metadata": {
    "collapsed": false
   },
   "outputs": [],
   "source": [
    "plt.contourf(epsArr,aArr,np.log(uDistArr.reshape((neps,na))),cmap=plt.cm.bone ) \n",
    "plt.xticks(np.arange(0.01,0.055,0.01))\n",
    "plt.yticks(np.arange(0.01,0.055,0.01))\n",
    "plt.colorbar();plt.show()"
   ]
  },
  {
   "cell_type": "code",
   "execution_count": null,
   "metadata": {
    "collapsed": false
   },
   "outputs": [],
   "source": [
    "np.log(uDistArr)"
   ]
  },
  {
   "cell_type": "code",
   "execution_count": null,
   "metadata": {
    "collapsed": true
   },
   "outputs": [],
   "source": [
    "y = vf.y"
   ]
  },
  {
   "cell_type": "code",
   "execution_count": null,
   "metadata": {
    "collapsed": true
   },
   "outputs": [],
   "source": [
    "genFun = 1.*y**3 + 4.*y**2 + y  - y**4"
   ]
  },
  {
   "cell_type": "code",
   "execution_count": null,
   "metadata": {
    "collapsed": false
   },
   "outputs": [],
   "source": [
    "np.arange(y.size)[genFun<=0]"
   ]
  },
  {
   "cell_type": "code",
   "execution_count": null,
   "metadata": {
    "collapsed": false
   },
   "outputs": [],
   "source": [
    "genFun"
   ]
  },
  {
   "cell_type": "code",
   "execution_count": null,
   "metadata": {
    "collapsed": true
   },
   "outputs": [],
   "source": []
  }
 ],
 "metadata": {
  "kernelspec": {
   "display_name": "Python 3",
   "language": "python",
   "name": "python3"
  },
  "language_info": {
   "codemirror_mode": {
    "name": "ipython",
    "version": 3
   },
   "file_extension": ".py",
   "mimetype": "text/x-python",
   "name": "python",
   "nbconvert_exporter": "python",
   "pygments_lexer": "ipython3",
   "version": "3.4.2"
  }
 },
 "nbformat": 4,
 "nbformat_minor": 0
}
